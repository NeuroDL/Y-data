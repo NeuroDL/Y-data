{
 "cells": [
  {
   "cell_type": "code",
   "execution_count": 1,
   "metadata": {
    "ExecuteTime": {
     "end_time": "2021-11-22T21:30:22.471111Z",
     "start_time": "2021-11-22T21:30:21.066598Z"
    }
   },
   "outputs": [],
   "source": [
    "import numpy as np\n",
    "import pandas as pd"
   ]
  },
  {
   "cell_type": "markdown",
   "metadata": {},
   "source": [
    "# Question 1"
   ]
  },
  {
   "cell_type": "code",
   "execution_count": 80,
   "metadata": {
    "ExecuteTime": {
     "end_time": "2021-11-25T13:56:36.842894Z",
     "start_time": "2021-11-25T13:56:36.802005Z"
    }
   },
   "outputs": [
    {
     "data": {
      "text/plain": [
       "0.0002845555555556212"
      ]
     },
     "execution_count": 80,
     "metadata": {},
     "output_type": "execute_result"
    }
   ],
   "source": [
    "np.mean(abs(np.random.uniform(0,60,size=[1000000])-np.random.uniform(0,60,size=[1000000]))>10)-(25/36)"
   ]
  },
  {
   "cell_type": "markdown",
   "metadata": {},
   "source": [
    "# question 2"
   ]
  },
  {
   "cell_type": "code",
   "execution_count": 81,
   "metadata": {
    "ExecuteTime": {
     "end_time": "2021-11-25T13:56:52.679986Z",
     "start_time": "2021-11-25T13:56:52.657989Z"
    }
   },
   "outputs": [
    {
     "data": {
      "text/plain": [
       "0.01914"
      ]
     },
     "execution_count": 81,
     "metadata": {},
     "output_type": "execute_result"
    }
   ],
   "source": [
    "a=np.random.binomial(1600,.75,100000)\n",
    "np.mean(a>1235)"
   ]
  },
  {
   "cell_type": "code",
   "execution_count": 82,
   "metadata": {
    "ExecuteTime": {
     "end_time": "2021-11-25T13:56:53.628320Z",
     "start_time": "2021-11-25T13:56:53.614302Z"
    }
   },
   "outputs": [],
   "source": [
    "from scipy.stats import binom"
   ]
  },
  {
   "cell_type": "code",
   "execution_count": 83,
   "metadata": {
    "ExecuteTime": {
     "end_time": "2021-11-25T13:56:54.295236Z",
     "start_time": "2021-11-25T13:56:54.286297Z"
    }
   },
   "outputs": [
    {
     "data": {
      "text/plain": [
       "0.019422483107368937"
      ]
     },
     "execution_count": 83,
     "metadata": {},
     "output_type": "execute_result"
    }
   ],
   "source": [
    "1-binom.cdf(1235,1600,.75)"
   ]
  },
  {
   "cell_type": "markdown",
   "metadata": {},
   "source": [
    "# Question 4"
   ]
  },
  {
   "cell_type": "code",
   "execution_count": 54,
   "metadata": {
    "ExecuteTime": {
     "end_time": "2021-11-22T16:20:41.064838Z",
     "start_time": "2021-11-22T16:20:41.058854Z"
    }
   },
   "outputs": [],
   "source": [
    "from scipy.stats import ttest_ind"
   ]
  },
  {
   "cell_type": "code",
   "execution_count": 60,
   "metadata": {
    "ExecuteTime": {
     "end_time": "2021-11-22T16:23:52.568503Z",
     "start_time": "2021-11-22T16:23:52.547562Z"
    }
   },
   "outputs": [],
   "source": [
    "salaries1=pd.read_csv('salaries1.txt',header=None)\n",
    "salaries2=pd.read_csv('salaries2.txt',header=None)"
   ]
  },
  {
   "cell_type": "code",
   "execution_count": 61,
   "metadata": {
    "ExecuteTime": {
     "end_time": "2021-11-22T16:24:34.089851Z",
     "start_time": "2021-11-22T16:24:34.061896Z"
    }
   },
   "outputs": [
    {
     "data": {
      "text/plain": [
       "Ttest_indResult(statistic=array([-2.12997017]), pvalue=array([0.03491657]))"
      ]
     },
     "execution_count": 61,
     "metadata": {},
     "output_type": "execute_result"
    }
   ],
   "source": [
    "ttest_ind(salaries1,salaries2,equal_var=False)"
   ]
  },
  {
   "cell_type": "markdown",
   "metadata": {},
   "source": [
    "# Question 5"
   ]
  },
  {
   "cell_type": "code",
   "execution_count": 62,
   "metadata": {
    "ExecuteTime": {
     "end_time": "2021-11-22T16:29:38.901488Z",
     "start_time": "2021-11-22T16:29:38.887528Z"
    }
   },
   "outputs": [],
   "source": [
    "lamb = 537/576"
   ]
  },
  {
   "cell_type": "code",
   "execution_count": 75,
   "metadata": {
    "ExecuteTime": {
     "end_time": "2021-11-22T16:31:52.733105Z",
     "start_time": "2021-11-22T16:31:52.729116Z"
    }
   },
   "outputs": [],
   "source": [
    "from scipy.stats import poisson"
   ]
  },
  {
   "cell_type": "code",
   "execution_count": 99,
   "metadata": {
    "ExecuteTime": {
     "end_time": "2021-11-22T16:43:57.399821Z",
     "start_time": "2021-11-22T16:43:57.388092Z"
    }
   },
   "outputs": [
    {
     "name": "stdout",
     "output_type": "stream",
     "text": [
      "0 0.3936505600403464\n",
      "1 0.3669971367042812\n",
      "2 0.17107418611996442\n",
      "3 0.05316367936714173\n",
      "4 0.012391013810831207\n",
      "5 0.002310407783477902\n"
     ]
    }
   ],
   "source": [
    "for i in range(6):\n",
    "    print(i,poisson.pmf(i,lamb))"
   ]
  },
  {
   "cell_type": "code",
   "execution_count": 103,
   "metadata": {
    "ExecuteTime": {
     "end_time": "2021-11-22T16:47:49.036112Z",
     "start_time": "2021-11-22T16:47:49.023147Z"
    }
   },
   "outputs": [],
   "source": [
    "expected = []\n",
    "for i in range(6):\n",
    "    expected.append(poisson.pmf(i,lamb)*576)"
   ]
  },
  {
   "cell_type": "code",
   "execution_count": 104,
   "metadata": {
    "ExecuteTime": {
     "end_time": "2021-11-22T16:47:50.208237Z",
     "start_time": "2021-11-22T16:47:50.200260Z"
    }
   },
   "outputs": [],
   "source": [
    "actual = [229, 211, 93, 35, 7, 1]"
   ]
  },
  {
   "cell_type": "code",
   "execution_count": 111,
   "metadata": {
    "ExecuteTime": {
     "end_time": "2021-11-22T16:50:13.866009Z",
     "start_time": "2021-11-22T16:50:13.852046Z"
    }
   },
   "outputs": [],
   "source": [
    "t_stat=(np.square(np.array(expected)-np.array(actual))/np.array(expected)).sum()"
   ]
  },
  {
   "cell_type": "code",
   "execution_count": 110,
   "metadata": {
    "ExecuteTime": {
     "end_time": "2021-11-22T16:49:50.981763Z",
     "start_time": "2021-11-22T16:49:50.964756Z"
    }
   },
   "outputs": [],
   "source": [
    "from scipy.stats import chi2"
   ]
  },
  {
   "cell_type": "code",
   "execution_count": 114,
   "metadata": {
    "ExecuteTime": {
     "end_time": "2021-11-22T16:50:29.002422Z",
     "start_time": "2021-11-22T16:50:28.994445Z"
    }
   },
   "outputs": [
    {
     "data": {
      "text/plain": [
       "0.04861293703541014"
      ]
     },
     "execution_count": 114,
     "metadata": {},
     "output_type": "execute_result"
    }
   ],
   "source": [
    "1-chi2.cdf(4,t_stat)"
   ]
  },
  {
   "cell_type": "markdown",
   "metadata": {},
   "source": [
    "Thus, one could reject the hypothesis of poisson distribution."
   ]
  },
  {
   "cell_type": "code",
   "execution_count": null,
   "metadata": {},
   "outputs": [],
   "source": []
  }
 ],
 "metadata": {
  "kernelspec": {
   "display_name": "Python 3",
   "language": "python",
   "name": "python3"
  },
  "language_info": {
   "codemirror_mode": {
    "name": "ipython",
    "version": 3
   },
   "file_extension": ".py",
   "mimetype": "text/x-python",
   "name": "python",
   "nbconvert_exporter": "python",
   "pygments_lexer": "ipython3",
   "version": "3.7.4"
  },
  "toc": {
   "base_numbering": 1,
   "nav_menu": {},
   "number_sections": true,
   "sideBar": true,
   "skip_h1_title": false,
   "title_cell": "Table of Contents",
   "title_sidebar": "Contents",
   "toc_cell": false,
   "toc_position": {},
   "toc_section_display": true,
   "toc_window_display": false
  }
 },
 "nbformat": 4,
 "nbformat_minor": 2
}
