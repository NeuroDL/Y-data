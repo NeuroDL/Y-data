{
 "cells": [
  {
   "cell_type": "markdown",
   "metadata": {
    "id": "N7jn3RRSSGbb"
   },
   "source": [
    "# Probabilistic classifier of texts into spam / ham"
   ]
  },
  {
   "cell_type": "markdown",
   "metadata": {
    "id": "1XGIBQPBSGbi"
   },
   "source": [
    "## Intro"
   ]
  },
  {
   "cell_type": "markdown",
   "metadata": {
    "id": "GArFA9f2SGbk"
   },
   "source": [
    "Here is a classical \"complete the notebook\" assignment. \n",
    "\n",
    "You can run all the cells in the notebook, and some of them you have to complete. \n",
    "\n",
    "The code you have to complete is marked with `#TODO` comments. The cells containing such code also contain assertions that you should fulfill. \n",
    "\n",
    "If the cells produce no errors, you can be pretty sure you do everything OK. \n",
    "\n",
    "Let's try it!"
   ]
  },
  {
   "cell_type": "code",
   "execution_count": 1,
   "metadata": {
    "ExecuteTime": {
     "end_time": "2021-10-21T17:56:49.794994Z",
     "start_time": "2021-10-21T17:56:49.787978Z"
    },
    "id": "UoWcpibiSGbu"
   },
   "outputs": [],
   "source": [
    "def square_root(x):\n",
    "    \"\"\" This is a function that takes a non-negative numeric argument x and produces its square root. \"\"\"\n",
    "    # TODO: calculate the square root of x and put it into the y variable instead of None. \n",
    "    # If you are not sure, have a look on the list of Python basic operators\n",
    "    # https://www.tutorialspoint.com/python/python_basic_operators.htm\n",
    "    y = x**0.5\n",
    "    return y\n",
    "\n",
    "assert square_root(144) == 12"
   ]
  },
  {
   "cell_type": "markdown",
   "metadata": {
    "id": "bhdue65hSGb8"
   },
   "source": [
    "Now that you understand the format, let's have look at a [Naive Bayes classifier](https://en.wikipedia.org/wiki/Naive_Bayes_classifier) of short messages into spam and not-spam.\n",
    "\n",
    "The main idea behind it is that $$P(spam|text) = \\frac{P(spam)P(text|spam)}{P(text)}$$\n",
    "\n",
    "You will have to implement this formula along with some hacks to make its application more robust."
   ]
  },
  {
   "cell_type": "markdown",
   "metadata": {
    "id": "OA3FpI3BSGb_"
   },
   "source": [
    "![](https://pics.me.me/suppose-you-have-one-rabbit-now-suppose-someone-gives-you-21826742.png)"
   ]
  },
  {
   "cell_type": "markdown",
   "metadata": {
    "id": "8Bb-0QvpSGcA"
   },
   "source": [
    "## Loading the data"
   ]
  },
  {
   "cell_type": "markdown",
   "metadata": {
    "id": "tbW707TKUlqq"
   },
   "source": [
    "The cell below loads the file with messages. \n",
    "\n",
    "If you run this notebook locally on Windows, you have to download the file manually. "
   ]
  },
  {
   "cell_type": "code",
   "execution_count": 4,
   "metadata": {
    "ExecuteTime": {
     "end_time": "2021-10-21T17:57:40.335766Z",
     "start_time": "2021-10-21T17:57:40.329747Z"
    },
    "colab": {
     "base_uri": "https://localhost:8080/"
    },
    "id": "AmmPwJzlSRm9",
    "outputId": "987e0c2e-c7df-4b1e-fb28-c9e29155d1d8"
   },
   "outputs": [],
   "source": [
    "url = \"https://raw.githubusercontent.com/avidale/ps4ds2019/master/homework/week1/spam_classifier/SMSSpamCollection\""
   ]
  },
  {
   "cell_type": "markdown",
   "metadata": {
    "id": "PX3xYoFQSGcC"
   },
   "source": [
    "The following cell imports some Python libraries. It is possible that you have some of them not installed (namely, `pandas`). In this case, you have to install them using package manager from command line. The command would look like `pip install pandas` or `conda install pandas`.\n",
    "\n",
    "If you run this notebook from Google Colab, then the libraries are already installed"
   ]
  },
  {
   "cell_type": "code",
   "execution_count": 3,
   "metadata": {
    "ExecuteTime": {
     "end_time": "2021-10-21T17:57:21.197702Z",
     "start_time": "2021-10-21T17:57:19.953510Z"
    },
    "id": "Tld2ItvwSGcD"
   },
   "outputs": [],
   "source": [
    "# load some useful Python libratries\n",
    "\n",
    "import pandas as pd # the library for working with data tables\n",
    "import re\n",
    "from collections import Counter # a class for counting objects (words and text labels, in our case)"
   ]
  },
  {
   "cell_type": "code",
   "execution_count": 5,
   "metadata": {
    "ExecuteTime": {
     "end_time": "2021-10-21T17:57:49.261426Z",
     "start_time": "2021-10-21T17:57:48.234859Z"
    },
    "id": "_yol8UpISGcG"
   },
   "outputs": [],
   "source": [
    "# load the data from disk to a tabular format, and give readable names to its columns\n",
    "data = pd.read_csv(url, sep='\\t', header=None)\n",
    "data.columns = ['target', 'text']"
   ]
  },
  {
   "cell_type": "markdown",
   "metadata": {
    "id": "7dAaMxDESGcP"
   },
   "source": [
    "In this dataset, \"ham\" is a good text, and \"spam\" is, well, spam. "
   ]
  },
  {
   "cell_type": "code",
   "execution_count": 7,
   "metadata": {
    "ExecuteTime": {
     "end_time": "2021-10-21T17:57:54.537983Z",
     "start_time": "2021-10-21T17:57:54.518074Z"
    },
    "colab": {
     "base_uri": "https://localhost:8080/",
     "height": 238
    },
    "id": "OPRYIT4uSGcQ",
    "outputId": "779f68f9-bd11-4e96-8f3b-94ed7d7cb7f3"
   },
   "outputs": [
    {
     "name": "stdout",
     "output_type": "stream",
     "text": [
      "(5572, 2)\n"
     ]
    },
    {
     "data": {
      "text/html": [
       "<div>\n",
       "<style scoped>\n",
       "    .dataframe tbody tr th:only-of-type {\n",
       "        vertical-align: middle;\n",
       "    }\n",
       "\n",
       "    .dataframe tbody tr th {\n",
       "        vertical-align: top;\n",
       "    }\n",
       "\n",
       "    .dataframe thead th {\n",
       "        text-align: right;\n",
       "    }\n",
       "</style>\n",
       "<table border=\"1\" class=\"dataframe\">\n",
       "  <thead>\n",
       "    <tr style=\"text-align: right;\">\n",
       "      <th></th>\n",
       "      <th>target</th>\n",
       "      <th>text</th>\n",
       "    </tr>\n",
       "  </thead>\n",
       "  <tbody>\n",
       "    <tr>\n",
       "      <th>0</th>\n",
       "      <td>ham</td>\n",
       "      <td>Go until jurong point, crazy.. Available only in bugis n great world la e buffet... Cine there got amore wat...</td>\n",
       "    </tr>\n",
       "    <tr>\n",
       "      <th>1</th>\n",
       "      <td>ham</td>\n",
       "      <td>Ok lar... Joking wif u oni...</td>\n",
       "    </tr>\n",
       "    <tr>\n",
       "      <th>2</th>\n",
       "      <td>spam</td>\n",
       "      <td>Free entry in 2 a wkly comp to win FA Cup final tkts 21st May 2005. Text FA to 87121 to receive entry question(std txt rate)T&amp;C's apply 08452810075over18's</td>\n",
       "    </tr>\n",
       "    <tr>\n",
       "      <th>3</th>\n",
       "      <td>ham</td>\n",
       "      <td>U dun say so early hor... U c already then say...</td>\n",
       "    </tr>\n",
       "    <tr>\n",
       "      <th>4</th>\n",
       "      <td>ham</td>\n",
       "      <td>Nah I don't think he goes to usf, he lives around here though</td>\n",
       "    </tr>\n",
       "  </tbody>\n",
       "</table>\n",
       "</div>"
      ],
      "text/plain": [
       "  target  \\\n",
       "0    ham   \n",
       "1    ham   \n",
       "2   spam   \n",
       "3    ham   \n",
       "4    ham   \n",
       "\n",
       "                                                                                                                                                          text  \n",
       "0                                              Go until jurong point, crazy.. Available only in bugis n great world la e buffet... Cine there got amore wat...  \n",
       "1                                                                                                                                Ok lar... Joking wif u oni...  \n",
       "2  Free entry in 2 a wkly comp to win FA Cup final tkts 21st May 2005. Text FA to 87121 to receive entry question(std txt rate)T&C's apply 08452810075over18's  \n",
       "3                                                                                                            U dun say so early hor... U c already then say...  \n",
       "4                                                                                                Nah I don't think he goes to usf, he lives around here though  "
      ]
     },
     "execution_count": 7,
     "metadata": {},
     "output_type": "execute_result"
    }
   ],
   "source": [
    "# enable pandas to display large texts and look into our data\n",
    "pd.options.display.max_colwidth = 300\n",
    "\n",
    "print(data.shape) # number of rows and columns\n",
    "data.head(5)"
   ]
  },
  {
   "cell_type": "markdown",
   "metadata": {
    "id": "-UkoK7Y5SGcW"
   },
   "source": [
    "## Preprocessing the data"
   ]
  },
  {
   "cell_type": "markdown",
   "metadata": {
    "id": "4RJ3Q_BBSGcZ"
   },
   "source": [
    "In a minute we will have to estimate probabilites of different texts. \n",
    "\n",
    "We could use *language models* using e.g. n-grams or recurrent neural networks, to calculate probability of original texts. \n",
    "\n",
    "But for our problem, it will be sufficient to represent each text with the set of words (and other symbols) that occur in it. This representation ignores word order and number of words.\n",
    "\n",
    "That is, we will not make difference between texts \n",
    "\n",
    "> this one is a long message. \n",
    "\n",
    "and \n",
    "\n",
    "> this message is a long long long long long long one.\n",
    "\n",
    "Both will be represented as a set of tokens:"
   ]
  },
  {
   "cell_type": "code",
   "execution_count": 31,
   "metadata": {
    "ExecuteTime": {
     "end_time": "2021-10-21T18:14:06.283769Z",
     "start_time": "2021-10-21T18:14:06.274756Z"
    },
    "colab": {
     "base_uri": "https://localhost:8080/"
    },
    "id": "0jl-tp0jSGcd",
    "outputId": "2253c44b-c9cf-4c89-95df-369005f43729"
   },
   "outputs": [
    {
     "data": {
      "text/plain": [
       "{'a', 'is', 'long', 'message', 'one', 'this'}"
      ]
     },
     "execution_count": 31,
     "metadata": {},
     "output_type": "execute_result"
    }
   ],
   "source": [
    "def get_words(text):\n",
    "    \"\"\" This function converts the given text into an unordered and uncounted bag of words. \"\"\"\n",
    "    return set(re.split('\\W+', text)).difference({''})\n",
    "\n",
    "# just an example\n",
    "get_words(\"this message is a long, long, long, long long long one.\")"
   ]
  },
  {
   "cell_type": "markdown",
   "metadata": {
    "id": "-3Gs7xsLSGch"
   },
   "source": [
    "This simplified approach will allow us to train the probabilistic model of texts using a modest amount of data."
   ]
  },
  {
   "cell_type": "code",
   "execution_count": 9,
   "metadata": {
    "ExecuteTime": {
     "end_time": "2021-10-21T17:58:15.701953Z",
     "start_time": "2021-10-21T17:58:15.633400Z"
    },
    "id": "vJbmpGfSSGci"
   },
   "outputs": [],
   "source": [
    "# apply this logic to texts of all messages\n",
    "bags_of_words = [get_words(text) for text in data.text]"
   ]
  },
  {
   "cell_type": "code",
   "execution_count": null,
   "metadata": {
    "id": "pF7gdP6dFPyA"
   },
   "outputs": [],
   "source": []
  },
  {
   "cell_type": "markdown",
   "metadata": {
    "id": "woVdtF5PSGcm"
   },
   "source": [
    "To evaluate how well our model classifies messages, let's train it on the first 3000 texts, and measure accuracy on the rest."
   ]
  },
  {
   "cell_type": "code",
   "execution_count": 10,
   "metadata": {
    "ExecuteTime": {
     "end_time": "2021-10-21T17:58:19.939074Z",
     "start_time": "2021-10-21T17:58:19.931058Z"
    },
    "id": "A2iDe2FLSGcn"
   },
   "outputs": [],
   "source": [
    "n_train = 3000\n",
    "train_x, test_x, train_y, test_y = bags_of_words[:n_train], bags_of_words[n_train:], data.target[:n_train], data.target[n_train:]"
   ]
  },
  {
   "cell_type": "markdown",
   "metadata": {
    "id": "0pWrcoUWSGcu"
   },
   "source": [
    "## The basic classifier"
   ]
  },
  {
   "cell_type": "markdown",
   "metadata": {
    "id": "2t_aDhsOSGcv"
   },
   "source": [
    "In the cell below, we will count occurences of words under different labels.\n",
    "\n",
    "We are going to use `Counter` objects. If you are not sure how they work, please look at [the documentation](https://docs.python.org/3.6/library/collections.html#collections.Counter). "
   ]
  },
  {
   "cell_type": "code",
   "execution_count": 11,
   "metadata": {
    "ExecuteTime": {
     "end_time": "2021-10-21T17:58:28.867530Z",
     "start_time": "2021-10-21T17:58:28.861550Z"
    },
    "id": "PeFnTFtY7a7R"
   },
   "outputs": [],
   "source": [
    "# label"
   ]
  },
  {
   "cell_type": "code",
   "execution_count": 12,
   "metadata": {
    "ExecuteTime": {
     "end_time": "2021-10-21T17:58:30.615383Z",
     "start_time": "2021-10-21T17:58:30.609401Z"
    },
    "id": "JdvO_Sv27d6i"
   },
   "outputs": [],
   "source": [
    "# words"
   ]
  },
  {
   "cell_type": "code",
   "execution_count": 13,
   "metadata": {
    "ExecuteTime": {
     "end_time": "2021-10-21T17:58:44.747081Z",
     "start_time": "2021-10-21T17:58:44.718161Z"
    },
    "id": "syP02W9jSGcw"
   },
   "outputs": [],
   "source": [
    "# this counter will keep the number of spam and ham texts\n",
    "label_counter = Counter()\n",
    "\n",
    "# these counters will keep the frequency of each word in ham and spam texts\n",
    "word_counters = {\n",
    "    'spam': Counter(), \n",
    "    'ham': Counter()\n",
    "}\n",
    "\n",
    "all_words = set()\n",
    "\n",
    "for label, words in zip(train_y, train_x):\n",
    "    all_words.update(words)\n",
    "    # TODO: use the `update` methods of all 3 counters, to calculate total number of  DONE\n",
    "    label_counter.update([label])\n",
    "    word_counters[label].update(words)\n",
    "assert label_counter['spam'] == 409\n",
    "assert word_counters['ham']['hello'] >= 2"
   ]
  },
  {
   "cell_type": "code",
   "execution_count": 14,
   "metadata": {
    "ExecuteTime": {
     "end_time": "2021-10-21T17:58:47.954385Z",
     "start_time": "2021-10-21T17:58:47.934402Z"
    },
    "colab": {
     "base_uri": "https://localhost:8080/"
    },
    "id": "dxtk1Ngs-GM4",
    "outputId": "8ef96e29-5172-41f1-e8b9-02adf34e2f4c"
   },
   "outputs": [
    {
     "data": {
      "text/plain": [
       "set"
      ]
     },
     "execution_count": 14,
     "metadata": {},
     "output_type": "execute_result"
    }
   ],
   "source": [
    "type(all_words)"
   ]
  },
  {
   "cell_type": "code",
   "execution_count": 16,
   "metadata": {
    "ExecuteTime": {
     "end_time": "2021-10-21T17:59:06.481725Z",
     "start_time": "2021-10-21T17:59:06.460784Z"
    },
    "colab": {
     "base_uri": "https://localhost:8080/"
    },
    "id": "07GVaE6w7o2c",
    "outputId": "075a3fbf-621a-47fc-e3e9-bf47f95a8308"
   },
   "outputs": [
    {
     "data": {
      "text/plain": [
       "2"
      ]
     },
     "execution_count": 16,
     "metadata": {},
     "output_type": "execute_result"
    }
   ],
   "source": [
    "word_counters['spam']['Have']"
   ]
  },
  {
   "cell_type": "code",
   "execution_count": 82,
   "metadata": {
    "id": "5_Rj8hLh9w5o"
   },
   "outputs": [],
   "source": [
    "# word_counters['spam']"
   ]
  },
  {
   "cell_type": "markdown",
   "metadata": {
    "id": "32trpvYkSGc0"
   },
   "source": [
    "Now let's calculate different probabilities of words, texts, and labels for our classifier"
   ]
  },
  {
   "cell_type": "code",
   "execution_count": 17,
   "metadata": {
    "ExecuteTime": {
     "end_time": "2021-10-21T17:59:27.206314Z",
     "start_time": "2021-10-21T17:59:27.188362Z"
    },
    "id": "-58zZ0MdSGc1"
   },
   "outputs": [],
   "source": [
    "def prior_probability_of_label(label):\n",
    "    \"\"\" This function evaluates probability of the given label (it can be 'spam' or 'ham'), using the counters. \"\"\"\n",
    "    # TODO: calculate and relturn this probability as ratio of number of texts with this labels to number all texts\n",
    "    return label_counter[label]/(label_counter[\"spam\"]+label_counter[\"ham\"])\n",
    "\n",
    "assert round(prior_probability_of_label('spam'), 2) == 0.14\n",
    "assert round(prior_probability_of_label('ham'), 2) == 0.86"
   ]
  },
  {
   "cell_type": "code",
   "execution_count": 18,
   "metadata": {
    "ExecuteTime": {
     "end_time": "2021-10-21T17:59:37.280555Z",
     "start_time": "2021-10-21T17:59:37.266560Z"
    },
    "id": "RB4bvSGjSGc5"
   },
   "outputs": [],
   "source": [
    "\n",
    "def word_probability_given_label(word, label):\n",
    "    \"\"\" This function calculates probability of a word occurence in text, conditional on the label of this text. \"\"\"\n",
    "    # TODO: calculate and return this probability \n",
    "    # as ratio of number of texts with this word and label to number of texts with this label\n",
    "    return word_counters[label][word]/label_counter[label]\n",
    "\n",
    "assert round(word_probability_given_label(\"99\", \"spam\"), 3) == 0.002"
   ]
  },
  {
   "cell_type": "code",
   "execution_count": 20,
   "metadata": {
    "ExecuteTime": {
     "end_time": "2021-10-21T18:00:00.294328Z",
     "start_time": "2021-10-21T18:00:00.281339Z"
    },
    "colab": {
     "base_uri": "https://localhost:8080/"
    },
    "id": "URFwUtsL_pcp",
    "outputId": "cdf10133-4a5b-41cb-f1c0-2bf10d98871d"
   },
   "outputs": [
    {
     "data": {
      "text/plain": [
       "0.0007719027402547279"
      ]
     },
     "execution_count": 20,
     "metadata": {},
     "output_type": "execute_result"
    }
   ],
   "source": [
    "word_probability_given_label(\"hello\", \"ham\")"
   ]
  },
  {
   "cell_type": "markdown",
   "metadata": {
    "id": "rrMcTGQNvy-q"
   },
   "source": []
  },
  {
   "cell_type": "markdown",
   "metadata": {
    "id": "l0MQSlyxSGdA"
   },
   "source": [
    "Here we encounter the first practical problem: some words have never occurred in our training data. \n",
    "\n",
    "But they can probably occur in the texts to which our model will be applied in the future. \n",
    "\n",
    "To assign a non-zero probability to such texts, we can slightly modify the `word_probability_given_label`. For example, instead of original estimate, \n",
    "\n",
    "$$\\hat{p}(word|label) = \\frac{count(word, label)}{count(label)}$$\n",
    "\n",
    "we could use a \"smoothed\" version\n",
    "\n",
    "$$\\hat{p}(word|label) = \\frac{count(word, label) + \\alpha\\times p}{count(label) + p}$$\n",
    "\n",
    "where $alpha\\in(0, 1)$ is the anchor probability towards which we move our estimate, and $p$ is the step size towards this anchor. \n",
    "\n",
    "Values like $p=0.1$ and $\\alpha=1^{-3}$ would do.  "
   ]
  },
  {
   "cell_type": "code",
   "execution_count": 21,
   "metadata": {
    "ExecuteTime": {
     "end_time": "2021-10-21T18:00:32.609918Z",
     "start_time": "2021-10-21T18:00:32.591006Z"
    },
    "id": "63mpxYPlSGdC"
   },
   "outputs": [],
   "source": [
    "# TODO: modify the `word_probability_given_label` function, by moving each probability towards a small positive constant\n",
    "def word_probability_given_label(word, label):\n",
    "    \"\"\" This function calculates probability of a word occurence in text, conditional on the label of this text. \"\"\"\n",
    "    return ((word_counters[label][word])+(p*α))/(label_counter[label]+p)\n",
    "\n",
    "p=0.1\n",
    "α=1e-3\n",
    "assert word_probability_given_label(\"999\", \"spam\") > 0\n",
    "assert word_probability_given_label(\"999\", \"spam\") < 0.005"
   ]
  },
  {
   "cell_type": "markdown",
   "metadata": {
    "id": "-LeclJfNSGdG"
   },
   "source": [
    "Now we can move from words to texts. \n",
    "\n",
    "Here is where we apply our naive assumption that occurrences of each word are independent:\n",
    "$$ P(text|label) = \\prod_{word \\in text} P(word|label) \\times \\prod_{word \\notin text} (1-P(word|label)) $$"
   ]
  },
  {
   "cell_type": "code",
   "execution_count": 22,
   "metadata": {
    "ExecuteTime": {
     "end_time": "2021-10-21T18:02:53.822715Z",
     "start_time": "2021-10-21T18:02:53.791829Z"
    },
    "id": "iVZdBCwYSGdH"
   },
   "outputs": [],
   "source": [
    "def text_probability_given_label(text, label):\n",
    "    \"\"\" This function calculates probability of the text conditional on its label. \"\"\"\n",
    "    if isinstance(text, str):\n",
    "        text = get_words(text)\n",
    "    probability = 1.0\n",
    "    # TODO: calculate the probability of text given label. \n",
    "    # use a function defined above and the naive assumption of word independence\n",
    "    for word in all_words:\n",
    "        if word in text:\n",
    "            probability = word_probability_given_label(word, label) * probability\n",
    "        else:\n",
    "            probability = (1-word_probability_given_label(word, label)) * probability\n",
    "    return probability\n",
    "\n",
    "greeting1 = 'hello how are you'\n",
    "greeting2 = 'hello teacher how are you'\n",
    "\n",
    "assert text_probability_given_label(greeting1, 'ham') > 0\n",
    "assert text_probability_given_label(greeting1, 'ham') < 0.0001\n",
    "assert text_probability_given_label(greeting2, 'ham') < text_probability_given_label(greeting1, 'ham')"
   ]
  },
  {
   "cell_type": "code",
   "execution_count": null,
   "metadata": {
    "id": "eUHvwT2yfIEa"
   },
   "outputs": [],
   "source": [
    "# def label_probability_given_text(label1, label2, text):\n",
    "#     proba_label1 = prior_probability_of_label(label1)\n",
    "#     proba_label2 = prior_probability_of_label(label2)\n",
    "#     text_given_label1 =  text_probability_given_label(text, label1)\n",
    "#     text_given_label2 =  text_probability_given_label(text, label2)\n",
    "#     prob_text = proba_label1*text_given_label1 + proba_label2*text_given_label2\n",
    "#     label_probability_given_text = proba_label1 * text_given_label1/prob_text\n",
    "#     return(label_probability_given_text)"
   ]
  },
  {
   "cell_type": "code",
   "execution_count": 136,
   "metadata": {
    "id": "YivIos6efIKl"
   },
   "outputs": [],
   "source": []
  },
  {
   "cell_type": "code",
   "execution_count": 137,
   "metadata": {
    "id": "Ip0O0dDCfIPu"
   },
   "outputs": [],
   "source": []
  },
  {
   "cell_type": "code",
   "execution_count": null,
   "metadata": {
    "id": "nM4JTePEfIoS"
   },
   "outputs": [],
   "source": []
  },
  {
   "cell_type": "markdown",
   "metadata": {
    "id": "XQgZXCuDSGdM"
   },
   "source": [
    "Now you have all the components to compile your first probabilistic classifier!"
   ]
  },
  {
   "cell_type": "markdown",
   "metadata": {
    "id": "qUCUEUyrLd3a"
   },
   "source": [
    "Now we need to find P of label given a text.\n",
    "\n",
    "For that we first need to find P label given word.\n",
    "\n",
    "For that we apply p(l/t) = ( p(l) * p(t/l) ) / p(t)\n",
    "\n"
   ]
  },
  {
   "cell_type": "code",
   "execution_count": 24,
   "metadata": {
    "ExecuteTime": {
     "end_time": "2021-10-21T18:09:22.335262Z",
     "start_time": "2021-10-21T18:09:22.275773Z"
    },
    "id": "p4cbdHY94pIY"
   },
   "outputs": [],
   "source": [
    "def label_probability_given_text(text, label):\n",
    "    if label == 'ham':\n",
    "        label1 = 'ham'\n",
    "        label2 = 'spam'\n",
    "    if label == 'spam':\n",
    "        label1 = 'spam'\n",
    "        label2 = 'ham'\n",
    "    else:\n",
    "        pass\n",
    "    proba_label1 = prior_probability_of_label(label1)\n",
    "    proba_label2 = prior_probability_of_label(label2)\n",
    "    text_given_label1 =  text_probability_given_label(text, label1)\n",
    "    text_given_label2 =  text_probability_given_label(text, label2)\n",
    "    prob_text = proba_label1*text_given_label1 + proba_label2*text_given_label2\n",
    "    label_probability_given_text = proba_label1 * text_given_label1/prob_text\n",
    "    return(label_probability_given_text)\n",
    "\n",
    "text1 = 'hello how r you'\n",
    "text2 = 'only today you can buy our book with 50% discount!'\n",
    "\n",
    "\n",
    "assert label_probability_given_text(text1, 'ham') + label_probability_given_text(text1, 'spam') == 1.0\n",
    "assert label_probability_given_text(text1, 'ham') > label_probability_given_text(text1, 'spam')\n",
    "assert label_probability_given_text(text1, 'ham') > label_probability_given_text(text2, 'ham')"
   ]
  },
  {
   "cell_type": "code",
   "execution_count": null,
   "metadata": {
    "id": "gsS1GzgOSOFC"
   },
   "outputs": [],
   "source": [
    "# def label_probability_given_word(word, label):\n",
    "#     \"\"\" This function calculates probability of a word occurence in text, conditional on the label of this text. \"\"\"\n",
    "#     # print (1 -((word_counters[label][word])+(p*α))/(label_counter[label]+p))\n",
    "#     return (1 -((word_counters[label][word])+(p*α))/(label_counter[label]+p))\n",
    "#     # return ((label_counter[label])+(p*α))/(word_counters[label][word]+p)\n",
    "#     # return ((word_counters[label][word])+(p*α))/(label_counter[label]+p)"
   ]
  },
  {
   "cell_type": "markdown",
   "metadata": {
    "id": "25DmEePrSGdR"
   },
   "source": [
    "## Tuning the classifier"
   ]
  },
  {
   "cell_type": "markdown",
   "metadata": {
    "id": "SVNJNZimSGdS"
   },
   "source": [
    "Now we have the classifier, but we don't know how well it works on the unseen data. \n",
    "\n",
    "Let's see what fraction of test messages are classified correctly:"
   ]
  },
  {
   "cell_type": "code",
   "execution_count": 32,
   "metadata": {
    "ExecuteTime": {
     "end_time": "2021-10-21T18:15:41.648609Z",
     "start_time": "2021-10-21T18:15:22.469239Z"
    },
    "colab": {
     "base_uri": "https://localhost:8080/"
    },
    "id": "1ZxEYeFGSGdT",
    "outputId": "9d73f285-9219-49cc-813b-25c3e4403ef1"
   },
   "outputs": [
    {
     "name": "stdout",
     "output_type": "stream",
     "text": [
      "0.9844479004665629\n"
     ]
    }
   ],
   "source": [
    "threshold = 0.8\n",
    "alpha=1e-2\n",
    "test_spam_probabilities = [label_probability_given_text(text, 'spam') for text in test_x]\n",
    "test_predictions = ['spam' if spamness > threshold else 'ham' for spamness in test_spam_probabilities]\n",
    "\n",
    "accuracy = sum(1 if pred == fact else 0 for pred, fact in zip(test_predictions, test_y)) / len(test_y)\n",
    "print(accuracy)\n",
    "\n",
    "assert accuracy > 0.9"
   ]
  },
  {
   "cell_type": "markdown",
   "metadata": {
    "id": "qorvR9XvSGdo"
   },
   "source": [
    "This is a good accuracy, but you can achieve better results by tuning the algorithm. \n",
    "\n",
    "What you can do:\n",
    "* play with the different values of the threshold\n",
    "* play with the regularization constants that you used in `word_probability_given_label`\n",
    "* experiment with different implementations of `get_words` - e.g. ignore the word case, or use word lemmas\n",
    "* use your imagination\n",
    "\n",
    "Can you beat 99% accuracy?"
   ]
  },
  {
   "cell_type": "markdown",
   "metadata": {
    "id": "sGSStXnGSGd3"
   },
   "source": [
    "Have a good time! (-:"
   ]
  },
  {
   "cell_type": "code",
   "execution_count": null,
   "metadata": {
    "id": "Y0eQuYMyZM7f"
   },
   "outputs": [],
   "source": []
  }
 ],
 "metadata": {
  "colab": {
   "collapsed_sections": [],
   "name": "HW1_naive_bayes_classifier_solution1.ipynb",
   "provenance": [],
   "toc_visible": true
  },
  "kernelspec": {
   "display_name": "Python 3",
   "language": "python",
   "name": "python3"
  },
  "language_info": {
   "codemirror_mode": {
    "name": "ipython",
    "version": 3
   },
   "file_extension": ".py",
   "mimetype": "text/x-python",
   "name": "python",
   "nbconvert_exporter": "python",
   "pygments_lexer": "ipython3",
   "version": "3.7.4"
  },
  "toc": {
   "base_numbering": 1,
   "nav_menu": {},
   "number_sections": true,
   "sideBar": true,
   "skip_h1_title": false,
   "title_cell": "Table of Contents",
   "title_sidebar": "Contents",
   "toc_cell": false,
   "toc_position": {},
   "toc_section_display": true,
   "toc_window_display": false
  }
 },
 "nbformat": 4,
 "nbformat_minor": 1
}
