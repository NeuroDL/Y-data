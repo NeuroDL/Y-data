{
 "cells": [
  {
   "cell_type": "markdown",
   "metadata": {
    "tags": [
     "intro"
    ]
   },
   "source": [
    "# Grading process\n",
    "\n",
    "\n",
    "GA #1 is submitted individually. The submission notebook will be automatically validated with Papermill. The exact command is the following:\n",
    "\n",
    "```bash\n",
    "papermill <notebook-name>.ipynb <notebook-name>-run.ipynb .ipynb -p TEST True\n",
    "```\n",
    "\n",
    "Papermill will inject new cell after each cell tagged as `parameters` (see `View > Cell toolbar > Tags`). Notebook will be executed from top to bottom in a linear order. `solutions.py` contains correct implementations used to validate your solutions, and is only available to instructors and TA's.\n",
    "\n",
    "Please, **fill `STUDENT` variable with your name**, so that we can collect the results automatically. Please, do not change `parameters` (specifically, **do not change `TEST` variable**) and `validation` cells for grader to work correctly. You can, though, use the following clauses to wrap your code outside of `solution` cells:\n",
    "\n",
    "```python\n",
    "if not TEST:\n",
    "    <some code >\n",
    "```\n",
    "\n",
    "Each problem contains specific validation details. You need to fill each cell tagged `solution` with your code. Note, that solution function must be self-contained, i.e. it must not use any state from the notebook itself.\n",
    "\n",
    "Different problems result in different number of points. All problems in the basic section give 1 point, while all problems in intermediate section give 2 points. Total number of points are then divided by maximum number of points (11 in this assignment) and multiplied by 100 to get your final grade (0-100).\n",
    "\n",
    "You may find the following NumPy functions useful:\n",
    "\n",
    "- reduction functions: `np.mean`, `np.std`, `np.max`,\n",
    "- array creation functions: `np.zeros`, `np.arange`, `np.linspace`,\n",
    "- element-wise functions: `np.sin`, `np.isfinite`, `np.clip`,\n",
    "- other functions: `np.argmax`, `np.unique`, `np.column_stack`."
   ]
  },
  {
   "cell_type": "code",
   "execution_count": 1,
   "metadata": {
    "ExecuteTime": {
     "end_time": "2021-10-13T14:18:32.846934Z",
     "start_time": "2021-10-13T14:18:32.734556Z"
    }
   },
   "outputs": [],
   "source": [
    "import numpy as np"
   ]
  },
  {
   "cell_type": "code",
   "execution_count": 2,
   "metadata": {
    "ExecuteTime": {
     "end_time": "2021-10-13T14:18:46.357355Z",
     "start_time": "2021-10-13T14:18:46.341318Z"
    }
   },
   "outputs": [],
   "source": [
    "STUDENT = \"Jacob Levine\" # use your name here"
   ]
  },
  {
   "cell_type": "code",
   "execution_count": 3,
   "metadata": {
    "ExecuteTime": {
     "end_time": "2021-10-13T14:19:02.210721Z",
     "start_time": "2021-10-13T14:19:02.194696Z"
    },
    "tags": [
     "parameters"
    ]
   },
   "outputs": [],
   "source": [
    "ASSIGNMENT = 1\n",
    "TEST = False"
   ]
  },
  {
   "cell_type": "code",
   "execution_count": 4,
   "metadata": {
    "ExecuteTime": {
     "end_time": "2021-10-13T14:19:03.175420Z",
     "start_time": "2021-10-13T14:19:03.167385Z"
    }
   },
   "outputs": [],
   "source": [
    "if TEST:\n",
    "    import solutions\n",
    "    total_grade = 0\n",
    "    MAX_POINTS = 11"
   ]
  },
  {
   "cell_type": "markdown",
   "metadata": {},
   "source": [
    "# Basic arrays\n",
    "\n",
    "Problems 1, 2 and 3 cover the correct usage of `np.arange` (or `np.linspace` for that matter), basic masking and vectorized functions (like calculating `sin` of each element of an array in a vectorized manner)."
   ]
  },
  {
   "cell_type": "markdown",
   "metadata": {
    "tags": [
     "problem"
    ]
   },
   "source": [
    "### 1. Calculate $\\sin(x)$ for $0\\leq x < 2\\pi$ with a step of $0.1$.\n",
    "\n",
    "You need to implement a function, which calculates the required array. The exact values of $x$ are $[0, 0.1, 0.2,\\ldots,6.2]$.\n",
    "\n",
    "Result must be **1-dimensional**, and **will be tested against precomputed values**.\n",
    "\n",
    "Note, that `numpy` provides [constants](https://docs.scipy.org/doc/numpy-1.15.0/reference/constants.html), you can take $\\pi$ from there. "
   ]
  },
  {
   "cell_type": "code",
   "execution_count": 12,
   "metadata": {
    "ExecuteTime": {
     "end_time": "2021-10-13T14:23:16.285573Z",
     "start_time": "2021-10-13T14:23:16.269575Z"
    },
    "tags": [
     "solution"
    ]
   },
   "outputs": [],
   "source": [
    "def sin_basic():\n",
    "    sin_values = np.sin(np.arange(0,2*np.pi,0.1))\n",
    "    return sin_values"
   ]
  },
  {
   "cell_type": "code",
   "execution_count": 14,
   "metadata": {
    "ExecuteTime": {
     "end_time": "2021-10-13T14:24:11.651233Z",
     "start_time": "2021-10-13T14:24:11.643234Z"
    },
    "tags": [
     "validation"
    ]
   },
   "outputs": [],
   "source": [
    "PROBLEM_ID = 1\n",
    "\n",
    "if TEST:\n",
    "    total_grade += solutions.check(STUDENT, PROBLEM_ID, sin_basic)"
   ]
  },
  {
   "cell_type": "markdown",
   "metadata": {
    "tags": [
     "problem"
    ]
   },
   "source": [
    "### 2. Create a function, which calculates $n$ values of $\\sin(x)$ for $0\\leq x \\leq 2\\pi$.\n",
    "\n",
    "Both $0$ and $2\\pi$ must be included and $x$ values must be equidistant. Result must be **1-dimensional**, and **will be tested against three random values for $10 \\leq n < 100 $**.\n",
    "\n",
    "Example values to be calculated for $n=3$ are:\n",
    "\n",
    "$$\\sin(0),\\sin(\\pi),\\sin(2\\pi),$$\n",
    "\n",
    "while for $n=5$ we have\n",
    "\n",
    "$$\\sin(0),\\sin(\\pi/2),\\sin(\\pi),\\sin(3\\pi/2), \\sin(2\\pi)$$.\n"
   ]
  },
  {
   "cell_type": "code",
   "execution_count": 18,
   "metadata": {
    "ExecuteTime": {
     "end_time": "2021-10-13T14:27:23.252766Z",
     "start_time": "2021-10-13T14:27:23.236737Z"
    },
    "tags": [
     "solution"
    ]
   },
   "outputs": [],
   "source": [
    "def sin_enumerated(n):\n",
    "    return np.sin(np.linspace(0,2*np.pi,n))"
   ]
  },
  {
   "cell_type": "code",
   "execution_count": 19,
   "metadata": {
    "ExecuteTime": {
     "end_time": "2021-10-13T14:27:33.283385Z",
     "start_time": "2021-10-13T14:27:33.275385Z"
    },
    "tags": [
     "validation"
    ]
   },
   "outputs": [],
   "source": [
    "PROBLEM_ID = 2\n",
    "\n",
    "if TEST:\n",
    "    total_grade += solutions.check(STUDENT, PROBLEM_ID, sin_enumerated)"
   ]
  },
  {
   "cell_type": "markdown",
   "metadata": {
    "tags": [
     "problem"
    ]
   },
   "source": [
    "### 3. Create a function, which calculates $n$ values of truncated $\\sin(x)$ for $0\\leq x \\leq 2\\pi$.\n",
    "\n",
    "Truncated $\\sin(x)$ is defined as the following:\n",
    "\n",
    "$$\n",
    "\\sin_{trunc}(x) =\n",
    "\\left\\{\n",
    "\\begin{array}{l}\n",
    "\\sin(x), \\sin(x)\\geq 0, \\\\\n",
    "0, \\sin(x) < 0.\n",
    "\\end{array}\\right.\n",
    "$$\n",
    "\n",
    "Otherwise, the requirements are the same as in Problem 2."
   ]
  },
  {
   "cell_type": "code",
   "execution_count": 28,
   "metadata": {
    "ExecuteTime": {
     "end_time": "2021-10-13T14:31:31.068619Z",
     "start_time": "2021-10-13T14:31:31.052581Z"
    },
    "tags": [
     "solution"
    ]
   },
   "outputs": [],
   "source": [
    "def sin_truncated(n):\n",
    "    return np.clip(np.sin(np.linspace(0,2*np.pi,n)),a_min=0,a_max=None)"
   ]
  },
  {
   "cell_type": "code",
   "execution_count": 29,
   "metadata": {
    "ExecuteTime": {
     "end_time": "2021-10-13T14:31:31.985528Z",
     "start_time": "2021-10-13T14:31:31.977486Z"
    },
    "tags": [
     "validation"
    ]
   },
   "outputs": [],
   "source": [
    "PROBLEM_ID = 3\n",
    "\n",
    "if TEST:\n",
    "    total_grade += solutions.check(STUDENT, PROBLEM_ID, sin_truncated)"
   ]
  },
  {
   "cell_type": "markdown",
   "metadata": {
    "tags": [
     "problem"
    ]
   },
   "source": [
    "### 4. Statistics on multi-dimensional arrays.\n",
    "\n",
    "Given a 3-dimensional array `arr`, calculate mean and standard deviation along dimensions $(1,2)$.\n",
    "\n",
    "For a $N\\times M \\times K$ array `arr`, result must be a **2-dimensional** array of shape $N\\times 2$, with column `0` containing mean values and column `1` containing standard deviations. For example, $(0,0)$ element of the resulting array contains mean of `arr[0]`, while $(1,1)$ contains standard deviation of `arr[1]`.\n",
    "\n",
    "Your solution **will be tested against three random combinations of input array dimensions ($10 \\leq n < 100 $)**. Array values will be drawn from the standard normal distribution (`np.random.randn`).\n",
    "\n",
    "**Hint:** this problem may need to use some universal functions and array combination routines."
   ]
  },
  {
   "cell_type": "code",
   "execution_count": 69,
   "metadata": {
    "ExecuteTime": {
     "end_time": "2021-10-13T14:50:34.144413Z",
     "start_time": "2021-10-13T14:50:34.136415Z"
    },
    "tags": [
     "solution"
    ]
   },
   "outputs": [],
   "source": [
    "def array_stats(arr):\n",
    "    new_dim = arr.shape[2]*arr.shape[1]\n",
    "    means=np.mean(arr.reshape((arr.shape[0],new_dim)),axis=1)\n",
    "    stds=np.std(arr.reshape((arr.shape[0],new_dim)),axis=1)\n",
    "    return np.vstack([means,stds]).T"
   ]
  },
  {
   "cell_type": "code",
   "execution_count": 73,
   "metadata": {
    "ExecuteTime": {
     "end_time": "2021-10-13T14:50:45.913797Z",
     "start_time": "2021-10-13T14:50:45.897761Z"
    },
    "collapsed": true
   },
   "outputs": [
    {
     "name": "stdout",
     "output_type": "stream",
     "text": [
      "[[0.49757924 0.2817471 ]\n",
      " [0.48866199 0.28838951]\n",
      " [0.4928911  0.286394  ]\n",
      " [0.49781764 0.29084221]\n",
      " [0.50635622 0.28686694]\n",
      " [0.49127162 0.29546395]\n",
      " [0.49348901 0.291697  ]\n",
      " [0.49761248 0.28924336]\n",
      " [0.50459441 0.28556044]\n",
      " [0.52456423 0.29381544]\n",
      " [0.50706899 0.28882928]\n",
      " [0.48299766 0.29296738]\n",
      " [0.49194497 0.29385687]\n",
      " [0.51000983 0.29095538]\n",
      " [0.50856809 0.29638398]\n",
      " [0.51207003 0.28625239]\n",
      " [0.51379411 0.28855411]\n",
      " [0.50067115 0.28641469]\n",
      " [0.50788248 0.28306005]\n",
      " [0.51415006 0.28736621]\n",
      " [0.50734227 0.2877167 ]\n",
      " [0.50344465 0.2860477 ]\n",
      " [0.50891335 0.28905964]\n",
      " [0.48560067 0.29087885]\n",
      " [0.49916485 0.28763643]\n",
      " [0.51616883 0.29615536]\n",
      " [0.50438848 0.28644368]\n",
      " [0.50049802 0.2937322 ]\n",
      " [0.50238001 0.29019893]\n",
      " [0.50717854 0.28751152]\n",
      " [0.4884943  0.28678637]\n",
      " [0.49711872 0.28510129]\n",
      " [0.5081002  0.28913855]\n",
      " [0.49609828 0.29073548]\n",
      " [0.4808744  0.29378554]\n",
      " [0.50054308 0.29062693]\n",
      " [0.49929386 0.29577241]\n",
      " [0.51228179 0.28484517]\n",
      " [0.52043362 0.28549712]\n",
      " [0.49167178 0.28717677]\n",
      " [0.47947903 0.29102215]\n",
      " [0.48956222 0.29062564]\n",
      " [0.48751713 0.28699914]\n",
      " [0.50575975 0.28960497]\n",
      " [0.50577711 0.29036488]\n",
      " [0.50153639 0.29387235]\n",
      " [0.48650379 0.29004205]\n",
      " [0.50052611 0.28066396]\n",
      " [0.50413942 0.29420253]\n",
      " [0.50669189 0.28972213]\n",
      " [0.5097377  0.28524715]\n",
      " [0.50231609 0.28795114]\n",
      " [0.51076038 0.28728654]\n",
      " [0.50104804 0.28579649]\n",
      " [0.50317969 0.28708639]\n",
      " [0.49116504 0.29300902]\n",
      " [0.49621121 0.29082206]\n",
      " [0.51265568 0.29228884]\n",
      " [0.50397654 0.29245486]\n",
      " [0.50629004 0.28029583]\n",
      " [0.48006842 0.290655  ]\n",
      " [0.4809982  0.29301032]\n",
      " [0.48773337 0.28864727]\n",
      " [0.50100159 0.29386784]\n",
      " [0.49616969 0.29431213]\n",
      " [0.49133123 0.28232464]\n",
      " [0.50178306 0.28999165]\n",
      " [0.50672458 0.28356578]\n",
      " [0.50016964 0.29139064]\n",
      " [0.48982151 0.28484675]\n",
      " [0.50054558 0.28650374]\n",
      " [0.5084486  0.29108345]\n",
      " [0.49726254 0.29011441]\n",
      " [0.50171018 0.28246093]\n",
      " [0.52030582 0.28936565]\n",
      " [0.49509009 0.28765979]\n",
      " [0.51058051 0.28158291]\n",
      " [0.52485917 0.29378207]\n",
      " [0.50693908 0.28448426]\n",
      " [0.49111444 0.29297779]\n",
      " [0.49910818 0.29227901]\n",
      " [0.50297423 0.29036984]\n",
      " [0.49269359 0.29140359]\n",
      " [0.50676529 0.29151928]\n",
      " [0.50592574 0.27842033]\n",
      " [0.50389456 0.28655708]\n",
      " [0.51098    0.28829738]\n",
      " [0.4950529  0.29289585]]\n"
     ]
    }
   ],
   "source": [
    "if TEST==False:\n",
    "    arr = np.random.random(size=[88,13,84])\n",
    "    print(array_stats(arr))"
   ]
  },
  {
   "cell_type": "code",
   "execution_count": 74,
   "metadata": {
    "ExecuteTime": {
     "end_time": "2021-10-13T14:51:24.143719Z",
     "start_time": "2021-10-13T14:51:24.135682Z"
    },
    "tags": [
     "validation"
    ]
   },
   "outputs": [],
   "source": [
    "PROBLEM_ID = 4\n",
    "\n",
    "if TEST:\n",
    "    total_grade += solutions.check(STUDENT, PROBLEM_ID, array_stats)"
   ]
  },
  {
   "cell_type": "markdown",
   "metadata": {
    "tags": [
     "problem"
    ]
   },
   "source": [
    "### 5. Class prediction.\n",
    "\n",
    "Given a probability matrix, you need to calculate the exact class, i.e. determine, which probability is the highest for each example. For example, for the following array\n",
    "\n",
    "$$\n",
    "\\left(\n",
    "\\begin{array}{ccc}\n",
    "0.3 && 0.6 && 0.1 \\\\\n",
    "0.8 && 0.05 && 0.15\n",
    "\\end{array}\n",
    "\\right)\n",
    "$$\n",
    "\n",
    "the result must be\n",
    "\n",
    "$$\n",
    "\\left(\n",
    "\\begin{array}{c}\n",
    "1 \\\\\n",
    "0\n",
    "\\end{array}\n",
    "\\right)\n",
    "$$\n",
    "\n",
    "Each row represents an example, and each column represent a probability for corresponding class. For example, element `(0, 1)` represents the probability of example `0` being of class `1`.\n",
    "\n",
    "Note, that result must be **2-dimensional**, such that input array of shape $(N, M)$ is transformed into output array of shape $(N,1)$. Result **will be tested against three random combinations of input array dimensions ($10 \\leq n < 100 $)**. Input array elements are drawn from the standard normal distribution with $\\texttt{softmax}$ applied on top.\n",
    "\n",
    "#### $\\texttt{softmax}$\n",
    "\n",
    "$\\texttt{softmax}$ is used to represent **probabilities** and is often used as an activation function in neural networks for multi-class classification.\n",
    "\n",
    "$\\texttt{softmax}$ activation for a vector is defined as the following:\n",
    "\n",
    "$$\n",
    "\\texttt{softmax} (x_i) = \\frac{e^{x_i}}{\\sum_i e^{x_i}}.\n",
    "$$\n",
    "\n",
    "Correspondingly, a `2D` array is transformed as the following:\n",
    "\n",
    "$$\n",
    "\\texttt{softmax} (x_{ij}) = \\frac{e^{x_{ij}}}{\\sum_j e^{x_{ij}}}.\n",
    "$$\n",
    "\n",
    "\n",
    "\n",
    "For example, an input array \n",
    "\n",
    "$$\n",
    "\\left(\n",
    "\\begin{array}{cc}\n",
    "1 && 6 \\\\\n",
    "4 && 5\n",
    "\\end{array}\n",
    "\\right)\n",
    "$$\n",
    "\n",
    "results in the following $\\texttt{softmax}$ activation:\n",
    "\n",
    "$$\n",
    "\\left(\n",
    "\\begin{array}{cc}\n",
    "\\frac{e^1}{e^1 + e^6} && \\frac{e^6}{e^1 + e^6} \\\\\n",
    "\\frac{e^4}{e^4 + e^5} && \\frac{e^5}{e^4 + e^5}\n",
    "\\end{array}\n",
    "\\right)\n",
    "$$\n",
    "\n",
    "\n",
    "Result may be treated as **probabilistic predictions** of some classification model, as values sum to `1` for each row."
   ]
  },
  {
   "cell_type": "code",
   "execution_count": 85,
   "metadata": {
    "ExecuteTime": {
     "end_time": "2021-10-13T17:28:43.984895Z",
     "start_time": "2021-10-13T17:28:43.968897Z"
    },
    "tags": [
     "solution"
    ]
   },
   "outputs": [],
   "source": [
    "def predict(arr):\n",
    "    return np.expand_dims(np.argmax(arr,axis=1),axis=1)"
   ]
  },
  {
   "cell_type": "code",
   "execution_count": 90,
   "metadata": {
    "ExecuteTime": {
     "end_time": "2021-10-13T17:30:00.239096Z",
     "start_time": "2021-10-13T17:30:00.231097Z"
    },
    "tags": [
     "validation"
    ]
   },
   "outputs": [],
   "source": [
    "PROBLEM_ID = 5\n",
    "\n",
    "if TEST:\n",
    "    total_grade += solutions.check(STUDENT, PROBLEM_ID, predict)"
   ]
  },
  {
   "cell_type": "markdown",
   "metadata": {},
   "source": [
    "# Intermediate arrays"
   ]
  },
  {
   "cell_type": "markdown",
   "metadata": {
    "tags": [
     "problem"
    ]
   },
   "source": [
    "### 6. One-hot encoding.\n",
    "\n",
    "Given 1-dimensional array of class labels, construct it's one-hot encoded transformation. One-hot encoding of an array of shape $(N,)$ is defined as an array of shape $(N,L)$, such that $e_{ij}$ is $1$ if $i$-th example belongs to class $j$ and $0$ otherwise. $L$ is the number of classes.\n",
    "\n",
    "For example, array $(1,0,3,1,1,1,0)$ is transformed to\n",
    "\n",
    "$$\n",
    "\\left(\n",
    "\\begin{array}{cccc}\n",
    "0 && 1 && 0 && 0\\\\\n",
    "1 && 0 && 0 && 0\\\\\n",
    "0 && 0 && 0 && 1\\\\\n",
    "0 && 1 && 0 && 0\\\\\n",
    "0 && 1 && 0 && 0\\\\\n",
    "0 && 1 && 0 && 0\\\\\n",
    "1 && 0 && 0 && 0\n",
    "\\end{array}\n",
    "\\right)\n",
    "$$\n",
    "\n",
    "Class labels are consequtive integers, hence $L$ corresponds to the largest integer value in the input array. Note, that in the example above we do not have `2` in the input although the result is still $7\\times 4$ with column `2` containing all `0`'s.\n",
    "\n",
    "This function will be tested against three input arrays of random shape $(n,)$ ($10 \\leq n < 100 $) filled with random integers.\n",
    "\n",
    "**Hint:** you may need some fancy indexing."
   ]
  },
  {
   "cell_type": "code",
   "execution_count": 137,
   "metadata": {
    "ExecuteTime": {
     "end_time": "2021-10-14T14:26:06.306758Z",
     "start_time": "2021-10-14T14:26:06.298721Z"
    },
    "tags": [
     "solution"
    ]
   },
   "outputs": [],
   "source": [
    "def onehot(labels):\n",
    "    one_hot = np.zeros([len(labels),labels.max()+1])\n",
    "    one_hot[np.arange(len(labels)),labels]=1\n",
    "    return one_hot\n"
   ]
  },
  {
   "cell_type": "code",
   "execution_count": 138,
   "metadata": {
    "ExecuteTime": {
     "end_time": "2021-10-14T14:26:06.862916Z",
     "start_time": "2021-10-14T14:26:06.846912Z"
    },
    "tags": [
     "validation"
    ]
   },
   "outputs": [],
   "source": [
    "PROBLEM_ID = 6\n",
    "\n",
    "if TEST:\n",
    "    total_grade += solutions.check(STUDENT, PROBLEM_ID, onehot)"
   ]
  },
  {
   "cell_type": "markdown",
   "metadata": {
    "tags": [
     "problem"
    ]
   },
   "source": [
    "### 7. Fixing missing values.\n",
    "\n",
    "Given an array, which contains some $NaN$s (not-a-number, represented as `np.nan`), positive and negative infinities (represented as `np.inf`), contruct a \"repaired\" version of that array. All missing or broken values must be replaced by average of valid elements of an array.\n",
    "\n",
    "For example, array $(0., np.nan, 2., np.inf)$ must be transformed to $(0., 1., 2., 1.)$.\n",
    "\n",
    "Input arrays will be drawn from standard normal distribution, with small fraction of values transformed to either `np.nan`, `np.inf` or `-np.inf`.\n",
    "\n",
    "**Hint:** you will need some masking to achieve the goal, as well as `np.isnan` and `np.isinf`."
   ]
  },
  {
   "cell_type": "code",
   "execution_count": 169,
   "metadata": {
    "ExecuteTime": {
     "end_time": "2021-10-17T14:55:07.461241Z",
     "start_time": "2021-10-17T14:55:07.445526Z"
    },
    "tags": [
     "solution"
    ]
   },
   "outputs": [],
   "source": [
    "def fix(arr):\n",
    "    mean1 = arr[~(np.isinf(arr) | np.isnan(arr))].mean()\n",
    "    arr[(np.isinf(arr) | np.isnan(arr))]=mean1\n",
    "    return arr"
   ]
  },
  {
   "cell_type": "code",
   "execution_count": null,
   "metadata": {
    "ExecuteTime": {
     "end_time": "2019-10-30T22:26:12.602616Z",
     "start_time": "2019-10-30T22:26:12.596587Z"
    },
    "tags": [
     "validation"
    ]
   },
   "outputs": [],
   "source": [
    "PROBLEM_ID = 7\n",
    "\n",
    "if TEST:\n",
    "    total_grade += solutions.check(STUDENT, PROBLEM_ID, fix)"
   ]
  },
  {
   "cell_type": "markdown",
   "metadata": {
    "tags": [
     "problem"
    ]
   },
   "source": [
    "### 8. Calculate class distribution.\n",
    "\n",
    "Given 1-dimensional array of class labels, calculate occurrence of each class.\n",
    "\n",
    "For example, array $(1,0,3,1,1,1,0)$ is transformed to $(2/7, 4/7, 0, 1/7)$. Class labels are consequtive integers, in the same way as in Problem 7 (note, that class `2` is not present in the input array, but it's occurence, although `0`, is included in the output).\n",
    "\n",
    "Note the ordering and consider using one-hot representation to calculate class counts."
   ]
  },
  {
   "cell_type": "code",
   "execution_count": 155,
   "metadata": {
    "ExecuteTime": {
     "end_time": "2021-10-14T14:45:16.165928Z",
     "start_time": "2021-10-14T14:45:16.149930Z"
    },
    "tags": [
     "solution"
    ]
   },
   "outputs": [],
   "source": [
    "def class_freq(labels):\n",
    "    return np.sum(onehot(labels),axis=0)/len(labels)"
   ]
  },
  {
   "cell_type": "code",
   "execution_count": null,
   "metadata": {
    "ExecuteTime": {
     "end_time": "2019-10-30T22:26:13.218968Z",
     "start_time": "2019-10-30T22:26:13.214080Z"
    },
    "tags": [
     "validation"
    ]
   },
   "outputs": [],
   "source": [
    "PROBLEM_ID = 8\n",
    "\n",
    "if TEST:\n",
    "    total_grade += solutions.check(STUDENT, PROBLEM_ID, class_freq)"
   ]
  },
  {
   "cell_type": "markdown",
   "metadata": {},
   "source": [
    "# Your grade"
   ]
  },
  {
   "cell_type": "code",
   "execution_count": null,
   "metadata": {
    "ExecuteTime": {
     "end_time": "2019-10-30T22:39:26.661611Z",
     "start_time": "2019-10-30T22:39:26.654545Z"
    },
    "tags": [
     "validation"
    ]
   },
   "outputs": [],
   "source": [
    "if TEST:\n",
    "    print(f\"{STUDENT}: {int(100 * total_grade / MAX_POINTS)}\")"
   ]
  },
  {
   "cell_type": "code",
   "execution_count": null,
   "metadata": {},
   "outputs": [],
   "source": []
  }
 ],
 "metadata": {
  "@webio": {
   "lastCommId": null,
   "lastKernelId": null
  },
  "celltoolbar": "Tags",
  "kernelspec": {
   "display_name": "Python 3",
   "language": "python",
   "name": "python3"
  },
  "language_info": {
   "codemirror_mode": {
    "name": "ipython",
    "version": 3
   },
   "file_extension": ".py",
   "mimetype": "text/x-python",
   "name": "python",
   "nbconvert_exporter": "python",
   "pygments_lexer": "ipython3",
   "version": "3.7.4"
  },
  "toc": {
   "base_numbering": 1,
   "nav_menu": {},
   "number_sections": true,
   "sideBar": true,
   "skip_h1_title": false,
   "title_cell": "Table of Contents",
   "title_sidebar": "Contents",
   "toc_cell": false,
   "toc_position": {},
   "toc_section_display": true,
   "toc_window_display": false
  }
 },
 "nbformat": 4,
 "nbformat_minor": 2
}
