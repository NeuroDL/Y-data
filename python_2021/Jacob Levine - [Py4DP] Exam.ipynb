{
 "cells": [
  {
   "cell_type": "markdown",
   "metadata": {},
   "source": [
    "# Notes\n",
    "\n",
    "Exam contains 6 problems, Most of them are of intermediate complexity and follow the material from class or graded assignments. Note, that no loops are allowed in this exam, and all the solutions containing loops will be graded as 0.\n",
    "\n",
    "For this exam you'll need [Titanic](https://www.kaggle.com/c/titanic) and [road accidents](https://www.kaggle.com/daveianhickey/2000-16-traffic-flow-england-scotland-wales) datasets."
   ]
  },
  {
   "cell_type": "code",
   "execution_count": 1,
   "metadata": {
    "ExecuteTime": {
     "end_time": "2021-11-20T18:36:16.605480Z",
     "start_time": "2021-11-20T18:36:15.651111Z"
    },
    "scrolled": true
   },
   "outputs": [
    {
     "name": "stdout",
     "output_type": "stream",
     "text": [
      "Populating the interactive namespace from numpy and matplotlib\n"
     ]
    }
   ],
   "source": [
    "%pylab inline\n",
    "plt.style.use(\"bmh\")"
   ]
  },
  {
   "cell_type": "code",
   "execution_count": 2,
   "metadata": {
    "ExecuteTime": {
     "end_time": "2021-11-20T18:36:17.247715Z",
     "start_time": "2021-11-20T18:36:17.233753Z"
    }
   },
   "outputs": [],
   "source": [
    "plt.rcParams[\"figure.figsize\"] = (6,6)"
   ]
  },
  {
   "cell_type": "code",
   "execution_count": 3,
   "metadata": {
    "ExecuteTime": {
     "end_time": "2021-11-20T18:36:21.411739Z",
     "start_time": "2021-11-20T18:36:18.235798Z"
    },
    "scrolled": true
   },
   "outputs": [],
   "source": [
    "import numpy as np\n",
    "import pandas as pd\n",
    "import torch"
   ]
  },
  {
   "cell_type": "code",
   "execution_count": 4,
   "metadata": {
    "ExecuteTime": {
     "end_time": "2021-11-20T18:36:22.097921Z",
     "start_time": "2021-11-20T18:36:22.082962Z"
    },
    "tags": [
     "parameters"
    ]
   },
   "outputs": [],
   "source": [
    "STUDENT = \"Jacob Levine\"\n",
    "ASSIGNMENT = \"exam\"\n",
    "TEST = False"
   ]
  },
  {
   "cell_type": "code",
   "execution_count": 5,
   "metadata": {
    "ExecuteTime": {
     "end_time": "2021-11-20T18:36:22.941174Z",
     "start_time": "2021-11-20T18:36:22.924412Z"
    }
   },
   "outputs": [],
   "source": [
    "if TEST:\n",
    "    import solutions\n",
    "    total_grade = 0\n",
    "    MAX_POINTS = 10"
   ]
  },
  {
   "cell_type": "markdown",
   "metadata": {},
   "source": [
    "# NumPy"
   ]
  },
  {
   "cell_type": "markdown",
   "metadata": {},
   "source": [
    "### 1. Filtering array (2 points).\n",
    "\n",
    "Clip array values according to the following:\n",
    "\n",
    "- given a two-dimensional array `arr` and threshold value `max_val`,\n",
    "- find those rows, for which row values sum is `> max_val`,\n",
    "- and replace largest value for each of those rows with `v` $\\rightarrow$ `v - <row sum> + max_val`.\n",
    "\n",
    "For example, consider the following array and threshold `max_val=8`:"
   ]
  },
  {
   "cell_type": "code",
   "execution_count": 6,
   "metadata": {
    "ExecuteTime": {
     "end_time": "2021-11-20T18:36:25.274556Z",
     "start_time": "2021-11-20T18:36:25.263588Z"
    }
   },
   "outputs": [
    {
     "data": {
      "text/plain": [
       "array([[ 1,  5,  4],\n",
       "       [-3,  2,  8]])"
      ]
     },
     "execution_count": 6,
     "metadata": {},
     "output_type": "execute_result"
    }
   ],
   "source": [
    "a = np.array([[1, 5, 4], [-3, 2, 8]])\n",
    "a"
   ]
  },
  {
   "cell_type": "markdown",
   "metadata": {},
   "source": [
    "Row sums are:"
   ]
  },
  {
   "cell_type": "code",
   "execution_count": 7,
   "metadata": {
    "ExecuteTime": {
     "end_time": "2021-11-20T18:36:26.732031Z",
     "start_time": "2021-11-20T18:36:26.721063Z"
    }
   },
   "outputs": [
    {
     "data": {
      "text/plain": [
       "array([10,  7])"
      ]
     },
     "execution_count": 7,
     "metadata": {},
     "output_type": "execute_result"
    }
   ],
   "source": [
    "a.sum(axis=1)"
   ]
  },
  {
   "cell_type": "markdown",
   "metadata": {},
   "source": [
    "Since row sum for row `0` is `> max_val`, largest value in that row (`a[0, 1]`, which is `5`), must be replaced with: `5 - 10 + 8 = 3`, resulting in:"
   ]
  },
  {
   "cell_type": "code",
   "execution_count": 8,
   "metadata": {
    "ExecuteTime": {
     "end_time": "2021-11-20T18:36:28.790835Z",
     "start_time": "2021-11-20T18:36:28.781859Z"
    }
   },
   "outputs": [
    {
     "data": {
      "text/plain": [
       "array([[ 1,  3,  4],\n",
       "       [-3,  2,  8]])"
      ]
     },
     "execution_count": 8,
     "metadata": {},
     "output_type": "execute_result"
    }
   ],
   "source": [
    "a_clipped = np.array([[1, 3, 4], [-3, 2, 8]])\n",
    "a_clipped"
   ]
  },
  {
   "cell_type": "markdown",
   "metadata": {
    "ExecuteTime": {
     "end_time": "2019-12-10T01:08:49.435119Z",
     "start_time": "2019-12-10T01:08:49.429350Z"
    }
   },
   "source": [
    "#### Notes:\n",
    "\n",
    "- **do not change original array**,\n",
    "- in this problem you may need to use **boolean and fancy indexing**, as well as `arr.argmax(...)`,\n",
    "- you **cannot use loops**,\n",
    "- input array is of **any two-dimensional shape** (including `(N,1)` and `(1,N)`), filled with **random integers**,\n",
    "- there may be no rows, which satisfy threshold condition, and in that case resulting array must be identical to input array."
   ]
  },
  {
   "cell_type": "code",
   "execution_count": 9,
   "metadata": {
    "ExecuteTime": {
     "end_time": "2021-11-20T18:36:31.955951Z",
     "start_time": "2021-11-20T18:36:31.942984Z"
    }
   },
   "outputs": [],
   "source": [
    "def clip_array(arr, max_val):\n",
    "    \"\"\"Clip array based on `max_val`.\"\"\"\n",
    "    arr2=arr.copy()\n",
    "    row_filter = arr2.sum(axis=1)>max_val\n",
    "    arr2[row_filter,arr2.argmax(axis=1)[row_filter]]=arr2[row_filter,arr2.argmax(axis=1)[row_filter]]-arr2[row_filter].sum(axis=1)+max_val\n",
    "    return arr2"
   ]
  },
  {
   "cell_type": "code",
   "execution_count": 12,
   "metadata": {
    "ExecuteTime": {
     "end_time": "2021-11-20T18:37:42.148310Z",
     "start_time": "2021-11-20T18:37:42.131306Z"
    }
   },
   "outputs": [],
   "source": [
    "PROBLEM_ID = 1\n",
    "\n",
    "if TEST:\n",
    "    total_grade += solutions.check(STUDENT, PROBLEM_ID, clip_array)"
   ]
  },
  {
   "cell_type": "markdown",
   "metadata": {},
   "source": [
    "### 2. Calculate area (1 point).\n",
    "\n",
    "In this problem you will construct a naive Monte-Carlo simulator. Provided with a 2D bounding box, you must calculate it's area:\n",
    "\n",
    "- a bounding box is specified by maximum and minimum `x` and `y`, i.e. a bounding box is a **rectangle** between `minx` and `maxx` over `x`-axis and between `miny` and `maxy` over `y`-axis,\n",
    "- all of `minx`, `maxx`, `miny`, `maxy` are `>=0` and `<=1`,\n",
    "- you can sample **at most** `n_samples` points on 2D place,\n",
    "- ratio of number of points inside a bounding box to total number of points is an **estimate of bounding box area**,\n",
    "- estimate is considered valid, if it's **no more than 10% off of actual area value**,\n",
    "- `n_samples` is chosen in such a way, that **10% error is achievable nearly always**, i.e. chances of getting more then 10% error with correct computation are negligibly small.\n",
    "\n",
    "For example, a bounding box is `minx=0.25`, `maxx=0.5`, `miny=0.1`, `maxy=0.6`. Actual area is `0.125`. Suppose, that we sample `10000` points in unit square $x \\in [0, 1],\\,y \\in [0, 1]$ and 1215 of them are inside the bounding box. Then, an estimate for the bounding box area is `0.1215` (with error of about 2.8%). Image below illustrates this example.\n",
    "\n",
    "![Monte-Carlo integration example](mc.png)"
   ]
  },
  {
   "cell_type": "code",
   "execution_count": 29,
   "metadata": {
    "ExecuteTime": {
     "end_time": "2021-11-20T18:38:47.353801Z",
     "start_time": "2021-11-20T18:38:47.331780Z"
    }
   },
   "outputs": [],
   "source": [
    "def calc_area(minx, maxx, miny, maxy, n_samples):\n",
    "    \"\"\"Calculate area of bounding box.\"\"\"\n",
    "    a=np.array([np.random.random(n_samples)])\n",
    "    b=np.array([np.random.random(n_samples)])\n",
    "    return np.mean(((a>minx)&(a<maxx)&(b>miny)&(b<maxy)))"
   ]
  },
  {
   "cell_type": "code",
   "execution_count": 30,
   "metadata": {
    "ExecuteTime": {
     "end_time": "2021-11-20T18:38:48.220032Z",
     "start_time": "2021-11-20T18:38:48.207026Z"
    }
   },
   "outputs": [],
   "source": [
    "PROBLEM_ID = 2\n",
    "\n",
    "if TEST:\n",
    "    total_grade += solutions.check(STUDENT, PROBLEM_ID, calc_area)"
   ]
  },
  {
   "cell_type": "markdown",
   "metadata": {},
   "source": [
    "### 3. Find outliers (3 points).\n",
    "\n",
    "Given an array of shape `(N,2)`, filter all the rows, which are more than `thr` away from other rows. Distance metrics is Euclidean, i.e. distance between rows `i` and `j` is (in pseudocode):\n",
    "\n",
    "```\n",
    "distance(i, j) = sqrt(square(arr[i, 0] - arr[j, 0]) + square(arr[i, 1] - arr[j, 1]))\n",
    "```\n",
    "\n",
    "Distance of row `i` from other rows is:\n",
    "\n",
    "```\n",
    "distance(i) = mean(distance(i, j)), j!=i\n",
    "```\n",
    "\n",
    "Rows, which have `distance(i) > thr` must be filtered. In this problem you **cannot use loops**. Instead, use broadcasting (recall recurrence matrix problem in GA-2 and extend it to two-dimensional case).\n",
    "\n",
    "As an example, consider 1000 samples from standard normal distribution for `x` (axis 1) and `y` (axis 0) and threshold of 2:\n",
    "\n",
    "![Outliers filtering](outliers.png)"
   ]
  },
  {
   "cell_type": "code",
   "execution_count": 36,
   "metadata": {
    "ExecuteTime": {
     "end_time": "2021-11-20T18:43:37.797377Z",
     "start_time": "2021-11-20T18:43:37.779425Z"
    }
   },
   "outputs": [],
   "source": [
    "def find_outliers(arr, thr):\n",
    "    n=arr.shape[0]\n",
    "\n",
    "    distances = np.sqrt(np.square(np.expand_dims(arr[:,0],-1)-arr[:,0])+np.square(np.expand_dims(arr[:,1],-1)-arr[:,1]))\n",
    "\n",
    "    total_distance = distances.mean(axis=0)*(n+1)/n\n",
    "\n",
    "\n",
    "    return arr[total_distance>thr]"
   ]
  },
  {
   "cell_type": "code",
   "execution_count": 37,
   "metadata": {
    "ExecuteTime": {
     "end_time": "2021-11-20T18:43:38.378690Z",
     "start_time": "2021-11-20T18:43:38.365223Z"
    }
   },
   "outputs": [],
   "source": [
    "PROBLEM_ID = 3\n",
    "\n",
    "if TEST:\n",
    "    total_grade += solutions.check(STUDENT, PROBLEM_ID, find_outliers)"
   ]
  },
  {
   "cell_type": "markdown",
   "metadata": {},
   "source": [
    "# PyTorch"
   ]
  },
  {
   "cell_type": "markdown",
   "metadata": {},
   "source": [
    "### 4. SImple derivative (1 point).\n",
    "\n",
    "Given some value of `x0`, calculate a derivative of sigmoid function at that point. Input is a single floating point value. Output must also be a single floating point value (not a tensor!) equal to derivative of $\\sigma(x)$ at `x0`.\n",
    "\n",
    "Do not use the exact formula for the derivative, but use PyTorch `.backward()`."
   ]
  },
  {
   "cell_type": "code",
   "execution_count": 38,
   "metadata": {
    "ExecuteTime": {
     "end_time": "2021-11-20T18:44:00.032178Z",
     "start_time": "2021-11-20T18:44:00.020197Z"
    }
   },
   "outputs": [],
   "source": [
    "def d_sigmoid(x0):\n",
    "    x0=torch.tensor(x0,requires_grad=True)\n",
    "    def sigmoid(a):\n",
    "        \"\"\"Sigmoid activation function.\"\"\"\n",
    "\n",
    "        return 1/(1 + (-a).exp())\n",
    "    c=sigmoid(x0)\n",
    "    c.backward()\n",
    "    return x0.grad.item()"
   ]
  },
  {
   "cell_type": "code",
   "execution_count": 45,
   "metadata": {
    "ExecuteTime": {
     "end_time": "2021-11-20T18:45:04.634494Z",
     "start_time": "2021-11-20T18:45:04.618185Z"
    }
   },
   "outputs": [],
   "source": [
    "PROBLEM_ID = 4\n",
    "\n",
    "if TEST:\n",
    "    total_grade += solutions.check(STUDENT, PROBLEM_ID, d_sigmoid)"
   ]
  },
  {
   "cell_type": "markdown",
   "metadata": {},
   "source": [
    "# Pandas"
   ]
  },
  {
   "cell_type": "markdown",
   "metadata": {},
   "source": [
    "### 5. Ratio of males travelling alone per class (1 point).\n",
    "\n",
    "Given the Titanic dataset, calculate ratio of males travelling alove (`SipSp==0` and `Parch==0`) per class. In other words, calculate number of males travelling alone in each class, divided by number of passengers in that class.\n",
    "\n",
    "Input is indexed with `PassengerId` and is a concatenation of train and test sets. Output must be a series, indexed by class, containing the requested ratios."
   ]
  },
  {
   "cell_type": "code",
   "execution_count": 46,
   "metadata": {
    "ExecuteTime": {
     "end_time": "2021-11-20T18:45:09.575063Z",
     "start_time": "2021-11-20T18:45:09.560103Z"
    }
   },
   "outputs": [],
   "source": [
    "def lone_males(df):\n",
    "    titanic=df.copy()\n",
    "    titanic['alone']=((titanic.SibSp==0)&(titanic.Parch==0)&(titanic.Sex=='male'))\n",
    "    return titanic.groupby('Pclass').alone.mean()"
   ]
  },
  {
   "cell_type": "code",
   "execution_count": 47,
   "metadata": {
    "ExecuteTime": {
     "end_time": "2021-11-20T18:45:31.195216Z",
     "start_time": "2021-11-20T18:45:31.179994Z"
    }
   },
   "outputs": [],
   "source": [
    "PROBLEM_ID = 5\n",
    "\n",
    "if TEST:\n",
    "    total_grade += solutions.check(STUDENT, PROBLEM_ID, lone_males)"
   ]
  },
  {
   "cell_type": "markdown",
   "metadata": {},
   "source": [
    "### 6. Worst days on UK roads in 2005 (2 points).\n",
    "\n",
    "Calculate Top-5 days with the largest number of severe accidents (`Accident_Severity < 3`).\n",
    "\n",
    "Input is a **dataframe**, containing all the accidents in 2005 and the following columns: `date_time` (constructed in the same way, as in optional time series notebook) and `Accident_Severity`. Index is a default integer index. Result must be a list (or tuple) of dates (as a `pd.Timestamp`) with 5 elements."
   ]
  },
  {
   "cell_type": "code",
   "execution_count": 48,
   "metadata": {
    "ExecuteTime": {
     "end_time": "2021-11-20T18:45:51.197901Z",
     "start_time": "2021-11-20T18:45:51.190920Z"
    }
   },
   "outputs": [],
   "source": [
    "def worst_days(df):\n",
    "    a_list =[]\n",
    "    top_5= df.query('Accident_Severity< 3').date_time.dt.date.value_counts().head(5).index\n",
    "    for i in top_5:\n",
    "        a_list.append(pd.Timestamp(i))\n",
    "    return a_list\n"
   ]
  },
  {
   "cell_type": "code",
   "execution_count": 49,
   "metadata": {
    "ExecuteTime": {
     "end_time": "2021-11-20T18:45:52.250047Z",
     "start_time": "2021-11-20T18:45:52.245065Z"
    }
   },
   "outputs": [],
   "source": [
    "PROBLEM_ID = 6\n",
    "\n",
    "if TEST:\n",
    "    total_grade += solutions.check(STUDENT, PROBLEM_ID, worst_days)"
   ]
  },
  {
   "cell_type": "code",
   "execution_count": 50,
   "metadata": {
    "ExecuteTime": {
     "end_time": "2021-11-20T18:45:54.512837Z",
     "start_time": "2021-11-20T18:45:54.507854Z"
    }
   },
   "outputs": [],
   "source": [
    "if TEST:\n",
    "    print(f\"{STUDENT}: {int(100 * total_grade / MAX_POINTS)}\")"
   ]
  },
  {
   "cell_type": "code",
   "execution_count": null,
   "metadata": {},
   "outputs": [],
   "source": []
  }
 ],
 "metadata": {
  "@webio": {
   "lastCommId": null,
   "lastKernelId": null
  },
  "celltoolbar": "Tags",
  "kernelspec": {
   "display_name": "Python 3",
   "language": "python",
   "name": "python3"
  },
  "language_info": {
   "codemirror_mode": {
    "name": "ipython",
    "version": 3
   },
   "file_extension": ".py",
   "mimetype": "text/x-python",
   "name": "python",
   "nbconvert_exporter": "python",
   "pygments_lexer": "ipython3",
   "version": "3.7.4"
  },
  "toc": {
   "base_numbering": 1,
   "nav_menu": {},
   "number_sections": true,
   "sideBar": true,
   "skip_h1_title": false,
   "title_cell": "Table of Contents",
   "title_sidebar": "Contents",
   "toc_cell": false,
   "toc_position": {},
   "toc_section_display": true,
   "toc_window_display": false
  }
 },
 "nbformat": 4,
 "nbformat_minor": 2
}
