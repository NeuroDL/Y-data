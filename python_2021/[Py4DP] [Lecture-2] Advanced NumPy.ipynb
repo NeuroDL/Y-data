{
 "cells": [
  {
   "cell_type": "markdown",
   "metadata": {},
   "source": [
    "# Advanced NumPy"
   ]
  },
  {
   "cell_type": "markdown",
   "metadata": {},
   "source": [
    "## `numpy` internals"
   ]
  },
  {
   "cell_type": "code",
   "execution_count": 1,
   "metadata": {
    "ExecuteTime": {
     "end_time": "2021-10-19T16:24:07.876878Z",
     "start_time": "2021-10-19T16:24:07.764239Z"
    }
   },
   "outputs": [],
   "source": [
    "import numpy as np\n",
    "np.random.seed(2374)"
   ]
  },
  {
   "cell_type": "code",
   "execution_count": 2,
   "metadata": {
    "ExecuteTime": {
     "end_time": "2021-10-19T16:24:08.307167Z",
     "start_time": "2021-10-19T16:24:08.291167Z"
    }
   },
   "outputs": [],
   "source": [
    "arr = np.random.randint(10, size=(8,8))"
   ]
  },
  {
   "cell_type": "markdown",
   "metadata": {},
   "source": [
    "Information about array elements:"
   ]
  },
  {
   "cell_type": "code",
   "execution_count": 3,
   "metadata": {
    "ExecuteTime": {
     "end_time": "2021-10-19T16:36:59.059602Z",
     "start_time": "2021-10-19T16:36:59.035561Z"
    }
   },
   "outputs": [
    {
     "data": {
      "text/plain": [
       "(4, dtype('int32'))"
      ]
     },
     "execution_count": 3,
     "metadata": {},
     "output_type": "execute_result"
    }
   ],
   "source": [
    "arr.itemsize, arr.dtype"
   ]
  },
  {
   "cell_type": "code",
   "execution_count": 5,
   "metadata": {
    "ExecuteTime": {
     "end_time": "2021-10-19T16:37:46.529969Z",
     "start_time": "2021-10-19T16:37:46.513945Z"
    }
   },
   "outputs": [
    {
     "data": {
      "text/plain": [
       "array([[5, 7, 6, 8, 2, 9, 2, 0],\n",
       "       [3, 1, 5, 8, 7, 5, 3, 1],\n",
       "       [8, 6, 9, 3, 3, 5, 1, 2],\n",
       "       [0, 7, 5, 7, 1, 2, 8, 1],\n",
       "       [4, 3, 9, 5, 2, 4, 5, 2],\n",
       "       [8, 4, 8, 7, 8, 9, 2, 2],\n",
       "       [9, 8, 7, 4, 7, 3, 8, 2],\n",
       "       [0, 3, 6, 6, 4, 0, 9, 4]])"
      ]
     },
     "execution_count": 5,
     "metadata": {},
     "output_type": "execute_result"
    }
   ],
   "source": [
    "arr"
   ]
  },
  {
   "cell_type": "markdown",
   "metadata": {},
   "source": [
    "How to step through array memory? Using `strides` property:"
   ]
  },
  {
   "cell_type": "code",
   "execution_count": 7,
   "metadata": {
    "ExecuteTime": {
     "end_time": "2021-10-19T16:38:46.393078Z",
     "start_time": "2021-10-19T16:38:46.377039Z"
    }
   },
   "outputs": [
    {
     "data": {
      "text/plain": [
       "(32, 4)"
      ]
     },
     "execution_count": 7,
     "metadata": {},
     "output_type": "execute_result"
    }
   ],
   "source": [
    "arr.strides"
   ]
  },
  {
   "cell_type": "markdown",
   "metadata": {},
   "source": [
    "I. e. `arr[0, 1]` is 8 bytes away from `arr[0, 0]` (one step along axis `1`), while `arr[1, 0]` is 64 bytes away from `arr[0, 0]` (one step along axis `0`)."
   ]
  },
  {
   "cell_type": "code",
   "execution_count": 8,
   "metadata": {
    "ExecuteTime": {
     "end_time": "2021-10-19T16:38:57.849923Z",
     "start_time": "2021-10-19T16:38:57.833925Z"
    }
   },
   "outputs": [
    {
     "data": {
      "text/plain": [
       "True"
      ]
     },
     "execution_count": 8,
     "metadata": {},
     "output_type": "execute_result"
    }
   ],
   "source": [
    "arr.strides[0] == arr.shape[1] * arr.itemsize"
   ]
  },
  {
   "cell_type": "markdown",
   "metadata": {},
   "source": [
    "But what about views?"
   ]
  },
  {
   "cell_type": "code",
   "execution_count": 9,
   "metadata": {
    "ExecuteTime": {
     "end_time": "2021-10-19T16:39:11.221494Z",
     "start_time": "2021-10-19T16:39:11.205494Z"
    }
   },
   "outputs": [],
   "source": [
    "arr_view = arr[::2, 1:]"
   ]
  },
  {
   "cell_type": "code",
   "execution_count": 10,
   "metadata": {
    "ExecuteTime": {
     "end_time": "2021-10-19T16:39:14.772316Z",
     "start_time": "2021-10-19T16:39:14.756278Z"
    }
   },
   "outputs": [
    {
     "data": {
      "text/plain": [
       "array([[5, 7, 6, 8, 2, 9, 2, 0],\n",
       "       [3, 1, 5, 8, 7, 5, 3, 1],\n",
       "       [8, 6, 9, 3, 3, 5, 1, 2],\n",
       "       [0, 7, 5, 7, 1, 2, 8, 1],\n",
       "       [4, 3, 9, 5, 2, 4, 5, 2],\n",
       "       [8, 4, 8, 7, 8, 9, 2, 2],\n",
       "       [9, 8, 7, 4, 7, 3, 8, 2],\n",
       "       [0, 3, 6, 6, 4, 0, 9, 4]])"
      ]
     },
     "execution_count": 10,
     "metadata": {},
     "output_type": "execute_result"
    }
   ],
   "source": [
    "arr"
   ]
  },
  {
   "cell_type": "code",
   "execution_count": 11,
   "metadata": {
    "ExecuteTime": {
     "end_time": "2021-10-19T16:39:17.479474Z",
     "start_time": "2021-10-19T16:39:17.463438Z"
    }
   },
   "outputs": [
    {
     "data": {
      "text/plain": [
       "array([[7, 6, 8, 2, 9, 2, 0],\n",
       "       [6, 9, 3, 3, 5, 1, 2],\n",
       "       [3, 9, 5, 2, 4, 5, 2],\n",
       "       [8, 7, 4, 7, 3, 8, 2]])"
      ]
     },
     "execution_count": 11,
     "metadata": {},
     "output_type": "execute_result"
    }
   ],
   "source": [
    "arr_view"
   ]
  },
  {
   "cell_type": "markdown",
   "metadata": {},
   "source": [
    "Information about underlying array structure:"
   ]
  },
  {
   "cell_type": "code",
   "execution_count": 34,
   "metadata": {
    "ExecuteTime": {
     "end_time": "2021-10-19T16:52:27.967970Z",
     "start_time": "2021-10-19T16:52:27.959963Z"
    }
   },
   "outputs": [
    {
     "data": {
      "text/plain": [
       "  C_CONTIGUOUS : True\n",
       "  F_CONTIGUOUS : False\n",
       "  OWNDATA : True\n",
       "  WRITEABLE : True\n",
       "  ALIGNED : True\n",
       "  WRITEBACKIFCOPY : False\n",
       "  UPDATEIFCOPY : False"
      ]
     },
     "execution_count": 34,
     "metadata": {},
     "output_type": "execute_result"
    }
   ],
   "source": [
    "arr.flags"
   ]
  },
  {
   "cell_type": "code",
   "execution_count": 13,
   "metadata": {
    "ExecuteTime": {
     "end_time": "2021-10-19T16:40:02.342213Z",
     "start_time": "2021-10-19T16:40:02.334176Z"
    }
   },
   "outputs": [
    {
     "data": {
      "text/plain": [
       "  C_CONTIGUOUS : False\n",
       "  F_CONTIGUOUS : False\n",
       "  OWNDATA : False\n",
       "  WRITEABLE : True\n",
       "  ALIGNED : True\n",
       "  WRITEBACKIFCOPY : False\n",
       "  UPDATEIFCOPY : False"
      ]
     },
     "execution_count": 13,
     "metadata": {},
     "output_type": "execute_result"
    }
   ],
   "source": [
    "arr_view.flags"
   ]
  },
  {
   "cell_type": "markdown",
   "metadata": {},
   "source": [
    "Views always have base array:"
   ]
  },
  {
   "cell_type": "code",
   "execution_count": 15,
   "metadata": {
    "ExecuteTime": {
     "end_time": "2021-10-19T16:43:28.547758Z",
     "start_time": "2021-10-19T16:43:28.539760Z"
    }
   },
   "outputs": [
    {
     "data": {
      "text/plain": [
       "array([[5, 7, 6, 8, 2, 9, 2, 0],\n",
       "       [3, 1, 5, 8, 7, 5, 3, 1],\n",
       "       [8, 6, 9, 3, 3, 5, 1, 2],\n",
       "       [0, 7, 5, 7, 1, 2, 8, 1],\n",
       "       [4, 3, 9, 5, 2, 4, 5, 2],\n",
       "       [8, 4, 8, 7, 8, 9, 2, 2],\n",
       "       [9, 8, 7, 4, 7, 3, 8, 2],\n",
       "       [0, 3, 6, 6, 4, 0, 9, 4]])"
      ]
     },
     "execution_count": 15,
     "metadata": {},
     "output_type": "execute_result"
    }
   ],
   "source": [
    "arr_view.base"
   ]
  },
  {
   "cell_type": "code",
   "execution_count": 16,
   "metadata": {
    "ExecuteTime": {
     "end_time": "2021-10-19T16:43:39.902168Z",
     "start_time": "2021-10-19T16:43:39.886170Z"
    }
   },
   "outputs": [],
   "source": [
    "arr.base"
   ]
  },
  {
   "cell_type": "code",
   "execution_count": 17,
   "metadata": {
    "ExecuteTime": {
     "end_time": "2021-10-19T16:43:42.550579Z",
     "start_time": "2021-10-19T16:43:42.542549Z"
    }
   },
   "outputs": [
    {
     "data": {
      "text/plain": [
       "True"
      ]
     },
     "execution_count": 17,
     "metadata": {},
     "output_type": "execute_result"
    }
   ],
   "source": [
    "arr_view.base is arr"
   ]
  },
  {
   "cell_type": "markdown",
   "metadata": {},
   "source": [
    "`strides` are provided with respect to the **underlying data** (which is the same between original array `arr` and view array `arr_view`!):"
   ]
  },
  {
   "cell_type": "code",
   "execution_count": 18,
   "metadata": {
    "ExecuteTime": {
     "end_time": "2021-10-19T16:44:05.384072Z",
     "start_time": "2021-10-19T16:44:05.368073Z"
    }
   },
   "outputs": [
    {
     "data": {
      "text/plain": [
       "(64, 4)"
      ]
     },
     "execution_count": 18,
     "metadata": {},
     "output_type": "execute_result"
    }
   ],
   "source": [
    "arr_view.strides"
   ]
  },
  {
   "cell_type": "code",
   "execution_count": 19,
   "metadata": {
    "ExecuteTime": {
     "end_time": "2021-10-19T16:45:32.521245Z",
     "start_time": "2021-10-19T16:45:32.513245Z"
    }
   },
   "outputs": [
    {
     "data": {
      "text/plain": [
       "(4, 7)"
      ]
     },
     "execution_count": 19,
     "metadata": {},
     "output_type": "execute_result"
    }
   ],
   "source": [
    "arr_view.shape"
   ]
  },
  {
   "cell_type": "markdown",
   "metadata": {},
   "source": [
    "Since view is not contiguous, this relation is not True anymore:"
   ]
  },
  {
   "cell_type": "code",
   "execution_count": 20,
   "metadata": {
    "ExecuteTime": {
     "end_time": "2021-10-19T16:45:51.010639Z",
     "start_time": "2021-10-19T16:45:50.994641Z"
    }
   },
   "outputs": [
    {
     "data": {
      "text/plain": [
       "False"
      ]
     },
     "execution_count": 20,
     "metadata": {},
     "output_type": "execute_result"
    }
   ],
   "source": [
    "arr_view.strides[0] == arr_view.shape[1] * arr_view.itemsize"
   ]
  },
  {
   "cell_type": "markdown",
   "metadata": {},
   "source": [
    "Also, view starts not from byte 0 of the data, but steps 8 bytes inside the data:"
   ]
  },
  {
   "cell_type": "code",
   "execution_count": 21,
   "metadata": {
    "ExecuteTime": {
     "end_time": "2021-10-19T16:46:54.452097Z",
     "start_time": "2021-10-19T16:46:54.436098Z"
    }
   },
   "outputs": [
    {
     "data": {
      "text/plain": [
       "4"
      ]
     },
     "execution_count": 21,
     "metadata": {},
     "output_type": "execute_result"
    }
   ],
   "source": [
    "np.byte_bounds(arr_view)[0] - np.byte_bounds(arr)[0]"
   ]
  },
  {
   "cell_type": "code",
   "execution_count": 22,
   "metadata": {
    "ExecuteTime": {
     "end_time": "2021-10-19T16:47:09.446105Z",
     "start_time": "2021-10-19T16:47:09.430106Z"
    }
   },
   "outputs": [
    {
     "data": {
      "text/plain": [
       "(2395943543684, 2395943543904)"
      ]
     },
     "execution_count": 22,
     "metadata": {},
     "output_type": "execute_result"
    }
   ],
   "source": [
    "np.byte_bounds(arr_view)"
   ]
  },
  {
   "cell_type": "code",
   "execution_count": 23,
   "metadata": {
    "ExecuteTime": {
     "end_time": "2021-10-19T16:47:20.736585Z",
     "start_time": "2021-10-19T16:47:20.728585Z"
    }
   },
   "outputs": [
    {
     "data": {
      "text/plain": [
       "-32"
      ]
     },
     "execution_count": 23,
     "metadata": {},
     "output_type": "execute_result"
    }
   ],
   "source": [
    "np.byte_bounds(arr_view)[1] - np.byte_bounds(arr)[1]"
   ]
  },
  {
   "cell_type": "code",
   "execution_count": 24,
   "metadata": {
    "ExecuteTime": {
     "end_time": "2021-10-19T16:47:54.780922Z",
     "start_time": "2021-10-19T16:47:54.764920Z"
    }
   },
   "outputs": [
    {
     "data": {
      "text/plain": [
       "array([[5, 7, 6, 8, 2, 9, 2, 0],\n",
       "       [3, 1, 5, 8, 7, 5, 3, 1],\n",
       "       [8, 6, 9, 3, 3, 5, 1, 2],\n",
       "       [0, 7, 5, 7, 1, 2, 8, 1],\n",
       "       [4, 3, 9, 5, 2, 4, 5, 2],\n",
       "       [8, 4, 8, 7, 8, 9, 2, 2],\n",
       "       [9, 8, 7, 4, 7, 3, 8, 2],\n",
       "       [0, 3, 6, 6, 4, 0, 9, 4]])"
      ]
     },
     "execution_count": 24,
     "metadata": {},
     "output_type": "execute_result"
    }
   ],
   "source": [
    "arr"
   ]
  },
  {
   "cell_type": "code",
   "execution_count": 25,
   "metadata": {
    "ExecuteTime": {
     "end_time": "2021-10-19T16:48:10.735712Z",
     "start_time": "2021-10-19T16:48:10.727678Z"
    }
   },
   "outputs": [
    {
     "data": {
      "text/plain": [
       "array([[7, 6, 8, 2, 9, 2, 0],\n",
       "       [6, 9, 3, 3, 5, 1, 2],\n",
       "       [3, 9, 5, 2, 4, 5, 2],\n",
       "       [8, 7, 4, 7, 3, 8, 2]])"
      ]
     },
     "execution_count": 25,
     "metadata": {},
     "output_type": "execute_result"
    }
   ],
   "source": [
    "arr_view"
   ]
  },
  {
   "cell_type": "code",
   "execution_count": 26,
   "metadata": {
    "ExecuteTime": {
     "end_time": "2021-10-19T16:48:11.702901Z",
     "start_time": "2021-10-19T16:48:11.694902Z"
    }
   },
   "outputs": [
    {
     "data": {
      "text/plain": [
       "(64, 4)"
      ]
     },
     "execution_count": 26,
     "metadata": {},
     "output_type": "execute_result"
    }
   ],
   "source": [
    "arr_view.strides"
   ]
  },
  {
   "cell_type": "code",
   "execution_count": 27,
   "metadata": {
    "ExecuteTime": {
     "end_time": "2021-10-19T16:48:16.391853Z",
     "start_time": "2021-10-19T16:48:16.383817Z"
    }
   },
   "outputs": [
    {
     "data": {
      "text/plain": [
       "array([[5, 3, 8, 0, 4, 8, 9, 0],\n",
       "       [7, 1, 6, 7, 3, 4, 8, 3],\n",
       "       [6, 5, 9, 5, 9, 8, 7, 6],\n",
       "       [8, 8, 3, 7, 5, 7, 4, 6],\n",
       "       [2, 7, 3, 1, 2, 8, 7, 4],\n",
       "       [9, 5, 5, 2, 4, 9, 3, 0],\n",
       "       [2, 3, 1, 8, 5, 2, 8, 9],\n",
       "       [0, 1, 2, 1, 2, 2, 2, 4]])"
      ]
     },
     "execution_count": 27,
     "metadata": {},
     "output_type": "execute_result"
    }
   ],
   "source": [
    "arr.T"
   ]
  },
  {
   "cell_type": "code",
   "execution_count": 29,
   "metadata": {
    "ExecuteTime": {
     "end_time": "2021-10-19T16:48:57.204549Z",
     "start_time": "2021-10-19T16:48:57.196517Z"
    }
   },
   "outputs": [
    {
     "data": {
      "text/plain": [
       "((4, 32), (32, 4))"
      ]
     },
     "execution_count": 29,
     "metadata": {},
     "output_type": "execute_result"
    }
   ],
   "source": [
    "arr.T.strides,arr.strides"
   ]
  },
  {
   "cell_type": "markdown",
   "metadata": {},
   "source": [
    "Transpose reports similar strides, is it a view?"
   ]
  },
  {
   "cell_type": "code",
   "execution_count": 31,
   "metadata": {
    "ExecuteTime": {
     "end_time": "2021-10-19T16:49:33.706480Z",
     "start_time": "2021-10-19T16:49:33.690443Z"
    }
   },
   "outputs": [
    {
     "data": {
      "text/plain": [
       "((4, 64), (64, 4))"
      ]
     },
     "execution_count": 31,
     "metadata": {},
     "output_type": "execute_result"
    }
   ],
   "source": [
    "arr_view.T.strides,arr_view.strides"
   ]
  },
  {
   "cell_type": "code",
   "execution_count": 32,
   "metadata": {
    "ExecuteTime": {
     "end_time": "2021-10-19T16:50:30.560199Z",
     "start_time": "2021-10-19T16:50:30.544201Z"
    }
   },
   "outputs": [
    {
     "data": {
      "text/plain": [
       "True"
      ]
     },
     "execution_count": 32,
     "metadata": {},
     "output_type": "execute_result"
    }
   ],
   "source": [
    "arr_view.T[::2, 1:].base is arr"
   ]
  },
  {
   "cell_type": "markdown",
   "metadata": {},
   "source": [
    "### Creating views manually"
   ]
  },
  {
   "cell_type": "code",
   "execution_count": 35,
   "metadata": {
    "ExecuteTime": {
     "end_time": "2021-10-19T16:52:39.819402Z",
     "start_time": "2021-10-19T16:52:39.803402Z"
    }
   },
   "outputs": [
    {
     "data": {
      "text/plain": [
       "array([[5, 7, 6, 8, 2, 9, 2, 0],\n",
       "       [3, 1, 5, 8, 7, 5, 3, 1],\n",
       "       [8, 6, 9, 3, 3, 5, 1, 2],\n",
       "       [0, 7, 5, 7, 1, 2, 8, 1],\n",
       "       [4, 3, 9, 5, 2, 4, 5, 2],\n",
       "       [8, 4, 8, 7, 8, 9, 2, 2],\n",
       "       [9, 8, 7, 4, 7, 3, 8, 2],\n",
       "       [0, 3, 6, 6, 4, 0, 9, 4]])"
      ]
     },
     "execution_count": 35,
     "metadata": {},
     "output_type": "execute_result"
    }
   ],
   "source": [
    "arr"
   ]
  },
  {
   "cell_type": "markdown",
   "metadata": {},
   "source": [
    "Take memory, associated with `arr`:"
   ]
  },
  {
   "cell_type": "code",
   "execution_count": 36,
   "metadata": {
    "ExecuteTime": {
     "end_time": "2021-10-19T16:52:42.691950Z",
     "start_time": "2021-10-19T16:52:42.683947Z"
    }
   },
   "outputs": [
    {
     "data": {
      "text/plain": [
       "<memory at 0x0000022DD9DDF828>"
      ]
     },
     "execution_count": 36,
     "metadata": {},
     "output_type": "execute_result"
    }
   ],
   "source": [
    "arr.data"
   ]
  },
  {
   "cell_type": "markdown",
   "metadata": {},
   "source": [
    "Create a new array, poiting to the same memory:"
   ]
  },
  {
   "cell_type": "code",
   "execution_count": 37,
   "metadata": {
    "ExecuteTime": {
     "end_time": "2021-10-19T16:53:17.110159Z",
     "start_time": "2021-10-19T16:53:17.094117Z"
    }
   },
   "outputs": [
    {
     "data": {
      "text/plain": [
       "array([[5, 7, 6, 8, 2, 9, 2, 0],\n",
       "       [3, 1, 5, 8, 7, 5, 3, 1],\n",
       "       [8, 6, 9, 3, 3, 5, 1, 2],\n",
       "       [0, 7, 5, 7, 1, 2, 8, 1],\n",
       "       [4, 3, 9, 5, 2, 4, 5, 2],\n",
       "       [8, 4, 8, 7, 8, 9, 2, 2],\n",
       "       [9, 8, 7, 4, 7, 3, 8, 2],\n",
       "       [0, 3, 6, 6, 4, 0, 9, 4]])"
      ]
     },
     "execution_count": 37,
     "metadata": {},
     "output_type": "execute_result"
    }
   ],
   "source": [
    "np.ndarray(buffer=arr.data, shape=arr.shape, dtype=arr.dtype)"
   ]
  },
  {
   "cell_type": "markdown",
   "metadata": {},
   "source": [
    "Create a new *view* pointing to the same memory:"
   ]
  },
  {
   "cell_type": "code",
   "execution_count": 40,
   "metadata": {
    "ExecuteTime": {
     "end_time": "2021-10-19T16:54:45.608755Z",
     "start_time": "2021-10-19T16:54:45.592716Z"
    }
   },
   "outputs": [
    {
     "data": {
      "text/plain": [
       "array([[5, 6, 2, 2, 3, 5, 7, 3],\n",
       "       [8, 9, 3, 1, 0, 5, 1, 8],\n",
       "       [4, 9, 2, 5, 8, 8, 8, 2],\n",
       "       [9, 7, 7, 8, 0, 6, 4, 9]])"
      ]
     },
     "execution_count": 40,
     "metadata": {},
     "output_type": "execute_result"
    }
   ],
   "source": [
    "np.ndarray(buffer=arr.data, shape=(4, 8), dtype=arr.dtype, strides=(64, 8))"
   ]
  },
  {
   "cell_type": "code",
   "execution_count": 43,
   "metadata": {
    "ExecuteTime": {
     "end_time": "2021-10-19T16:58:40.615274Z",
     "start_time": "2021-10-19T16:58:40.599239Z"
    }
   },
   "outputs": [
    {
     "data": {
      "text/plain": [
       "True"
      ]
     },
     "execution_count": 43,
     "metadata": {},
     "output_type": "execute_result"
    }
   ],
   "source": [
    "np.ndarray(buffer=arr.data, shape=(4, 8), dtype=arr.dtype, strides=(64, 8)).base is arr"
   ]
  },
  {
   "cell_type": "markdown",
   "metadata": {},
   "source": [
    "## Cache effects"
   ]
  },
  {
   "cell_type": "code",
   "execution_count": 44,
   "metadata": {
    "ExecuteTime": {
     "end_time": "2021-10-19T16:58:49.074419Z",
     "start_time": "2021-10-19T16:58:49.058411Z"
    }
   },
   "outputs": [],
   "source": [
    "large_arr = np.random.randint(100, size=(1000000,))"
   ]
  },
  {
   "cell_type": "code",
   "execution_count": 46,
   "metadata": {
    "ExecuteTime": {
     "end_time": "2021-10-19T16:58:55.607215Z",
     "start_time": "2021-10-19T16:58:55.599181Z"
    }
   },
   "outputs": [
    {
     "data": {
      "text/plain": [
       "((4000000,), (1000000,))"
      ]
     },
     "execution_count": 46,
     "metadata": {},
     "output_type": "execute_result"
    }
   ],
   "source": [
    "larger_arr.shape, large_arr.shape"
   ]
  },
  {
   "cell_type": "code",
   "execution_count": 47,
   "metadata": {
    "ExecuteTime": {
     "end_time": "2021-10-19T16:59:38.803743Z",
     "start_time": "2021-10-19T16:59:38.685605Z"
    }
   },
   "outputs": [
    {
     "name": "stdout",
     "output_type": "stream",
     "text": [
      "346 µs ± 44.5 µs per loop (mean ± std. dev. of 3 runs, 100 loops each)\n"
     ]
    }
   ],
   "source": [
    "%timeit -n 100 -r 3 large_arr.sum()"
   ]
  },
  {
   "cell_type": "code",
   "execution_count": 50,
   "metadata": {
    "ExecuteTime": {
     "end_time": "2021-10-19T17:02:01.990823Z",
     "start_time": "2021-10-19T17:02:01.484704Z"
    }
   },
   "outputs": [
    {
     "name": "stdout",
     "output_type": "stream",
     "text": [
      "1.64 ms ± 73.7 µs per loop (mean ± std. dev. of 3 runs, 100 loops each)\n"
     ]
    }
   ],
   "source": [
    "%timeit -n 100 -r 3 larger_arr[::STEP].sum()"
   ]
  },
  {
   "cell_type": "code",
   "execution_count": null,
   "metadata": {},
   "outputs": [],
   "source": []
  },
  {
   "cell_type": "code",
   "execution_count": 55,
   "metadata": {
    "ExecuteTime": {
     "end_time": "2021-10-19T17:27:48.699232Z",
     "start_time": "2021-10-19T17:27:48.683190Z"
    }
   },
   "outputs": [],
   "source": [
    "del large_arr, larger_arr"
   ]
  },
  {
   "cell_type": "code",
   "execution_count": 56,
   "metadata": {
    "ExecuteTime": {
     "end_time": "2021-10-19T17:27:49.615754Z",
     "start_time": "2021-10-19T17:27:49.283970Z"
    }
   },
   "outputs": [],
   "source": [
    "large_arr = np.random.randint(100, size=(5, 10000000))"
   ]
  },
  {
   "cell_type": "code",
   "execution_count": 57,
   "metadata": {
    "ExecuteTime": {
     "end_time": "2021-10-19T17:27:50.577250Z",
     "start_time": "2021-10-19T17:27:50.561251Z"
    }
   },
   "outputs": [
    {
     "data": {
      "text/plain": [
       "190"
      ]
     },
     "execution_count": 57,
     "metadata": {},
     "output_type": "execute_result"
    }
   ],
   "source": [
    "large_arr.nbytes // (1024*1024)"
   ]
  },
  {
   "cell_type": "code",
   "execution_count": 58,
   "metadata": {
    "ExecuteTime": {
     "end_time": "2021-10-19T17:28:01.303233Z",
     "start_time": "2021-10-19T17:28:01.287207Z"
    }
   },
   "outputs": [
    {
     "data": {
      "text/plain": [
       "array([[77, 70, 20, ..., 80, 44, 53],\n",
       "       [97, 22, 75, ..., 78, 98, 74],\n",
       "       [ 5, 49, 96, ..., 75, 39, 40],\n",
       "       [11, 20, 60, ..., 51, 50, 43],\n",
       "       [87, 67, 54, ..., 17, 42, 25]])"
      ]
     },
     "execution_count": 58,
     "metadata": {},
     "output_type": "execute_result"
    }
   ],
   "source": [
    "large_arr"
   ]
  },
  {
   "cell_type": "code",
   "execution_count": 59,
   "metadata": {
    "ExecuteTime": {
     "end_time": "2021-10-19T17:28:02.054963Z",
     "start_time": "2021-10-19T17:28:02.046924Z"
    }
   },
   "outputs": [
    {
     "data": {
      "text/plain": [
       "array([[77, 97,  5, 11, 87],\n",
       "       [70, 22, 49, 20, 67],\n",
       "       [20, 75, 96, 60, 54],\n",
       "       ...,\n",
       "       [80, 78, 75, 51, 17],\n",
       "       [44, 98, 39, 50, 42],\n",
       "       [53, 74, 40, 43, 25]])"
      ]
     },
     "execution_count": 59,
     "metadata": {},
     "output_type": "execute_result"
    }
   ],
   "source": [
    "large_arr.T"
   ]
  },
  {
   "cell_type": "code",
   "execution_count": 60,
   "metadata": {
    "ExecuteTime": {
     "end_time": "2021-10-19T17:28:06.602160Z",
     "start_time": "2021-10-19T17:28:06.586134Z"
    }
   },
   "outputs": [
    {
     "data": {
      "text/plain": [
       "  C_CONTIGUOUS : False\n",
       "  F_CONTIGUOUS : True\n",
       "  OWNDATA : False\n",
       "  WRITEABLE : True\n",
       "  ALIGNED : True\n",
       "  WRITEBACKIFCOPY : False\n",
       "  UPDATEIFCOPY : False"
      ]
     },
     "execution_count": 60,
     "metadata": {},
     "output_type": "execute_result"
    }
   ],
   "source": [
    "large_arr.T.flags"
   ]
  },
  {
   "cell_type": "code",
   "execution_count": 61,
   "metadata": {
    "ExecuteTime": {
     "end_time": "2021-10-19T17:28:08.277558Z",
     "start_time": "2021-10-19T17:28:08.261518Z"
    }
   },
   "outputs": [
    {
     "data": {
      "text/plain": [
       "  C_CONTIGUOUS : True\n",
       "  F_CONTIGUOUS : False\n",
       "  OWNDATA : True\n",
       "  WRITEABLE : True\n",
       "  ALIGNED : True\n",
       "  WRITEBACKIFCOPY : False\n",
       "  UPDATEIFCOPY : False"
      ]
     },
     "execution_count": 61,
     "metadata": {},
     "output_type": "execute_result"
    }
   ],
   "source": [
    "large_arr.flags"
   ]
  },
  {
   "cell_type": "code",
   "execution_count": 62,
   "metadata": {
    "ExecuteTime": {
     "end_time": "2021-10-19T17:28:39.533850Z",
     "start_time": "2021-10-19T17:28:36.633936Z"
    }
   },
   "outputs": [
    {
     "name": "stdout",
     "output_type": "stream",
     "text": [
      "19.2 ms ± 56.8 µs per loop (mean ± std. dev. of 3 runs, 50 loops each)\n"
     ]
    }
   ],
   "source": [
    "%timeit -n 50 -r 3 large_arr.sum(axis=1).sum(axis=0)"
   ]
  },
  {
   "cell_type": "code",
   "execution_count": 65,
   "metadata": {
    "ExecuteTime": {
     "end_time": "2021-10-19T17:30:25.800037Z",
     "start_time": "2021-10-19T17:29:56.170918Z"
    }
   },
   "outputs": [
    {
     "name": "stdout",
     "output_type": "stream",
     "text": [
      "19.7 ms ± 194 µs per loop (mean ± std. dev. of 3 runs, 500 loops each)\n"
     ]
    }
   ],
   "source": [
    "%timeit -n 500 -r 3 large_arr.sum()"
   ]
  },
  {
   "cell_type": "code",
   "execution_count": 63,
   "metadata": {
    "ExecuteTime": {
     "end_time": "2021-10-19T17:28:47.425677Z",
     "start_time": "2021-10-19T17:28:40.719046Z"
    }
   },
   "outputs": [
    {
     "name": "stdout",
     "output_type": "stream",
     "text": [
      "44.7 ms ± 218 µs per loop (mean ± std. dev. of 3 runs, 50 loops each)\n"
     ]
    }
   ],
   "source": [
    "%timeit -n 50 -r 3 large_arr.sum(axis=0).sum()"
   ]
  },
  {
   "cell_type": "code",
   "execution_count": 66,
   "metadata": {
    "ExecuteTime": {
     "end_time": "2021-10-19T17:31:24.573052Z",
     "start_time": "2021-10-19T17:31:21.571983Z"
    }
   },
   "outputs": [
    {
     "name": "stdout",
     "output_type": "stream",
     "text": [
      "19.9 ms ± 180 µs per loop (mean ± std. dev. of 3 runs, 50 loops each)\n"
     ]
    }
   ],
   "source": [
    "%timeit -n 50 -r 3 large_arr.T.sum(axis=0)"
   ]
  },
  {
   "cell_type": "code",
   "execution_count": 67,
   "metadata": {
    "ExecuteTime": {
     "end_time": "2021-10-19T17:31:37.931681Z",
     "start_time": "2021-10-19T17:31:37.915682Z"
    }
   },
   "outputs": [
    {
     "data": {
      "text/plain": [
       "True"
      ]
     },
     "execution_count": 67,
     "metadata": {},
     "output_type": "execute_result"
    }
   ],
   "source": [
    "large_arr.T.base is large_arr"
   ]
  },
  {
   "cell_type": "markdown",
   "metadata": {},
   "source": [
    "## Mamory allocations in computations"
   ]
  },
  {
   "cell_type": "markdown",
   "metadata": {},
   "source": [
    "How long does it take to create a copy?"
   ]
  },
  {
   "cell_type": "code",
   "execution_count": 68,
   "metadata": {
    "ExecuteTime": {
     "end_time": "2021-10-19T17:32:11.407386Z",
     "start_time": "2021-10-19T17:32:08.842478Z"
    }
   },
   "outputs": [
    {
     "name": "stdout",
     "output_type": "stream",
     "text": [
      "42.6 ms ± 408 µs per loop (mean ± std. dev. of 3 runs, 20 loops each)\n"
     ]
    }
   ],
   "source": [
    "%timeit -n 20 -r 3 large_arr.copy()"
   ]
  },
  {
   "cell_type": "markdown",
   "metadata": {},
   "source": [
    "Operations create new arrays as well:"
   ]
  },
  {
   "cell_type": "code",
   "execution_count": 69,
   "metadata": {
    "ExecuteTime": {
     "end_time": "2021-10-19T17:33:21.859614Z",
     "start_time": "2021-10-19T17:33:18.125382Z"
    }
   },
   "outputs": [
    {
     "name": "stdout",
     "output_type": "stream",
     "text": [
      "62 ms ± 768 µs per loop (mean ± std. dev. of 3 runs, 20 loops each)\n"
     ]
    }
   ],
   "source": [
    "%timeit -n 20 -r 3 large_arr + 1"
   ]
  },
  {
   "cell_type": "markdown",
   "metadata": {},
   "source": [
    "`np.add` and `+` do more or less the same:"
   ]
  },
  {
   "cell_type": "code",
   "execution_count": 70,
   "metadata": {
    "ExecuteTime": {
     "end_time": "2021-10-19T17:33:40.468825Z",
     "start_time": "2021-10-19T17:33:36.560028Z"
    }
   },
   "outputs": [
    {
     "name": "stdout",
     "output_type": "stream",
     "text": [
      "64.9 ms ± 2.63 ms per loop (mean ± std. dev. of 3 runs, 20 loops each)\n"
     ]
    }
   ],
   "source": [
    "%timeit -n 20 -r 3 np.add(large_arr, 1)"
   ]
  },
  {
   "cell_type": "markdown",
   "metadata": {},
   "source": [
    "But in-place operations are faster (no allocations):"
   ]
  },
  {
   "cell_type": "code",
   "execution_count": 71,
   "metadata": {
    "ExecuteTime": {
     "end_time": "2021-10-19T17:33:56.444689Z",
     "start_time": "2021-10-19T17:33:55.042101Z"
    }
   },
   "outputs": [
    {
     "name": "stdout",
     "output_type": "stream",
     "text": [
      "23.3 ms ± 754 µs per loop (mean ± std. dev. of 3 runs, 20 loops each)\n"
     ]
    }
   ],
   "source": [
    "%timeit -n 20 -r 3 np.add(large_arr, 1, out=large_arr)"
   ]
  },
  {
   "cell_type": "code",
   "execution_count": null,
   "metadata": {},
   "outputs": [],
   "source": [
    "large_arr"
   ]
  },
  {
   "cell_type": "code",
   "execution_count": null,
   "metadata": {},
   "outputs": [],
   "source": [
    "np.add(large_arr, 1, out=large_arr)"
   ]
  },
  {
   "cell_type": "markdown",
   "metadata": {},
   "source": [
    "# Broadcasting"
   ]
  },
  {
   "cell_type": "markdown",
   "metadata": {},
   "source": [
    "How can we operate on arrays of different shapes? Should we reshape them first to a common shape?"
   ]
  },
  {
   "cell_type": "code",
   "execution_count": 72,
   "metadata": {
    "ExecuteTime": {
     "end_time": "2021-10-19T17:45:35.495252Z",
     "start_time": "2021-10-19T17:45:35.479226Z"
    }
   },
   "outputs": [],
   "source": [
    "arr_2d = np.random.randint(10, size=(10, 3))\n",
    "arr_1d_1 = np.random.randint(10, size=(3, ))\n",
    "arr_1d_2 = np.random.randint(10, size=(10, ))"
   ]
  },
  {
   "cell_type": "code",
   "execution_count": 73,
   "metadata": {
    "ExecuteTime": {
     "end_time": "2021-10-19T17:45:35.915094Z",
     "start_time": "2021-10-19T17:45:35.891095Z"
    }
   },
   "outputs": [
    {
     "data": {
      "text/plain": [
       "array([[9, 5, 7],\n",
       "       [4, 2, 6],\n",
       "       [5, 5, 1],\n",
       "       [8, 9, 9],\n",
       "       [7, 0, 8],\n",
       "       [5, 5, 1],\n",
       "       [5, 7, 5],\n",
       "       [6, 9, 6],\n",
       "       [2, 9, 4],\n",
       "       [3, 6, 1]])"
      ]
     },
     "execution_count": 73,
     "metadata": {},
     "output_type": "execute_result"
    }
   ],
   "source": [
    "arr_2d"
   ]
  },
  {
   "cell_type": "code",
   "execution_count": 74,
   "metadata": {
    "ExecuteTime": {
     "end_time": "2021-10-19T17:45:37.023396Z",
     "start_time": "2021-10-19T17:45:37.007358Z"
    }
   },
   "outputs": [
    {
     "data": {
      "text/plain": [
       "array([5, 4, 2])"
      ]
     },
     "execution_count": 74,
     "metadata": {},
     "output_type": "execute_result"
    }
   ],
   "source": [
    "arr_1d_1"
   ]
  },
  {
   "cell_type": "code",
   "execution_count": 75,
   "metadata": {
    "ExecuteTime": {
     "end_time": "2021-10-19T17:45:37.978536Z",
     "start_time": "2021-10-19T17:45:37.970498Z"
    }
   },
   "outputs": [
    {
     "data": {
      "text/plain": [
       "array([3, 1, 9, 7, 3, 1, 5, 4, 2, 8])"
      ]
     },
     "execution_count": 75,
     "metadata": {},
     "output_type": "execute_result"
    }
   ],
   "source": [
    "arr_1d_2"
   ]
  },
  {
   "cell_type": "code",
   "execution_count": 76,
   "metadata": {
    "ExecuteTime": {
     "end_time": "2021-10-19T17:45:43.788053Z",
     "start_time": "2021-10-19T17:45:43.780015Z"
    }
   },
   "outputs": [
    {
     "data": {
      "text/plain": [
       "(array([[9, 5, 7],\n",
       "        [4, 2, 6],\n",
       "        [5, 5, 1],\n",
       "        [8, 9, 9],\n",
       "        [7, 0, 8],\n",
       "        [5, 5, 1],\n",
       "        [5, 7, 5],\n",
       "        [6, 9, 6],\n",
       "        [2, 9, 4],\n",
       "        [3, 6, 1]]), array([5, 4, 2]))"
      ]
     },
     "execution_count": 76,
     "metadata": {},
     "output_type": "execute_result"
    }
   ],
   "source": [
    "arr_2d, arr_1d_1"
   ]
  },
  {
   "cell_type": "markdown",
   "metadata": {},
   "source": [
    "Can we add the two?"
   ]
  },
  {
   "cell_type": "code",
   "execution_count": 77,
   "metadata": {
    "ExecuteTime": {
     "end_time": "2021-10-19T17:45:59.198663Z",
     "start_time": "2021-10-19T17:45:59.182626Z"
    }
   },
   "outputs": [
    {
     "data": {
      "text/plain": [
       "array([[14,  9,  9],\n",
       "       [ 9,  6,  8],\n",
       "       [10,  9,  3],\n",
       "       [13, 13, 11],\n",
       "       [12,  4, 10],\n",
       "       [10,  9,  3],\n",
       "       [10, 11,  7],\n",
       "       [11, 13,  8],\n",
       "       [ 7, 13,  6],\n",
       "       [ 8, 10,  3]])"
      ]
     },
     "execution_count": 77,
     "metadata": {},
     "output_type": "execute_result"
    }
   ],
   "source": [
    "arr_2d + arr_1d_1"
   ]
  },
  {
   "cell_type": "markdown",
   "metadata": {},
   "source": [
    "But what was really added to `arr_2d`?"
   ]
  },
  {
   "cell_type": "code",
   "execution_count": 78,
   "metadata": {
    "ExecuteTime": {
     "end_time": "2021-10-19T17:47:07.040362Z",
     "start_time": "2021-10-19T17:47:07.032326Z"
    }
   },
   "outputs": [
    {
     "data": {
      "text/plain": [
       "array([[5, 4, 2],\n",
       "       [5, 4, 2],\n",
       "       [5, 4, 2],\n",
       "       [5, 4, 2],\n",
       "       [5, 4, 2],\n",
       "       [5, 4, 2],\n",
       "       [5, 4, 2],\n",
       "       [5, 4, 2],\n",
       "       [5, 4, 2],\n",
       "       [5, 4, 2]])"
      ]
     },
     "execution_count": 78,
     "metadata": {},
     "output_type": "execute_result"
    }
   ],
   "source": [
    "(arr_2d + arr_1d_1) - arr_2d"
   ]
  },
  {
   "cell_type": "markdown",
   "metadata": {
    "ExecuteTime": {
     "end_time": "2019-11-05T15:45:38.839269Z",
     "start_time": "2019-11-05T15:45:38.821931Z"
    }
   },
   "source": [
    "Can we do the same with `arr_1d_2`?"
   ]
  },
  {
   "cell_type": "code",
   "execution_count": 82,
   "metadata": {
    "ExecuteTime": {
     "end_time": "2021-10-19T17:48:12.522870Z",
     "start_time": "2021-10-19T17:48:12.506870Z"
    }
   },
   "outputs": [
    {
     "ename": "ValueError",
     "evalue": "operands could not be broadcast together with shapes (10,3) (10,) ",
     "output_type": "error",
     "traceback": [
      "\u001b[1;31m---------------------------------------------------------------------------\u001b[0m",
      "\u001b[1;31mValueError\u001b[0m                                Traceback (most recent call last)",
      "\u001b[1;32m<ipython-input-82-6e6cb2b24c09>\u001b[0m in \u001b[0;36m<module>\u001b[1;34m\u001b[0m\n\u001b[1;32m----> 1\u001b[1;33m \u001b[0marr_2d\u001b[0m \u001b[1;33m+\u001b[0m \u001b[0marr_1d_2\u001b[0m\u001b[1;33m\u001b[0m\u001b[1;33m\u001b[0m\u001b[0m\n\u001b[0m",
      "\u001b[1;31mValueError\u001b[0m: operands could not be broadcast together with shapes (10,3) (10,) "
     ]
    }
   ],
   "source": [
    "arr_2d + arr_1d_2"
   ]
  },
  {
   "cell_type": "markdown",
   "metadata": {},
   "source": [
    "We need to change `arr_1d_2` shape first:"
   ]
  },
  {
   "cell_type": "code",
   "execution_count": 84,
   "metadata": {
    "ExecuteTime": {
     "end_time": "2021-10-19T17:50:00.588484Z",
     "start_time": "2021-10-19T17:50:00.564447Z"
    }
   },
   "outputs": [
    {
     "ename": "ValueError",
     "evalue": "cannot reshape array of size 10 into shape (10,2)",
     "output_type": "error",
     "traceback": [
      "\u001b[1;31m---------------------------------------------------------------------------\u001b[0m",
      "\u001b[1;31mValueError\u001b[0m                                Traceback (most recent call last)",
      "\u001b[1;32m<ipython-input-84-31f2ffd05eec>\u001b[0m in \u001b[0;36m<module>\u001b[1;34m\u001b[0m\n\u001b[1;32m----> 1\u001b[1;33m \u001b[0marr_2d\u001b[0m \u001b[1;33m+\u001b[0m \u001b[0marr_1d_2\u001b[0m\u001b[1;33m.\u001b[0m\u001b[0mreshape\u001b[0m\u001b[1;33m(\u001b[0m\u001b[1;33m(\u001b[0m\u001b[1;36m10\u001b[0m\u001b[1;33m,\u001b[0m\u001b[1;36m2\u001b[0m\u001b[1;33m)\u001b[0m\u001b[1;33m)\u001b[0m\u001b[1;33m\u001b[0m\u001b[1;33m\u001b[0m\u001b[0m\n\u001b[0m",
      "\u001b[1;31mValueError\u001b[0m: cannot reshape array of size 10 into shape (10,2)"
     ]
    }
   ],
   "source": [
    "arr_2d + arr_1d_2.reshape((10,2))"
   ]
  },
  {
   "cell_type": "markdown",
   "metadata": {},
   "source": [
    "Alternatively, we can do:"
   ]
  },
  {
   "cell_type": "code",
   "execution_count": null,
   "metadata": {},
   "outputs": [],
   "source": [
    "np.expand_dims(arr_1d_2, axis=1)"
   ]
  },
  {
   "cell_type": "code",
   "execution_count": null,
   "metadata": {
    "ExecuteTime": {
     "end_time": "2019-11-08T08:59:52.510473Z",
     "start_time": "2019-11-08T08:59:52.503006Z"
    }
   },
   "outputs": [],
   "source": [
    "arr_2d + np.expand_dims(arr_1d_2, axis=1)"
   ]
  },
  {
   "cell_type": "markdown",
   "metadata": {},
   "source": [
    "It seems `arr_1d_2` was \"replicated\" in the same way as `arr_1d_1` but along different axis:"
   ]
  },
  {
   "cell_type": "code",
   "execution_count": null,
   "metadata": {
    "ExecuteTime": {
     "end_time": "2019-11-08T09:01:26.643342Z",
     "start_time": "2019-11-08T09:01:26.637492Z"
    }
   },
   "outputs": [],
   "source": [
    "(arr_2d + np.expand_dims(arr_1d_2, axis=1)) - arr_2d"
   ]
  },
  {
   "cell_type": "markdown",
   "metadata": {},
   "source": [
    "To reveal the pattern, let's try a `3D` array:"
   ]
  },
  {
   "cell_type": "code",
   "execution_count": 85,
   "metadata": {
    "ExecuteTime": {
     "end_time": "2021-10-19T17:51:06.566111Z",
     "start_time": "2021-10-19T17:51:06.550075Z"
    }
   },
   "outputs": [],
   "source": [
    "arr_3d = np.random.randint(10, size=(7, 10, 3))"
   ]
  },
  {
   "cell_type": "code",
   "execution_count": 86,
   "metadata": {
    "ExecuteTime": {
     "end_time": "2021-10-19T17:51:08.235906Z",
     "start_time": "2021-10-19T17:51:08.219906Z"
    }
   },
   "outputs": [
    {
     "data": {
      "text/plain": [
       "(3,)"
      ]
     },
     "execution_count": 86,
     "metadata": {},
     "output_type": "execute_result"
    }
   ],
   "source": [
    "arr_1d_1.shape"
   ]
  },
  {
   "cell_type": "code",
   "execution_count": null,
   "metadata": {},
   "outputs": [],
   "source": [
    "arr_3d"
   ]
  },
  {
   "cell_type": "code",
   "execution_count": 88,
   "metadata": {
    "ExecuteTime": {
     "end_time": "2021-10-19T17:51:41.196355Z",
     "start_time": "2021-10-19T17:51:41.188318Z"
    }
   },
   "outputs": [
    {
     "data": {
      "text/plain": [
       "array([[[5, 4, 2],\n",
       "        [5, 4, 2],\n",
       "        [5, 4, 2],\n",
       "        [5, 4, 2],\n",
       "        [5, 4, 2],\n",
       "        [5, 4, 2],\n",
       "        [5, 4, 2],\n",
       "        [5, 4, 2],\n",
       "        [5, 4, 2],\n",
       "        [5, 4, 2]],\n",
       "\n",
       "       [[5, 4, 2],\n",
       "        [5, 4, 2],\n",
       "        [5, 4, 2],\n",
       "        [5, 4, 2],\n",
       "        [5, 4, 2],\n",
       "        [5, 4, 2],\n",
       "        [5, 4, 2],\n",
       "        [5, 4, 2],\n",
       "        [5, 4, 2],\n",
       "        [5, 4, 2]],\n",
       "\n",
       "       [[5, 4, 2],\n",
       "        [5, 4, 2],\n",
       "        [5, 4, 2],\n",
       "        [5, 4, 2],\n",
       "        [5, 4, 2],\n",
       "        [5, 4, 2],\n",
       "        [5, 4, 2],\n",
       "        [5, 4, 2],\n",
       "        [5, 4, 2],\n",
       "        [5, 4, 2]],\n",
       "\n",
       "       [[5, 4, 2],\n",
       "        [5, 4, 2],\n",
       "        [5, 4, 2],\n",
       "        [5, 4, 2],\n",
       "        [5, 4, 2],\n",
       "        [5, 4, 2],\n",
       "        [5, 4, 2],\n",
       "        [5, 4, 2],\n",
       "        [5, 4, 2],\n",
       "        [5, 4, 2]],\n",
       "\n",
       "       [[5, 4, 2],\n",
       "        [5, 4, 2],\n",
       "        [5, 4, 2],\n",
       "        [5, 4, 2],\n",
       "        [5, 4, 2],\n",
       "        [5, 4, 2],\n",
       "        [5, 4, 2],\n",
       "        [5, 4, 2],\n",
       "        [5, 4, 2],\n",
       "        [5, 4, 2]],\n",
       "\n",
       "       [[5, 4, 2],\n",
       "        [5, 4, 2],\n",
       "        [5, 4, 2],\n",
       "        [5, 4, 2],\n",
       "        [5, 4, 2],\n",
       "        [5, 4, 2],\n",
       "        [5, 4, 2],\n",
       "        [5, 4, 2],\n",
       "        [5, 4, 2],\n",
       "        [5, 4, 2]],\n",
       "\n",
       "       [[5, 4, 2],\n",
       "        [5, 4, 2],\n",
       "        [5, 4, 2],\n",
       "        [5, 4, 2],\n",
       "        [5, 4, 2],\n",
       "        [5, 4, 2],\n",
       "        [5, 4, 2],\n",
       "        [5, 4, 2],\n",
       "        [5, 4, 2],\n",
       "        [5, 4, 2]]])"
      ]
     },
     "execution_count": 88,
     "metadata": {},
     "output_type": "execute_result"
    }
   ],
   "source": [
    "arr_3d + arr_1d_1-arr_3d"
   ]
  },
  {
   "cell_type": "code",
   "execution_count": null,
   "metadata": {},
   "outputs": [],
   "source": [
    "(arr_3d + arr_1d_1) - arr_3d"
   ]
  },
  {
   "cell_type": "code",
   "execution_count": 89,
   "metadata": {
    "ExecuteTime": {
     "end_time": "2021-10-19T17:51:56.388831Z",
     "start_time": "2021-10-19T17:51:56.380789Z"
    }
   },
   "outputs": [
    {
     "data": {
      "text/plain": [
       "((7, 10, 3), (3,))"
      ]
     },
     "execution_count": 89,
     "metadata": {},
     "output_type": "execute_result"
    }
   ],
   "source": [
    "arr_3d.shape, arr_1d_1.shape"
   ]
  },
  {
   "cell_type": "markdown",
   "metadata": {},
   "source": [
    "Can we do the same with `arr_1d_2`?"
   ]
  },
  {
   "cell_type": "code",
   "execution_count": 90,
   "metadata": {
    "ExecuteTime": {
     "end_time": "2021-10-19T17:52:14.428598Z",
     "start_time": "2021-10-19T17:52:14.412564Z"
    }
   },
   "outputs": [
    {
     "ename": "ValueError",
     "evalue": "operands could not be broadcast together with shapes (7,10,3) (10,) ",
     "output_type": "error",
     "traceback": [
      "\u001b[1;31m---------------------------------------------------------------------------\u001b[0m",
      "\u001b[1;31mValueError\u001b[0m                                Traceback (most recent call last)",
      "\u001b[1;32m<ipython-input-90-2e4124256cf7>\u001b[0m in \u001b[0;36m<module>\u001b[1;34m\u001b[0m\n\u001b[1;32m----> 1\u001b[1;33m \u001b[0marr_3d\u001b[0m \u001b[1;33m+\u001b[0m \u001b[0marr_1d_2\u001b[0m\u001b[1;33m\u001b[0m\u001b[1;33m\u001b[0m\u001b[0m\n\u001b[0m",
      "\u001b[1;31mValueError\u001b[0m: operands could not be broadcast together with shapes (7,10,3) (10,) "
     ]
    }
   ],
   "source": [
    "arr_3d + arr_1d_2"
   ]
  },
  {
   "cell_type": "code",
   "execution_count": 91,
   "metadata": {
    "ExecuteTime": {
     "end_time": "2021-10-19T17:52:21.333163Z",
     "start_time": "2021-10-19T17:52:21.309121Z"
    }
   },
   "outputs": [
    {
     "data": {
      "text/plain": [
       "((7, 10, 3), (10,), (10, 1))"
      ]
     },
     "execution_count": 91,
     "metadata": {},
     "output_type": "execute_result"
    }
   ],
   "source": [
    "arr_3d.shape, arr_1d_2.shape, np.expand_dims(arr_1d_2, axis=1).shape"
   ]
  },
  {
   "cell_type": "raw",
   "metadata": {},
   "source": [
    "(7, 10, 3) + (10,) -> {3 dimensions} -> (7, 10, 3) + (1, 1, 10) -> cannot broadcast together\n",
    "(7, 10, 3) + (10,) -> (7, 10, 3) + (10, 1) -> {3 dimensions} -> (7, 10, 3) + (1, 10, 1) -> works perfectly"
   ]
  },
  {
   "cell_type": "code",
   "execution_count": null,
   "metadata": {
    "ExecuteTime": {
     "end_time": "2019-11-08T09:03:10.112622Z",
     "start_time": "2019-11-08T09:03:10.106332Z"
    }
   },
   "outputs": [],
   "source": [
    "(arr_3d + np.expand_dims(arr_1d_2, axis=1)) - arr_3d"
   ]
  },
  {
   "cell_type": "markdown",
   "metadata": {
    "ExecuteTime": {
     "end_time": "2019-10-29T10:33:41.172751Z",
     "start_time": "2019-10-29T10:33:41.165332Z"
    }
   },
   "source": [
    "Broadcasting rules:\n",
    "    \n",
    "- All input arrays with `ndim` smaller than the input array of largest `ndim`, have 1’s **prepended** to their shapes.\n",
    "- The size in each dimension of the output shape is the **maximum** of all the input sizes in that dimension.\n",
    "- An input can be used in the calculation if its size in a particular dimension either **matches** the output size in that dimension, or **is exactly 1**.\n",
    "- If an input has a dimension of size 1 in its shape, the first data entry in that dimension will be used for all calculations along that dimension. In other words, the stepping machinery of a `ufunc` will simply not step along that dimension (stride will be 0 for that dimension)."
   ]
  },
  {
   "cell_type": "markdown",
   "metadata": {},
   "source": [
    "### How broadcasting really works"
   ]
  },
  {
   "cell_type": "markdown",
   "metadata": {},
   "source": [
    "What happens, when we add a unit dimension somewhere?"
   ]
  },
  {
   "cell_type": "code",
   "execution_count": 92,
   "metadata": {
    "ExecuteTime": {
     "end_time": "2021-10-19T17:55:09.981863Z",
     "start_time": "2021-10-19T17:55:09.965862Z"
    }
   },
   "outputs": [
    {
     "data": {
      "text/plain": [
       "array([[5, 4, 2]])"
      ]
     },
     "execution_count": 92,
     "metadata": {},
     "output_type": "execute_result"
    }
   ],
   "source": [
    "arr_1d_1[np.newaxis, :]"
   ]
  },
  {
   "cell_type": "code",
   "execution_count": 93,
   "metadata": {
    "ExecuteTime": {
     "end_time": "2021-10-19T17:55:12.315154Z",
     "start_time": "2021-10-19T17:55:12.299156Z"
    }
   },
   "outputs": [
    {
     "data": {
      "text/plain": [
       "(0, 4)"
      ]
     },
     "execution_count": 93,
     "metadata": {},
     "output_type": "execute_result"
    }
   ],
   "source": [
    "arr_1d_1[np.newaxis, :].strides"
   ]
  },
  {
   "cell_type": "markdown",
   "metadata": {},
   "source": [
    "`strides[0]` is `0`, which means we can use dimension `0` of `arr_1d_1[np.newaxis, :]` in any (underlying, C) loop with any number of iterations. Let's emulate this in pure Python:"
   ]
  },
  {
   "cell_type": "code",
   "execution_count": 94,
   "metadata": {
    "ExecuteTime": {
     "end_time": "2021-10-19T17:55:35.692577Z",
     "start_time": "2021-10-19T17:55:35.684541Z"
    }
   },
   "outputs": [
    {
     "data": {
      "text/plain": [
       "array([[5, 4, 2]])"
      ]
     },
     "execution_count": 94,
     "metadata": {},
     "output_type": "execute_result"
    }
   ],
   "source": [
    "arr_1d_1_bc = arr_1d_1[np.newaxis, :]\n",
    "arr_1d_1_bc"
   ]
  },
  {
   "cell_type": "code",
   "execution_count": 95,
   "metadata": {
    "ExecuteTime": {
     "end_time": "2021-10-19T17:56:10.751351Z",
     "start_time": "2021-10-19T17:56:10.743315Z"
    }
   },
   "outputs": [
    {
     "data": {
      "text/plain": [
       "array([[9, 5, 7],\n",
       "       [4, 2, 6],\n",
       "       [5, 5, 1],\n",
       "       [8, 9, 9],\n",
       "       [7, 0, 8],\n",
       "       [5, 5, 1],\n",
       "       [5, 7, 5],\n",
       "       [6, 9, 6],\n",
       "       [2, 9, 4],\n",
       "       [3, 6, 1]])"
      ]
     },
     "execution_count": 95,
     "metadata": {},
     "output_type": "execute_result"
    }
   ],
   "source": [
    "arr_2d"
   ]
  },
  {
   "cell_type": "code",
   "execution_count": 96,
   "metadata": {
    "ExecuteTime": {
     "end_time": "2021-10-19T17:56:18.290154Z",
     "start_time": "2021-10-19T17:56:18.274154Z"
    }
   },
   "outputs": [
    {
     "name": "stdout",
     "output_type": "stream",
     "text": [
      "Adding elements of row 0\n",
      "\tarr_2d address: 0\n",
      "\tarr_1d_1_bc address: 0\n",
      "\tarr_2d address: 4\n",
      "\tarr_1d_1_bc address: 4\n",
      "\tarr_2d address: 8\n",
      "\tarr_1d_1_bc address: 8\n",
      "--------------------------------------------------------------------------------\n",
      "Adding elements of row 1\n",
      "\tarr_2d address: 12\n",
      "\tarr_1d_1_bc address: 0\n",
      "\tarr_2d address: 16\n",
      "\tarr_1d_1_bc address: 4\n",
      "\tarr_2d address: 20\n",
      "\tarr_1d_1_bc address: 8\n",
      "--------------------------------------------------------------------------------\n",
      "Adding elements of row 2\n",
      "\tarr_2d address: 24\n",
      "\tarr_1d_1_bc address: 0\n",
      "\tarr_2d address: 28\n",
      "\tarr_1d_1_bc address: 4\n",
      "\tarr_2d address: 32\n",
      "\tarr_1d_1_bc address: 8\n",
      "--------------------------------------------------------------------------------\n",
      "Adding elements of row 3\n",
      "\tarr_2d address: 36\n",
      "\tarr_1d_1_bc address: 0\n",
      "\tarr_2d address: 40\n",
      "\tarr_1d_1_bc address: 4\n",
      "\tarr_2d address: 44\n",
      "\tarr_1d_1_bc address: 8\n",
      "--------------------------------------------------------------------------------\n",
      "Adding elements of row 4\n",
      "\tarr_2d address: 48\n",
      "\tarr_1d_1_bc address: 0\n",
      "\tarr_2d address: 52\n",
      "\tarr_1d_1_bc address: 4\n",
      "\tarr_2d address: 56\n",
      "\tarr_1d_1_bc address: 8\n",
      "--------------------------------------------------------------------------------\n",
      "Adding elements of row 5\n",
      "\tarr_2d address: 60\n",
      "\tarr_1d_1_bc address: 0\n",
      "\tarr_2d address: 64\n",
      "\tarr_1d_1_bc address: 4\n",
      "\tarr_2d address: 68\n",
      "\tarr_1d_1_bc address: 8\n",
      "--------------------------------------------------------------------------------\n",
      "Adding elements of row 6\n",
      "\tarr_2d address: 72\n",
      "\tarr_1d_1_bc address: 0\n",
      "\tarr_2d address: 76\n",
      "\tarr_1d_1_bc address: 4\n",
      "\tarr_2d address: 80\n",
      "\tarr_1d_1_bc address: 8\n",
      "--------------------------------------------------------------------------------\n",
      "Adding elements of row 7\n",
      "\tarr_2d address: 84\n",
      "\tarr_1d_1_bc address: 0\n",
      "\tarr_2d address: 88\n",
      "\tarr_1d_1_bc address: 4\n",
      "\tarr_2d address: 92\n",
      "\tarr_1d_1_bc address: 8\n",
      "--------------------------------------------------------------------------------\n",
      "Adding elements of row 8\n",
      "\tarr_2d address: 96\n",
      "\tarr_1d_1_bc address: 0\n",
      "\tarr_2d address: 100\n",
      "\tarr_1d_1_bc address: 4\n",
      "\tarr_2d address: 104\n",
      "\tarr_1d_1_bc address: 8\n",
      "--------------------------------------------------------------------------------\n",
      "Adding elements of row 9\n",
      "\tarr_2d address: 108\n",
      "\tarr_1d_1_bc address: 0\n",
      "\tarr_2d address: 112\n",
      "\tarr_1d_1_bc address: 4\n",
      "\tarr_2d address: 116\n",
      "\tarr_1d_1_bc address: 8\n",
      "--------------------------------------------------------------------------------\n"
     ]
    }
   ],
   "source": [
    "for i in range(arr_2d.shape[0]):\n",
    "\n",
    "    print(f\"Adding elements of row {i}\")\n",
    "\n",
    "    for j in range(arr_2d.shape[1]):\n",
    "        arr_2d_address = arr_2d.strides[1] * j + arr_2d.strides[0] * i\n",
    "        arr_1d_address = arr_1d_1_bc.strides[1] * j + arr_1d_1_bc.strides[0] * i\n",
    "\n",
    "        print(f\"\\tarr_2d address: {arr_2d_address}\")\n",
    "        print(f\"\\tarr_1d_1_bc address: {arr_1d_address}\")\n",
    "    print(\"-\" * 80)"
   ]
  },
  {
   "cell_type": "code",
   "execution_count": null,
   "metadata": {},
   "outputs": [],
   "source": []
  }
 ],
 "metadata": {
  "@webio": {
   "lastCommId": null,
   "lastKernelId": null
  },
  "kernelspec": {
   "display_name": "Python 3",
   "language": "python",
   "name": "python3"
  },
  "language_info": {
   "codemirror_mode": {
    "name": "ipython",
    "version": 3
   },
   "file_extension": ".py",
   "mimetype": "text/x-python",
   "name": "python",
   "nbconvert_exporter": "python",
   "pygments_lexer": "ipython3",
   "version": "3.7.4"
  },
  "toc": {
   "base_numbering": 1,
   "nav_menu": {},
   "number_sections": true,
   "sideBar": true,
   "skip_h1_title": false,
   "title_cell": "Table of Contents",
   "title_sidebar": "Contents",
   "toc_cell": false,
   "toc_position": {},
   "toc_section_display": true,
   "toc_window_display": true
  }
 },
 "nbformat": 4,
 "nbformat_minor": 2
}
