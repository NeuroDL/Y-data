{
 "cells": [
  {
   "cell_type": "markdown",
   "metadata": {},
   "source": [
    "# Linear algebra"
   ]
  },
  {
   "cell_type": "code",
   "execution_count": 1,
   "metadata": {
    "ExecuteTime": {
     "end_time": "2021-10-12T17:40:28.326416Z",
     "start_time": "2021-10-12T17:40:28.028849Z"
    }
   },
   "outputs": [],
   "source": [
    "import numpy as np"
   ]
  },
  {
   "cell_type": "code",
   "execution_count": 2,
   "metadata": {
    "ExecuteTime": {
     "end_time": "2021-10-12T17:40:28.528750Z",
     "start_time": "2021-10-12T17:40:28.523762Z"
    }
   },
   "outputs": [],
   "source": [
    "v = np.random.randint(10, size=(3,))\n",
    "m = np.random.randint(10, size=(5, 3))"
   ]
  },
  {
   "cell_type": "code",
   "execution_count": 3,
   "metadata": {
    "ExecuteTime": {
     "end_time": "2021-10-12T17:40:29.896002Z",
     "start_time": "2021-10-12T17:40:29.879047Z"
    }
   },
   "outputs": [
    {
     "data": {
      "text/plain": [
       "array([[5, 5, 4],\n",
       "       [2, 3, 0],\n",
       "       [4, 8, 3],\n",
       "       [5, 7, 9],\n",
       "       [1, 2, 8]])"
      ]
     },
     "execution_count": 3,
     "metadata": {},
     "output_type": "execute_result"
    }
   ],
   "source": [
    "m"
   ]
  },
  {
   "cell_type": "code",
   "execution_count": 4,
   "metadata": {
    "ExecuteTime": {
     "end_time": "2021-10-12T17:40:30.413792Z",
     "start_time": "2021-10-12T17:40:30.408841Z"
    }
   },
   "outputs": [
    {
     "data": {
      "text/plain": [
       "array([9, 8, 4])"
      ]
     },
     "execution_count": 4,
     "metadata": {},
     "output_type": "execute_result"
    }
   ],
   "source": [
    "v"
   ]
  },
  {
   "cell_type": "markdown",
   "metadata": {},
   "source": [
    "## Dot products, determinants, traces"
   ]
  },
  {
   "cell_type": "markdown",
   "metadata": {},
   "source": [
    "Dot product is available through `np` itself (as it's very common). Note the ordering and dimensions:"
   ]
  },
  {
   "cell_type": "code",
   "execution_count": 5,
   "metadata": {
    "ExecuteTime": {
     "end_time": "2021-10-12T17:40:34.444128Z",
     "start_time": "2021-10-12T17:40:34.438182Z"
    }
   },
   "outputs": [
    {
     "data": {
      "text/plain": [
       "array([101,  42, 112, 137,  57])"
      ]
     },
     "execution_count": 5,
     "metadata": {},
     "output_type": "execute_result"
    }
   ],
   "source": [
    "np.dot(m, v)"
   ]
  },
  {
   "cell_type": "code",
   "execution_count": 6,
   "metadata": {
    "ExecuteTime": {
     "end_time": "2021-10-12T17:40:46.159929Z",
     "start_time": "2021-10-12T17:40:46.148919Z"
    }
   },
   "outputs": [
    {
     "data": {
      "text/plain": [
       "array([[101],\n",
       "       [ 42],\n",
       "       [112],\n",
       "       [137],\n",
       "       [ 57]])"
      ]
     },
     "execution_count": 6,
     "metadata": {},
     "output_type": "execute_result"
    }
   ],
   "source": [
    "np.dot(m, v[:, np.newaxis])"
   ]
  },
  {
   "cell_type": "code",
   "execution_count": 7,
   "metadata": {
    "ExecuteTime": {
     "end_time": "2021-10-12T17:41:20.105457Z",
     "start_time": "2021-10-12T17:41:20.096431Z"
    }
   },
   "outputs": [
    {
     "data": {
      "text/plain": [
       "array([101,  42, 112, 137,  57])"
      ]
     },
     "execution_count": 7,
     "metadata": {},
     "output_type": "execute_result"
    }
   ],
   "source": [
    "np.dot(v, m.T)"
   ]
  },
  {
   "cell_type": "markdown",
   "metadata": {},
   "source": [
    "Inverse matrix is straighforward (as almost any other LA operation):"
   ]
  },
  {
   "cell_type": "code",
   "execution_count": null,
   "metadata": {
    "ExecuteTime": {
     "end_time": "2019-11-08T09:35:35.378006Z",
     "start_time": "2019-11-08T09:35:35.367976Z"
    }
   },
   "outputs": [],
   "source": [
    "s = np.random.randint(10, size=(3,3))\n",
    "s_inv = np.linalg.inv(s)"
   ]
  },
  {
   "cell_type": "code",
   "execution_count": null,
   "metadata": {
    "ExecuteTime": {
     "end_time": "2019-11-08T09:35:37.546657Z",
     "start_time": "2019-11-08T09:35:37.540287Z"
    }
   },
   "outputs": [],
   "source": [
    "s"
   ]
  },
  {
   "cell_type": "code",
   "execution_count": null,
   "metadata": {
    "ExecuteTime": {
     "end_time": "2019-11-08T09:35:37.712933Z",
     "start_time": "2019-11-08T09:35:37.708002Z"
    }
   },
   "outputs": [],
   "source": [
    "s_inv"
   ]
  },
  {
   "cell_type": "code",
   "execution_count": null,
   "metadata": {
    "ExecuteTime": {
     "end_time": "2019-11-08T09:35:41.488632Z",
     "start_time": "2019-11-08T09:35:41.483335Z"
    }
   },
   "outputs": [],
   "source": [
    "s_inv.dtype"
   ]
  },
  {
   "cell_type": "code",
   "execution_count": null,
   "metadata": {
    "ExecuteTime": {
     "end_time": "2019-11-08T09:35:42.532821Z",
     "start_time": "2019-11-08T09:35:42.526481Z"
    }
   },
   "outputs": [],
   "source": [
    "np.dot(s_inv, s)"
   ]
  },
  {
   "cell_type": "markdown",
   "metadata": {},
   "source": [
    "Determinants and traces are available as well:"
   ]
  },
  {
   "cell_type": "code",
   "execution_count": null,
   "metadata": {
    "ExecuteTime": {
     "end_time": "2019-11-08T09:38:26.817489Z",
     "start_time": "2019-11-08T09:38:26.811282Z"
    }
   },
   "outputs": [],
   "source": [
    "np.linalg.det(s), np.linalg.det(s_inv)  # det(s) == 1 / det(s_inv), btw"
   ]
  },
  {
   "cell_type": "code",
   "execution_count": null,
   "metadata": {
    "ExecuteTime": {
     "end_time": "2019-11-08T09:39:02.819638Z",
     "start_time": "2019-11-08T09:39:02.814251Z"
    }
   },
   "outputs": [],
   "source": [
    "np.trace(s), np.trace(s_inv)"
   ]
  },
  {
   "cell_type": "markdown",
   "metadata": {},
   "source": [
    "## Eigenvalues, eigenvectors"
   ]
  },
  {
   "cell_type": "markdown",
   "metadata": {},
   "source": [
    "Eigenvalue decomposition (and other decompositions as well) are available via `eig` and `eigh` functions:"
   ]
  },
  {
   "cell_type": "code",
   "execution_count": null,
   "metadata": {
    "ExecuteTime": {
     "end_time": "2019-11-08T09:39:36.424580Z",
     "start_time": "2019-11-08T09:39:36.407446Z"
    }
   },
   "outputs": [],
   "source": [
    "evals, evectors = np.linalg.eig(s)"
   ]
  },
  {
   "cell_type": "code",
   "execution_count": null,
   "metadata": {},
   "outputs": [],
   "source": [
    "evals"
   ]
  },
  {
   "cell_type": "code",
   "execution_count": null,
   "metadata": {},
   "outputs": [],
   "source": [
    "evectors"
   ]
  },
  {
   "cell_type": "code",
   "execution_count": null,
   "metadata": {
    "ExecuteTime": {
     "end_time": "2019-11-08T09:40:24.079866Z",
     "start_time": "2019-11-08T09:40:24.075326Z"
    }
   },
   "outputs": [],
   "source": [
    "np.allclose(evals.sum(), np.trace(s))  # some simple LA and correct way of comparing floating point numbers"
   ]
  },
  {
   "cell_type": "markdown",
   "metadata": {},
   "source": [
    "Creating a diagonal matrix from a `1D` array:"
   ]
  },
  {
   "cell_type": "code",
   "execution_count": null,
   "metadata": {
    "ExecuteTime": {
     "end_time": "2019-11-08T09:41:07.864680Z",
     "start_time": "2019-11-08T09:41:07.860625Z"
    }
   },
   "outputs": [],
   "source": [
    "s_diagonal = np.diag(evals)"
   ]
  },
  {
   "cell_type": "code",
   "execution_count": null,
   "metadata": {
    "ExecuteTime": {
     "end_time": "2019-11-08T09:41:13.424758Z",
     "start_time": "2019-11-08T09:41:13.418283Z"
    }
   },
   "outputs": [],
   "source": [
    "s_diagonal"
   ]
  },
  {
   "cell_type": "markdown",
   "metadata": {},
   "source": [
    "And now our matrix can be decomposed as:\n",
    "    \n",
    "$$\n",
    "s = VEV^{-1}\n",
    "$$\n",
    "\n",
    "where $E$ is a diagonal matrix (with eigenvalues on main diagonal), and $V$ is a matrix where columns are eigenvectors."
   ]
  },
  {
   "cell_type": "code",
   "execution_count": null,
   "metadata": {
    "ExecuteTime": {
     "end_time": "2019-11-08T09:42:02.889611Z",
     "start_time": "2019-11-08T09:42:02.881841Z"
    }
   },
   "outputs": [],
   "source": [
    "np.dot(evectors, np.dot(s_diagonal, np.linalg.inv(evectors)))"
   ]
  },
  {
   "cell_type": "code",
   "execution_count": null,
   "metadata": {
    "ExecuteTime": {
     "end_time": "2019-11-08T09:42:05.052208Z",
     "start_time": "2019-11-08T09:42:05.046922Z"
    }
   },
   "outputs": [],
   "source": [
    "s"
   ]
  },
  {
   "cell_type": "code",
   "execution_count": null,
   "metadata": {},
   "outputs": [],
   "source": [
    "np.allclose(np.dot(evectors, np.dot(s_diagonal, np.linalg.inv(evectors))), s)"
   ]
  },
  {
   "cell_type": "code",
   "execution_count": null,
   "metadata": {},
   "outputs": [],
   "source": []
  }
 ],
 "metadata": {
  "@webio": {
   "lastCommId": null,
   "lastKernelId": null
  },
  "kernelspec": {
   "display_name": "Python 3",
   "language": "python",
   "name": "python3"
  },
  "language_info": {
   "codemirror_mode": {
    "name": "ipython",
    "version": 3
   },
   "file_extension": ".py",
   "mimetype": "text/x-python",
   "name": "python",
   "nbconvert_exporter": "python",
   "pygments_lexer": "ipython3",
   "version": "3.7.4"
  },
  "toc": {
   "base_numbering": 1,
   "nav_menu": {},
   "number_sections": true,
   "sideBar": true,
   "skip_h1_title": false,
   "title_cell": "Table of Contents",
   "title_sidebar": "Contents",
   "toc_cell": false,
   "toc_position": {},
   "toc_section_display": true,
   "toc_window_display": false
  }
 },
 "nbformat": 4,
 "nbformat_minor": 2
}
