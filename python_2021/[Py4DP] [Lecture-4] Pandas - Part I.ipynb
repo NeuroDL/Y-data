{
 "cells": [
  {
   "cell_type": "markdown",
   "metadata": {},
   "source": [
    "# `pandas`"
   ]
  },
  {
   "cell_type": "code",
   "execution_count": 12,
   "metadata": {
    "ExecuteTime": {
     "end_time": "2021-11-07T07:25:08.686969Z",
     "start_time": "2021-11-07T07:25:08.678916Z"
    }
   },
   "outputs": [
    {
     "name": "stdout",
     "output_type": "stream",
     "text": [
      "0.024755256448569473\n",
      "0.29003234654004073\n",
      "186.02797331369229\n"
     ]
    }
   ],
   "source": [
    "import numpy as np\n",
    "lamb= -np.log(.5)/28\n",
    "print(lamb)\n",
    "print(1-(1-np.exp(-lamb*50)))\n",
    "print(np.log(.01)/-lamb)"
   ]
  },
  {
   "cell_type": "code",
   "execution_count": 13,
   "metadata": {
    "ExecuteTime": {
     "end_time": "2021-11-07T07:28:08.456820Z",
     "start_time": "2021-11-07T07:28:08.448819Z"
    }
   },
   "outputs": [
    {
     "data": {
      "text/plain": [
       "3360"
      ]
     },
     "execution_count": 13,
     "metadata": {},
     "output_type": "execute_result"
    }
   ],
   "source": [
    "2000+200+1000+160"
   ]
  },
  {
   "cell_type": "code",
   "execution_count": 17,
   "metadata": {
    "ExecuteTime": {
     "end_time": "2021-11-07T07:55:21.602987Z",
     "start_time": "2021-11-07T07:55:21.586929Z"
    }
   },
   "outputs": [],
   "source": [
    "EY(2)"
   ]
  },
  {
   "cell_type": "code",
   "execution_count": 18,
   "metadata": {
    "ExecuteTime": {
     "end_time": "2021-11-07T07:55:26.754711Z",
     "start_time": "2021-11-07T07:55:26.722712Z"
    }
   },
   "outputs": [
    {
     "data": {
      "text/plain": [
       "      fun: 0.060927575633776376\n",
       " hess_inv: array([[0.00736035]])\n",
       "      jac: array([-2.98023224e-08])\n",
       "  message: 'Optimization terminated successfully.'\n",
       "     nfev: 75\n",
       "      nit: 8\n",
       "     njev: 25\n",
       "   status: 0\n",
       "  success: True\n",
       "        x: array([2.05430455])"
      ]
     },
     "execution_count": 18,
     "metadata": {},
     "output_type": "execute_result"
    }
   ],
   "source": [
    "from scipy.optimize import minimize\n",
    "sigma=.02\n",
    "L=2\n",
    "def EY(mu):\n",
    "    return mu - L*(1-norm.cdf(L,loc=mu,scale=sigma))\n",
    "minimize(EY, 2)"
   ]
  },
  {
   "cell_type": "code",
   "execution_count": 14,
   "metadata": {
    "ExecuteTime": {
     "end_time": "2021-11-07T07:51:43.605717Z",
     "start_time": "2021-11-07T07:51:43.581720Z"
    }
   },
   "outputs": [
    {
     "data": {
      "text/plain": [
       "3.3976731247300535e-06"
      ]
     },
     "execution_count": 14,
     "metadata": {},
     "output_type": "execute_result"
    }
   ],
   "source": [
    "from scipy.stats import norm\n",
    "norm.cdf(0,loc=360,scale=80)"
   ]
  },
  {
   "cell_type": "code",
   "execution_count": null,
   "metadata": {
    "ExecuteTime": {
     "end_time": "2019-11-22T07:53:11.415063Z",
     "start_time": "2019-11-22T07:53:10.028029Z"
    }
   },
   "outputs": [],
   "source": [
    "%pylab inline\n",
    "plt.style.use('ggplot')"
   ]
  },
  {
   "cell_type": "markdown",
   "metadata": {},
   "source": [
    "Note the import convention:"
   ]
  },
  {
   "cell_type": "code",
   "execution_count": null,
   "metadata": {
    "ExecuteTime": {
     "end_time": "2019-11-22T07:53:12.254985Z",
     "start_time": "2019-11-22T07:53:11.421490Z"
    }
   },
   "outputs": [],
   "source": [
    "import numpy as np\n",
    "import pandas as pd"
   ]
  },
  {
   "cell_type": "code",
   "execution_count": null,
   "metadata": {},
   "outputs": [],
   "source": [
    "np.random.seed(983456)"
   ]
  },
  {
   "cell_type": "markdown",
   "metadata": {},
   "source": [
    "## Creating `pd.Series`"
   ]
  },
  {
   "cell_type": "markdown",
   "metadata": {},
   "source": [
    "When creating Pandas `Series` you can provide values only:"
   ]
  },
  {
   "cell_type": "code",
   "execution_count": null,
   "metadata": {
    "ExecuteTime": {
     "end_time": "2019-11-19T15:05:09.482653Z",
     "start_time": "2019-11-19T15:05:09.469730Z"
    }
   },
   "outputs": [],
   "source": [
    "s = pd.Series(np.random.randn(10))\n",
    "s"
   ]
  },
  {
   "cell_type": "markdown",
   "metadata": {},
   "source": [
    "Values and series name:"
   ]
  },
  {
   "cell_type": "code",
   "execution_count": null,
   "metadata": {
    "ExecuteTime": {
     "end_time": "2019-11-19T15:05:09.772338Z",
     "start_time": "2019-11-19T15:05:09.766254Z"
    }
   },
   "outputs": [],
   "source": [
    "s = pd.Series(np.random.randn(10), name=\"random_series\")\n",
    "s"
   ]
  },
  {
   "cell_type": "markdown",
   "metadata": {},
   "source": [
    "Values, index and series name:"
   ]
  },
  {
   "cell_type": "code",
   "execution_count": null,
   "metadata": {
    "ExecuteTime": {
     "end_time": "2019-11-19T15:05:10.343318Z",
     "start_time": "2019-11-19T15:05:10.335682Z"
    }
   },
   "outputs": [],
   "source": [
    "s = pd.Series(np.random.randn(10), name=\"random_series\",\n",
    "              index=np.random.randint(23, size=(10,)))\n",
    "s"
   ]
  },
  {
   "cell_type": "code",
   "execution_count": null,
   "metadata": {
    "ExecuteTime": {
     "end_time": "2019-11-19T15:05:17.076291Z",
     "start_time": "2019-11-19T15:05:17.069972Z"
    }
   },
   "outputs": [],
   "source": [
    "s.index"
   ]
  },
  {
   "cell_type": "markdown",
   "metadata": {},
   "source": [
    "Index can be created explicitly (and can have it's own name):"
   ]
  },
  {
   "cell_type": "code",
   "execution_count": null,
   "metadata": {
    "ExecuteTime": {
     "end_time": "2019-11-19T15:05:18.174541Z",
     "start_time": "2019-11-19T15:05:18.163393Z"
    }
   },
   "outputs": [],
   "source": [
    "s = pd.Series(np.random.randn(10), name=\"random_series\",\n",
    "              index=pd.Index(np.random.randint(23, size=(10,)), name=\"main_index\"))\n",
    "s"
   ]
  },
  {
   "cell_type": "code",
   "execution_count": null,
   "metadata": {
    "ExecuteTime": {
     "end_time": "2019-11-19T15:05:18.945224Z",
     "start_time": "2019-11-19T15:05:18.940316Z"
    }
   },
   "outputs": [],
   "source": [
    "s.index"
   ]
  },
  {
   "cell_type": "markdown",
   "metadata": {},
   "source": [
    "Series can be created from a dictionary as well"
   ]
  },
  {
   "cell_type": "code",
   "execution_count": null,
   "metadata": {
    "ExecuteTime": {
     "end_time": "2019-11-19T15:06:23.475802Z",
     "start_time": "2019-11-19T15:06:23.468674Z"
    }
   },
   "outputs": [],
   "source": [
    "s = pd.Series({'a':3, 'c':6, 'b':2}, name=\"dict_series\")\n",
    "s"
   ]
  },
  {
   "cell_type": "code",
   "execution_count": null,
   "metadata": {
    "ExecuteTime": {
     "end_time": "2019-11-19T15:06:24.218271Z",
     "start_time": "2019-11-19T15:06:24.211736Z"
    }
   },
   "outputs": [],
   "source": [
    "s.index"
   ]
  },
  {
   "cell_type": "markdown",
   "metadata": {},
   "source": [
    "## Creating `pd.DataFrame`"
   ]
  },
  {
   "cell_type": "markdown",
   "metadata": {},
   "source": [
    "Agai, we can use just values and Pandas will create an index (both row and column) for us:"
   ]
  },
  {
   "cell_type": "code",
   "execution_count": null,
   "metadata": {
    "ExecuteTime": {
     "end_time": "2019-11-22T07:54:03.180978Z",
     "start_time": "2019-11-22T07:54:03.130828Z"
    }
   },
   "outputs": [],
   "source": [
    "df = pd.DataFrame(np.arange(20).reshape((5,4)))\n",
    "df"
   ]
  },
  {
   "cell_type": "markdown",
   "metadata": {},
   "source": [
    "Easy way to access data types in a dataframe:"
   ]
  },
  {
   "cell_type": "code",
   "execution_count": null,
   "metadata": {},
   "outputs": [],
   "source": [
    "df.dtypes"
   ]
  },
  {
   "cell_type": "markdown",
   "metadata": {},
   "source": [
    "We can provide column names:"
   ]
  },
  {
   "cell_type": "code",
   "execution_count": null,
   "metadata": {
    "ExecuteTime": {
     "end_time": "2019-11-22T07:54:31.335197Z",
     "start_time": "2019-11-22T07:54:31.306095Z"
    }
   },
   "outputs": [],
   "source": [
    "df = pd.DataFrame(np.arange(20).reshape((5,4)),\n",
    "                  columns=['a', 'b', 'c', 'd'])\n",
    "df"
   ]
  },
  {
   "cell_type": "markdown",
   "metadata": {},
   "source": [
    "Values, index and column names:"
   ]
  },
  {
   "cell_type": "code",
   "execution_count": null,
   "metadata": {
    "ExecuteTime": {
     "end_time": "2019-11-22T07:55:46.552379Z",
     "start_time": "2019-11-22T07:55:46.509107Z"
    }
   },
   "outputs": [],
   "source": [
    "import string\n",
    "df = pd.DataFrame(np.arange(20).reshape((5,4)),\n",
    "                  columns=['a', 'b', 'c', 'd'],\n",
    "                  index=np.random.choice(list(string.ascii_lowercase), 5, replace=False))\n",
    "df"
   ]
  },
  {
   "cell_type": "code",
   "execution_count": null,
   "metadata": {
    "ExecuteTime": {
     "end_time": "2019-11-22T07:55:54.264361Z",
     "start_time": "2019-11-22T07:55:54.254992Z"
    }
   },
   "outputs": [],
   "source": [
    "df.columns"
   ]
  },
  {
   "cell_type": "code",
   "execution_count": null,
   "metadata": {
    "ExecuteTime": {
     "end_time": "2019-11-22T07:55:56.694203Z",
     "start_time": "2019-11-22T07:55:56.683866Z"
    }
   },
   "outputs": [],
   "source": [
    "df.index"
   ]
  },
  {
   "cell_type": "markdown",
   "metadata": {},
   "source": [
    "Can you guess what does `df['a']` mean?"
   ]
  },
  {
   "cell_type": "code",
   "execution_count": null,
   "metadata": {
    "ExecuteTime": {
     "end_time": "2019-11-22T07:56:49.372488Z",
     "start_time": "2019-11-22T07:56:49.358509Z"
    }
   },
   "outputs": [],
   "source": [
    "df['a']"
   ]
  },
  {
   "cell_type": "markdown",
   "metadata": {},
   "source": [
    "Can we access a row in the same way?"
   ]
  },
  {
   "cell_type": "code",
   "execution_count": null,
   "metadata": {
    "ExecuteTime": {
     "end_time": "2019-11-22T07:57:52.516581Z",
     "start_time": "2019-11-22T07:57:52.213871Z"
    }
   },
   "outputs": [],
   "source": [
    "df['h']"
   ]
  },
  {
   "cell_type": "markdown",
   "metadata": {},
   "source": [
    "Each column is `pd.Series`:"
   ]
  },
  {
   "cell_type": "code",
   "execution_count": null,
   "metadata": {
    "ExecuteTime": {
     "end_time": "2019-11-22T07:57:21.115919Z",
     "start_time": "2019-11-22T07:57:21.098043Z"
    }
   },
   "outputs": [],
   "source": [
    "type(df['a'])"
   ]
  },
  {
   "cell_type": "markdown",
   "metadata": {},
   "source": [
    "# Reading CSV files\n",
    "\n",
    "We will use [Titanic dataset](https://www.kaggle.com/c/titanic/data):"
   ]
  },
  {
   "cell_type": "code",
   "execution_count": null,
   "metadata": {
    "ExecuteTime": {
     "end_time": "2019-11-22T10:35:07.228652Z",
     "start_time": "2019-11-22T10:35:07.203405Z"
    }
   },
   "outputs": [],
   "source": [
    "titanic_train = pd.read_csv('train.csv')"
   ]
  },
  {
   "cell_type": "markdown",
   "metadata": {},
   "source": [
    "By default, Pandas creates an integer row index and reads column names from `0-th` row of a CSV file:"
   ]
  },
  {
   "cell_type": "code",
   "execution_count": null,
   "metadata": {},
   "outputs": [],
   "source": [
    "titanic_train"
   ]
  },
  {
   "cell_type": "markdown",
   "metadata": {},
   "source": [
    "Glimpse into a dataframe:"
   ]
  },
  {
   "cell_type": "code",
   "execution_count": null,
   "metadata": {
    "ExecuteTime": {
     "end_time": "2019-11-22T10:28:47.287841Z",
     "start_time": "2019-11-22T10:28:47.242456Z"
    }
   },
   "outputs": [],
   "source": [
    "titanic_train.head()"
   ]
  },
  {
   "cell_type": "code",
   "execution_count": null,
   "metadata": {
    "ExecuteTime": {
     "end_time": "2019-11-22T10:29:48.105282Z",
     "start_time": "2019-11-22T10:29:48.075157Z"
    }
   },
   "outputs": [],
   "source": [
    "titanic_train.tail()"
   ]
  },
  {
   "cell_type": "code",
   "execution_count": null,
   "metadata": {
    "ExecuteTime": {
     "end_time": "2019-11-22T10:30:13.035905Z",
     "start_time": "2019-11-22T10:30:13.001749Z"
    }
   },
   "outputs": [],
   "source": [
    "titanic_train.info()"
   ]
  },
  {
   "cell_type": "code",
   "execution_count": null,
   "metadata": {
    "ExecuteTime": {
     "end_time": "2019-11-22T10:31:12.258415Z",
     "start_time": "2019-11-22T10:31:12.165880Z"
    }
   },
   "outputs": [],
   "source": [
    "titanic_train.describe()"
   ]
  },
  {
   "cell_type": "code",
   "execution_count": null,
   "metadata": {},
   "outputs": [],
   "source": [
    "titanic_train"
   ]
  },
  {
   "cell_type": "markdown",
   "metadata": {},
   "source": [
    "## Basic indexing of Pandas dataframes"
   ]
  },
  {
   "cell_type": "markdown",
   "metadata": {},
   "source": [
    "We can set index column in `pd.read_csv`:"
   ]
  },
  {
   "cell_type": "code",
   "execution_count": null,
   "metadata": {},
   "outputs": [],
   "source": [
    "titanic_train = pd.read_csv('train.csv', index_col='PassengerId')\n",
    "titanic_test = pd.read_csv('test.csv', index_col='PassengerId')"
   ]
  },
  {
   "cell_type": "markdown",
   "metadata": {},
   "source": [
    "Accessing a single column:"
   ]
  },
  {
   "cell_type": "code",
   "execution_count": null,
   "metadata": {},
   "outputs": [],
   "source": [
    "titanic_train[\"Survived\"]"
   ]
  },
  {
   "cell_type": "markdown",
   "metadata": {},
   "source": [
    "A set of columns:"
   ]
  },
  {
   "cell_type": "code",
   "execution_count": null,
   "metadata": {},
   "outputs": [],
   "source": [
    "titanic_train[[\"Name\", \"Survived\"]]"
   ]
  },
  {
   "cell_type": "markdown",
   "metadata": {},
   "source": [
    "Just in case, column order is not important (usually):"
   ]
  },
  {
   "cell_type": "code",
   "execution_count": null,
   "metadata": {},
   "outputs": [],
   "source": [
    "%timeit titanic_train[[\"Name\", \"Survived\"]]"
   ]
  },
  {
   "cell_type": "code",
   "execution_count": null,
   "metadata": {},
   "outputs": [],
   "source": [
    "%timeit titanic_train[[\"Survived\", \"Name\"]]"
   ]
  },
  {
   "cell_type": "markdown",
   "metadata": {},
   "source": [
    "Integer indexing is also available with `[]` notation, but with some peculiarities:"
   ]
  },
  {
   "cell_type": "code",
   "execution_count": null,
   "metadata": {},
   "outputs": [],
   "source": [
    "titanic_train[2:4]"
   ]
  },
  {
   "cell_type": "markdown",
   "metadata": {},
   "source": [
    "But:"
   ]
  },
  {
   "cell_type": "code",
   "execution_count": null,
   "metadata": {},
   "outputs": [],
   "source": [
    "titanic_train[2]"
   ]
  },
  {
   "cell_type": "markdown",
   "metadata": {},
   "source": [
    "`[]` may be ambiguous, and it's better to use it only for column access. If you want to use row labels, use `.loc`:"
   ]
  },
  {
   "cell_type": "code",
   "execution_count": null,
   "metadata": {},
   "outputs": [],
   "source": [
    "titanic_train.loc[2]"
   ]
  },
  {
   "cell_type": "code",
   "execution_count": null,
   "metadata": {},
   "outputs": [],
   "source": [
    "titanic_train.head()"
   ]
  },
  {
   "cell_type": "markdown",
   "metadata": {},
   "source": [
    "Note, that `titanic_train.loc[...]` is label-based, not positional, although row labels are integers. This is even more elaborated for non-monotonic indexes (both default one and `PassengerId` are unique and monotonic)."
   ]
  },
  {
   "cell_type": "markdown",
   "metadata": {},
   "source": [
    "Label-based slice (inclusive bounds):"
   ]
  },
  {
   "cell_type": "code",
   "execution_count": null,
   "metadata": {},
   "outputs": [],
   "source": [
    "titanic_train.loc[2:4]"
   ]
  },
  {
   "cell_type": "markdown",
   "metadata": {},
   "source": [
    "Positional slice (exclusive upper bound):"
   ]
  },
  {
   "cell_type": "code",
   "execution_count": null,
   "metadata": {},
   "outputs": [],
   "source": [
    "titanic_train[2:4]"
   ]
  },
  {
   "cell_type": "markdown",
   "metadata": {},
   "source": [
    "`.loc` indexing is very flexible and can combine row and column access in one run:"
   ]
  },
  {
   "cell_type": "code",
   "execution_count": null,
   "metadata": {},
   "outputs": [],
   "source": [
    "titanic_train.loc[2:4, \"Age\"]"
   ]
  },
  {
   "cell_type": "code",
   "execution_count": null,
   "metadata": {},
   "outputs": [],
   "source": [
    "titanic_train.loc[2:4, [\"Age\"]]"
   ]
  },
  {
   "cell_type": "markdown",
   "metadata": {},
   "source": [
    "This one won't work:"
   ]
  },
  {
   "cell_type": "code",
   "execution_count": null,
   "metadata": {},
   "outputs": [],
   "source": [
    "titanic_train[2:4, [\"Age\"]]"
   ]
  },
  {
   "cell_type": "code",
   "execution_count": null,
   "metadata": {},
   "outputs": [],
   "source": [
    "titanic_train.loc[2:10:2, [\"Age\"]]"
   ]
  },
  {
   "cell_type": "code",
   "execution_count": null,
   "metadata": {},
   "outputs": [],
   "source": [
    "titanic_train.loc[titanic_train[\"Age\"] < 5, [\"Name\", \"Pclass\"]]"
   ]
  },
  {
   "cell_type": "code",
   "execution_count": null,
   "metadata": {},
   "outputs": [],
   "source": [
    "titanic_train.loc[(titanic_train[\"Age\"] < 5) & (titanic_train.Pclass == 2), \"Name\"]"
   ]
  },
  {
   "cell_type": "markdown",
   "metadata": {},
   "source": [
    "This won't work:"
   ]
  },
  {
   "cell_type": "code",
   "execution_count": null,
   "metadata": {},
   "outputs": [],
   "source": [
    "titanic_train.loc[titanic_train[\"Age\"] < 5 & titanic_train.Pclass == 2, \"Name\"]"
   ]
  },
  {
   "cell_type": "code",
   "execution_count": null,
   "metadata": {},
   "outputs": [],
   "source": [
    "titanic_train[\"Age\"] < 5 & titanic_train.Pclass"
   ]
  },
  {
   "cell_type": "code",
   "execution_count": null,
   "metadata": {},
   "outputs": [],
   "source": [
    "titanic_train[\"Age\"] < 5 & titanic_train.Pclass == 2"
   ]
  },
  {
   "cell_type": "markdown",
   "metadata": {},
   "source": [
    "`.iloc`, in contrast, is explicitly positional and can combine both row and column positions (and upper bounds are always exclusive):"
   ]
  },
  {
   "cell_type": "code",
   "execution_count": null,
   "metadata": {},
   "outputs": [],
   "source": [
    "titanic_train.iloc[:2, 3]  # Note resulting series name: Pandas preserves column name"
   ]
  },
  {
   "cell_type": "code",
   "execution_count": null,
   "metadata": {},
   "outputs": [],
   "source": [
    "titanic_train.iloc[:2, 3:5]"
   ]
  },
  {
   "cell_type": "markdown",
   "metadata": {},
   "source": [
    "You cannot mix positional and label-based indexing:"
   ]
  },
  {
   "cell_type": "code",
   "execution_count": null,
   "metadata": {},
   "outputs": [],
   "source": [
    "titanic_train.iloc[:2, \"Name\"]"
   ]
  },
  {
   "cell_type": "markdown",
   "metadata": {},
   "source": [
    "But you still can use filtering:"
   ]
  },
  {
   "cell_type": "code",
   "execution_count": null,
   "metadata": {},
   "outputs": [],
   "source": [
    "titanic_train.iloc[(titanic_train.Age < 10).values, 2]  # titanic_train.iloc[titanic_train.Age < 10, 2] won't work"
   ]
  },
  {
   "cell_type": "markdown",
   "metadata": {},
   "source": [
    "## Performance"
   ]
  },
  {
   "cell_type": "markdown",
   "metadata": {},
   "source": [
    "But how index is useful? (note the filtering notation)"
   ]
  },
  {
   "cell_type": "code",
   "execution_count": null,
   "metadata": {},
   "outputs": [],
   "source": [
    "titanic_train = pd.read_csv('train.csv')"
   ]
  },
  {
   "cell_type": "code",
   "execution_count": null,
   "metadata": {
    "ExecuteTime": {
     "end_time": "2019-11-22T10:35:42.076813Z",
     "start_time": "2019-11-22T10:35:40.370862Z"
    }
   },
   "outputs": [],
   "source": [
    "%timeit titanic_train[titanic_train.PassengerId==400]"
   ]
  },
  {
   "cell_type": "code",
   "execution_count": null,
   "metadata": {
    "ExecuteTime": {
     "end_time": "2019-11-22T10:35:49.140951Z",
     "start_time": "2019-11-22T10:35:49.094692Z"
    }
   },
   "outputs": [],
   "source": [
    "titanic_train = pd.read_csv('train.csv', index_col='PassengerId')"
   ]
  },
  {
   "cell_type": "code",
   "execution_count": null,
   "metadata": {
    "ExecuteTime": {
     "end_time": "2019-11-22T10:36:17.815273Z",
     "start_time": "2019-11-22T10:36:13.269503Z"
    }
   },
   "outputs": [],
   "source": [
    "%timeit titanic_train.loc[400]"
   ]
  },
  {
   "cell_type": "markdown",
   "metadata": {},
   "source": [
    "## Combining dataframes"
   ]
  },
  {
   "cell_type": "code",
   "execution_count": null,
   "metadata": {},
   "outputs": [],
   "source": [
    "pd.concat([titanic_train, titanic_test], ignore_index=True)"
   ]
  },
  {
   "cell_type": "markdown",
   "metadata": {},
   "source": [
    "Note, how Pandas filled `Survived` column (which is not even present `titanic_test`!). Better way to combine dataframes when index has actual meaning:"
   ]
  },
  {
   "cell_type": "code",
   "execution_count": null,
   "metadata": {
    "ExecuteTime": {
     "end_time": "2019-11-22T10:37:12.769311Z",
     "start_time": "2019-11-22T10:37:12.742545Z"
    }
   },
   "outputs": [],
   "source": [
    "titanic = pd.concat([titanic_train, titanic_test])"
   ]
  },
  {
   "cell_type": "code",
   "execution_count": null,
   "metadata": {},
   "outputs": [],
   "source": [
    "titanic"
   ]
  },
  {
   "cell_type": "markdown",
   "metadata": {},
   "source": [
    "# Indexing `pd.Series` in depth"
   ]
  },
  {
   "cell_type": "code",
   "execution_count": null,
   "metadata": {
    "ExecuteTime": {
     "end_time": "2019-11-22T08:09:09.974881Z",
     "start_time": "2019-11-22T08:09:09.955607Z"
    }
   },
   "outputs": [],
   "source": [
    "np.random.seed(983456)\n",
    "\n",
    "N_ELEMS = 20\n",
    "\n",
    "s = pd.Series(np.random.randint(20, size=(N_ELEMS,)),\n",
    "              index=list(string.ascii_lowercase)[:N_ELEMS],\n",
    "              name='randint_series')\n",
    "s"
   ]
  },
  {
   "cell_type": "markdown",
   "metadata": {},
   "source": [
    "## Indexing with `[]`"
   ]
  },
  {
   "cell_type": "code",
   "execution_count": null,
   "metadata": {
    "ExecuteTime": {
     "end_time": "2019-11-19T11:45:14.962117Z",
     "start_time": "2019-11-19T11:45:14.953765Z"
    }
   },
   "outputs": [],
   "source": [
    "s"
   ]
  },
  {
   "cell_type": "code",
   "execution_count": null,
   "metadata": {
    "ExecuteTime": {
     "end_time": "2019-11-22T08:09:30.535508Z",
     "start_time": "2019-11-22T08:09:30.526501Z"
    }
   },
   "outputs": [],
   "source": [
    "s['i']  # But there's a caveat: it may be series or just an element"
   ]
  },
  {
   "cell_type": "code",
   "execution_count": null,
   "metadata": {
    "ExecuteTime": {
     "end_time": "2019-11-22T08:09:32.520886Z",
     "start_time": "2019-11-22T08:09:32.508686Z"
    }
   },
   "outputs": [],
   "source": [
    "s[['i']]"
   ]
  },
  {
   "cell_type": "markdown",
   "metadata": {},
   "source": [
    "Slicing works not the way you would expect it to work (both bounds are inclusive):"
   ]
  },
  {
   "cell_type": "code",
   "execution_count": null,
   "metadata": {
    "ExecuteTime": {
     "end_time": "2019-11-22T08:09:42.155953Z",
     "start_time": "2019-11-22T08:09:42.141736Z"
    }
   },
   "outputs": [],
   "source": [
    "s['a':'f']"
   ]
  },
  {
   "cell_type": "markdown",
   "metadata": {},
   "source": [
    "Indexing array work as well:"
   ]
  },
  {
   "cell_type": "code",
   "execution_count": null,
   "metadata": {
    "ExecuteTime": {
     "end_time": "2019-11-22T08:09:53.104506Z",
     "start_time": "2019-11-22T08:09:53.085061Z"
    }
   },
   "outputs": [],
   "source": [
    "s[['k', 'q', 'a', 'r']]"
   ]
  },
  {
   "cell_type": "code",
   "execution_count": null,
   "metadata": {},
   "outputs": [],
   "source": [
    "s.index"
   ]
  },
  {
   "cell_type": "markdown",
   "metadata": {},
   "source": [
    "Note, that positional indexing works as well:"
   ]
  },
  {
   "cell_type": "code",
   "execution_count": null,
   "metadata": {},
   "outputs": [],
   "source": [
    "s[0:5]"
   ]
  },
  {
   "cell_type": "code",
   "execution_count": null,
   "metadata": {
    "ExecuteTime": {
     "end_time": "2019-11-22T08:10:00.060377Z",
     "start_time": "2019-11-22T08:10:00.047847Z"
    }
   },
   "outputs": [],
   "source": [
    "s[5:3:-1]"
   ]
  },
  {
   "cell_type": "markdown",
   "metadata": {},
   "source": [
    "## Indexing with `.loc`"
   ]
  },
  {
   "cell_type": "code",
   "execution_count": null,
   "metadata": {
    "ExecuteTime": {
     "end_time": "2019-11-22T08:11:11.162056Z",
     "start_time": "2019-11-22T08:11:11.149711Z"
    }
   },
   "outputs": [],
   "source": [
    "np.random.seed(983456)\n",
    "\n",
    "s_int_idx = pd.Series(np.random.randint(20, size=(N_ELEMS,)),\n",
    "                      index=np.random.choice(N_ELEMS, N_ELEMS, replace=False),\n",
    "                      name='randint_series')\n",
    "s_int_idx"
   ]
  },
  {
   "cell_type": "markdown",
   "metadata": {},
   "source": [
    "We have integer index. What if we use slicing here? Will it go positional or use row index?"
   ]
  },
  {
   "cell_type": "code",
   "execution_count": null,
   "metadata": {
    "ExecuteTime": {
     "end_time": "2019-11-22T08:12:04.688803Z",
     "start_time": "2019-11-22T08:12:04.666362Z"
    }
   },
   "outputs": [],
   "source": [
    "s_int_idx[2:15]"
   ]
  },
  {
   "cell_type": "markdown",
   "metadata": {},
   "source": [
    "Surprising. But that's the way Pandas works and you'll love it over time (it's API is strongly tailored to most common operations making them more concise)."
   ]
  },
  {
   "cell_type": "code",
   "execution_count": null,
   "metadata": {
    "ExecuteTime": {
     "end_time": "2019-11-22T08:13:01.799674Z",
     "start_time": "2019-11-22T08:13:01.786540Z"
    }
   },
   "outputs": [],
   "source": [
    "s_int_idx[2]  # label"
   ]
  },
  {
   "cell_type": "code",
   "execution_count": null,
   "metadata": {
    "ExecuteTime": {
     "end_time": "2019-11-22T08:13:27.690284Z",
     "start_time": "2019-11-22T08:13:27.673310Z"
    }
   },
   "outputs": [],
   "source": [
    "s_int_idx[2:5]  # position"
   ]
  },
  {
   "cell_type": "markdown",
   "metadata": {},
   "source": [
    "Boolean mask? Sure."
   ]
  },
  {
   "cell_type": "code",
   "execution_count": null,
   "metadata": {
    "ExecuteTime": {
     "end_time": "2019-11-22T08:13:56.026253Z",
     "start_time": "2019-11-22T08:13:56.005377Z"
    }
   },
   "outputs": [],
   "source": [
    "s_int_idx[s_int_idx.index.isin(range(2,6))]"
   ]
  },
  {
   "cell_type": "code",
   "execution_count": null,
   "metadata": {},
   "outputs": [],
   "source": [
    "s_int_idx"
   ]
  },
  {
   "cell_type": "markdown",
   "metadata": {},
   "source": [
    "Again, `[]` may often be ambiguous. Use `.loc` or `.iloc` to make your code readable and clean:"
   ]
  },
  {
   "cell_type": "code",
   "execution_count": null,
   "metadata": {
    "ExecuteTime": {
     "end_time": "2019-11-22T08:14:31.570554Z",
     "start_time": "2019-11-22T08:14:31.549832Z"
    }
   },
   "outputs": [],
   "source": [
    "s_int_idx.loc[2:15]  # label"
   ]
  },
  {
   "cell_type": "code",
   "execution_count": null,
   "metadata": {
    "ExecuteTime": {
     "end_time": "2019-11-22T08:14:56.400345Z",
     "start_time": "2019-11-22T08:14:56.385716Z"
    }
   },
   "outputs": [],
   "source": [
    "s_int_idx.iloc[2:15]  # position"
   ]
  },
  {
   "cell_type": "markdown",
   "metadata": {},
   "source": [
    "What if we take some random upper bound? It won't work generally:"
   ]
  },
  {
   "cell_type": "code",
   "execution_count": null,
   "metadata": {
    "ExecuteTime": {
     "end_time": "2019-11-22T08:15:50.100779Z",
     "start_time": "2019-11-22T08:15:49.967437Z"
    }
   },
   "outputs": [],
   "source": [
    "s_int_idx.loc[2:456]"
   ]
  },
  {
   "cell_type": "markdown",
   "metadata": {},
   "source": [
    "Because of this:"
   ]
  },
  {
   "cell_type": "code",
   "execution_count": null,
   "metadata": {},
   "outputs": [],
   "source": [
    "s_int_idx.index.is_monotonic"
   ]
  },
  {
   "cell_type": "markdown",
   "metadata": {},
   "source": [
    "But we can make it work (or rather you now know when it works and when it doesn't):"
   ]
  },
  {
   "cell_type": "code",
   "execution_count": null,
   "metadata": {},
   "outputs": [],
   "source": [
    "s_int_idx.sort_index().loc[2:234]"
   ]
  },
  {
   "cell_type": "markdown",
   "metadata": {},
   "source": [
    "Because:"
   ]
  },
  {
   "cell_type": "code",
   "execution_count": null,
   "metadata": {},
   "outputs": [],
   "source": [
    "s_int_idx.sort_index().index.is_monotonic"
   ]
  },
  {
   "cell_type": "markdown",
   "metadata": {},
   "source": [
    "We'll see why this works a bit later. We can do complex filtering/masking/boolean indexing as well:"
   ]
  },
  {
   "cell_type": "code",
   "execution_count": null,
   "metadata": {
    "ExecuteTime": {
     "end_time": "2019-11-22T08:26:13.865062Z",
     "start_time": "2019-11-22T08:26:13.850033Z"
    }
   },
   "outputs": [],
   "source": [
    "s_int_idx[s_int_idx.index!=11]"
   ]
  },
  {
   "cell_type": "code",
   "execution_count": null,
   "metadata": {
    "ExecuteTime": {
     "end_time": "2019-11-22T08:28:05.175620Z",
     "start_time": "2019-11-22T08:28:05.155895Z"
    }
   },
   "outputs": [],
   "source": [
    "s_int_idx[(s_int_idx>15) | (s_int_idx<5)]"
   ]
  },
  {
   "cell_type": "code",
   "execution_count": null,
   "metadata": {
    "ExecuteTime": {
     "end_time": "2019-11-22T08:28:55.380668Z",
     "start_time": "2019-11-22T08:28:55.358326Z"
    }
   },
   "outputs": [],
   "source": [
    "s_int_idx.loc[s_int_idx!=14]"
   ]
  },
  {
   "cell_type": "markdown",
   "metadata": {},
   "source": [
    "# Indexing `pd.DataFrame`"
   ]
  },
  {
   "cell_type": "code",
   "execution_count": null,
   "metadata": {
    "ExecuteTime": {
     "end_time": "2019-11-22T08:48:11.738432Z",
     "start_time": "2019-11-22T08:48:11.707003Z"
    }
   },
   "outputs": [],
   "source": [
    "np.random.seed(983456)\n",
    "\n",
    "df = pd.DataFrame(np.arange(20).reshape((5,4)),\n",
    "                  columns=['d', 'c', 'b', 'a'],\n",
    "                  index=np.random.choice(list(string.ascii_lowercase), 5, replace=False))\n",
    "df"
   ]
  },
  {
   "cell_type": "markdown",
   "metadata": {},
   "source": [
    "Ok, so `[]` (without `loc` or `iloc`) probably is positional?"
   ]
  },
  {
   "cell_type": "code",
   "execution_count": null,
   "metadata": {
    "ExecuteTime": {
     "end_time": "2019-11-22T08:48:23.847833Z",
     "start_time": "2019-11-22T08:48:23.822478Z"
    }
   },
   "outputs": [],
   "source": [
    "df[2:5]"
   ]
  },
  {
   "cell_type": "code",
   "execution_count": null,
   "metadata": {
    "ExecuteTime": {
     "end_time": "2019-11-22T08:49:05.425395Z",
     "start_time": "2019-11-22T08:49:05.310104Z"
    }
   },
   "outputs": [],
   "source": [
    "df['o'] # Nope, it doesn't work that way"
   ]
  },
  {
   "cell_type": "markdown",
   "metadata": {},
   "source": [
    "But here's the thing: **the same** `[]` notation works differently if you're using column labels:"
   ]
  },
  {
   "cell_type": "code",
   "execution_count": null,
   "metadata": {
    "ExecuteTime": {
     "end_time": "2019-11-22T08:49:35.866944Z",
     "start_time": "2019-11-22T08:49:35.855448Z"
    }
   },
   "outputs": [],
   "source": [
    "df['a']"
   ]
  },
  {
   "cell_type": "code",
   "execution_count": null,
   "metadata": {},
   "outputs": [],
   "source": [
    "df"
   ]
  },
  {
   "cell_type": "markdown",
   "metadata": {},
   "source": [
    "Note, that this one returns a dataframe:"
   ]
  },
  {
   "cell_type": "code",
   "execution_count": null,
   "metadata": {
    "ExecuteTime": {
     "end_time": "2019-11-22T08:49:51.861004Z",
     "start_time": "2019-11-22T08:49:51.817073Z"
    }
   },
   "outputs": [],
   "source": [
    "df[['b']]"
   ]
  },
  {
   "cell_type": "markdown",
   "metadata": {},
   "source": [
    "... and this one returns `pd.Series`:"
   ]
  },
  {
   "cell_type": "code",
   "execution_count": null,
   "metadata": {},
   "outputs": [],
   "source": [
    "df['b']"
   ]
  },
  {
   "cell_type": "code",
   "execution_count": null,
   "metadata": {
    "ExecuteTime": {
     "end_time": "2019-11-22T08:50:20.158248Z",
     "start_time": "2019-11-22T08:50:20.126476Z"
    }
   },
   "outputs": [],
   "source": [
    "df"
   ]
  },
  {
   "cell_type": "code",
   "execution_count": null,
   "metadata": {
    "ExecuteTime": {
     "end_time": "2019-11-22T08:50:20.868649Z",
     "start_time": "2019-11-22T08:50:20.858082Z"
    }
   },
   "outputs": [],
   "source": [
    "df.columns"
   ]
  },
  {
   "cell_type": "code",
   "execution_count": null,
   "metadata": {},
   "outputs": [],
   "source": [
    "df.columns[2:]"
   ]
  },
  {
   "cell_type": "code",
   "execution_count": null,
   "metadata": {
    "ExecuteTime": {
     "end_time": "2019-11-22T08:50:46.787696Z",
     "start_time": "2019-11-22T08:50:46.765817Z"
    }
   },
   "outputs": [],
   "source": [
    "df[df.columns[2:]]"
   ]
  },
  {
   "cell_type": "code",
   "execution_count": null,
   "metadata": {
    "ExecuteTime": {
     "end_time": "2019-11-22T08:51:41.164278Z",
     "start_time": "2019-11-22T08:51:41.136839Z"
    }
   },
   "outputs": [],
   "source": [
    "df.iloc[:, 2:]"
   ]
  },
  {
   "cell_type": "code",
   "execution_count": null,
   "metadata": {
    "ExecuteTime": {
     "end_time": "2019-11-22T08:52:19.399798Z",
     "start_time": "2019-11-22T08:52:19.374679Z"
    }
   },
   "outputs": [],
   "source": [
    "df"
   ]
  },
  {
   "cell_type": "markdown",
   "metadata": {},
   "source": [
    "So, `[]` is positional. Is it?"
   ]
  },
  {
   "cell_type": "code",
   "execution_count": null,
   "metadata": {
    "ExecuteTime": {
     "end_time": "2019-11-22T08:53:18.752573Z",
     "start_time": "2019-11-22T08:53:18.730255Z"
    }
   },
   "outputs": [],
   "source": [
    "df[:'g'] # Surprising!"
   ]
  },
  {
   "cell_type": "code",
   "execution_count": null,
   "metadata": {
    "ExecuteTime": {
     "end_time": "2019-11-22T08:55:40.263993Z",
     "start_time": "2019-11-22T08:55:40.237493Z"
    }
   },
   "outputs": [],
   "source": [
    "df['a':'u'] # Not really surprising"
   ]
  },
  {
   "cell_type": "code",
   "execution_count": null,
   "metadata": {
    "ExecuteTime": {
     "end_time": "2019-11-22T08:55:28.455415Z",
     "start_time": "2019-11-22T08:55:28.433505Z"
    }
   },
   "outputs": [],
   "source": [
    "df.sort_index()['a':'u']"
   ]
  },
  {
   "cell_type": "markdown",
   "metadata": {},
   "source": [
    "But neither `a`, nor `u` are even in row index!"
   ]
  },
  {
   "cell_type": "code",
   "execution_count": null,
   "metadata": {},
   "outputs": [],
   "source": [
    "df"
   ]
  },
  {
   "cell_type": "code",
   "execution_count": null,
   "metadata": {
    "ExecuteTime": {
     "end_time": "2019-11-22T08:56:32.903522Z",
     "start_time": "2019-11-22T08:56:32.881797Z"
    }
   },
   "outputs": [],
   "source": [
    "df['d':]"
   ]
  },
  {
   "cell_type": "code",
   "execution_count": null,
   "metadata": {},
   "outputs": [],
   "source": [
    "df[\"x\":]"
   ]
  },
  {
   "cell_type": "markdown",
   "metadata": {},
   "source": [
    "But:"
   ]
  },
  {
   "cell_type": "code",
   "execution_count": null,
   "metadata": {
    "ExecuteTime": {
     "end_time": "2019-11-22T08:56:36.501875Z",
     "start_time": "2019-11-22T08:56:36.466043Z"
    }
   },
   "outputs": [],
   "source": [
    "df.sort_index()['d':]"
   ]
  },
  {
   "cell_type": "code",
   "execution_count": null,
   "metadata": {
    "ExecuteTime": {
     "end_time": "2019-11-22T08:58:20.863813Z",
     "start_time": "2019-11-22T08:58:20.838381Z"
    }
   },
   "outputs": [],
   "source": [
    "df"
   ]
  },
  {
   "cell_type": "code",
   "execution_count": null,
   "metadata": {
    "ExecuteTime": {
     "end_time": "2019-11-22T08:58:44.878176Z",
     "start_time": "2019-11-22T08:58:44.805843Z"
    }
   },
   "outputs": [],
   "source": [
    "df['k':'z'] # No, that won't work"
   ]
  },
  {
   "cell_type": "code",
   "execution_count": null,
   "metadata": {
    "ExecuteTime": {
     "end_time": "2019-11-22T08:59:25.464237Z",
     "start_time": "2019-11-22T08:59:25.436876Z"
    }
   },
   "outputs": [],
   "source": [
    "df.sort_index()['k':'zjyyf']"
   ]
  },
  {
   "cell_type": "markdown",
   "metadata": {},
   "source": [
    "In reality, Pandas keeps track of ranking of index labels:"
   ]
  },
  {
   "cell_type": "code",
   "execution_count": null,
   "metadata": {
    "ExecuteTime": {
     "end_time": "2019-11-22T08:59:42.487596Z",
     "start_time": "2019-11-22T08:59:42.456295Z"
    }
   },
   "outputs": [],
   "source": [
    "df.index.to_series().rank()"
   ]
  },
  {
   "cell_type": "markdown",
   "metadata": {},
   "source": [
    "If index is monotonic, it allows for out-of-index indexing:"
   ]
  },
  {
   "cell_type": "code",
   "execution_count": null,
   "metadata": {
    "ExecuteTime": {
     "end_time": "2019-11-22T09:00:44.268888Z",
     "start_time": "2019-11-22T09:00:44.254239Z"
    }
   },
   "outputs": [],
   "source": [
    "df.sort_index().index.to_series().rank()"
   ]
  },
  {
   "cell_type": "code",
   "execution_count": null,
   "metadata": {},
   "outputs": [],
   "source": [
    "df.sort_index()['b':'m']  # Pandas can unambiguously set 'b' to be less than 'd' and 'm' to be between 'l' and 'o'"
   ]
  },
  {
   "cell_type": "code",
   "execution_count": null,
   "metadata": {
    "ExecuteTime": {
     "end_time": "2019-11-22T09:01:48.299527Z",
     "start_time": "2019-11-22T09:01:48.278322Z"
    }
   },
   "outputs": [],
   "source": [
    "df"
   ]
  },
  {
   "cell_type": "code",
   "execution_count": null,
   "metadata": {},
   "outputs": [],
   "source": [
    "df.loc['o':'x', 'c'] = 5"
   ]
  },
  {
   "cell_type": "code",
   "execution_count": null,
   "metadata": {
    "ExecuteTime": {
     "end_time": "2019-11-22T09:02:00.334265Z",
     "start_time": "2019-11-22T09:02:00.316726Z"
    }
   },
   "outputs": [],
   "source": [
    "df_sub = df['o':'x']\n",
    "df_sub['c'] = 5 # Not a very good idea"
   ]
  },
  {
   "cell_type": "code",
   "execution_count": null,
   "metadata": {
    "ExecuteTime": {
     "end_time": "2019-11-22T09:02:40.934224Z",
     "start_time": "2019-11-22T09:02:40.903142Z"
    }
   },
   "outputs": [],
   "source": [
    "df[(df['a']>12) | (df['b']<3)]"
   ]
  },
  {
   "cell_type": "code",
   "execution_count": null,
   "metadata": {
    "ExecuteTime": {
     "end_time": "2019-11-22T09:03:24.797326Z",
     "start_time": "2019-11-22T09:03:24.772843Z"
    }
   },
   "outputs": [],
   "source": [
    "df"
   ]
  },
  {
   "cell_type": "markdown",
   "metadata": {},
   "source": [
    "## Indexing with `.loc`\n",
    "\n",
    "General rule is (for readability and to exclude weird bugs):\n",
    "\n",
    "- use `[]` when accessing columns by label,\n",
    "- use `.loc` when accessing both rows and columns by label,\n",
    "- use `.iloc` for positional indexing."
   ]
  },
  {
   "cell_type": "code",
   "execution_count": null,
   "metadata": {
    "ExecuteTime": {
     "end_time": "2019-11-22T09:04:00.392895Z",
     "start_time": "2019-11-22T09:04:00.373083Z"
    }
   },
   "outputs": [],
   "source": [
    "df"
   ]
  },
  {
   "cell_type": "code",
   "execution_count": null,
   "metadata": {
    "ExecuteTime": {
     "end_time": "2019-11-22T09:04:19.043832Z",
     "start_time": "2019-11-22T09:04:19.021652Z"
    }
   },
   "outputs": [],
   "source": [
    "df.loc['o']"
   ]
  },
  {
   "cell_type": "code",
   "execution_count": null,
   "metadata": {
    "ExecuteTime": {
     "end_time": "2019-11-22T09:04:30.156059Z",
     "start_time": "2019-11-22T09:04:30.145622Z"
    }
   },
   "outputs": [],
   "source": [
    "df.loc['o', 'b']"
   ]
  },
  {
   "cell_type": "code",
   "execution_count": null,
   "metadata": {
    "ExecuteTime": {
     "end_time": "2019-11-22T09:05:52.068207Z",
     "start_time": "2019-11-22T09:05:52.056477Z"
    }
   },
   "outputs": [],
   "source": [
    "df.loc['o':, 'b']"
   ]
  },
  {
   "cell_type": "code",
   "execution_count": null,
   "metadata": {
    "ExecuteTime": {
     "end_time": "2019-11-22T09:06:02.309970Z",
     "start_time": "2019-11-22T09:06:02.287952Z"
    }
   },
   "outputs": [],
   "source": [
    "df.loc['g':, 'b':]"
   ]
  },
  {
   "cell_type": "code",
   "execution_count": null,
   "metadata": {
    "ExecuteTime": {
     "end_time": "2019-11-22T09:06:19.412738Z",
     "start_time": "2019-11-22T09:06:19.388547Z"
    }
   },
   "outputs": [],
   "source": [
    "df"
   ]
  },
  {
   "cell_type": "code",
   "execution_count": null,
   "metadata": {
    "ExecuteTime": {
     "end_time": "2019-11-22T09:07:25.549524Z",
     "start_time": "2019-11-22T09:07:25.531158Z"
    }
   },
   "outputs": [],
   "source": [
    "df.loc['g':, 'c':'d'].shape"
   ]
  },
  {
   "cell_type": "code",
   "execution_count": null,
   "metadata": {
    "ExecuteTime": {
     "end_time": "2019-11-22T09:08:09.574411Z",
     "start_time": "2019-11-22T09:08:09.549513Z"
    }
   },
   "outputs": [],
   "source": [
    "df"
   ]
  },
  {
   "cell_type": "markdown",
   "metadata": {},
   "source": [
    "Column index is still an index and works in a similar manner."
   ]
  },
  {
   "cell_type": "code",
   "execution_count": null,
   "metadata": {
    "ExecuteTime": {
     "end_time": "2019-11-22T09:08:10.621637Z",
     "start_time": "2019-11-22T09:08:10.605010Z"
    }
   },
   "outputs": [],
   "source": [
    "df.columns.to_series().rank()"
   ]
  },
  {
   "cell_type": "code",
   "execution_count": null,
   "metadata": {
    "ExecuteTime": {
     "end_time": "2019-11-22T09:10:09.722407Z",
     "start_time": "2019-11-22T09:10:09.699539Z"
    }
   },
   "outputs": [],
   "source": [
    "df.loc['x':, 'a'::-2]"
   ]
  },
  {
   "cell_type": "code",
   "execution_count": null,
   "metadata": {
    "ExecuteTime": {
     "end_time": "2019-11-22T09:10:22.577757Z",
     "start_time": "2019-11-22T09:10:22.562860Z"
    }
   },
   "outputs": [],
   "source": [
    "df.loc['x':, 'c':'d']"
   ]
  },
  {
   "cell_type": "code",
   "execution_count": null,
   "metadata": {
    "ExecuteTime": {
     "end_time": "2019-11-22T09:11:06.354858Z",
     "start_time": "2019-11-22T09:11:06.324828Z"
    }
   },
   "outputs": [],
   "source": [
    "df.sort_index(axis='columns').loc['x':, 'c':'d']"
   ]
  },
  {
   "cell_type": "code",
   "execution_count": null,
   "metadata": {
    "ExecuteTime": {
     "end_time": "2019-11-22T09:12:39.442345Z",
     "start_time": "2019-11-22T09:12:39.406933Z"
    }
   },
   "outputs": [],
   "source": [
    "df.loc[:, [\"a\", \"b\"]]"
   ]
  },
  {
   "cell_type": "markdown",
   "metadata": {},
   "source": [
    "`.loc` can contain a mask (Pandas will align it for you):"
   ]
  },
  {
   "cell_type": "code",
   "execution_count": null,
   "metadata": {
    "ExecuteTime": {
     "end_time": "2019-11-22T09:18:12.254423Z",
     "start_time": "2019-11-22T09:18:12.242779Z"
    }
   },
   "outputs": [],
   "source": [
    "df.loc[df['c']>10, 'c']"
   ]
  },
  {
   "cell_type": "code",
   "execution_count": null,
   "metadata": {},
   "outputs": [],
   "source": [
    "df.loc[:, df.columns[2:]]"
   ]
  },
  {
   "cell_type": "code",
   "execution_count": null,
   "metadata": {
    "ExecuteTime": {
     "end_time": "2019-11-22T09:18:40.999162Z",
     "start_time": "2019-11-22T09:18:40.928714Z"
    }
   },
   "outputs": [],
   "source": [
    "df.loc[[1,2], 'c'] # This won't work: .loc cannot use a mix"
   ]
  },
  {
   "cell_type": "markdown",
   "metadata": {},
   "source": [
    "## `SettingWithCopyWarning`"
   ]
  },
  {
   "cell_type": "code",
   "execution_count": null,
   "metadata": {
    "ExecuteTime": {
     "end_time": "2019-11-22T09:26:00.146643Z",
     "start_time": "2019-11-22T09:26:00.120865Z"
    }
   },
   "outputs": [],
   "source": [
    "df"
   ]
  },
  {
   "cell_type": "markdown",
   "metadata": {},
   "source": [
    "Each indexing operation generates either a copy, or a view to the dataframe and in contrast to NumPy Pandas provides no guarantee."
   ]
  },
  {
   "cell_type": "code",
   "execution_count": null,
   "metadata": {},
   "outputs": [],
   "source": [
    "df.loc[df['a']>10, 'c']"
   ]
  },
  {
   "cell_type": "code",
   "execution_count": null,
   "metadata": {},
   "outputs": [],
   "source": [
    "df.__setitem__?"
   ]
  },
  {
   "cell_type": "markdown",
   "metadata": {},
   "source": [
    "An assignment like this works the same way as in NumPy and original dataframe is modified (under the hood it's just a call to `df.__setitem__`):"
   ]
  },
  {
   "cell_type": "code",
   "execution_count": null,
   "metadata": {
    "ExecuteTime": {
     "end_time": "2019-11-22T09:27:26.996006Z",
     "start_time": "2019-11-22T09:27:26.984699Z"
    }
   },
   "outputs": [],
   "source": [
    "df.loc[df['a']>10, 'c'] = 10"
   ]
  },
  {
   "cell_type": "code",
   "execution_count": null,
   "metadata": {
    "ExecuteTime": {
     "end_time": "2019-11-22T09:27:32.585750Z",
     "start_time": "2019-11-22T09:27:32.566464Z"
    }
   },
   "outputs": [],
   "source": [
    "df"
   ]
  },
  {
   "cell_type": "markdown",
   "metadata": {},
   "source": [
    "This one, however, contains two chained `__getitem__` calls:"
   ]
  },
  {
   "cell_type": "code",
   "execution_count": null,
   "metadata": {},
   "outputs": [],
   "source": [
    "df.loc[df['a']>10]['c']"
   ]
  },
  {
   "cell_type": "markdown",
   "metadata": {},
   "source": [
    "The following assignment generates a warning (it's unknown if `df.loc[df['a']>10]` is a view or a copy):"
   ]
  },
  {
   "cell_type": "code",
   "execution_count": null,
   "metadata": {
    "ExecuteTime": {
     "end_time": "2019-11-22T09:28:05.238349Z",
     "start_time": "2019-11-22T09:28:05.216728Z"
    }
   },
   "outputs": [],
   "source": [
    "df.loc[df['a']>10]['c'] = 20."
   ]
  },
  {
   "cell_type": "code",
   "execution_count": null,
   "metadata": {
    "ExecuteTime": {
     "end_time": "2019-11-22T09:28:29.885905Z",
     "start_time": "2019-11-22T09:28:29.864756Z"
    }
   },
   "outputs": [],
   "source": [
    "df"
   ]
  },
  {
   "cell_type": "markdown",
   "metadata": {},
   "source": [
    "Let's decompose it:"
   ]
  },
  {
   "cell_type": "code",
   "execution_count": null,
   "metadata": {
    "ExecuteTime": {
     "end_time": "2019-11-22T09:35:11.615423Z",
     "start_time": "2019-11-22T09:35:11.605248Z"
    }
   },
   "outputs": [],
   "source": [
    "df_1 = df.loc[df['a']>10]"
   ]
  },
  {
   "cell_type": "code",
   "execution_count": null,
   "metadata": {
    "ExecuteTime": {
     "end_time": "2019-11-22T09:30:10.260911Z",
     "start_time": "2019-11-22T09:30:10.248733Z"
    }
   },
   "outputs": [],
   "source": [
    "df_1"
   ]
  },
  {
   "cell_type": "code",
   "execution_count": null,
   "metadata": {
    "ExecuteTime": {
     "end_time": "2019-11-22T09:35:27.218032Z",
     "start_time": "2019-11-22T09:35:27.209555Z"
    }
   },
   "outputs": [],
   "source": [
    "df_1['c'] = 25"
   ]
  },
  {
   "cell_type": "code",
   "execution_count": null,
   "metadata": {
    "ExecuteTime": {
     "end_time": "2019-11-22T09:35:49.933381Z",
     "start_time": "2019-11-22T09:35:49.910433Z"
    }
   },
   "outputs": [],
   "source": [
    "df_1"
   ]
  },
  {
   "cell_type": "code",
   "execution_count": null,
   "metadata": {},
   "outputs": [],
   "source": [
    "df"
   ]
  },
  {
   "cell_type": "markdown",
   "metadata": {},
   "source": [
    "# Dataframe arithmetic"
   ]
  },
  {
   "cell_type": "code",
   "execution_count": null,
   "metadata": {
    "ExecuteTime": {
     "end_time": "2019-11-22T09:40:36.731176Z",
     "start_time": "2019-11-22T09:40:36.700640Z"
    }
   },
   "outputs": [],
   "source": [
    "df_1 = pd.DataFrame(np.arange(40).reshape(10,4),\n",
    "                    columns=['a', 'b', 'c', 'd'],\n",
    "                    index=np.random.choice(list(string.ascii_lowercase), 10, replace=False))\n",
    "df_1"
   ]
  },
  {
   "cell_type": "code",
   "execution_count": null,
   "metadata": {
    "ExecuteTime": {
     "end_time": "2019-11-22T09:40:54.256960Z",
     "start_time": "2019-11-22T09:40:54.230382Z"
    }
   },
   "outputs": [],
   "source": [
    "df_2 = pd.DataFrame(np.arange(40).reshape(10,4),\n",
    "                    columns=['a', 'e', 'c', 'd'],\n",
    "                    index=np.random.choice(list(string.ascii_lowercase), 10, replace=False))\n",
    "df_2"
   ]
  },
  {
   "cell_type": "code",
   "execution_count": null,
   "metadata": {
    "ExecuteTime": {
     "end_time": "2019-11-22T09:41:07.187348Z",
     "start_time": "2019-11-22T09:41:07.115604Z"
    }
   },
   "outputs": [],
   "source": [
    "# A lot of missing values\n",
    "df_1 + df_2"
   ]
  },
  {
   "cell_type": "markdown",
   "metadata": {},
   "source": [
    "We can provide a fill value for missing **operands**:"
   ]
  },
  {
   "cell_type": "code",
   "execution_count": null,
   "metadata": {
    "ExecuteTime": {
     "end_time": "2019-11-22T09:41:55.511000Z",
     "start_time": "2019-11-22T09:41:55.470535Z"
    }
   },
   "outputs": [],
   "source": [
    "df_1.add(df_2, fill_value=0)"
   ]
  },
  {
   "cell_type": "markdown",
   "metadata": {},
   "source": [
    "Operations between dataframes and series are aligned along column by default:"
   ]
  },
  {
   "cell_type": "code",
   "execution_count": null,
   "metadata": {
    "ExecuteTime": {
     "end_time": "2019-11-22T09:43:35.200748Z",
     "start_time": "2019-11-22T09:43:35.186661Z"
    }
   },
   "outputs": [],
   "source": [
    "s_1 = pd.Series(np.arange(10),\n",
    "                name='f',\n",
    "                index=np.random.choice(list(string.ascii_lowercase), 10, replace=False))"
   ]
  },
  {
   "cell_type": "code",
   "execution_count": null,
   "metadata": {
    "ExecuteTime": {
     "end_time": "2019-11-22T09:43:36.308342Z",
     "start_time": "2019-11-22T09:43:36.294085Z"
    }
   },
   "outputs": [],
   "source": [
    "s_1"
   ]
  },
  {
   "cell_type": "code",
   "execution_count": null,
   "metadata": {},
   "outputs": [],
   "source": [
    "df_1"
   ]
  },
  {
   "cell_type": "code",
   "execution_count": null,
   "metadata": {
    "ExecuteTime": {
     "end_time": "2019-11-22T09:44:11.142552Z",
     "start_time": "2019-11-22T09:44:11.043506Z"
    }
   },
   "outputs": [],
   "source": [
    "df_1 + s_1"
   ]
  },
  {
   "cell_type": "code",
   "execution_count": null,
   "metadata": {
    "ExecuteTime": {
     "end_time": "2019-11-22T09:54:08.783369Z",
     "start_time": "2019-11-22T09:54:08.709416Z"
    }
   },
   "outputs": [],
   "source": [
    "s_1 + df_1"
   ]
  },
  {
   "cell_type": "markdown",
   "metadata": {},
   "source": [
    "The default can be changed:"
   ]
  },
  {
   "cell_type": "code",
   "execution_count": null,
   "metadata": {
    "ExecuteTime": {
     "end_time": "2019-11-22T09:54:55.120735Z",
     "start_time": "2019-11-22T09:54:55.085559Z"
    }
   },
   "outputs": [],
   "source": [
    "df_1.add(s_1, axis='index')"
   ]
  },
  {
   "cell_type": "markdown",
   "metadata": {},
   "source": [
    "Such an alignment (along columns) allows for many common operation to be written in a short form. For example, to normalize each row, we just do"
   ]
  },
  {
   "cell_type": "code",
   "execution_count": null,
   "metadata": {
    "ExecuteTime": {
     "end_time": "2019-11-22T09:59:11.889372Z",
     "start_time": "2019-11-22T09:59:11.850245Z"
    }
   },
   "outputs": [],
   "source": [
    "(df_1 - df_1.mean()) / df_1.std()"
   ]
  },
  {
   "cell_type": "code",
   "execution_count": null,
   "metadata": {},
   "outputs": [],
   "source": [
    "df_1.mean()"
   ]
  },
  {
   "cell_type": "markdown",
   "metadata": {},
   "source": [
    "# Applying functions to dataframes"
   ]
  },
  {
   "cell_type": "code",
   "execution_count": null,
   "metadata": {
    "ExecuteTime": {
     "end_time": "2019-11-22T10:15:00.470279Z",
     "start_time": "2019-11-22T10:15:00.441711Z"
    }
   },
   "outputs": [],
   "source": [
    "df"
   ]
  },
  {
   "cell_type": "markdown",
   "metadata": {},
   "source": [
    "Main entry method to apply a function over rows or columns:"
   ]
  },
  {
   "cell_type": "code",
   "execution_count": null,
   "metadata": {
    "ExecuteTime": {
     "end_time": "2019-11-22T10:15:56.669091Z",
     "start_time": "2019-11-22T10:15:56.635493Z"
    }
   },
   "outputs": [],
   "source": [
    "df.apply(lambda row: np.sqrt(row.d), axis=1)"
   ]
  },
  {
   "cell_type": "markdown",
   "metadata": {},
   "source": [
    "This one is faster, though:"
   ]
  },
  {
   "cell_type": "code",
   "execution_count": null,
   "metadata": {
    "ExecuteTime": {
     "end_time": "2019-11-22T10:17:15.784527Z",
     "start_time": "2019-11-22T10:17:09.104517Z"
    }
   },
   "outputs": [],
   "source": [
    "%timeit df['d'].apply(lambda x: np.sqrt(x))"
   ]
  },
  {
   "cell_type": "markdown",
   "metadata": {},
   "source": [
    "Pandas allows to use NumPy functions directly:"
   ]
  },
  {
   "cell_type": "code",
   "execution_count": null,
   "metadata": {
    "ExecuteTime": {
     "end_time": "2019-11-22T10:18:49.294579Z",
     "start_time": "2019-11-22T10:18:49.281772Z"
    }
   },
   "outputs": [],
   "source": [
    "np.sqrt(df['d'])"
   ]
  },
  {
   "cell_type": "markdown",
   "metadata": {},
   "source": [
    "Which is faster:"
   ]
  },
  {
   "cell_type": "code",
   "execution_count": null,
   "metadata": {
    "ExecuteTime": {
     "end_time": "2019-11-22T10:17:24.039917Z",
     "start_time": "2019-11-22T10:17:21.402214Z"
    }
   },
   "outputs": [],
   "source": [
    "%timeit np.sqrt(df['d'])"
   ]
  },
  {
   "cell_type": "code",
   "execution_count": null,
   "metadata": {
    "ExecuteTime": {
     "end_time": "2019-11-19T17:30:42.541827Z",
     "start_time": "2019-11-19T17:30:38.406769Z"
    }
   },
   "outputs": [],
   "source": [
    "# Better way\n",
    "%timeit np.sqrt(df['d'].values)"
   ]
  },
  {
   "cell_type": "code",
   "execution_count": null,
   "metadata": {},
   "outputs": [],
   "source": [
    "np.sqrt(df['d'].values)"
   ]
  },
  {
   "cell_type": "markdown",
   "metadata": {},
   "source": [
    "Ofter replacing `apply` altogether is the best option:"
   ]
  },
  {
   "cell_type": "code",
   "execution_count": null,
   "metadata": {},
   "outputs": [],
   "source": [
    "df_copy = df.copy()\n",
    "df_copy[\"d_sqrt\"] = np.sqrt(df['d'].values)"
   ]
  },
  {
   "cell_type": "markdown",
   "metadata": {},
   "source": [
    "Note, that we often can mix Pandas and NumPy:"
   ]
  },
  {
   "cell_type": "code",
   "execution_count": null,
   "metadata": {
    "ExecuteTime": {
     "end_time": "2019-11-22T10:19:46.216982Z",
     "start_time": "2019-11-22T10:19:46.185123Z"
    }
   },
   "outputs": [],
   "source": [
    "df"
   ]
  },
  {
   "cell_type": "code",
   "execution_count": null,
   "metadata": {
    "ExecuteTime": {
     "end_time": "2019-11-22T10:19:53.952393Z",
     "start_time": "2019-11-22T10:19:53.931984Z"
    }
   },
   "outputs": [],
   "source": [
    "df.values"
   ]
  },
  {
   "cell_type": "code",
   "execution_count": null,
   "metadata": {
    "ExecuteTime": {
     "end_time": "2019-11-22T10:20:06.430801Z",
     "start_time": "2019-11-22T10:20:06.422498Z"
    }
   },
   "outputs": [],
   "source": [
    "df.values.sum(axis=1)"
   ]
  },
  {
   "cell_type": "code",
   "execution_count": null,
   "metadata": {
    "ExecuteTime": {
     "end_time": "2019-11-22T10:20:18.147876Z",
     "start_time": "2019-11-22T10:20:18.126223Z"
    }
   },
   "outputs": [],
   "source": [
    "df.apply(lambda x: x.sum(), axis=1)"
   ]
  },
  {
   "cell_type": "code",
   "execution_count": null,
   "metadata": {
    "ExecuteTime": {
     "end_time": "2019-11-22T10:20:36.092386Z",
     "start_time": "2019-11-22T10:20:36.078213Z"
    }
   },
   "outputs": [],
   "source": [
    "np.sum(df, axis=1)"
   ]
  },
  {
   "cell_type": "code",
   "execution_count": null,
   "metadata": {},
   "outputs": [],
   "source": [
    "df.sum(axis=1)"
   ]
  },
  {
   "cell_type": "markdown",
   "metadata": {},
   "source": [
    "Pandas is smart enough to combine the result in a proper manner:"
   ]
  },
  {
   "cell_type": "code",
   "execution_count": null,
   "metadata": {
    "ExecuteTime": {
     "end_time": "2019-11-22T10:21:59.786504Z",
     "start_time": "2019-11-22T10:21:59.752228Z"
    }
   },
   "outputs": [],
   "source": [
    "dfm = df.apply(lambda x: pd.Series({'sum': x.sum(),\n",
    "                                    'sqrt': np.sqrt(x['d'])}),\n",
    "               axis=1)"
   ]
  },
  {
   "cell_type": "code",
   "execution_count": null,
   "metadata": {
    "ExecuteTime": {
     "end_time": "2019-11-22T10:22:05.922288Z",
     "start_time": "2019-11-22T10:22:05.897324Z"
    }
   },
   "outputs": [],
   "source": [
    "dfm"
   ]
  },
  {
   "cell_type": "markdown",
   "metadata": {},
   "source": [
    "# Dataframe statistics"
   ]
  },
  {
   "cell_type": "code",
   "execution_count": null,
   "metadata": {
    "ExecuteTime": {
     "end_time": "2019-11-22T10:40:42.559595Z",
     "start_time": "2019-11-22T10:40:42.543410Z"
    }
   },
   "outputs": [],
   "source": [
    "titanic['Pclass'].value_counts()"
   ]
  },
  {
   "cell_type": "code",
   "execution_count": null,
   "metadata": {
    "ExecuteTime": {
     "end_time": "2019-11-22T10:45:09.725652Z",
     "start_time": "2019-11-22T10:45:09.709780Z"
    }
   },
   "outputs": [],
   "source": [
    "titanic.SibSp.value_counts()"
   ]
  },
  {
   "cell_type": "code",
   "execution_count": null,
   "metadata": {
    "ExecuteTime": {
     "end_time": "2019-11-22T10:46:47.602139Z",
     "start_time": "2019-11-22T10:46:47.587653Z"
    }
   },
   "outputs": [],
   "source": [
    "titanic.Embarked.value_counts() # S = Southampton, C = Cherbourg, Q = Queens Town"
   ]
  },
  {
   "cell_type": "code",
   "execution_count": null,
   "metadata": {
    "ExecuteTime": {
     "end_time": "2019-11-22T10:47:28.887267Z",
     "start_time": "2019-11-22T10:47:28.871328Z"
    }
   },
   "outputs": [],
   "source": [
    "titanic.Sex.value_counts()"
   ]
  },
  {
   "cell_type": "code",
   "execution_count": null,
   "metadata": {
    "ExecuteTime": {
     "end_time": "2019-11-22T10:48:47.494717Z",
     "start_time": "2019-11-22T10:48:47.458104Z"
    }
   },
   "outputs": [],
   "source": [
    "print(\"Average age: %2.2f\" % titanic['Age'].mean())\n",
    "print(\"STD of age: %2.2f\" % titanic['Age'].std())\n",
    "print(\"Minimum age: %2.2f\" % titanic['Age'].min())\n",
    "print(\"Maximum age: %2.2f\" % titanic['Age'].max())"
   ]
  },
  {
   "cell_type": "code",
   "execution_count": null,
   "metadata": {
    "ExecuteTime": {
     "end_time": "2019-11-22T10:49:45.273882Z",
     "start_time": "2019-11-22T10:49:45.249774Z"
    }
   },
   "outputs": [],
   "source": [
    "print(\"Average number of siblings/spouse: %2.2f\" % titanic['SibSp'].mean())\n",
    "print(\"Average number of siblings/spouse in class 1: %2.2f\" % titanic.loc[titanic.Pclass==1, 'SibSp'].mean())\n",
    "print(\"Average number of siblings/spouse in class 2: %2.2f\" % titanic.loc[titanic.Pclass==2, 'SibSp'].mean())\n",
    "print(\"Average number of siblings/spouse in class 3: %2.2f\" % titanic.loc[titanic.Pclass==3, 'SibSp'].mean())"
   ]
  },
  {
   "cell_type": "code",
   "execution_count": null,
   "metadata": {
    "ExecuteTime": {
     "end_time": "2019-11-22T10:50:44.216051Z",
     "start_time": "2019-11-22T10:50:44.184828Z"
    }
   },
   "outputs": [],
   "source": [
    "print(\"Minimum age (not survived): %2.2f\" % titanic.loc[titanic.Survived==0, 'Age'].min())\n",
    "print(\"Maximum age (not survived): %2.2f\" % titanic.loc[titanic.Survived==0, 'Age'].max())"
   ]
  },
  {
   "cell_type": "code",
   "execution_count": null,
   "metadata": {
    "ExecuteTime": {
     "end_time": "2019-11-22T10:50:59.214958Z",
     "start_time": "2019-11-22T10:50:59.201228Z"
    }
   },
   "outputs": [],
   "source": [
    "print(\"Minimum age (not survived): %2.2f\" % titanic.loc[titanic.Survived==1, 'Age'].min())\n",
    "print(\"Maximum age (not survived): %2.2f\" % titanic.loc[titanic.Survived==1, 'Age'].max())"
   ]
  },
  {
   "cell_type": "markdown",
   "metadata": {},
   "source": [
    "# Replacing and renaming"
   ]
  },
  {
   "cell_type": "code",
   "execution_count": null,
   "metadata": {},
   "outputs": [],
   "source": [
    "titanic.replace(22, 122).head()"
   ]
  },
  {
   "cell_type": "code",
   "execution_count": null,
   "metadata": {},
   "outputs": [],
   "source": [
    "import re\n",
    "titanic.replace(re.compile(r'\\(.*\\)'), '').head()"
   ]
  },
  {
   "cell_type": "code",
   "execution_count": null,
   "metadata": {},
   "outputs": [],
   "source": [
    "titanic.rename(lambda x: x.lower(), axis=1).head()"
   ]
  },
  {
   "cell_type": "code",
   "execution_count": null,
   "metadata": {},
   "outputs": [],
   "source": [
    "titanic.rename({'SibSp':'siblings_spouses'}, axis=1).head()"
   ]
  },
  {
   "cell_type": "markdown",
   "metadata": {},
   "source": [
    "# String operations"
   ]
  },
  {
   "cell_type": "code",
   "execution_count": null,
   "metadata": {},
   "outputs": [],
   "source": [
    "titanic.head()"
   ]
  },
  {
   "cell_type": "code",
   "execution_count": null,
   "metadata": {},
   "outputs": [],
   "source": [
    "titanic.replace(re.compile(r'\\(.*\\)'), '').Name.str.split(\",\", expand=True)"
   ]
  },
  {
   "cell_type": "code",
   "execution_count": null,
   "metadata": {},
   "outputs": [],
   "source": [
    "(titanic\n",
    " .replace(re.compile(r'\\(.*\\)'), '')\n",
    " .Name.str\n",
    " .split(',', expand=True)\n",
    " .rename({0:'family_name', 1:'first_name'}, axis=1)\n",
    " .head())"
   ]
  },
  {
   "cell_type": "markdown",
   "metadata": {},
   "source": [
    "# Cleaning data"
   ]
  },
  {
   "cell_type": "markdown",
   "metadata": {},
   "source": [
    "`isnull` is very convenient method:"
   ]
  },
  {
   "cell_type": "code",
   "execution_count": null,
   "metadata": {
    "ExecuteTime": {
     "end_time": "2019-11-19T12:00:42.710118Z",
     "start_time": "2019-11-19T12:00:42.675794Z"
    }
   },
   "outputs": [],
   "source": [
    "titanic.isnull().head()"
   ]
  },
  {
   "cell_type": "markdown",
   "metadata": {},
   "source": [
    "Resulting dataframe can now be used to determine if there any missing values (by column or by row):"
   ]
  },
  {
   "cell_type": "code",
   "execution_count": null,
   "metadata": {
    "ExecuteTime": {
     "end_time": "2019-11-19T12:00:45.967577Z",
     "start_time": "2019-11-19T12:00:45.956190Z"
    }
   },
   "outputs": [],
   "source": [
    "titanic.isnull().any()"
   ]
  },
  {
   "cell_type": "code",
   "execution_count": null,
   "metadata": {
    "ExecuteTime": {
     "end_time": "2019-11-19T12:00:49.495136Z",
     "start_time": "2019-11-19T12:00:49.487337Z"
    }
   },
   "outputs": [],
   "source": [
    "titanic.isnull().any(axis=1).head()"
   ]
  },
  {
   "cell_type": "markdown",
   "metadata": {},
   "source": [
    "Or calculate how many missing values are in a dataframe (by row or by column):"
   ]
  },
  {
   "cell_type": "code",
   "execution_count": null,
   "metadata": {
    "ExecuteTime": {
     "end_time": "2019-11-19T12:00:52.858752Z",
     "start_time": "2019-11-19T12:00:52.850950Z"
    }
   },
   "outputs": [],
   "source": [
    "titanic.isnull().sum()"
   ]
  },
  {
   "cell_type": "code",
   "execution_count": null,
   "metadata": {
    "ExecuteTime": {
     "end_time": "2019-11-19T12:00:56.350334Z",
     "start_time": "2019-11-19T12:00:56.325248Z"
    }
   },
   "outputs": [],
   "source": [
    "titanic.head(15)"
   ]
  },
  {
   "cell_type": "markdown",
   "metadata": {},
   "source": [
    "Pandas is smart enough to fill missing values by column:"
   ]
  },
  {
   "cell_type": "code",
   "execution_count": null,
   "metadata": {
    "ExecuteTime": {
     "end_time": "2019-11-19T12:01:00.465120Z",
     "start_time": "2019-11-19T12:01:00.454884Z"
    }
   },
   "outputs": [],
   "source": [
    "fill_values = titanic[['Age', 'Fare']].mean()"
   ]
  },
  {
   "cell_type": "code",
   "execution_count": null,
   "metadata": {},
   "outputs": [],
   "source": [
    "fill_values"
   ]
  },
  {
   "cell_type": "code",
   "execution_count": null,
   "metadata": {
    "ExecuteTime": {
     "end_time": "2019-11-19T12:01:03.491097Z",
     "start_time": "2019-11-19T12:01:03.458050Z"
    }
   },
   "outputs": [],
   "source": [
    "titanic[titanic.Fare.isnull()]"
   ]
  },
  {
   "cell_type": "code",
   "execution_count": null,
   "metadata": {
    "ExecuteTime": {
     "end_time": "2019-11-19T12:01:21.568586Z",
     "start_time": "2019-11-19T12:01:21.531789Z"
    }
   },
   "outputs": [],
   "source": [
    "titanic.fillna(fill_values).head(15)"
   ]
  },
  {
   "cell_type": "markdown",
   "metadata": {},
   "source": [
    "# Getting indicators and dummy variables"
   ]
  },
  {
   "cell_type": "code",
   "execution_count": null,
   "metadata": {
    "ExecuteTime": {
     "end_time": "2019-11-19T12:01:36.511785Z",
     "start_time": "2019-11-19T12:01:36.466950Z"
    }
   },
   "outputs": [],
   "source": [
    "pd.get_dummies(titanic, columns=['Pclass', 'Sex', 'Embarked']).head()"
   ]
  },
  {
   "cell_type": "code",
   "execution_count": null,
   "metadata": {},
   "outputs": [],
   "source": []
  }
 ],
 "metadata": {
  "@webio": {
   "lastCommId": null,
   "lastKernelId": null
  },
  "kernelspec": {
   "display_name": "Python 3",
   "language": "python",
   "name": "python3"
  },
  "language_info": {
   "codemirror_mode": {
    "name": "ipython",
    "version": 3
   },
   "file_extension": ".py",
   "mimetype": "text/x-python",
   "name": "python",
   "nbconvert_exporter": "python",
   "pygments_lexer": "ipython3",
   "version": "3.7.4"
  },
  "toc": {
   "base_numbering": 1,
   "nav_menu": {},
   "number_sections": true,
   "sideBar": true,
   "skip_h1_title": false,
   "title_cell": "Table of Contents",
   "title_sidebar": "Contents",
   "toc_cell": false,
   "toc_position": {},
   "toc_section_display": true,
   "toc_window_display": false
  }
 },
 "nbformat": 4,
 "nbformat_minor": 2
}
