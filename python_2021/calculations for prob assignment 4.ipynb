{
 "cells": [
  {
   "cell_type": "markdown",
   "metadata": {},
   "source": [
    "# question 1"
   ]
  },
  {
   "cell_type": "code",
   "execution_count": 1,
   "metadata": {
    "ExecuteTime": {
     "end_time": "2021-11-11T07:16:09.280762Z",
     "start_time": "2021-11-11T07:16:09.272763Z"
    }
   },
   "outputs": [],
   "source": [
    "a = [5, 25, 15, 10, 7, 12, 16, 20]"
   ]
  },
  {
   "cell_type": "code",
   "execution_count": 3,
   "metadata": {
    "ExecuteTime": {
     "end_time": "2021-11-11T07:16:23.455434Z",
     "start_time": "2021-11-11T07:16:23.250992Z"
    }
   },
   "outputs": [],
   "source": [
    "import numpy as np"
   ]
  },
  {
   "cell_type": "code",
   "execution_count": 9,
   "metadata": {
    "ExecuteTime": {
     "end_time": "2021-11-11T07:18:29.671808Z",
     "start_time": "2021-11-11T07:18:29.663811Z"
    }
   },
   "outputs": [],
   "source": [
    "a_mean =np.mean(a)"
   ]
  },
  {
   "cell_type": "code",
   "execution_count": 6,
   "metadata": {
    "ExecuteTime": {
     "end_time": "2021-11-11T07:17:36.664219Z",
     "start_time": "2021-11-11T07:17:36.656188Z"
    }
   },
   "outputs": [],
   "source": [
    "n=len(a)"
   ]
  },
  {
   "cell_type": "code",
   "execution_count": 8,
   "metadata": {
    "ExecuteTime": {
     "end_time": "2021-11-11T07:18:09.669890Z",
     "start_time": "2021-11-11T07:18:09.653859Z"
    }
   },
   "outputs": [
    {
     "data": {
      "text/plain": [
       "44.49999999999999"
      ]
     },
     "execution_count": 8,
     "metadata": {},
     "output_type": "execute_result"
    }
   ],
   "source": [
    "n/(n-1)*(np.std(a))**2"
   ]
  },
  {
   "cell_type": "code",
   "execution_count": 13,
   "metadata": {
    "ExecuteTime": {
     "end_time": "2021-11-11T07:21:35.478660Z",
     "start_time": "2021-11-11T07:21:35.462660Z"
    }
   },
   "outputs": [],
   "source": [
    "sigma_sq = np.sum((a-a_mean)**2)/(n-1)"
   ]
  },
  {
   "cell_type": "code",
   "execution_count": 29,
   "metadata": {
    "ExecuteTime": {
     "end_time": "2021-11-11T07:38:09.129213Z",
     "start_time": "2021-11-11T07:38:09.113213Z"
    }
   },
   "outputs": [],
   "source": [
    "var_mean  = sigma_sq/n"
   ]
  },
  {
   "cell_type": "code",
   "execution_count": 17,
   "metadata": {
    "ExecuteTime": {
     "end_time": "2021-11-11T07:26:38.463419Z",
     "start_time": "2021-11-11T07:26:36.499666Z"
    }
   },
   "outputs": [],
   "source": [
    "from  scipy.stats import t"
   ]
  },
  {
   "cell_type": "code",
   "execution_count": 27,
   "metadata": {
    "ExecuteTime": {
     "end_time": "2021-11-11T07:38:03.630190Z",
     "start_time": "2021-11-11T07:38:03.626224Z"
    }
   },
   "outputs": [],
   "source": [
    "t_value = t.ppf(.95, n-1)"
   ]
  },
  {
   "cell_type": "code",
   "execution_count": 31,
   "metadata": {
    "ExecuteTime": {
     "end_time": "2021-11-11T07:38:31.327924Z",
     "start_time": "2021-11-11T07:38:31.319924Z"
    }
   },
   "outputs": [
    {
     "data": {
      "text/plain": [
       "(18.218354703336615, 9.281645296663383)"
      ]
     },
     "execution_count": 31,
     "metadata": {},
     "output_type": "execute_result"
    }
   ],
   "source": [
    "a_mean+t_value*np.sqrt(var_mean),a_mean-t_value*np.sqrt(var_mean)"
   ]
  },
  {
   "cell_type": "markdown",
   "metadata": {},
   "source": [
    "# Question 2"
   ]
  },
  {
   "cell_type": "code",
   "execution_count": 32,
   "metadata": {
    "ExecuteTime": {
     "end_time": "2021-11-11T07:44:14.579227Z",
     "start_time": "2021-11-11T07:44:14.563228Z"
    }
   },
   "outputs": [],
   "source": [
    "b=[70, 70, 85]"
   ]
  },
  {
   "cell_type": "code",
   "execution_count": 34,
   "metadata": {
    "ExecuteTime": {
     "end_time": "2021-11-11T07:45:22.324385Z",
     "start_time": "2021-11-11T07:45:22.316353Z"
    }
   },
   "outputs": [],
   "source": [
    "n=len(b)"
   ]
  },
  {
   "cell_type": "code",
   "execution_count": 39,
   "metadata": {
    "ExecuteTime": {
     "end_time": "2021-11-11T07:46:53.854437Z",
     "start_time": "2021-11-11T07:46:53.846031Z"
    }
   },
   "outputs": [],
   "source": [
    "mean_b = np.mean(b)"
   ]
  },
  {
   "cell_type": "code",
   "execution_count": 37,
   "metadata": {
    "ExecuteTime": {
     "end_time": "2021-11-11T07:46:34.711451Z",
     "start_time": "2021-11-11T07:46:34.703418Z"
    }
   },
   "outputs": [],
   "source": [
    "interval_size = 1.96*np.sqrt((n/(n-1)*(np.std(a))**2)/n)"
   ]
  },
  {
   "cell_type": "code",
   "execution_count": 41,
   "metadata": {
    "ExecuteTime": {
     "end_time": "2021-11-11T07:47:02.858077Z",
     "start_time": "2021-11-11T07:47:02.842108Z"
    }
   },
   "outputs": [
    {
     "data": {
      "text/plain": [
       "(83.64818767141416, 66.35181232858584)"
      ]
     },
     "execution_count": 41,
     "metadata": {},
     "output_type": "execute_result"
    }
   ],
   "source": [
    "mean_b+interval_size,mean_b-interval_size"
   ]
  },
  {
   "cell_type": "markdown",
   "metadata": {},
   "source": [
    "# Question 3"
   ]
  },
  {
   "cell_type": "code",
   "execution_count": 42,
   "metadata": {
    "ExecuteTime": {
     "end_time": "2021-11-11T07:48:58.027601Z",
     "start_time": "2021-11-11T07:48:58.011602Z"
    }
   },
   "outputs": [],
   "source": [
    "c = [1, 1, 2, 3, 5, 8, 10, 21, 38, 81]"
   ]
  },
  {
   "cell_type": "code",
   "execution_count": 44,
   "metadata": {
    "ExecuteTime": {
     "end_time": "2021-11-11T07:50:18.006439Z",
     "start_time": "2021-11-11T07:50:17.990439Z"
    }
   },
   "outputs": [
    {
     "data": {
      "text/plain": [
       "0.058823529411764705"
      ]
     },
     "execution_count": 44,
     "metadata": {},
     "output_type": "execute_result"
    }
   ],
   "source": [
    "1/np.mean(c)"
   ]
  },
  {
   "cell_type": "code",
   "execution_count": 47,
   "metadata": {
    "ExecuteTime": {
     "end_time": "2021-11-11T07:52:13.283524Z",
     "start_time": "2021-11-11T07:52:13.275491Z"
    }
   },
   "outputs": [],
   "source": [
    "n=len(c)"
   ]
  },
  {
   "cell_type": "code",
   "execution_count": 49,
   "metadata": {
    "ExecuteTime": {
     "end_time": "2021-11-11T07:54:04.268707Z",
     "start_time": "2021-11-11T07:54:04.260705Z"
    }
   },
   "outputs": [
    {
     "data": {
      "text/plain": [
       "10"
      ]
     },
     "execution_count": 49,
     "metadata": {},
     "output_type": "execute_result"
    }
   ],
   "source": [
    "n"
   ]
  },
  {
   "cell_type": "code",
   "execution_count": 53,
   "metadata": {
    "ExecuteTime": {
     "end_time": "2021-11-11T07:54:54.642288Z",
     "start_time": "2021-11-11T07:54:54.634287Z"
    }
   },
   "outputs": [
    {
     "data": {
      "text/plain": [
       "0.03952847075210474"
      ]
     },
     "execution_count": 53,
     "metadata": {},
     "output_type": "execute_result"
    }
   ],
   "source": [
    "1/(np.sqrt(n/(n-1))*np.std(c))"
   ]
  },
  {
   "cell_type": "markdown",
   "metadata": {},
   "source": [
    "# Question 4"
   ]
  },
  {
   "cell_type": "code",
   "execution_count": 57,
   "metadata": {
    "ExecuteTime": {
     "end_time": "2021-11-11T08:09:37.352600Z",
     "start_time": "2021-11-11T08:09:37.336601Z"
    }
   },
   "outputs": [
    {
     "data": {
      "text/plain": [
       "0.91"
      ]
     },
     "execution_count": 57,
     "metadata": {},
     "output_type": "execute_result"
    }
   ],
   "source": [
    "j = 100000/9000\n",
    "alpha = (j-1)/j\n",
    "alpha"
   ]
  },
  {
   "cell_type": "code",
   "execution_count": 59,
   "metadata": {
    "ExecuteTime": {
     "end_time": "2021-11-11T08:10:04.453781Z",
     "start_time": "2021-11-11T08:10:04.437783Z"
    }
   },
   "outputs": [
    {
     "data": {
      "text/plain": [
       "13.751835972675375"
      ]
     },
     "execution_count": 59,
     "metadata": {},
     "output_type": "execute_result"
    }
   ],
   "source": [
    "cdf= 1-(9000/1000000)**alpha\n",
    "(1-cdf)*1000"
   ]
  },
  {
   "cell_type": "code",
   "execution_count": 60,
   "metadata": {
    "ExecuteTime": {
     "end_time": "2021-11-11T08:12:53.836496Z",
     "start_time": "2021-11-11T08:12:53.812498Z"
    }
   },
   "outputs": [
    {
     "data": {
      "text/plain": [
       "17821563.654646255"
      ]
     },
     "execution_count": 60,
     "metadata": {},
     "output_type": "execute_result"
    }
   ],
   "source": [
    "9000*(1-.999)**(-1/alpha)"
   ]
  },
  {
   "cell_type": "markdown",
   "metadata": {},
   "source": [
    "# Question 5"
   ]
  },
  {
   "cell_type": "code",
   "execution_count": 61,
   "metadata": {
    "ExecuteTime": {
     "end_time": "2021-11-11T08:37:37.604724Z",
     "start_time": "2021-11-11T08:37:37.588690Z"
    }
   },
   "outputs": [],
   "source": [
    "d=[0.8, 0.97, 0.31, 0.69, 0.88]"
   ]
  },
  {
   "cell_type": "code",
   "execution_count": 62,
   "metadata": {
    "ExecuteTime": {
     "end_time": "2021-11-11T08:37:42.526624Z",
     "start_time": "2021-11-11T08:37:42.510624Z"
    }
   },
   "outputs": [],
   "source": [
    "n=len(d)"
   ]
  },
  {
   "cell_type": "code",
   "execution_count": 67,
   "metadata": {
    "ExecuteTime": {
     "end_time": "2021-11-11T08:39:20.838857Z",
     "start_time": "2021-11-11T08:39:20.830853Z"
    }
   },
   "outputs": [
    {
     "name": "stdout",
     "output_type": "stream",
     "text": [
      "0.73\n"
     ]
    }
   ],
   "source": [
    "d_mean=np.mean(d)\n",
    "print(d_mean)"
   ]
  },
  {
   "cell_type": "code",
   "execution_count": 69,
   "metadata": {
    "ExecuteTime": {
     "end_time": "2021-11-11T08:39:37.334268Z",
     "start_time": "2021-11-11T08:39:37.310563Z"
    }
   },
   "outputs": [],
   "source": [
    "d_var=np.sqrt(n/(n-1))*np.std(d)"
   ]
  },
  {
   "cell_type": "code",
   "execution_count": 70,
   "metadata": {
    "ExecuteTime": {
     "end_time": "2021-11-11T08:39:37.554347Z",
     "start_time": "2021-11-11T08:39:37.546346Z"
    }
   },
   "outputs": [
    {
     "name": "stdout",
     "output_type": "stream",
     "text": [
      "0.2564176280991617\n"
     ]
    }
   ],
   "source": [
    "print(d_var)"
   ]
  },
  {
   "cell_type": "code",
   "execution_count": 71,
   "metadata": {
    "ExecuteTime": {
     "end_time": "2021-11-11T08:39:38.774105Z",
     "start_time": "2021-11-11T08:39:38.766106Z"
    }
   },
   "outputs": [
    {
     "data": {
      "text/plain": [
       "(-0.14707062674421212, 1.607070626744212)"
      ]
     },
     "execution_count": 71,
     "metadata": {},
     "output_type": "execute_result"
    }
   ],
   "source": [
    "d_mean-np.sqrt(3*d_var),d_mean+np.sqrt(3*d_var)"
   ]
  }
 ],
 "metadata": {
  "kernelspec": {
   "display_name": "Python 3",
   "language": "python",
   "name": "python3"
  },
  "language_info": {
   "codemirror_mode": {
    "name": "ipython",
    "version": 3
   },
   "file_extension": ".py",
   "mimetype": "text/x-python",
   "name": "python",
   "nbconvert_exporter": "python",
   "pygments_lexer": "ipython3",
   "version": "3.7.4"
  },
  "toc": {
   "base_numbering": 1,
   "nav_menu": {},
   "number_sections": true,
   "sideBar": true,
   "skip_h1_title": false,
   "title_cell": "Table of Contents",
   "title_sidebar": "Contents",
   "toc_cell": false,
   "toc_position": {},
   "toc_section_display": true,
   "toc_window_display": false
  }
 },
 "nbformat": 4,
 "nbformat_minor": 2
}
