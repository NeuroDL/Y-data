{
 "cells": [
  {
   "cell_type": "markdown",
   "metadata": {},
   "source": [
    "# NumPy basics"
   ]
  },
  {
   "cell_type": "markdown",
   "metadata": {},
   "source": [
    "## Import convention"
   ]
  },
  {
   "cell_type": "code",
   "execution_count": 1,
   "metadata": {
    "ExecuteTime": {
     "end_time": "2021-10-12T15:29:42.538875Z",
     "start_time": "2021-10-12T15:29:42.073677Z"
    }
   },
   "outputs": [],
   "source": [
    "import numpy as np\n",
    "np.random.seed(657743)"
   ]
  },
  {
   "cell_type": "code",
   "execution_count": 2,
   "metadata": {
    "ExecuteTime": {
     "end_time": "2021-10-12T15:29:47.050731Z",
     "start_time": "2021-10-12T15:29:46.221317Z"
    }
   },
   "outputs": [
    {
     "name": "stdout",
     "output_type": "stream",
     "text": [
      "Populating the interactive namespace from numpy and matplotlib\n"
     ]
    }
   ],
   "source": [
    "%pylab inline\n",
    "plt.style.use(\"bmh\")"
   ]
  },
  {
   "cell_type": "markdown",
   "metadata": {},
   "source": [
    "## Creating arrays from Python sequences"
   ]
  },
  {
   "cell_type": "markdown",
   "metadata": {},
   "source": [
    "Core data structure in NumPy:"
   ]
  },
  {
   "cell_type": "code",
   "execution_count": 3,
   "metadata": {
    "ExecuteTime": {
     "end_time": "2021-10-12T15:29:52.074377Z",
     "start_time": "2021-10-12T15:29:52.007067Z"
    }
   },
   "outputs": [],
   "source": [
    "?np.ndarray"
   ]
  },
  {
   "cell_type": "markdown",
   "metadata": {},
   "source": [
    "Creating a $2\\times 2$ array of floating point numbers (note the garbage in the resulting array):"
   ]
  },
  {
   "cell_type": "code",
   "execution_count": 8,
   "metadata": {
    "ExecuteTime": {
     "end_time": "2021-10-12T15:31:01.218096Z",
     "start_time": "2021-10-12T15:31:01.210083Z"
    }
   },
   "outputs": [
    {
     "data": {
      "text/plain": [
       "array([[[9.72500563e-312, 6.27463370e-322, 0.00000000e+000,\n",
       "         0.00000000e+000, 1.89146896e-307],\n",
       "        [5.30276956e+180, 1.02941932e-071, 4.57222660e-071,\n",
       "         5.06793390e-086, 3.35960335e-143]],\n",
       "\n",
       "       [[6.01433264e+175, 6.93885958e+218, 5.56218858e+180,\n",
       "         3.94356143e+180, 9.77382138e+165],\n",
       "        [3.99840503e+175, 2.31655091e-056, 4.27933834e-033,\n",
       "         5.25322566e-144, 1.50008929e+248]]])"
      ]
     },
     "execution_count": 8,
     "metadata": {},
     "output_type": "execute_result"
    }
   ],
   "source": [
    "np.ndarray((2,2,5), dtype=float)"
   ]
  },
  {
   "cell_type": "markdown",
   "metadata": {},
   "source": [
    "By default `float` is 64-bit floating point number:"
   ]
  },
  {
   "cell_type": "code",
   "execution_count": 10,
   "metadata": {
    "ExecuteTime": {
     "end_time": "2021-10-12T15:31:29.509997Z",
     "start_time": "2021-10-12T15:31:29.493042Z"
    }
   },
   "outputs": [
    {
     "data": {
      "text/plain": [
       "dtype('float64')"
      ]
     },
     "execution_count": 10,
     "metadata": {},
     "output_type": "execute_result"
    }
   ],
   "source": [
    "np.ndarray((2,2)).dtype"
   ]
  },
  {
   "cell_type": "markdown",
   "metadata": {},
   "source": [
    "It works, but is not very convenient. A more convenient high-level option is"
   ]
  },
  {
   "cell_type": "code",
   "execution_count": 11,
   "metadata": {
    "ExecuteTime": {
     "end_time": "2021-10-12T15:32:35.153461Z",
     "start_time": "2021-10-12T15:32:35.145486Z"
    }
   },
   "outputs": [],
   "source": [
    "?np.array"
   ]
  },
  {
   "cell_type": "code",
   "execution_count": 14,
   "metadata": {
    "ExecuteTime": {
     "end_time": "2021-10-12T15:33:41.356158Z",
     "start_time": "2021-10-12T15:33:41.349181Z"
    }
   },
   "outputs": [],
   "source": [
    "arr = np.array([[7, 2, 3.], [3, 9, 6]])"
   ]
  },
  {
   "cell_type": "code",
   "execution_count": 25,
   "metadata": {
    "ExecuteTime": {
     "end_time": "2021-10-12T15:37:36.317963Z",
     "start_time": "2021-10-12T15:37:36.314966Z"
    }
   },
   "outputs": [],
   "source": [
    "arr=np.concatenate([arr,arr])"
   ]
  },
  {
   "cell_type": "code",
   "execution_count": 26,
   "metadata": {
    "ExecuteTime": {
     "end_time": "2021-10-12T15:37:41.426556Z",
     "start_time": "2021-10-12T15:37:41.421573Z"
    }
   },
   "outputs": [
    {
     "data": {
      "text/plain": [
       "array([[7., 2., 3.],\n",
       "       [3., 9., 6.],\n",
       "       [7., 2., 3.],\n",
       "       [3., 9., 6.]])"
      ]
     },
     "execution_count": 26,
     "metadata": {},
     "output_type": "execute_result"
    }
   ],
   "source": [
    "arr"
   ]
  },
  {
   "cell_type": "markdown",
   "metadata": {},
   "source": [
    "Each array has known `shape`, `size` and `ndim`:"
   ]
  },
  {
   "cell_type": "code",
   "execution_count": 21,
   "metadata": {
    "ExecuteTime": {
     "end_time": "2021-10-12T15:34:59.891483Z",
     "start_time": "2021-10-12T15:34:59.874534Z"
    }
   },
   "outputs": [
    {
     "data": {
      "text/plain": [
       "2"
      ]
     },
     "execution_count": 21,
     "metadata": {},
     "output_type": "execute_result"
    }
   ],
   "source": [
    "arr.shape[0]"
   ]
  },
  {
   "cell_type": "code",
   "execution_count": 27,
   "metadata": {
    "ExecuteTime": {
     "end_time": "2021-10-12T15:38:09.091815Z",
     "start_time": "2021-10-12T15:38:09.075818Z"
    }
   },
   "outputs": [
    {
     "name": "stdout",
     "output_type": "stream",
     "text": [
      "Array shape is (4, 3)\n",
      "Array size is 12\n",
      "Array has 2 dimensions\n"
     ]
    }
   ],
   "source": [
    "print(\"Array shape is\", arr.shape)\n",
    "print(\"Array size is\", arr.size)\n",
    "print(f\"Array has {arr.ndim} dimensions\")"
   ]
  },
  {
   "cell_type": "markdown",
   "metadata": {},
   "source": [
    "And `dtype`, `itemsize` and `nbytes`:"
   ]
  },
  {
   "cell_type": "code",
   "execution_count": 28,
   "metadata": {
    "ExecuteTime": {
     "end_time": "2021-10-12T15:38:55.941042Z",
     "start_time": "2021-10-12T15:38:55.930070Z"
    }
   },
   "outputs": [
    {
     "name": "stdout",
     "output_type": "stream",
     "text": [
      "Array dtype is float64\n",
      "Each item takes 8 bytes\n",
      "Array takes 96 bytes\n"
     ]
    }
   ],
   "source": [
    "print(\"Array dtype is\", arr.dtype)\n",
    "print(f\"Each item takes {arr.itemsize} bytes\")\n",
    "print(f\"Array takes {arr.nbytes} bytes\")"
   ]
  },
  {
   "cell_type": "markdown",
   "metadata": {},
   "source": [
    "## Creating arrays of special shape and/or type"
   ]
  },
  {
   "cell_type": "markdown",
   "metadata": {},
   "source": [
    "Array with specific `shape` and `dtype`, filled with `0`'s:"
   ]
  },
  {
   "cell_type": "code",
   "execution_count": 29,
   "metadata": {
    "ExecuteTime": {
     "end_time": "2021-10-12T15:39:02.433368Z",
     "start_time": "2021-10-12T15:39:02.415421Z"
    }
   },
   "outputs": [
    {
     "data": {
      "text/plain": [
       "array([[False, False, False, False, False, False],\n",
       "       [False, False, False, False, False, False]])"
      ]
     },
     "execution_count": 29,
     "metadata": {},
     "output_type": "execute_result"
    }
   ],
   "source": [
    "zeros_array = np.zeros((2,6), dtype=bool)\n",
    "zeros_array"
   ]
  },
  {
   "cell_type": "markdown",
   "metadata": {},
   "source": [
    "Array of `0`'s with the same shape as `arr`, but of different `dtype`:"
   ]
  },
  {
   "cell_type": "code",
   "execution_count": 35,
   "metadata": {
    "ExecuteTime": {
     "end_time": "2021-10-12T15:41:53.620988Z",
     "start_time": "2021-10-12T15:41:53.602040Z"
    }
   },
   "outputs": [
    {
     "data": {
      "text/plain": [
       "array([[0.+0.j, 0.+0.j, 0.+0.j],\n",
       "       [0.+0.j, 0.+0.j, 0.+0.j],\n",
       "       [0.+0.j, 0.+0.j, 0.+0.j],\n",
       "       [0.+0.j, 0.+0.j, 0.+0.j]])"
      ]
     },
     "execution_count": 35,
     "metadata": {},
     "output_type": "execute_result"
    }
   ],
   "source": [
    "zeros_like_array = np.zeros_like(arr, dtype=np.complex128)\n",
    "zeros_like_array"
   ]
  },
  {
   "cell_type": "markdown",
   "metadata": {},
   "source": [
    "Array with specific `shape` and `dtype`, filled with `1`'s:"
   ]
  },
  {
   "cell_type": "code",
   "execution_count": 36,
   "metadata": {
    "ExecuteTime": {
     "end_time": "2021-10-12T15:43:10.464521Z",
     "start_time": "2021-10-12T15:43:10.449561Z"
    }
   },
   "outputs": [
    {
     "data": {
      "text/plain": [
       "array([[1., 1., 1., 1., 1., 1., 1., 1., 1.],\n",
       "       [1., 1., 1., 1., 1., 1., 1., 1., 1.],\n",
       "       [1., 1., 1., 1., 1., 1., 1., 1., 1.]], dtype=float32)"
      ]
     },
     "execution_count": 36,
     "metadata": {},
     "output_type": "execute_result"
    }
   ],
   "source": [
    "ones_array = np.ones((3,9), dtype=np.float32)\n",
    "ones_array"
   ]
  },
  {
   "cell_type": "markdown",
   "metadata": {},
   "source": [
    "Array of `1`'s with the same shape as `zeros_array`, and of different `dtype`:"
   ]
  },
  {
   "cell_type": "code",
   "execution_count": 37,
   "metadata": {
    "ExecuteTime": {
     "end_time": "2021-10-12T15:43:15.189887Z",
     "start_time": "2021-10-12T15:43:15.171936Z"
    }
   },
   "outputs": [
    {
     "data": {
      "text/plain": [
       "array([[False, False, False, False, False, False],\n",
       "       [False, False, False, False, False, False]])"
      ]
     },
     "execution_count": 37,
     "metadata": {},
     "output_type": "execute_result"
    }
   ],
   "source": [
    "zeros_array"
   ]
  },
  {
   "cell_type": "code",
   "execution_count": 38,
   "metadata": {
    "ExecuteTime": {
     "end_time": "2021-10-12T15:43:23.991215Z",
     "start_time": "2021-10-12T15:43:23.973244Z"
    }
   },
   "outputs": [
    {
     "data": {
      "text/plain": [
       "array([[1., 1., 1., 1., 1., 1.],\n",
       "       [1., 1., 1., 1., 1., 1.]], dtype=float32)"
      ]
     },
     "execution_count": 38,
     "metadata": {},
     "output_type": "execute_result"
    }
   ],
   "source": [
    "ones_like_array = np.ones_like(zeros_array, dtype=np.float32)\n",
    "ones_like_array"
   ]
  },
  {
   "cell_type": "markdown",
   "metadata": {},
   "source": [
    "Range arrays are very common for indexing and as a drop-in replacement for built-int `range`.\n",
    "\n",
    "The most simple form is `np.arange(n)`: **start** at default `0`, **increment** by default `1`, **end** at `n` (exclusive):"
   ]
  },
  {
   "cell_type": "code",
   "execution_count": 40,
   "metadata": {
    "ExecuteTime": {
     "end_time": "2021-10-12T15:44:30.155603Z",
     "start_time": "2021-10-12T15:44:30.143635Z"
    }
   },
   "outputs": [
    {
     "data": {
      "text/plain": [
       "array([ 0, 10, 20, 30, 40, 50, 60, 70, 80, 90])"
      ]
     },
     "execution_count": 40,
     "metadata": {},
     "output_type": "execute_result"
    }
   ],
   "source": [
    "range_array = np.arange(10)\n",
    "range_array*10"
   ]
  },
  {
   "cell_type": "markdown",
   "metadata": {},
   "source": [
    "Or you can specify both **starting** (inclusive) and **ending** points (exclusive):"
   ]
  },
  {
   "cell_type": "code",
   "execution_count": 41,
   "metadata": {
    "ExecuteTime": {
     "end_time": "2021-10-12T15:44:45.732355Z",
     "start_time": "2021-10-12T15:44:45.713403Z"
    }
   },
   "outputs": [
    {
     "data": {
      "text/plain": [
       "array([-5, -4, -3, -2, -1,  0,  1,  2,  3,  4])"
      ]
     },
     "execution_count": 41,
     "metadata": {},
     "output_type": "execute_result"
    }
   ],
   "source": [
    "range_array = np.arange(-5, 5)\n",
    "range_array"
   ]
  },
  {
   "cell_type": "markdown",
   "metadata": {},
   "source": [
    "Or all three:"
   ]
  },
  {
   "cell_type": "code",
   "execution_count": 49,
   "metadata": {
    "ExecuteTime": {
     "end_time": "2021-10-12T15:46:01.025590Z",
     "start_time": "2021-10-12T15:46:01.019606Z"
    }
   },
   "outputs": [
    {
     "data": {
      "text/plain": [
       "array([0. , 0.3, 0.6, 0.9, 1.2, 1.5, 1.8, 2.1, 2.4, 2.7, 3. , 3.3, 3.6,\n",
       "       3.9, 4.2, 4.5, 4.8])"
      ]
     },
     "execution_count": 49,
     "metadata": {},
     "output_type": "execute_result"
    }
   ],
   "source": [
    "range_array = np.arange(0, 5, .3)\n",
    "range_array"
   ]
  },
  {
   "cell_type": "markdown",
   "metadata": {},
   "source": [
    "Negative increment (or *step*) works as usual, but beware of bounds ordering:"
   ]
  },
  {
   "cell_type": "code",
   "execution_count": 45,
   "metadata": {
    "ExecuteTime": {
     "end_time": "2021-10-12T15:45:24.847834Z",
     "start_time": "2021-10-12T15:45:24.838874Z"
    }
   },
   "outputs": [],
   "source": [
    "range_array = np.arange(0, 10, -2)"
   ]
  },
  {
   "cell_type": "code",
   "execution_count": 46,
   "metadata": {
    "ExecuteTime": {
     "end_time": "2021-10-12T15:45:26.641498Z",
     "start_time": "2021-10-12T15:45:26.633481Z"
    }
   },
   "outputs": [
    {
     "data": {
      "text/plain": [
       "array([], dtype=int32)"
      ]
     },
     "execution_count": 46,
     "metadata": {},
     "output_type": "execute_result"
    }
   ],
   "source": [
    "range_array"
   ]
  },
  {
   "cell_type": "code",
   "execution_count": 47,
   "metadata": {
    "ExecuteTime": {
     "end_time": "2021-10-12T15:45:28.241645Z",
     "start_time": "2021-10-12T15:45:28.237655Z"
    }
   },
   "outputs": [
    {
     "data": {
      "text/plain": [
       "array([10,  8,  6,  4,  2])"
      ]
     },
     "execution_count": 47,
     "metadata": {},
     "output_type": "execute_result"
    }
   ],
   "source": [
    "range_array = np.arange(10, 0, -2)\n",
    "range_array"
   ]
  },
  {
   "cell_type": "markdown",
   "metadata": {},
   "source": [
    "It's not only integer (hence, it's a generalization of `range`):"
   ]
  },
  {
   "cell_type": "code",
   "execution_count": 50,
   "metadata": {
    "ExecuteTime": {
     "end_time": "2021-10-12T15:46:18.686702Z",
     "start_time": "2021-10-12T15:46:18.675754Z"
    }
   },
   "outputs": [
    {
     "data": {
      "text/plain": [
       "array([-0.5,  0. ,  0.5,  1. ,  1.5,  2. ,  2.5,  3. ,  3.5,  4. ,  4.5])"
      ]
     },
     "execution_count": 50,
     "metadata": {},
     "output_type": "execute_result"
    }
   ],
   "source": [
    "range_float_array = np.arange(-0.5, 5., 0.5)\n",
    "range_float_array"
   ]
  },
  {
   "cell_type": "markdown",
   "metadata": {},
   "source": [
    "## Basic indexing of numpy arrays"
   ]
  },
  {
   "cell_type": "markdown",
   "metadata": {},
   "source": [
    "Integer and slicing notations:"
   ]
  },
  {
   "cell_type": "code",
   "execution_count": 52,
   "metadata": {
    "ExecuteTime": {
     "end_time": "2021-10-12T15:47:38.015281Z",
     "start_time": "2021-10-12T15:47:37.997288Z"
    }
   },
   "outputs": [
    {
     "data": {
      "text/plain": [
       "array([-0.5,  0. ,  0.5,  1. ,  1.5,  2. ,  2.5,  3. ,  3.5,  4. ,  4.5])"
      ]
     },
     "execution_count": 52,
     "metadata": {},
     "output_type": "execute_result"
    }
   ],
   "source": [
    "range_float_array"
   ]
  },
  {
   "cell_type": "markdown",
   "metadata": {},
   "source": [
    "Get first element:"
   ]
  },
  {
   "cell_type": "code",
   "execution_count": 53,
   "metadata": {
    "ExecuteTime": {
     "end_time": "2021-10-12T15:48:56.115196Z",
     "start_time": "2021-10-12T15:48:56.098287Z"
    }
   },
   "outputs": [
    {
     "data": {
      "text/plain": [
       "0.0"
      ]
     },
     "execution_count": 53,
     "metadata": {},
     "output_type": "execute_result"
    }
   ],
   "source": [
    "range_float_array[1]"
   ]
  },
  {
   "cell_type": "markdown",
   "metadata": {},
   "source": [
    "Get a slice (right index is not included):"
   ]
  },
  {
   "cell_type": "code",
   "execution_count": 56,
   "metadata": {
    "ExecuteTime": {
     "end_time": "2021-10-12T15:50:19.811244Z",
     "start_time": "2021-10-12T15:50:19.797280Z"
    }
   },
   "outputs": [
    {
     "data": {
      "text/plain": [
       "array([0. , 0.5, 1. , 1.5, 2. , 2.5])"
      ]
     },
     "execution_count": 56,
     "metadata": {},
     "output_type": "execute_result"
    }
   ],
   "source": [
    "range_float_array[1:7]"
   ]
  },
  {
   "cell_type": "markdown",
   "metadata": {},
   "source": [
    "Get a slice:"
   ]
  },
  {
   "cell_type": "code",
   "execution_count": 57,
   "metadata": {
    "ExecuteTime": {
     "end_time": "2021-10-12T15:50:21.775904Z",
     "start_time": "2021-10-12T15:50:21.771878Z"
    }
   },
   "outputs": [
    {
     "data": {
      "text/plain": [
       "array([-0.5,  0. ,  0.5,  1. ,  1.5])"
      ]
     },
     "execution_count": 57,
     "metadata": {},
     "output_type": "execute_result"
    }
   ],
   "source": [
    "range_float_array[:5]"
   ]
  },
  {
   "cell_type": "markdown",
   "metadata": {},
   "source": [
    "Get a slice with negative indices:"
   ]
  },
  {
   "cell_type": "code",
   "execution_count": 58,
   "metadata": {
    "ExecuteTime": {
     "end_time": "2021-10-12T15:50:30.203640Z",
     "start_time": "2021-10-12T15:50:30.188686Z"
    }
   },
   "outputs": [
    {
     "data": {
      "text/plain": [
       "array([2.5, 3. , 3.5])"
      ]
     },
     "execution_count": 58,
     "metadata": {},
     "output_type": "execute_result"
    }
   ],
   "source": [
    "range_float_array[-5:-2]"
   ]
  },
  {
   "cell_type": "markdown",
   "metadata": {},
   "source": [
    "Indexing 2D arrays:"
   ]
  },
  {
   "cell_type": "code",
   "execution_count": 59,
   "metadata": {
    "ExecuteTime": {
     "end_time": "2021-10-12T15:51:11.366852Z",
     "start_time": "2021-10-12T15:51:11.350887Z"
    }
   },
   "outputs": [
    {
     "data": {
      "text/plain": [
       "array([[7., 2., 3.],\n",
       "       [3., 9., 6.],\n",
       "       [7., 2., 3.],\n",
       "       [3., 9., 6.]])"
      ]
     },
     "execution_count": 59,
     "metadata": {},
     "output_type": "execute_result"
    }
   ],
   "source": [
    "arr"
   ]
  },
  {
   "cell_type": "code",
   "execution_count": 60,
   "metadata": {
    "ExecuteTime": {
     "end_time": "2021-10-12T15:51:16.431059Z",
     "start_time": "2021-10-12T15:51:16.418095Z"
    }
   },
   "outputs": [
    {
     "data": {
      "text/plain": [
       "array([[2., 3.]])"
      ]
     },
     "execution_count": 60,
     "metadata": {},
     "output_type": "execute_result"
    }
   ],
   "source": [
    "arr[:1, 1:]"
   ]
  },
  {
   "cell_type": "code",
   "execution_count": 63,
   "metadata": {
    "ExecuteTime": {
     "end_time": "2021-10-12T15:52:10.732675Z",
     "start_time": "2021-10-12T15:52:10.725693Z"
    }
   },
   "outputs": [
    {
     "data": {
      "text/plain": [
       "array([2., 3.])"
      ]
     },
     "execution_count": 63,
     "metadata": {},
     "output_type": "execute_result"
    }
   ],
   "source": [
    "arr[0, 1:]"
   ]
  },
  {
   "cell_type": "code",
   "execution_count": 65,
   "metadata": {
    "ExecuteTime": {
     "end_time": "2021-10-12T15:52:47.730751Z",
     "start_time": "2021-10-12T15:52:47.714789Z"
    }
   },
   "outputs": [
    {
     "data": {
      "text/plain": [
       "array([7., 3.])"
      ]
     },
     "execution_count": 65,
     "metadata": {},
     "output_type": "execute_result"
    }
   ],
   "source": [
    "arr[0, ::2]"
   ]
  },
  {
   "cell_type": "markdown",
   "metadata": {},
   "source": [
    "Generally, basic indexing works very similar to usual Python lists, but in many dimensions."
   ]
  },
  {
   "cell_type": "markdown",
   "metadata": {},
   "source": [
    "## Boolean and fancy indexing"
   ]
  },
  {
   "cell_type": "code",
   "execution_count": 66,
   "metadata": {
    "ExecuteTime": {
     "end_time": "2021-10-12T15:52:53.619966Z",
     "start_time": "2021-10-12T15:52:53.602006Z"
    }
   },
   "outputs": [
    {
     "data": {
      "text/plain": [
       "array([-1.11204182,  0.46910808, -0.68408549,  0.69242926,  1.15223867,\n",
       "        1.17339163, -0.11879617,  0.06423215, -1.2978598 , -0.64957899])"
      ]
     },
     "execution_count": 66,
     "metadata": {},
     "output_type": "execute_result"
    }
   ],
   "source": [
    "random_array = np.random.randn(10)\n",
    "random_array"
   ]
  },
  {
   "cell_type": "markdown",
   "metadata": {},
   "source": [
    "Most operations (arithmetic, logical, etc.) are vectorized for NumPy arrays and we do not need loops at all. For example, to create a boolean **mask** (i.e. `>` is a **vectorized** operation):"
   ]
  },
  {
   "cell_type": "code",
   "execution_count": 67,
   "metadata": {
    "ExecuteTime": {
     "end_time": "2021-10-12T15:53:37.656563Z",
     "start_time": "2021-10-12T15:53:37.642601Z"
    }
   },
   "outputs": [
    {
     "data": {
      "text/plain": [
       "array([False,  True, False,  True,  True,  True, False,  True, False,\n",
       "       False])"
      ]
     },
     "execution_count": 67,
     "metadata": {},
     "output_type": "execute_result"
    }
   ],
   "source": [
    "random_array>0"
   ]
  },
  {
   "cell_type": "markdown",
   "metadata": {},
   "source": [
    "Boolean masks can be used for indexing (including logical operations on mask themselves, as they are vectorized as well!):"
   ]
  },
  {
   "cell_type": "code",
   "execution_count": 69,
   "metadata": {
    "ExecuteTime": {
     "end_time": "2021-10-12T15:57:52.806319Z",
     "start_time": "2021-10-12T15:57:52.793350Z"
    }
   },
   "outputs": [
    {
     "data": {
      "text/plain": [
       "array([0.46910808, 0.69242926, 1.15223867, 1.17339163, 0.06423215])"
      ]
     },
     "execution_count": 69,
     "metadata": {},
     "output_type": "execute_result"
    }
   ],
   "source": [
    "random_array[random_array>0]"
   ]
  },
  {
   "cell_type": "code",
   "execution_count": 73,
   "metadata": {
    "ExecuteTime": {
     "end_time": "2021-10-12T15:58:36.882297Z",
     "start_time": "2021-10-12T15:58:36.865305Z"
    }
   },
   "outputs": [
    {
     "data": {
      "text/plain": [
       "array([-1.11204182,  0.46910808,  0.69242926,  1.15223867,  1.17339163,\n",
       "        0.06423215, -1.2978598 ])"
      ]
     },
     "execution_count": 73,
     "metadata": {},
     "output_type": "execute_result"
    }
   ],
   "source": [
    "random_array[((random_array>0) | (random_array<-1))]"
   ]
  },
  {
   "cell_type": "code",
   "execution_count": 74,
   "metadata": {
    "ExecuteTime": {
     "end_time": "2021-10-12T15:59:15.671207Z",
     "start_time": "2021-10-12T15:59:15.660235Z"
    }
   },
   "outputs": [
    {
     "data": {
      "text/plain": [
       "array([False,  True, False,  True,  True,  True, False,  True, False,\n",
       "       False])"
      ]
     },
     "execution_count": 74,
     "metadata": {},
     "output_type": "execute_result"
    }
   ],
   "source": [
    "random_array>0"
   ]
  },
  {
   "cell_type": "code",
   "execution_count": 75,
   "metadata": {
    "ExecuteTime": {
     "end_time": "2021-10-12T15:59:21.534858Z",
     "start_time": "2021-10-12T15:59:21.517861Z"
    }
   },
   "outputs": [
    {
     "data": {
      "text/plain": [
       "array([ True, False, False, False, False, False, False, False,  True,\n",
       "       False])"
      ]
     },
     "execution_count": 75,
     "metadata": {},
     "output_type": "execute_result"
    }
   ],
   "source": [
    "random_array<-1"
   ]
  },
  {
   "cell_type": "code",
   "execution_count": 76,
   "metadata": {
    "ExecuteTime": {
     "end_time": "2021-10-12T15:59:27.021620Z",
     "start_time": "2021-10-12T15:59:27.016596Z"
    }
   },
   "outputs": [
    {
     "data": {
      "text/plain": [
       "array([-1.11204182,  0.46910808, -0.68408549,  0.69242926,  1.15223867,\n",
       "        1.17339163, -0.11879617,  0.06423215, -1.2978598 , -0.64957899])"
      ]
     },
     "execution_count": 76,
     "metadata": {},
     "output_type": "execute_result"
    }
   ],
   "source": [
    "random_array"
   ]
  },
  {
   "cell_type": "code",
   "execution_count": 77,
   "metadata": {
    "ExecuteTime": {
     "end_time": "2021-10-12T15:59:30.673942Z",
     "start_time": "2021-10-12T15:59:30.669953Z"
    }
   },
   "outputs": [
    {
     "data": {
      "text/plain": [
       "array([0.46910808, 0.69242926, 0.06423215])"
      ]
     },
     "execution_count": 77,
     "metadata": {},
     "output_type": "execute_result"
    }
   ],
   "source": [
    "random_array[(random_array>0) & (random_array<1)]"
   ]
  },
  {
   "cell_type": "markdown",
   "metadata": {},
   "source": [
    "Instead of using boolean masks, fancy indexing provides an alternative way with index arrays:"
   ]
  },
  {
   "cell_type": "code",
   "execution_count": 78,
   "metadata": {
    "ExecuteTime": {
     "end_time": "2021-10-12T16:02:03.514419Z",
     "start_time": "2021-10-12T16:02:03.509431Z"
    }
   },
   "outputs": [
    {
     "data": {
      "text/plain": [
       "(array([1, 3, 4, 5, 7], dtype=int64),)"
      ]
     },
     "execution_count": 78,
     "metadata": {},
     "output_type": "execute_result"
    }
   ],
   "source": [
    "np.where(random_array>0)"
   ]
  },
  {
   "cell_type": "code",
   "execution_count": 79,
   "metadata": {
    "ExecuteTime": {
     "end_time": "2021-10-12T16:02:04.243518Z",
     "start_time": "2021-10-12T16:02:04.226553Z"
    }
   },
   "outputs": [],
   "source": [
    "ix0, = np.where(random_array>0)"
   ]
  },
  {
   "cell_type": "code",
   "execution_count": 80,
   "metadata": {
    "ExecuteTime": {
     "end_time": "2021-10-12T16:02:04.802490Z",
     "start_time": "2021-10-12T16:02:04.787494Z"
    }
   },
   "outputs": [
    {
     "data": {
      "text/plain": [
       "array([1, 3, 4, 5, 7], dtype=int64)"
      ]
     },
     "execution_count": 80,
     "metadata": {},
     "output_type": "execute_result"
    }
   ],
   "source": [
    "ix0"
   ]
  },
  {
   "cell_type": "code",
   "execution_count": 81,
   "metadata": {
    "ExecuteTime": {
     "end_time": "2021-10-12T16:02:08.514572Z",
     "start_time": "2021-10-12T16:02:08.502632Z"
    }
   },
   "outputs": [
    {
     "data": {
      "text/plain": [
       "array([0.46910808, 0.69242926, 1.15223867, 1.17339163, 0.06423215])"
      ]
     },
     "execution_count": 81,
     "metadata": {},
     "output_type": "execute_result"
    }
   ],
   "source": [
    "random_array[random_array>0]"
   ]
  },
  {
   "cell_type": "code",
   "execution_count": 82,
   "metadata": {
    "ExecuteTime": {
     "end_time": "2021-10-12T16:02:10.740165Z",
     "start_time": "2021-10-12T16:02:10.720906Z"
    }
   },
   "outputs": [
    {
     "data": {
      "text/plain": [
       "array([0.46910808, 0.69242926, 1.15223867, 1.17339163, 0.06423215])"
      ]
     },
     "execution_count": 82,
     "metadata": {},
     "output_type": "execute_result"
    }
   ],
   "source": [
    "random_array[ix0]"
   ]
  },
  {
   "cell_type": "code",
   "execution_count": 83,
   "metadata": {
    "ExecuteTime": {
     "end_time": "2021-10-12T16:02:11.815919Z",
     "start_time": "2021-10-12T16:02:11.809933Z"
    }
   },
   "outputs": [
    {
     "data": {
      "text/plain": [
       "array([[ 1.26308259,  1.10781119, -0.96620663,  0.7825883 ],\n",
       "       [ 1.22047832,  1.28593266, -0.12777788,  0.36335958],\n",
       "       [ 0.3168423 , -1.32085224, -0.91976381, -0.11364747]])"
      ]
     },
     "execution_count": 83,
     "metadata": {},
     "output_type": "execute_result"
    }
   ],
   "source": [
    "random_array = np.random.randn(3, 4)\n",
    "random_array"
   ]
  },
  {
   "cell_type": "markdown",
   "metadata": {},
   "source": [
    "You can use other iterabes as indexers, but note the difference:"
   ]
  },
  {
   "cell_type": "code",
   "execution_count": 85,
   "metadata": {
    "ExecuteTime": {
     "end_time": "2021-10-12T16:02:53.977826Z",
     "start_time": "2021-10-12T16:02:53.960874Z"
    }
   },
   "outputs": [
    {
     "data": {
      "text/plain": [
       "-0.9662066290103926"
      ]
     },
     "execution_count": 85,
     "metadata": {},
     "output_type": "execute_result"
    }
   ],
   "source": [
    "random_array[0,2]"
   ]
  },
  {
   "cell_type": "code",
   "execution_count": 86,
   "metadata": {
    "ExecuteTime": {
     "end_time": "2021-10-12T16:02:58.281969Z",
     "start_time": "2021-10-12T16:02:58.263022Z"
    }
   },
   "outputs": [
    {
     "data": {
      "text/plain": [
       "-0.9662066290103926"
      ]
     },
     "execution_count": 86,
     "metadata": {},
     "output_type": "execute_result"
    }
   ],
   "source": [
    "random_array[0, 2]"
   ]
  },
  {
   "cell_type": "markdown",
   "metadata": {},
   "source": [
    "## View vs. copy\n",
    "\n",
    "We'll figure this out a bit later, but can already test one of the main sources of bugs in numerical code:"
   ]
  },
  {
   "cell_type": "code",
   "execution_count": 87,
   "metadata": {
    "ExecuteTime": {
     "end_time": "2021-10-12T16:05:25.558062Z",
     "start_time": "2021-10-12T16:05:25.546095Z"
    }
   },
   "outputs": [
    {
     "data": {
      "text/plain": [
       "array([[7., 2., 3.],\n",
       "       [3., 9., 6.],\n",
       "       [7., 2., 3.],\n",
       "       [3., 9., 6.]])"
      ]
     },
     "execution_count": 87,
     "metadata": {},
     "output_type": "execute_result"
    }
   ],
   "source": [
    "arr"
   ]
  },
  {
   "cell_type": "markdown",
   "metadata": {},
   "source": [
    "Creating a **view** and a **copy**:"
   ]
  },
  {
   "cell_type": "code",
   "execution_count": 88,
   "metadata": {
    "ExecuteTime": {
     "end_time": "2021-10-12T16:05:27.955692Z",
     "start_time": "2021-10-12T16:05:27.946705Z"
    }
   },
   "outputs": [],
   "source": [
    "arr_view = arr[:, :]\n",
    "arr_copy = arr.copy()"
   ]
  },
  {
   "cell_type": "code",
   "execution_count": 89,
   "metadata": {
    "ExecuteTime": {
     "end_time": "2021-10-12T16:05:35.954623Z",
     "start_time": "2021-10-12T16:05:35.936634Z"
    }
   },
   "outputs": [
    {
     "data": {
      "text/plain": [
       "array([[7., 2., 3.],\n",
       "       [3., 9., 6.],\n",
       "       [7., 2., 3.],\n",
       "       [3., 9., 6.]])"
      ]
     },
     "execution_count": 89,
     "metadata": {},
     "output_type": "execute_result"
    }
   ],
   "source": [
    "arr_view"
   ]
  },
  {
   "cell_type": "code",
   "execution_count": 90,
   "metadata": {
    "ExecuteTime": {
     "end_time": "2021-10-12T16:05:37.111721Z",
     "start_time": "2021-10-12T16:05:37.107729Z"
    }
   },
   "outputs": [
    {
     "data": {
      "text/plain": [
       "array([[7., 2., 3.],\n",
       "       [3., 9., 6.],\n",
       "       [7., 2., 3.],\n",
       "       [3., 9., 6.]])"
      ]
     },
     "execution_count": 90,
     "metadata": {},
     "output_type": "execute_result"
    }
   ],
   "source": [
    "arr_copy"
   ]
  },
  {
   "cell_type": "markdown",
   "metadata": {},
   "source": [
    "Changing an element(-s) in a view (note how assignment works despite fancy indexing):"
   ]
  },
  {
   "cell_type": "code",
   "execution_count": 91,
   "metadata": {
    "ExecuteTime": {
     "end_time": "2021-10-12T16:06:40.446684Z",
     "start_time": "2021-10-12T16:06:40.431724Z"
    }
   },
   "outputs": [],
   "source": [
    "arr_view[1:, 1:] = 41"
   ]
  },
  {
   "cell_type": "code",
   "execution_count": 92,
   "metadata": {
    "ExecuteTime": {
     "end_time": "2021-10-12T16:06:41.971739Z",
     "start_time": "2021-10-12T16:06:41.965757Z"
    }
   },
   "outputs": [],
   "source": [
    "arr_new = arr_view[1:, 1:]"
   ]
  },
  {
   "cell_type": "code",
   "execution_count": 112,
   "metadata": {
    "ExecuteTime": {
     "end_time": "2021-10-12T16:19:33.115172Z",
     "start_time": "2021-10-12T16:19:33.108192Z"
    }
   },
   "outputs": [
    {
     "data": {
      "text/plain": [
       "array([[ 7.,  2.,  3.],\n",
       "       [ 3., 41., 41.],\n",
       "       [ 7., 41., 41.],\n",
       "       [ 3., 41., 41.]])"
      ]
     },
     "execution_count": 112,
     "metadata": {},
     "output_type": "execute_result"
    }
   ],
   "source": [
    "arr_view"
   ]
  },
  {
   "cell_type": "code",
   "execution_count": 115,
   "metadata": {
    "ExecuteTime": {
     "end_time": "2021-10-12T16:20:30.112882Z",
     "start_time": "2021-10-12T16:20:30.097925Z"
    }
   },
   "outputs": [
    {
     "data": {
      "text/plain": [
       "array([[ 3.,  2.,  7.],\n",
       "       [41., 41.,  3.],\n",
       "       [41., 41.,  7.],\n",
       "       [41., 41.,  3.]])"
      ]
     },
     "execution_count": 115,
     "metadata": {},
     "output_type": "execute_result"
    }
   ],
   "source": [
    "arr_view[:,np.arange(2,-1,-1)]"
   ]
  },
  {
   "cell_type": "code",
   "execution_count": 94,
   "metadata": {
    "ExecuteTime": {
     "end_time": "2021-10-12T16:07:06.032449Z",
     "start_time": "2021-10-12T16:07:06.012462Z"
    }
   },
   "outputs": [
    {
     "data": {
      "text/plain": [
       "array([[ 7.,  2.,  3.],\n",
       "       [ 3., 41., 41.],\n",
       "       [ 7., 41., 41.],\n",
       "       [ 3., 41., 41.]])"
      ]
     },
     "execution_count": 94,
     "metadata": {},
     "output_type": "execute_result"
    }
   ],
   "source": [
    "arr"
   ]
  },
  {
   "cell_type": "markdown",
   "metadata": {},
   "source": [
    "Changing an element(-s) in a copy:"
   ]
  },
  {
   "cell_type": "code",
   "execution_count": 95,
   "metadata": {
    "ExecuteTime": {
     "end_time": "2021-10-12T16:07:40.185632Z",
     "start_time": "2021-10-12T16:07:40.178650Z"
    }
   },
   "outputs": [],
   "source": [
    "arr_copy[1:, 1:] = 32"
   ]
  },
  {
   "cell_type": "code",
   "execution_count": 96,
   "metadata": {
    "ExecuteTime": {
     "end_time": "2021-10-12T16:07:40.831538Z",
     "start_time": "2021-10-12T16:07:40.812588Z"
    }
   },
   "outputs": [
    {
     "data": {
      "text/plain": [
       "array([[ 7.,  2.,  3.],\n",
       "       [ 3., 32., 32.],\n",
       "       [ 7., 32., 32.],\n",
       "       [ 3., 32., 32.]])"
      ]
     },
     "execution_count": 96,
     "metadata": {},
     "output_type": "execute_result"
    }
   ],
   "source": [
    "arr_copy"
   ]
  },
  {
   "cell_type": "code",
   "execution_count": 97,
   "metadata": {
    "ExecuteTime": {
     "end_time": "2021-10-12T16:07:44.299633Z",
     "start_time": "2021-10-12T16:07:44.287667Z"
    }
   },
   "outputs": [
    {
     "data": {
      "text/plain": [
       "array([[ 7.,  2.,  3.],\n",
       "       [ 3., 41., 41.],\n",
       "       [ 7., 41., 41.],\n",
       "       [ 3., 41., 41.]])"
      ]
     },
     "execution_count": 97,
     "metadata": {},
     "output_type": "execute_result"
    }
   ],
   "source": [
    "arr"
   ]
  },
  {
   "cell_type": "markdown",
   "metadata": {},
   "source": [
    "How to check an array is a view to another array:"
   ]
  },
  {
   "cell_type": "code",
   "execution_count": 98,
   "metadata": {
    "ExecuteTime": {
     "end_time": "2021-10-12T16:08:16.394055Z",
     "start_time": "2021-10-12T16:08:16.378096Z"
    }
   },
   "outputs": [
    {
     "data": {
      "text/plain": [
       "True"
      ]
     },
     "execution_count": 98,
     "metadata": {},
     "output_type": "execute_result"
    }
   ],
   "source": [
    "arr_view.base is arr"
   ]
  },
  {
   "cell_type": "code",
   "execution_count": 102,
   "metadata": {
    "ExecuteTime": {
     "end_time": "2021-10-12T16:09:22.742745Z",
     "start_time": "2021-10-12T16:09:22.724777Z"
    }
   },
   "outputs": [
    {
     "name": "stdout",
     "output_type": "stream",
     "text": [
      "[[ 7.  2.  3.]\n",
      " [ 3. 41. 41.]\n",
      " [ 7. 41. 41.]\n",
      " [ 3. 41. 41.]]\n"
     ]
    }
   ],
   "source": [
    "print(arr_view.base)"
   ]
  },
  {
   "cell_type": "markdown",
   "metadata": {},
   "source": [
    "## Changing array shape"
   ]
  },
  {
   "cell_type": "code",
   "execution_count": 116,
   "metadata": {
    "ExecuteTime": {
     "end_time": "2021-10-12T16:38:54.787883Z",
     "start_time": "2021-10-12T16:38:54.762950Z"
    }
   },
   "outputs": [
    {
     "data": {
      "text/plain": [
       "array([[ 7.,  2.,  3.],\n",
       "       [ 3., 41., 41.],\n",
       "       [ 7., 41., 41.],\n",
       "       [ 3., 41., 41.]])"
      ]
     },
     "execution_count": 116,
     "metadata": {},
     "output_type": "execute_result"
    }
   ],
   "source": [
    "arr"
   ]
  },
  {
   "cell_type": "markdown",
   "metadata": {},
   "source": [
    "We can simply reshape it:"
   ]
  },
  {
   "cell_type": "code",
   "execution_count": 118,
   "metadata": {
    "ExecuteTime": {
     "end_time": "2021-10-12T16:39:05.603296Z",
     "start_time": "2021-10-12T16:39:05.588334Z"
    }
   },
   "outputs": [
    {
     "data": {
      "text/plain": [
       "array([[ 7.],\n",
       "       [ 2.],\n",
       "       [ 3.],\n",
       "       [ 3.],\n",
       "       [41.],\n",
       "       [41.],\n",
       "       [ 7.],\n",
       "       [41.],\n",
       "       [41.],\n",
       "       [ 3.],\n",
       "       [41.],\n",
       "       [41.]])"
      ]
     },
     "execution_count": 118,
     "metadata": {},
     "output_type": "execute_result"
    }
   ],
   "source": [
    "arr.reshape((12,1))"
   ]
  },
  {
   "cell_type": "code",
   "execution_count": 120,
   "metadata": {
    "ExecuteTime": {
     "end_time": "2021-10-12T16:40:40.589934Z",
     "start_time": "2021-10-12T16:40:40.571979Z"
    }
   },
   "outputs": [
    {
     "data": {
      "text/plain": [
       "array([ 7.,  2.,  3.,  3., 41., 41.,  7., 41., 41.,  3., 41., 41.])"
      ]
     },
     "execution_count": 120,
     "metadata": {},
     "output_type": "execute_result"
    }
   ],
   "source": [
    "arr.reshape((12,))"
   ]
  },
  {
   "cell_type": "code",
   "execution_count": 121,
   "metadata": {
    "ExecuteTime": {
     "end_time": "2021-10-12T16:40:47.659167Z",
     "start_time": "2021-10-12T16:40:47.646203Z"
    }
   },
   "outputs": [
    {
     "data": {
      "text/plain": [
       "array([[[ 7.,  2.,  3.,  3., 41., 41.]],\n",
       "\n",
       "       [[ 7., 41., 41.,  3., 41., 41.]]])"
      ]
     },
     "execution_count": 121,
     "metadata": {},
     "output_type": "execute_result"
    }
   ],
   "source": [
    "arr.reshape((2,1,6))"
   ]
  },
  {
   "cell_type": "markdown",
   "metadata": {},
   "source": [
    "Or expand dimensions (adding dimensions of shape `1`):"
   ]
  },
  {
   "cell_type": "code",
   "execution_count": 122,
   "metadata": {
    "ExecuteTime": {
     "end_time": "2021-10-12T16:40:54.353576Z",
     "start_time": "2021-10-12T16:40:54.339614Z"
    }
   },
   "outputs": [
    {
     "data": {
      "text/plain": [
       "array([[[ 7.,  2.,  3.]],\n",
       "\n",
       "       [[ 3., 41., 41.]],\n",
       "\n",
       "       [[ 7., 41., 41.]],\n",
       "\n",
       "       [[ 3., 41., 41.]]])"
      ]
     },
     "execution_count": 122,
     "metadata": {},
     "output_type": "execute_result"
    }
   ],
   "source": [
    "np.expand_dims(arr, axis=1)"
   ]
  },
  {
   "cell_type": "markdown",
   "metadata": {},
   "source": [
    "Or transpose it:"
   ]
  },
  {
   "cell_type": "code",
   "execution_count": 123,
   "metadata": {
    "ExecuteTime": {
     "end_time": "2021-10-12T16:41:17.162874Z",
     "start_time": "2021-10-12T16:41:17.149869Z"
    }
   },
   "outputs": [
    {
     "data": {
      "text/plain": [
       "array([[ 7.,  2.,  3.],\n",
       "       [ 3., 41., 41.],\n",
       "       [ 7., 41., 41.],\n",
       "       [ 3., 41., 41.]])"
      ]
     },
     "execution_count": 123,
     "metadata": {},
     "output_type": "execute_result"
    }
   ],
   "source": [
    "arr"
   ]
  },
  {
   "cell_type": "code",
   "execution_count": 124,
   "metadata": {
    "ExecuteTime": {
     "end_time": "2021-10-12T16:41:30.134940Z",
     "start_time": "2021-10-12T16:41:30.123972Z"
    }
   },
   "outputs": [
    {
     "data": {
      "text/plain": [
       "array([[ 7.,  3.,  7.,  3.],\n",
       "       [ 2., 41., 41., 41.],\n",
       "       [ 3., 41., 41., 41.]])"
      ]
     },
     "execution_count": 124,
     "metadata": {},
     "output_type": "execute_result"
    }
   ],
   "source": [
    "arr.T"
   ]
  },
  {
   "cell_type": "code",
   "execution_count": 127,
   "metadata": {
    "ExecuteTime": {
     "end_time": "2021-10-12T16:42:30.990995Z",
     "start_time": "2021-10-12T16:42:30.981020Z"
    }
   },
   "outputs": [
    {
     "data": {
      "text/plain": [
       "(4, 3)"
      ]
     },
     "execution_count": 127,
     "metadata": {},
     "output_type": "execute_result"
    }
   ],
   "source": [
    "arr.T.shape"
   ]
  },
  {
   "cell_type": "markdown",
   "metadata": {},
   "source": [
    "Default transposing of `3+D` arrays:"
   ]
  },
  {
   "cell_type": "code",
   "execution_count": 130,
   "metadata": {
    "ExecuteTime": {
     "end_time": "2021-10-12T16:43:33.494952Z",
     "start_time": "2021-10-12T16:43:33.480953Z"
    }
   },
   "outputs": [
    {
     "data": {
      "text/plain": [
       "((1, 3, 4), (4, 3, 1), (1, 4, 3))"
      ]
     },
     "execution_count": 130,
     "metadata": {},
     "output_type": "execute_result"
    }
   ],
   "source": [
    "np.expand_dims(arr, axis=-1).T.shape, np.expand_dims(arr, axis=-1).shape,np.expand_dims(arr,axis=0).shape"
   ]
  },
  {
   "cell_type": "code",
   "execution_count": 131,
   "metadata": {
    "ExecuteTime": {
     "end_time": "2021-10-12T16:44:37.763158Z",
     "start_time": "2021-10-12T16:44:37.751192Z"
    }
   },
   "outputs": [
    {
     "ename": "TypeError",
     "evalue": "'>' not supported between instances of 'tuple' and 'int'",
     "output_type": "error",
     "traceback": [
      "\u001b[1;31m---------------------------------------------------------------------------\u001b[0m",
      "\u001b[1;31mTypeError\u001b[0m                                 Traceback (most recent call last)",
      "\u001b[1;32m<ipython-input-131-6a4e75b80f70>\u001b[0m in \u001b[0;36m<module>\u001b[1;34m\u001b[0m\n\u001b[1;32m----> 1\u001b[1;33m \u001b[0mnp\u001b[0m\u001b[1;33m.\u001b[0m\u001b[0mexpand_dims\u001b[0m\u001b[1;33m(\u001b[0m\u001b[0marr\u001b[0m\u001b[1;33m,\u001b[0m \u001b[0maxis\u001b[0m\u001b[1;33m=\u001b[0m\u001b[1;33m(\u001b[0m\u001b[1;33m-\u001b[0m\u001b[1;36m1\u001b[0m\u001b[1;33m,\u001b[0m \u001b[1;33m-\u001b[0m\u001b[1;36m2\u001b[0m\u001b[1;33m)\u001b[0m\u001b[1;33m)\u001b[0m\u001b[1;33m.\u001b[0m\u001b[0mT\u001b[0m\u001b[1;33m.\u001b[0m\u001b[0mshape\u001b[0m\u001b[1;33m,\u001b[0m \u001b[0mnp\u001b[0m\u001b[1;33m.\u001b[0m\u001b[0mexpand_dims\u001b[0m\u001b[1;33m(\u001b[0m\u001b[0marr\u001b[0m\u001b[1;33m,\u001b[0m \u001b[0maxis\u001b[0m\u001b[1;33m=\u001b[0m\u001b[1;33m(\u001b[0m\u001b[1;33m-\u001b[0m\u001b[1;36m1\u001b[0m\u001b[1;33m,\u001b[0m \u001b[1;33m-\u001b[0m\u001b[1;36m2\u001b[0m\u001b[1;33m)\u001b[0m\u001b[1;33m)\u001b[0m\u001b[1;33m.\u001b[0m\u001b[0mshape\u001b[0m\u001b[1;33m\u001b[0m\u001b[1;33m\u001b[0m\u001b[0m\n\u001b[0m",
      "\u001b[1;32m~\\AppData\\Local\\Continuum\\anaconda3\\lib\\site-packages\\numpy\\lib\\shape_base.py\u001b[0m in \u001b[0;36mexpand_dims\u001b[1;34m(a, axis)\u001b[0m\n\u001b[0;32m    577\u001b[0m \u001b[1;33m\u001b[0m\u001b[0m\n\u001b[0;32m    578\u001b[0m     \u001b[0mshape\u001b[0m \u001b[1;33m=\u001b[0m \u001b[0ma\u001b[0m\u001b[1;33m.\u001b[0m\u001b[0mshape\u001b[0m\u001b[1;33m\u001b[0m\u001b[1;33m\u001b[0m\u001b[0m\n\u001b[1;32m--> 579\u001b[1;33m     \u001b[1;32mif\u001b[0m \u001b[0maxis\u001b[0m \u001b[1;33m>\u001b[0m \u001b[0ma\u001b[0m\u001b[1;33m.\u001b[0m\u001b[0mndim\u001b[0m \u001b[1;32mor\u001b[0m \u001b[0maxis\u001b[0m \u001b[1;33m<\u001b[0m \u001b[1;33m-\u001b[0m\u001b[0ma\u001b[0m\u001b[1;33m.\u001b[0m\u001b[0mndim\u001b[0m \u001b[1;33m-\u001b[0m \u001b[1;36m1\u001b[0m\u001b[1;33m:\u001b[0m\u001b[1;33m\u001b[0m\u001b[1;33m\u001b[0m\u001b[0m\n\u001b[0m\u001b[0;32m    580\u001b[0m         \u001b[1;31m# 2017-05-17, 1.13.0\u001b[0m\u001b[1;33m\u001b[0m\u001b[1;33m\u001b[0m\u001b[1;33m\u001b[0m\u001b[0m\n\u001b[0;32m    581\u001b[0m         warnings.warn(\"Both axis > a.ndim and axis < -a.ndim - 1 are \"\n",
      "\u001b[1;31mTypeError\u001b[0m: '>' not supported between instances of 'tuple' and 'int'"
     ]
    }
   ],
   "source": [
    "np.expand_dims(arr, axis=(-1, -2)).T.shape, np.expand_dims(arr, axis=(-1, -2)).shape"
   ]
  },
  {
   "cell_type": "markdown",
   "metadata": {},
   "source": [
    "Generic rranspose of an array:"
   ]
  },
  {
   "cell_type": "code",
   "execution_count": 132,
   "metadata": {
    "ExecuteTime": {
     "end_time": "2021-10-12T16:46:03.861001Z",
     "start_time": "2021-10-12T16:46:03.843048Z"
    }
   },
   "outputs": [],
   "source": [
    "arr_t = np.transpose(np.expand_dims(arr, axis=-1), axes=(1,2,0))"
   ]
  },
  {
   "cell_type": "code",
   "execution_count": 133,
   "metadata": {
    "ExecuteTime": {
     "end_time": "2021-10-12T16:46:05.103785Z",
     "start_time": "2021-10-12T16:46:05.084804Z"
    }
   },
   "outputs": [
    {
     "data": {
      "text/plain": [
       "(3, 1, 4)"
      ]
     },
     "execution_count": 133,
     "metadata": {},
     "output_type": "execute_result"
    }
   ],
   "source": [
    "arr_t.shape"
   ]
  },
  {
   "cell_type": "markdown",
   "metadata": {},
   "source": [
    "Note, that `arr_t` (and other arrays created with a similar operation) are **views** into the original array:"
   ]
  },
  {
   "cell_type": "code",
   "execution_count": 134,
   "metadata": {
    "ExecuteTime": {
     "end_time": "2021-10-12T16:46:45.492783Z",
     "start_time": "2021-10-12T16:46:45.474872Z"
    }
   },
   "outputs": [
    {
     "data": {
      "text/plain": [
       "True"
      ]
     },
     "execution_count": 134,
     "metadata": {},
     "output_type": "execute_result"
    }
   ],
   "source": [
    "arr_t.base is arr"
   ]
  },
  {
   "cell_type": "markdown",
   "metadata": {},
   "source": [
    "## Changing array type"
   ]
  },
  {
   "cell_type": "markdown",
   "metadata": {},
   "source": [
    "It very simple in general:"
   ]
  },
  {
   "cell_type": "code",
   "execution_count": 136,
   "metadata": {
    "ExecuteTime": {
     "end_time": "2021-10-12T16:48:15.686222Z",
     "start_time": "2021-10-12T16:48:15.672231Z"
    }
   },
   "outputs": [
    {
     "data": {
      "text/plain": [
       "dtype('float64')"
      ]
     },
     "execution_count": 136,
     "metadata": {},
     "output_type": "execute_result"
    }
   ],
   "source": [
    "arr.dtype"
   ]
  },
  {
   "cell_type": "code",
   "execution_count": 137,
   "metadata": {
    "ExecuteTime": {
     "end_time": "2021-10-12T16:48:22.644895Z",
     "start_time": "2021-10-12T16:48:22.636915Z"
    }
   },
   "outputs": [
    {
     "data": {
      "text/plain": [
       "array([[ True, False,  True],\n",
       "       [ True,  True,  True],\n",
       "       [ True,  True,  True],\n",
       "       [ True,  True,  True]])"
      ]
     },
     "execution_count": 137,
     "metadata": {},
     "output_type": "execute_result"
    }
   ],
   "source": [
    "arr>2"
   ]
  },
  {
   "cell_type": "code",
   "execution_count": 142,
   "metadata": {
    "ExecuteTime": {
     "end_time": "2021-10-12T16:48:57.110031Z",
     "start_time": "2021-10-12T16:48:57.101020Z"
    }
   },
   "outputs": [
    {
     "data": {
      "text/plain": [
       "array([[1., 0., 1.],\n",
       "       [1., 1., 1.],\n",
       "       [1., 1., 1.],\n",
       "       [1., 1., 1.]])"
      ]
     },
     "execution_count": 142,
     "metadata": {},
     "output_type": "execute_result"
    }
   ],
   "source": [
    "(arr>2).astype(float64)"
   ]
  },
  {
   "cell_type": "code",
   "execution_count": 143,
   "metadata": {
    "ExecuteTime": {
     "end_time": "2021-10-12T16:49:04.854278Z",
     "start_time": "2021-10-12T16:49:04.848334Z"
    }
   },
   "outputs": [
    {
     "data": {
      "text/plain": [
       "array([[ 7.,  2.,  3.],\n",
       "       [ 3., 41., 41.],\n",
       "       [ 7., 41., 41.],\n",
       "       [ 3., 41., 41.]])"
      ]
     },
     "execution_count": 143,
     "metadata": {},
     "output_type": "execute_result"
    }
   ],
   "source": [
    "arr"
   ]
  },
  {
   "cell_type": "markdown",
   "metadata": {},
   "source": [
    "There are some peculiarities, though:"
   ]
  },
  {
   "cell_type": "code",
   "execution_count": 144,
   "metadata": {
    "ExecuteTime": {
     "end_time": "2021-10-12T16:49:06.355840Z",
     "start_time": "2021-10-12T16:49:06.344862Z"
    }
   },
   "outputs": [],
   "source": [
    "arr[1,2] = -67"
   ]
  },
  {
   "cell_type": "code",
   "execution_count": 145,
   "metadata": {
    "ExecuteTime": {
     "end_time": "2021-10-12T16:49:07.558765Z",
     "start_time": "2021-10-12T16:49:07.549800Z"
    }
   },
   "outputs": [
    {
     "data": {
      "text/plain": [
       "array([[  7.,   2.,   3.],\n",
       "       [  3.,  41., -67.],\n",
       "       [  7.,  41.,  41.],\n",
       "       [  3.,  41.,  41.]])"
      ]
     },
     "execution_count": 145,
     "metadata": {},
     "output_type": "execute_result"
    }
   ],
   "source": [
    "arr"
   ]
  },
  {
   "cell_type": "markdown",
   "metadata": {},
   "source": [
    "Note, how `-67` transforms to `189` (`189 + 67 = 256` - the largest value for `uint8`, see also [Integer numbers storage in computer memory](https://medium.com/@luischaparroc/integer-numbers-storage-in-computer-memory-47af4b59009)):"
   ]
  },
  {
   "cell_type": "code",
   "execution_count": 151,
   "metadata": {
    "ExecuteTime": {
     "end_time": "2021-10-12T16:51:52.691032Z",
     "start_time": "2021-10-12T16:51:52.676071Z"
    }
   },
   "outputs": [
    {
     "data": {
      "text/plain": [
       "array([[  7.+0.j,   2.+0.j,   3.+0.j],\n",
       "       [  3.+0.j,  41.+0.j, -67.+0.j],\n",
       "       [  7.+0.j,  41.+0.j,  41.+0.j],\n",
       "       [  3.+0.j,  41.+0.j,  41.+0.j]])"
      ]
     },
     "execution_count": 151,
     "metadata": {},
     "output_type": "execute_result"
    }
   ],
   "source": [
    "arr.astype(complex)"
   ]
  },
  {
   "cell_type": "code",
   "execution_count": 152,
   "metadata": {
    "ExecuteTime": {
     "end_time": "2021-10-12T16:52:39.494321Z",
     "start_time": "2021-10-12T16:52:39.485305Z"
    }
   },
   "outputs": [
    {
     "data": {
      "text/plain": [
       "array([[  7.,   2.,   3.],\n",
       "       [  3.,  41., -67.],\n",
       "       [  7.,  41.,  41.],\n",
       "       [  3.,  41.,  41.]], dtype=float32)"
      ]
     },
     "execution_count": 152,
     "metadata": {},
     "output_type": "execute_result"
    }
   ],
   "source": [
    "arr.astype(np.float32)"
   ]
  },
  {
   "cell_type": "code",
   "execution_count": 156,
   "metadata": {
    "ExecuteTime": {
     "end_time": "2021-10-12T16:53:19.012132Z",
     "start_time": "2021-10-12T16:53:19.006148Z"
    }
   },
   "outputs": [
    {
     "data": {
      "text/plain": [
       "array([[  7.+17.j,   2.+17.j,   3.+17.j],\n",
       "       [  3.+17.j,  41.+17.j, -67.+17.j],\n",
       "       [  7.+17.j,  41.+17.j,  41.+17.j],\n",
       "       [  3.+17.j,  41.+17.j,  41.+17.j]])"
      ]
     },
     "execution_count": 156,
     "metadata": {},
     "output_type": "execute_result"
    }
   ],
   "source": [
    "arr.astype(np.complex128)+17.j"
   ]
  },
  {
   "cell_type": "markdown",
   "metadata": {},
   "source": [
    "## Stacking arrays"
   ]
  },
  {
   "cell_type": "code",
   "execution_count": 157,
   "metadata": {
    "ExecuteTime": {
     "end_time": "2021-10-12T16:53:54.791962Z",
     "start_time": "2021-10-12T16:53:54.778999Z"
    }
   },
   "outputs": [],
   "source": [
    "arr_1 = np.random.randint(10, size=(10,))\n",
    "arr_2 = np.random.randint(10, size=(10,))"
   ]
  },
  {
   "cell_type": "code",
   "execution_count": 161,
   "metadata": {
    "ExecuteTime": {
     "end_time": "2021-10-12T16:54:20.870476Z",
     "start_time": "2021-10-12T16:54:20.864493Z"
    }
   },
   "outputs": [
    {
     "data": {
      "text/plain": [
       "(array([9, 8, 2, 2, 1, 5, 3, 4, 2, 8]), array([0, 7, 6, 0, 2, 6, 6, 7, 0, 3]))"
      ]
     },
     "execution_count": 161,
     "metadata": {},
     "output_type": "execute_result"
    }
   ],
   "source": [
    "arr_1, arr_2"
   ]
  },
  {
   "cell_type": "markdown",
   "metadata": {},
   "source": [
    "Stacking arrays vertically:"
   ]
  },
  {
   "cell_type": "code",
   "execution_count": 159,
   "metadata": {
    "ExecuteTime": {
     "end_time": "2021-10-12T16:54:12.602347Z",
     "start_time": "2021-10-12T16:54:12.586415Z"
    }
   },
   "outputs": [
    {
     "data": {
      "text/plain": [
       "array([[9, 8, 2, 2, 1],\n",
       "       [5, 3, 4, 2, 8]])"
      ]
     },
     "execution_count": 159,
     "metadata": {},
     "output_type": "execute_result"
    }
   ],
   "source": [
    "arr_1.reshape((2,5))"
   ]
  },
  {
   "cell_type": "code",
   "execution_count": 160,
   "metadata": {
    "ExecuteTime": {
     "end_time": "2021-10-12T16:54:14.223797Z",
     "start_time": "2021-10-12T16:54:14.215819Z"
    }
   },
   "outputs": [
    {
     "data": {
      "text/plain": [
       "array([[0, 7, 6, 0, 2],\n",
       "       [6, 6, 7, 0, 3]])"
      ]
     },
     "execution_count": 160,
     "metadata": {},
     "output_type": "execute_result"
    }
   ],
   "source": [
    "arr_2.reshape((2,5))"
   ]
  },
  {
   "cell_type": "code",
   "execution_count": 162,
   "metadata": {
    "ExecuteTime": {
     "end_time": "2021-10-12T16:54:28.723189Z",
     "start_time": "2021-10-12T16:54:28.714217Z"
    }
   },
   "outputs": [
    {
     "data": {
      "text/plain": [
       "array([[9, 8, 2, 2, 1],\n",
       "       [5, 3, 4, 2, 8],\n",
       "       [0, 7, 6, 0, 2],\n",
       "       [6, 6, 7, 0, 3]])"
      ]
     },
     "execution_count": 162,
     "metadata": {},
     "output_type": "execute_result"
    }
   ],
   "source": [
    "np.vstack([arr_1.reshape((2,5)), arr_2.reshape((2,5))])"
   ]
  },
  {
   "cell_type": "markdown",
   "metadata": {},
   "source": [
    "Stacking arrays horizontally:"
   ]
  },
  {
   "cell_type": "code",
   "execution_count": 163,
   "metadata": {
    "ExecuteTime": {
     "end_time": "2021-10-12T16:54:52.976483Z",
     "start_time": "2021-10-12T16:54:52.957574Z"
    }
   },
   "outputs": [
    {
     "data": {
      "text/plain": [
       "array([9, 8, 2, 2, 1, 5, 3, 4, 2, 8, 0, 7, 6, 0, 2, 6, 6, 7, 0, 3])"
      ]
     },
     "execution_count": 163,
     "metadata": {},
     "output_type": "execute_result"
    }
   ],
   "source": [
    "np.hstack([arr_1, arr_2])"
   ]
  },
  {
   "cell_type": "markdown",
   "metadata": {},
   "source": [
    "Stacking along additional dimension:"
   ]
  },
  {
   "cell_type": "code",
   "execution_count": 164,
   "metadata": {
    "ExecuteTime": {
     "end_time": "2021-10-12T16:55:05.895139Z",
     "start_time": "2021-10-12T16:55:05.881174Z"
    }
   },
   "outputs": [
    {
     "data": {
      "text/plain": [
       "array([[9, 0],\n",
       "       [8, 7],\n",
       "       [2, 6],\n",
       "       [2, 0],\n",
       "       [1, 2],\n",
       "       [5, 6],\n",
       "       [3, 6],\n",
       "       [4, 7],\n",
       "       [2, 0],\n",
       "       [8, 3]])"
      ]
     },
     "execution_count": 164,
     "metadata": {},
     "output_type": "execute_result"
    }
   ],
   "source": [
    "np.hstack([np.expand_dims(arr_1, 1), np.expand_dims(arr_2, 1)])"
   ]
  },
  {
   "cell_type": "markdown",
   "metadata": {},
   "source": [
    "Stacking `1D` arrays:"
   ]
  },
  {
   "cell_type": "code",
   "execution_count": 168,
   "metadata": {
    "ExecuteTime": {
     "end_time": "2021-10-12T16:56:30.033991Z",
     "start_time": "2021-10-12T16:56:30.022024Z"
    }
   },
   "outputs": [
    {
     "data": {
      "text/plain": [
       "array([[9, 8, 2, 2, 1, 5, 3, 4, 2, 8],\n",
       "       [0, 7, 6, 0, 2, 6, 6, 7, 0, 3]])"
      ]
     },
     "execution_count": 168,
     "metadata": {},
     "output_type": "execute_result"
    }
   ],
   "source": [
    "np.vstack([arr_1, arr_2])"
   ]
  },
  {
   "cell_type": "code",
   "execution_count": 169,
   "metadata": {
    "ExecuteTime": {
     "end_time": "2021-10-12T16:56:33.213561Z",
     "start_time": "2021-10-12T16:56:33.195615Z"
    }
   },
   "outputs": [
    {
     "data": {
      "text/plain": [
       "array([[9, 0],\n",
       "       [8, 7],\n",
       "       [2, 6],\n",
       "       [2, 0],\n",
       "       [1, 2],\n",
       "       [5, 6],\n",
       "       [3, 6],\n",
       "       [4, 7],\n",
       "       [2, 0],\n",
       "       [8, 3]])"
      ]
     },
     "execution_count": 169,
     "metadata": {},
     "output_type": "execute_result"
    }
   ],
   "source": [
    "np.vstack([arr_1, arr_2]).T"
   ]
  },
  {
   "cell_type": "markdown",
   "metadata": {},
   "source": [
    "All of these costs about the same, as transpose and expand operations only create views and `np.vstack` is the same. Check also `np.dstack` and `np.column_stack`."
   ]
  },
  {
   "cell_type": "markdown",
   "metadata": {},
   "source": [
    "## Universal functions\n",
    "\n",
    "For a full list of universal functions, see [ufunc reference](https://docs.scipy.org/doc/numpy-1.15.1/reference/ufuncs.html)."
   ]
  },
  {
   "cell_type": "code",
   "execution_count": 176,
   "metadata": {
    "ExecuteTime": {
     "end_time": "2021-10-12T17:24:38.808809Z",
     "start_time": "2021-10-12T17:24:38.790854Z"
    }
   },
   "outputs": [
    {
     "data": {
      "text/plain": [
       "array([9, 8, 2, 2, 1, 5, 3, 4, 2, 8])"
      ]
     },
     "execution_count": 176,
     "metadata": {},
     "output_type": "execute_result"
    }
   ],
   "source": [
    "arr_1"
   ]
  },
  {
   "cell_type": "code",
   "execution_count": 177,
   "metadata": {
    "ExecuteTime": {
     "end_time": "2021-10-12T17:24:39.353779Z",
     "start_time": "2021-10-12T17:24:39.337857Z"
    }
   },
   "outputs": [
    {
     "data": {
      "text/plain": [
       "array([0, 7, 6, 0, 2, 6, 6, 7, 0, 3])"
      ]
     },
     "execution_count": 177,
     "metadata": {},
     "output_type": "execute_result"
    }
   ],
   "source": [
    "arr_2"
   ]
  },
  {
   "cell_type": "code",
   "execution_count": 178,
   "metadata": {
    "ExecuteTime": {
     "end_time": "2021-10-12T17:24:39.975502Z",
     "start_time": "2021-10-12T17:24:39.959544Z"
    }
   },
   "outputs": [
    {
     "data": {
      "text/plain": [
       "array([[  7.,   2.,   3.],\n",
       "       [  3.,  41., -67.],\n",
       "       [  7.,  41.,  41.],\n",
       "       [  3.,  41.,  41.]])"
      ]
     },
     "execution_count": 178,
     "metadata": {},
     "output_type": "execute_result"
    }
   ],
   "source": [
    "arr"
   ]
  },
  {
   "cell_type": "markdown",
   "metadata": {},
   "source": [
    "Sum all elements:"
   ]
  },
  {
   "cell_type": "code",
   "execution_count": 179,
   "metadata": {
    "ExecuteTime": {
     "end_time": "2021-10-12T17:24:41.371956Z",
     "start_time": "2021-10-12T17:24:41.355003Z"
    }
   },
   "outputs": [
    {
     "data": {
      "text/plain": [
       "163.0"
      ]
     },
     "execution_count": 179,
     "metadata": {},
     "output_type": "execute_result"
    }
   ],
   "source": [
    "arr.sum()"
   ]
  },
  {
   "cell_type": "markdown",
   "metadata": {},
   "source": [
    "Sum elements along specific axis:"
   ]
  },
  {
   "cell_type": "code",
   "execution_count": 183,
   "metadata": {
    "ExecuteTime": {
     "end_time": "2021-10-12T17:25:19.881222Z",
     "start_time": "2021-10-12T17:25:19.870222Z"
    }
   },
   "outputs": [
    {
     "data": {
      "text/plain": [
       "array([ 20., 125.,  18.])"
      ]
     },
     "execution_count": 183,
     "metadata": {},
     "output_type": "execute_result"
    }
   ],
   "source": [
    "arr.sum(axis=0)"
   ]
  },
  {
   "cell_type": "code",
   "execution_count": 184,
   "metadata": {
    "ExecuteTime": {
     "end_time": "2021-10-12T17:25:32.422895Z",
     "start_time": "2021-10-12T17:25:32.418906Z"
    }
   },
   "outputs": [
    {
     "data": {
      "text/plain": [
       "array([[  7.,   2.,   3.],\n",
       "       [  3.,  41., -67.],\n",
       "       [  7.,  41.,  41.],\n",
       "       [  3.,  41.,  41.]])"
      ]
     },
     "execution_count": 184,
     "metadata": {},
     "output_type": "execute_result"
    }
   ],
   "source": [
    "arr"
   ]
  },
  {
   "cell_type": "markdown",
   "metadata": {},
   "source": [
    "Sum element along specific axis, but preserve dimensions:"
   ]
  },
  {
   "cell_type": "code",
   "execution_count": 185,
   "metadata": {
    "ExecuteTime": {
     "end_time": "2021-10-12T17:25:35.178760Z",
     "start_time": "2021-10-12T17:25:35.163800Z"
    }
   },
   "outputs": [
    {
     "data": {
      "text/plain": [
       "array([[ 12.],\n",
       "       [-23.],\n",
       "       [ 89.],\n",
       "       [ 85.]])"
      ]
     },
     "execution_count": 185,
     "metadata": {},
     "output_type": "execute_result"
    }
   ],
   "source": [
    "arr.sum(axis=1, keepdims=True,)"
   ]
  },
  {
   "cell_type": "markdown",
   "metadata": {},
   "source": [
    "`mean` is also a `ufunc`:"
   ]
  },
  {
   "cell_type": "code",
   "execution_count": null,
   "metadata": {
    "ExecuteTime": {
     "end_time": "2019-11-01T11:04:56.873511Z",
     "start_time": "2019-11-01T11:04:56.860716Z"
    }
   },
   "outputs": [],
   "source": [
    "arr.mean(axis=0)"
   ]
  },
  {
   "cell_type": "code",
   "execution_count": 186,
   "metadata": {
    "ExecuteTime": {
     "end_time": "2021-10-12T17:27:10.305530Z",
     "start_time": "2021-10-12T17:27:10.295513Z"
    }
   },
   "outputs": [
    {
     "data": {
      "text/plain": [
       "(array([9, 8, 2, 2, 1, 5, 3, 4, 2, 8]), array([0, 7, 6, 0, 2, 6, 6, 7, 0, 3]))"
      ]
     },
     "execution_count": 186,
     "metadata": {},
     "output_type": "execute_result"
    }
   ],
   "source": [
    "arr_1, arr_2"
   ]
  },
  {
   "cell_type": "markdown",
   "metadata": {},
   "source": [
    "Using masking with `where` argument:"
   ]
  },
  {
   "cell_type": "code",
   "execution_count": 187,
   "metadata": {
    "ExecuteTime": {
     "end_time": "2021-10-12T17:27:13.927077Z",
     "start_time": "2021-10-12T17:27:13.909125Z"
    }
   },
   "outputs": [
    {
     "data": {
      "text/plain": [
       "array([ 9, 15,  8,  2,  3, 11,  9, 11,  2, 11])"
      ]
     },
     "execution_count": 187,
     "metadata": {},
     "output_type": "execute_result"
    }
   ],
   "source": [
    "arr_1 + arr_2"
   ]
  },
  {
   "cell_type": "code",
   "execution_count": 188,
   "metadata": {
    "ExecuteTime": {
     "end_time": "2021-10-12T17:27:24.407182Z",
     "start_time": "2021-10-12T17:27:24.399203Z"
    }
   },
   "outputs": [
    {
     "data": {
      "text/plain": [
       "array([         9, 1599226198, 1230196560,          2,          3,\n",
       "       1509949440, 1380013579, 1497713503,          2,         11])"
      ]
     },
     "execution_count": 188,
     "metadata": {},
     "output_type": "execute_result"
    }
   ],
   "source": [
    "np.add(arr_1, arr_2, where=(arr_2<6))"
   ]
  },
  {
   "cell_type": "code",
   "execution_count": 191,
   "metadata": {
    "ExecuteTime": {
     "end_time": "2021-10-12T17:32:00.166363Z",
     "start_time": "2021-10-12T17:32:00.156390Z"
    }
   },
   "outputs": [
    {
     "data": {
      "text/plain": [
       "array([0, 0, 0, 0, 0, 0, 0, 0, 0, 0])"
      ]
     },
     "execution_count": 191,
     "metadata": {},
     "output_type": "execute_result"
    }
   ],
   "source": [
    "np.add(arr_1, arr_2, where=(arr_2<6), out=arr_1)-arr_1"
   ]
  },
  {
   "cell_type": "code",
   "execution_count": null,
   "metadata": {},
   "outputs": [],
   "source": [
    "arr_1"
   ]
  },
  {
   "cell_type": "code",
   "execution_count": null,
   "metadata": {},
   "outputs": [],
   "source": [
    "arr_2"
   ]
  },
  {
   "cell_type": "markdown",
   "metadata": {},
   "source": [
    "Inplace operations are straightforward:"
   ]
  },
  {
   "cell_type": "code",
   "execution_count": 211,
   "metadata": {
    "ExecuteTime": {
     "end_time": "2021-10-12T17:33:16.863814Z",
     "start_time": "2021-10-12T17:33:16.845827Z"
    }
   },
   "outputs": [
    {
     "data": {
      "text/plain": [
       "array([18, 23, 16, 16, 17, 16, 18, 19, 16, 17])"
      ]
     },
     "execution_count": 211,
     "metadata": {},
     "output_type": "execute_result"
    }
   ],
   "source": [
    "np.add(arr_1, arr_2, where=(arr_2<16), out=arr_2)"
   ]
  },
  {
   "cell_type": "code",
   "execution_count": null,
   "metadata": {},
   "outputs": [],
   "source": [
    "arr_2"
   ]
  },
  {
   "cell_type": "code",
   "execution_count": null,
   "metadata": {},
   "outputs": [],
   "source": []
  }
 ],
 "metadata": {
  "@webio": {
   "lastCommId": null,
   "lastKernelId": null
  },
  "kernelspec": {
   "display_name": "Python 3",
   "language": "python",
   "name": "python3"
  },
  "language_info": {
   "codemirror_mode": {
    "name": "ipython",
    "version": 3
   },
   "file_extension": ".py",
   "mimetype": "text/x-python",
   "name": "python",
   "nbconvert_exporter": "python",
   "pygments_lexer": "ipython3",
   "version": "3.7.4"
  },
  "notify_time": "5",
  "toc": {
   "base_numbering": 1,
   "nav_menu": {},
   "number_sections": true,
   "sideBar": true,
   "skip_h1_title": false,
   "title_cell": "Table of Contents",
   "title_sidebar": "Contents",
   "toc_cell": false,
   "toc_position": {},
   "toc_section_display": true,
   "toc_window_display": true
  }
 },
 "nbformat": 4,
 "nbformat_minor": 2
}
