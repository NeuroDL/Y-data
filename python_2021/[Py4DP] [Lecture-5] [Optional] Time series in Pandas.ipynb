{
 "cells": [
  {
   "cell_type": "markdown",
   "metadata": {},
   "source": [
    "# Intro\n",
    "\n",
    "Pandas has first-class support for datetime types, including flexible indexing, vectorized operations, `groupby` operations and joins. This makes EDA on time series data with Pandas very convenient and productive."
   ]
  },
  {
   "cell_type": "code",
   "execution_count": 1,
   "metadata": {
    "ExecuteTime": {
     "end_time": "2021-11-17T16:49:30.757906Z",
     "start_time": "2021-11-17T16:49:25.878525Z"
    }
   },
   "outputs": [
    {
     "name": "stdout",
     "output_type": "stream",
     "text": [
      "Populating the interactive namespace from numpy and matplotlib\n"
     ]
    },
    {
     "name": "stderr",
     "output_type": "stream",
     "text": [
      "C:\\Users\\jjlev\\AppData\\Local\\Continuum\\anaconda3\\lib\\site-packages\\statsmodels\\tools\\_testing.py:19: FutureWarning: pandas.util.testing is deprecated. Use the functions in the public API at pandas.testing instead.\n",
      "  import pandas.util.testing as tm\n"
     ]
    }
   ],
   "source": [
    "%pylab inline\n",
    "plt.style.use('bmh')\n",
    "\n",
    "import pathlib\n",
    "import numpy as np\n",
    "import pandas as pd\n",
    "import seaborn as sns\n",
    "sns.set()"
   ]
  },
  {
   "cell_type": "code",
   "execution_count": null,
   "metadata": {},
   "outputs": [],
   "source": [
    "pd.read_csv('archive.zip')"
   ]
  },
  {
   "cell_type": "code",
   "execution_count": 2,
   "metadata": {
    "ExecuteTime": {
     "end_time": "2021-11-17T16:53:12.033057Z",
     "start_time": "2021-11-17T16:53:12.017100Z"
    }
   },
   "outputs": [],
   "source": [
    "DATA_DIR = pathlib.Path(\"archive/\")"
   ]
  },
  {
   "cell_type": "markdown",
   "metadata": {},
   "source": [
    "# Loading data\n",
    "\n",
    "The dataset we'll use to explore time series functionality in Pandas is [1.6 million UK traffic accidents](https://www.kaggle.com/daveianhickey/2000-16-traffic-flow-england-scotland-wales). The full dataset contains years 2005-2007, but note that in the Exam we only use 2005."
   ]
  },
  {
   "cell_type": "code",
   "execution_count": 4,
   "metadata": {
    "ExecuteTime": {
     "end_time": "2021-11-17T16:53:24.835224Z",
     "start_time": "2021-11-17T16:53:22.426663Z"
    }
   },
   "outputs": [
    {
     "name": "stderr",
     "output_type": "stream",
     "text": [
      "C:\\Users\\jjlev\\AppData\\Local\\Continuum\\anaconda3\\lib\\site-packages\\IPython\\core\\interactiveshell.py:3058: DtypeWarning: Columns (31) have mixed types.Specify dtype option on import or set low_memory=False.\n",
      "  interactivity=interactivity, compiler=compiler, result=result)\n"
     ]
    }
   ],
   "source": [
    "d = pd.read_csv(DATA_DIR.joinpath('accidents_2005_to_2007.csv'))"
   ]
  },
  {
   "cell_type": "markdown",
   "metadata": {},
   "source": [
    "Dataset is quite large. Let's explore it's per-column breakdown:"
   ]
  },
  {
   "cell_type": "code",
   "execution_count": 16,
   "metadata": {
    "ExecuteTime": {
     "end_time": "2021-11-17T16:57:32.488787Z",
     "start_time": "2021-11-17T16:57:32.469842Z"
    }
   },
   "outputs": [
    {
     "data": {
      "text/plain": [
       "False"
      ]
     },
     "execution_count": 16,
     "metadata": {},
     "output_type": "execute_result"
    }
   ],
   "source": [
    "d.Date.dtypes == np.float64"
   ]
  },
  {
   "cell_type": "code",
   "execution_count": 18,
   "metadata": {
    "ExecuteTime": {
     "end_time": "2021-11-17T17:00:04.165788Z",
     "start_time": "2021-11-17T17:00:04.086999Z"
    }
   },
   "outputs": [],
   "source": [
    "d['new_date']=pd.to_datetime(d.Date)"
   ]
  },
  {
   "cell_type": "code",
   "execution_count": null,
   "metadata": {},
   "outputs": [],
   "source": [
    "d['Accident_Severity< 3']"
   ]
  },
  {
   "cell_type": "code",
   "execution_count": 31,
   "metadata": {
    "ExecuteTime": {
     "end_time": "2021-11-17T17:08:35.206678Z",
     "start_time": "2021-11-17T17:08:35.153820Z"
    }
   },
   "outputs": [
    {
     "data": {
      "text/plain": [
       "[Timestamp('2006-10-06 00:00:00'),\n",
       " Timestamp('2006-09-09 00:00:00'),\n",
       " Timestamp('2005-05-14 00:00:00'),\n",
       " Timestamp('2005-06-18 00:00:00'),\n",
       " Timestamp('2005-09-16 00:00:00')]"
      ]
     },
     "execution_count": 31,
     "metadata": {},
     "output_type": "execute_result"
    }
   ],
   "source": [
    "a_list =[]\n",
    "top_5= d.query('Accident_Severity< 3').new_date.value_counts().head(5).index\n",
    "for i in top_5:\n",
    "    a_list.append(pd.Timestamp(i))\n",
    "a_list\n",
    "    "
   ]
  },
  {
   "cell_type": "code",
   "execution_count": 19,
   "metadata": {
    "ExecuteTime": {
     "end_time": "2021-11-17T17:00:10.594133Z",
     "start_time": "2021-11-17T17:00:10.587143Z"
    },
    "collapsed": true
   },
   "outputs": [
    {
     "data": {
      "text/plain": [
       "Accident_Index                                         object\n",
       "Location_Easting_OSGR                                 float64\n",
       "Location_Northing_OSGR                                float64\n",
       "Longitude                                             float64\n",
       "Latitude                                              float64\n",
       "Police_Force                                            int64\n",
       "Accident_Severity                                       int64\n",
       "Number_of_Vehicles                                      int64\n",
       "Number_of_Casualties                                    int64\n",
       "Date                                                   object\n",
       "Day_of_Week                                             int64\n",
       "Time                                                   object\n",
       "Local_Authority_(District)                              int64\n",
       "Local_Authority_(Highway)                              object\n",
       "1st_Road_Class                                          int64\n",
       "1st_Road_Number                                         int64\n",
       "Road_Type                                              object\n",
       "Speed_limit                                             int64\n",
       "Junction_Detail                                       float64\n",
       "Junction_Control                                       object\n",
       "2nd_Road_Class                                          int64\n",
       "2nd_Road_Number                                         int64\n",
       "Pedestrian_Crossing-Human_Control                      object\n",
       "Pedestrian_Crossing-Physical_Facilities                object\n",
       "Light_Conditions                                       object\n",
       "Weather_Conditions                                     object\n",
       "Road_Surface_Conditions                                object\n",
       "Special_Conditions_at_Site                             object\n",
       "Carriageway_Hazards                                    object\n",
       "Urban_or_Rural_Area                                     int64\n",
       "Did_Police_Officer_Attend_Scene_of_Accident            object\n",
       "LSOA_of_Accident_Location                              object\n",
       "Year                                                    int64\n",
       "dt                                                     object\n",
       "new_date                                       datetime64[ns]\n",
       "dtype: object"
      ]
     },
     "execution_count": 19,
     "metadata": {},
     "output_type": "execute_result"
    }
   ],
   "source": [
    "d.dtypes"
   ]
  },
  {
   "cell_type": "code",
   "execution_count": 5,
   "metadata": {
    "ExecuteTime": {
     "end_time": "2021-11-17T16:53:32.949785Z",
     "start_time": "2021-11-17T16:53:31.861443Z"
    },
    "collapsed": true
   },
   "outputs": [
    {
     "name": "stdout",
     "output_type": "stream",
     "text": [
      "<class 'pandas.core.frame.DataFrame'>\n",
      "RangeIndex: 570011 entries, 0 to 570010\n",
      "Data columns (total 33 columns):\n",
      " #   Column                                       Non-Null Count   Dtype  \n",
      "---  ------                                       --------------   -----  \n",
      " 0   Accident_Index                               570011 non-null  object \n",
      " 1   Location_Easting_OSGR                        569910 non-null  float64\n",
      " 2   Location_Northing_OSGR                       569910 non-null  float64\n",
      " 3   Longitude                                    569910 non-null  float64\n",
      " 4   Latitude                                     569910 non-null  float64\n",
      " 5   Police_Force                                 570011 non-null  int64  \n",
      " 6   Accident_Severity                            570011 non-null  int64  \n",
      " 7   Number_of_Vehicles                           570011 non-null  int64  \n",
      " 8   Number_of_Casualties                         570011 non-null  int64  \n",
      " 9   Date                                         570011 non-null  object \n",
      " 10  Day_of_Week                                  570011 non-null  int64  \n",
      " 11  Time                                         569944 non-null  object \n",
      " 12  Local_Authority_(District)                   570011 non-null  int64  \n",
      " 13  Local_Authority_(Highway)                    570011 non-null  object \n",
      " 14  1st_Road_Class                               570011 non-null  int64  \n",
      " 15  1st_Road_Number                              570011 non-null  int64  \n",
      " 16  Road_Type                                    570011 non-null  object \n",
      " 17  Speed_limit                                  570011 non-null  int64  \n",
      " 18  Junction_Detail                              0 non-null       float64\n",
      " 19  Junction_Control                             333066 non-null  object \n",
      " 20  2nd_Road_Class                               570011 non-null  int64  \n",
      " 21  2nd_Road_Number                              570011 non-null  int64  \n",
      " 22  Pedestrian_Crossing-Human_Control            569994 non-null  object \n",
      " 23  Pedestrian_Crossing-Physical_Facilities      569977 non-null  object \n",
      " 24  Light_Conditions                             570011 non-null  object \n",
      " 25  Weather_Conditions                           569991 non-null  object \n",
      " 26  Road_Surface_Conditions                      569349 non-null  object \n",
      " 27  Special_Conditions_at_Site                   570000 non-null  object \n",
      " 28  Carriageway_Hazards                          569988 non-null  object \n",
      " 29  Urban_or_Rural_Area                          570011 non-null  int64  \n",
      " 30  Did_Police_Officer_Attend_Scene_of_Accident  567636 non-null  object \n",
      " 31  LSOA_of_Accident_Location                    522500 non-null  object \n",
      " 32  Year                                         570011 non-null  int64  \n",
      "dtypes: float64(5), int64(13), object(15)\n",
      "memory usage: 645.8 MB\n"
     ]
    }
   ],
   "source": [
    "d.info(memory_usage=\"deep\")"
   ]
  },
  {
   "cell_type": "markdown",
   "metadata": {},
   "source": [
    "As we can see, it has data and time separately, and we need to combine it into full datetime:"
   ]
  },
  {
   "cell_type": "code",
   "execution_count": 6,
   "metadata": {
    "ExecuteTime": {
     "end_time": "2021-11-17T16:53:44.260819Z",
     "start_time": "2021-11-17T16:53:44.248815Z"
    }
   },
   "outputs": [
    {
     "data": {
      "text/plain": [
       "0    04/01/2005\n",
       "1    05/01/2005\n",
       "2    06/01/2005\n",
       "3    07/01/2005\n",
       "4    10/01/2005\n",
       "Name: Date, dtype: object"
      ]
     },
     "execution_count": 6,
     "metadata": {},
     "output_type": "execute_result"
    }
   ],
   "source": [
    "d.Date.head()"
   ]
  },
  {
   "cell_type": "code",
   "execution_count": 7,
   "metadata": {
    "ExecuteTime": {
     "end_time": "2021-11-17T16:53:49.068913Z",
     "start_time": "2021-11-17T16:53:49.056947Z"
    }
   },
   "outputs": [
    {
     "data": {
      "text/plain": [
       "0    17:42\n",
       "1    17:36\n",
       "2    00:15\n",
       "3    10:35\n",
       "4    21:13\n",
       "Name: Time, dtype: object"
      ]
     },
     "execution_count": 7,
     "metadata": {},
     "output_type": "execute_result"
    }
   ],
   "source": [
    "d.Time.head()"
   ]
  },
  {
   "cell_type": "markdown",
   "metadata": {},
   "source": [
    "Let's explore if we have any missing dates or times:"
   ]
  },
  {
   "cell_type": "code",
   "execution_count": 8,
   "metadata": {
    "ExecuteTime": {
     "end_time": "2021-11-17T16:53:54.045567Z",
     "start_time": "2021-11-17T16:53:53.995046Z"
    }
   },
   "outputs": [
    {
     "data": {
      "text/html": [
       "<div>\n",
       "<style scoped>\n",
       "    .dataframe tbody tr th:only-of-type {\n",
       "        vertical-align: middle;\n",
       "    }\n",
       "\n",
       "    .dataframe tbody tr th {\n",
       "        vertical-align: top;\n",
       "    }\n",
       "\n",
       "    .dataframe thead th {\n",
       "        text-align: right;\n",
       "    }\n",
       "</style>\n",
       "<table border=\"1\" class=\"dataframe\">\n",
       "  <thead>\n",
       "    <tr style=\"text-align: right;\">\n",
       "      <th></th>\n",
       "      <th>Accident_Index</th>\n",
       "      <th>Location_Easting_OSGR</th>\n",
       "      <th>Location_Northing_OSGR</th>\n",
       "      <th>Longitude</th>\n",
       "      <th>Latitude</th>\n",
       "      <th>Police_Force</th>\n",
       "      <th>Accident_Severity</th>\n",
       "      <th>Number_of_Vehicles</th>\n",
       "      <th>Number_of_Casualties</th>\n",
       "      <th>Date</th>\n",
       "      <th>...</th>\n",
       "      <th>Pedestrian_Crossing-Physical_Facilities</th>\n",
       "      <th>Light_Conditions</th>\n",
       "      <th>Weather_Conditions</th>\n",
       "      <th>Road_Surface_Conditions</th>\n",
       "      <th>Special_Conditions_at_Site</th>\n",
       "      <th>Carriageway_Hazards</th>\n",
       "      <th>Urban_or_Rural_Area</th>\n",
       "      <th>Did_Police_Officer_Attend_Scene_of_Accident</th>\n",
       "      <th>LSOA_of_Accident_Location</th>\n",
       "      <th>Year</th>\n",
       "    </tr>\n",
       "  </thead>\n",
       "  <tbody>\n",
       "  </tbody>\n",
       "</table>\n",
       "<p>0 rows × 33 columns</p>\n",
       "</div>"
      ],
      "text/plain": [
       "Empty DataFrame\n",
       "Columns: [Accident_Index, Location_Easting_OSGR, Location_Northing_OSGR, Longitude, Latitude, Police_Force, Accident_Severity, Number_of_Vehicles, Number_of_Casualties, Date, Day_of_Week, Time, Local_Authority_(District), Local_Authority_(Highway), 1st_Road_Class, 1st_Road_Number, Road_Type, Speed_limit, Junction_Detail, Junction_Control, 2nd_Road_Class, 2nd_Road_Number, Pedestrian_Crossing-Human_Control, Pedestrian_Crossing-Physical_Facilities, Light_Conditions, Weather_Conditions, Road_Surface_Conditions, Special_Conditions_at_Site, Carriageway_Hazards, Urban_or_Rural_Area, Did_Police_Officer_Attend_Scene_of_Accident, LSOA_of_Accident_Location, Year]\n",
       "Index: []\n",
       "\n",
       "[0 rows x 33 columns]"
      ]
     },
     "execution_count": 8,
     "metadata": {},
     "output_type": "execute_result"
    }
   ],
   "source": [
    "d[d.Date.isnull()]"
   ]
  },
  {
   "cell_type": "code",
   "execution_count": null,
   "metadata": {},
   "outputs": [],
   "source": []
  },
  {
   "cell_type": "code",
   "execution_count": 9,
   "metadata": {
    "ExecuteTime": {
     "end_time": "2021-11-17T16:53:55.370671Z",
     "start_time": "2021-11-17T16:53:55.304800Z"
    },
    "collapsed": true
   },
   "outputs": [
    {
     "data": {
      "text/html": [
       "<div>\n",
       "<style scoped>\n",
       "    .dataframe tbody tr th:only-of-type {\n",
       "        vertical-align: middle;\n",
       "    }\n",
       "\n",
       "    .dataframe tbody tr th {\n",
       "        vertical-align: top;\n",
       "    }\n",
       "\n",
       "    .dataframe thead th {\n",
       "        text-align: right;\n",
       "    }\n",
       "</style>\n",
       "<table border=\"1\" class=\"dataframe\">\n",
       "  <thead>\n",
       "    <tr style=\"text-align: right;\">\n",
       "      <th></th>\n",
       "      <th>Accident_Index</th>\n",
       "      <th>Location_Easting_OSGR</th>\n",
       "      <th>Location_Northing_OSGR</th>\n",
       "      <th>Longitude</th>\n",
       "      <th>Latitude</th>\n",
       "      <th>Police_Force</th>\n",
       "      <th>Accident_Severity</th>\n",
       "      <th>Number_of_Vehicles</th>\n",
       "      <th>Number_of_Casualties</th>\n",
       "      <th>Date</th>\n",
       "      <th>...</th>\n",
       "      <th>Pedestrian_Crossing-Physical_Facilities</th>\n",
       "      <th>Light_Conditions</th>\n",
       "      <th>Weather_Conditions</th>\n",
       "      <th>Road_Surface_Conditions</th>\n",
       "      <th>Special_Conditions_at_Site</th>\n",
       "      <th>Carriageway_Hazards</th>\n",
       "      <th>Urban_or_Rural_Area</th>\n",
       "      <th>Did_Police_Officer_Attend_Scene_of_Accident</th>\n",
       "      <th>LSOA_of_Accident_Location</th>\n",
       "      <th>Year</th>\n",
       "    </tr>\n",
       "  </thead>\n",
       "  <tbody>\n",
       "    <tr>\n",
       "      <th>29084</th>\n",
       "      <td>200504AL05142</td>\n",
       "      <td>342200.0</td>\n",
       "      <td>432250.0</td>\n",
       "      <td>-2.878714</td>\n",
       "      <td>53.783349</td>\n",
       "      <td>4</td>\n",
       "      <td>3</td>\n",
       "      <td>2</td>\n",
       "      <td>1</td>\n",
       "      <td>30/11/2005</td>\n",
       "      <td>...</td>\n",
       "      <td>NaN</td>\n",
       "      <td>Daylight: Street light present</td>\n",
       "      <td>Unknown</td>\n",
       "      <td>NaN</td>\n",
       "      <td>NaN</td>\n",
       "      <td>NaN</td>\n",
       "      <td>1</td>\n",
       "      <td>NaN</td>\n",
       "      <td>E01025009</td>\n",
       "      <td>2005</td>\n",
       "    </tr>\n",
       "    <tr>\n",
       "      <th>110943</th>\n",
       "      <td>2.01E+12</td>\n",
       "      <td>554450.0</td>\n",
       "      <td>281270.0</td>\n",
       "      <td>0.269172</td>\n",
       "      <td>52.407602</td>\n",
       "      <td>35</td>\n",
       "      <td>3</td>\n",
       "      <td>1</td>\n",
       "      <td>1</td>\n",
       "      <td>09/02/2005</td>\n",
       "      <td>...</td>\n",
       "      <td>No physical crossing within 50 meters</td>\n",
       "      <td>Darkness: Street lighting unknown</td>\n",
       "      <td>Unknown</td>\n",
       "      <td>Dry</td>\n",
       "      <td>None</td>\n",
       "      <td>None</td>\n",
       "      <td>1</td>\n",
       "      <td>No</td>\n",
       "      <td>E01018028</td>\n",
       "      <td>2005</td>\n",
       "    </tr>\n",
       "    <tr>\n",
       "      <th>110990</th>\n",
       "      <td>2.01E+12</td>\n",
       "      <td>542970.0</td>\n",
       "      <td>259050.0</td>\n",
       "      <td>0.091097</td>\n",
       "      <td>52.211087</td>\n",
       "      <td>35</td>\n",
       "      <td>3</td>\n",
       "      <td>2</td>\n",
       "      <td>1</td>\n",
       "      <td>16/02/2005</td>\n",
       "      <td>...</td>\n",
       "      <td>No physical crossing within 50 meters</td>\n",
       "      <td>Darkness: Street lights present and lit</td>\n",
       "      <td>Fine without high winds</td>\n",
       "      <td>Dry</td>\n",
       "      <td>None</td>\n",
       "      <td>None</td>\n",
       "      <td>1</td>\n",
       "      <td>No</td>\n",
       "      <td>E01017984</td>\n",
       "      <td>2005</td>\n",
       "    </tr>\n",
       "    <tr>\n",
       "      <th>111018</th>\n",
       "      <td>2.01E+12</td>\n",
       "      <td>517770.0</td>\n",
       "      <td>281930.0</td>\n",
       "      <td>-0.269528</td>\n",
       "      <td>52.422651</td>\n",
       "      <td>35</td>\n",
       "      <td>3</td>\n",
       "      <td>1</td>\n",
       "      <td>1</td>\n",
       "      <td>20/02/2005</td>\n",
       "      <td>...</td>\n",
       "      <td>No physical crossing within 50 meters</td>\n",
       "      <td>Darkness: Street lighting unknown</td>\n",
       "      <td>Unknown</td>\n",
       "      <td>Dry</td>\n",
       "      <td>None</td>\n",
       "      <td>None</td>\n",
       "      <td>2</td>\n",
       "      <td>Yes</td>\n",
       "      <td>E01018192</td>\n",
       "      <td>2005</td>\n",
       "    </tr>\n",
       "    <tr>\n",
       "      <th>111607</th>\n",
       "      <td>2.01E+12</td>\n",
       "      <td>516440.0</td>\n",
       "      <td>302060.0</td>\n",
       "      <td>-0.282036</td>\n",
       "      <td>52.603825</td>\n",
       "      <td>35</td>\n",
       "      <td>3</td>\n",
       "      <td>2</td>\n",
       "      <td>1</td>\n",
       "      <td>06/05/2005</td>\n",
       "      <td>...</td>\n",
       "      <td>No physical crossing within 50 meters</td>\n",
       "      <td>Darkness: Street lighting unknown</td>\n",
       "      <td>Unknown</td>\n",
       "      <td>Dry</td>\n",
       "      <td>None</td>\n",
       "      <td>None</td>\n",
       "      <td>1</td>\n",
       "      <td>No</td>\n",
       "      <td>E01015593</td>\n",
       "      <td>2005</td>\n",
       "    </tr>\n",
       "    <tr>\n",
       "      <th>...</th>\n",
       "      <td>...</td>\n",
       "      <td>...</td>\n",
       "      <td>...</td>\n",
       "      <td>...</td>\n",
       "      <td>...</td>\n",
       "      <td>...</td>\n",
       "      <td>...</td>\n",
       "      <td>...</td>\n",
       "      <td>...</td>\n",
       "      <td>...</td>\n",
       "      <td>...</td>\n",
       "      <td>...</td>\n",
       "      <td>...</td>\n",
       "      <td>...</td>\n",
       "      <td>...</td>\n",
       "      <td>...</td>\n",
       "      <td>...</td>\n",
       "      <td>...</td>\n",
       "      <td>...</td>\n",
       "      <td>...</td>\n",
       "      <td>...</td>\n",
       "    </tr>\n",
       "    <tr>\n",
       "      <th>563752</th>\n",
       "      <td>2.01E+12</td>\n",
       "      <td>280300.0</td>\n",
       "      <td>686760.0</td>\n",
       "      <td>-3.923863</td>\n",
       "      <td>56.058715</td>\n",
       "      <td>96</td>\n",
       "      <td>3</td>\n",
       "      <td>1</td>\n",
       "      <td>1</td>\n",
       "      <td>06/05/2007</td>\n",
       "      <td>...</td>\n",
       "      <td>No physical crossing within 50 meters</td>\n",
       "      <td>Darkeness: No street lighting</td>\n",
       "      <td>Fine without high winds</td>\n",
       "      <td>Wet/Damp</td>\n",
       "      <td>None</td>\n",
       "      <td>None</td>\n",
       "      <td>2</td>\n",
       "      <td>Yes</td>\n",
       "      <td>NaN</td>\n",
       "      <td>2007</td>\n",
       "    </tr>\n",
       "    <tr>\n",
       "      <th>563813</th>\n",
       "      <td>2.01E+12</td>\n",
       "      <td>299650.0</td>\n",
       "      <td>680980.0</td>\n",
       "      <td>-3.611104</td>\n",
       "      <td>56.011255</td>\n",
       "      <td>96</td>\n",
       "      <td>3</td>\n",
       "      <td>2</td>\n",
       "      <td>1</td>\n",
       "      <td>09/06/2007</td>\n",
       "      <td>...</td>\n",
       "      <td>Pedestrian phase at traffic signal junction</td>\n",
       "      <td>Daylight: Street light present</td>\n",
       "      <td>Fine without high winds</td>\n",
       "      <td>Dry</td>\n",
       "      <td>None</td>\n",
       "      <td>None</td>\n",
       "      <td>1</td>\n",
       "      <td>Yes</td>\n",
       "      <td>NaN</td>\n",
       "      <td>2007</td>\n",
       "    </tr>\n",
       "    <tr>\n",
       "      <th>563952</th>\n",
       "      <td>2.01E+12</td>\n",
       "      <td>288240.0</td>\n",
       "      <td>682680.0</td>\n",
       "      <td>-3.794724</td>\n",
       "      <td>56.023996</td>\n",
       "      <td>96</td>\n",
       "      <td>2</td>\n",
       "      <td>2</td>\n",
       "      <td>1</td>\n",
       "      <td>23/08/2007</td>\n",
       "      <td>...</td>\n",
       "      <td>No physical crossing within 50 meters</td>\n",
       "      <td>Daylight: Street light present</td>\n",
       "      <td>Fine without high winds</td>\n",
       "      <td>Dry</td>\n",
       "      <td>None</td>\n",
       "      <td>None</td>\n",
       "      <td>1</td>\n",
       "      <td>Yes</td>\n",
       "      <td>NaN</td>\n",
       "      <td>2007</td>\n",
       "    </tr>\n",
       "    <tr>\n",
       "      <th>563970</th>\n",
       "      <td>2.01E+12</td>\n",
       "      <td>280630.0</td>\n",
       "      <td>680670.0</td>\n",
       "      <td>-3.915856</td>\n",
       "      <td>56.004111</td>\n",
       "      <td>96</td>\n",
       "      <td>2</td>\n",
       "      <td>1</td>\n",
       "      <td>1</td>\n",
       "      <td>02/09/2007</td>\n",
       "      <td>...</td>\n",
       "      <td>No physical crossing within 50 meters</td>\n",
       "      <td>Daylight: Street light present</td>\n",
       "      <td>Fine without high winds</td>\n",
       "      <td>Wet/Damp</td>\n",
       "      <td>None</td>\n",
       "      <td>None</td>\n",
       "      <td>2</td>\n",
       "      <td>Yes</td>\n",
       "      <td>NaN</td>\n",
       "      <td>2007</td>\n",
       "    </tr>\n",
       "    <tr>\n",
       "      <th>564100</th>\n",
       "      <td>2.01E+12</td>\n",
       "      <td>288600.0</td>\n",
       "      <td>679890.0</td>\n",
       "      <td>-3.787793</td>\n",
       "      <td>55.999025</td>\n",
       "      <td>96</td>\n",
       "      <td>3</td>\n",
       "      <td>1</td>\n",
       "      <td>1</td>\n",
       "      <td>15/11/2007</td>\n",
       "      <td>...</td>\n",
       "      <td>No physical crossing within 50 meters</td>\n",
       "      <td>Daylight: Street light present</td>\n",
       "      <td>Other</td>\n",
       "      <td>Wet/Damp</td>\n",
       "      <td>Ol or diesel</td>\n",
       "      <td>None</td>\n",
       "      <td>1</td>\n",
       "      <td>Yes</td>\n",
       "      <td>NaN</td>\n",
       "      <td>2007</td>\n",
       "    </tr>\n",
       "  </tbody>\n",
       "</table>\n",
       "<p>67 rows × 33 columns</p>\n",
       "</div>"
      ],
      "text/plain": [
       "       Accident_Index  Location_Easting_OSGR  Location_Northing_OSGR  \\\n",
       "29084   200504AL05142               342200.0                432250.0   \n",
       "110943       2.01E+12               554450.0                281270.0   \n",
       "110990       2.01E+12               542970.0                259050.0   \n",
       "111018       2.01E+12               517770.0                281930.0   \n",
       "111607       2.01E+12               516440.0                302060.0   \n",
       "...               ...                    ...                     ...   \n",
       "563752       2.01E+12               280300.0                686760.0   \n",
       "563813       2.01E+12               299650.0                680980.0   \n",
       "563952       2.01E+12               288240.0                682680.0   \n",
       "563970       2.01E+12               280630.0                680670.0   \n",
       "564100       2.01E+12               288600.0                679890.0   \n",
       "\n",
       "        Longitude   Latitude  Police_Force  Accident_Severity  \\\n",
       "29084   -2.878714  53.783349             4                  3   \n",
       "110943   0.269172  52.407602            35                  3   \n",
       "110990   0.091097  52.211087            35                  3   \n",
       "111018  -0.269528  52.422651            35                  3   \n",
       "111607  -0.282036  52.603825            35                  3   \n",
       "...           ...        ...           ...                ...   \n",
       "563752  -3.923863  56.058715            96                  3   \n",
       "563813  -3.611104  56.011255            96                  3   \n",
       "563952  -3.794724  56.023996            96                  2   \n",
       "563970  -3.915856  56.004111            96                  2   \n",
       "564100  -3.787793  55.999025            96                  3   \n",
       "\n",
       "        Number_of_Vehicles  Number_of_Casualties        Date  ...  \\\n",
       "29084                    2                     1  30/11/2005  ...   \n",
       "110943                   1                     1  09/02/2005  ...   \n",
       "110990                   2                     1  16/02/2005  ...   \n",
       "111018                   1                     1  20/02/2005  ...   \n",
       "111607                   2                     1  06/05/2005  ...   \n",
       "...                    ...                   ...         ...  ...   \n",
       "563752                   1                     1  06/05/2007  ...   \n",
       "563813                   2                     1  09/06/2007  ...   \n",
       "563952                   2                     1  23/08/2007  ...   \n",
       "563970                   1                     1  02/09/2007  ...   \n",
       "564100                   1                     1  15/11/2007  ...   \n",
       "\n",
       "            Pedestrian_Crossing-Physical_Facilities  \\\n",
       "29084                                           NaN   \n",
       "110943        No physical crossing within 50 meters   \n",
       "110990        No physical crossing within 50 meters   \n",
       "111018        No physical crossing within 50 meters   \n",
       "111607        No physical crossing within 50 meters   \n",
       "...                                             ...   \n",
       "563752        No physical crossing within 50 meters   \n",
       "563813  Pedestrian phase at traffic signal junction   \n",
       "563952        No physical crossing within 50 meters   \n",
       "563970        No physical crossing within 50 meters   \n",
       "564100        No physical crossing within 50 meters   \n",
       "\n",
       "                               Light_Conditions       Weather_Conditions  \\\n",
       "29084            Daylight: Street light present                  Unknown   \n",
       "110943        Darkness: Street lighting unknown                  Unknown   \n",
       "110990  Darkness: Street lights present and lit  Fine without high winds   \n",
       "111018        Darkness: Street lighting unknown                  Unknown   \n",
       "111607        Darkness: Street lighting unknown                  Unknown   \n",
       "...                                         ...                      ...   \n",
       "563752            Darkeness: No street lighting  Fine without high winds   \n",
       "563813           Daylight: Street light present  Fine without high winds   \n",
       "563952           Daylight: Street light present  Fine without high winds   \n",
       "563970           Daylight: Street light present  Fine without high winds   \n",
       "564100           Daylight: Street light present                    Other   \n",
       "\n",
       "       Road_Surface_Conditions  Special_Conditions_at_Site  \\\n",
       "29084                      NaN                         NaN   \n",
       "110943                     Dry                        None   \n",
       "110990                     Dry                        None   \n",
       "111018                     Dry                        None   \n",
       "111607                     Dry                        None   \n",
       "...                        ...                         ...   \n",
       "563752                Wet/Damp                        None   \n",
       "563813                     Dry                        None   \n",
       "563952                     Dry                        None   \n",
       "563970                Wet/Damp                        None   \n",
       "564100                Wet/Damp                Ol or diesel   \n",
       "\n",
       "        Carriageway_Hazards Urban_or_Rural_Area  \\\n",
       "29084                   NaN                   1   \n",
       "110943                 None                   1   \n",
       "110990                 None                   1   \n",
       "111018                 None                   2   \n",
       "111607                 None                   1   \n",
       "...                     ...                 ...   \n",
       "563752                 None                   2   \n",
       "563813                 None                   1   \n",
       "563952                 None                   1   \n",
       "563970                 None                   2   \n",
       "564100                 None                   1   \n",
       "\n",
       "        Did_Police_Officer_Attend_Scene_of_Accident  \\\n",
       "29084                                           NaN   \n",
       "110943                                           No   \n",
       "110990                                           No   \n",
       "111018                                          Yes   \n",
       "111607                                           No   \n",
       "...                                             ...   \n",
       "563752                                          Yes   \n",
       "563813                                          Yes   \n",
       "563952                                          Yes   \n",
       "563970                                          Yes   \n",
       "564100                                          Yes   \n",
       "\n",
       "        LSOA_of_Accident_Location  Year  \n",
       "29084                   E01025009  2005  \n",
       "110943                  E01018028  2005  \n",
       "110990                  E01017984  2005  \n",
       "111018                  E01018192  2005  \n",
       "111607                  E01015593  2005  \n",
       "...                           ...   ...  \n",
       "563752                        NaN  2007  \n",
       "563813                        NaN  2007  \n",
       "563952                        NaN  2007  \n",
       "563970                        NaN  2007  \n",
       "564100                        NaN  2007  \n",
       "\n",
       "[67 rows x 33 columns]"
      ]
     },
     "execution_count": 9,
     "metadata": {},
     "output_type": "execute_result"
    }
   ],
   "source": [
    "d[d.Time.isnull()]"
   ]
  },
  {
   "cell_type": "markdown",
   "metadata": {},
   "source": [
    "We may note the following:\n",
    "    \n",
    "- date and time are provided as strings,\n",
    "- we have slashes in dates, and this can be parsed ambiguously,\n",
    "- some times are missing.\n",
    "\n",
    "Hence, our strategy is the following:\n",
    "\n",
    "- concatenate date and time using string vectorized operations,\n",
    "- set placeholder for missing times to be `00:00`,\n",
    "- parse resulting (**string**) datetime with explicit `dayfirst=True`."
   ]
  },
  {
   "cell_type": "code",
   "execution_count": 32,
   "metadata": {
    "ExecuteTime": {
     "end_time": "2021-11-17T17:11:39.536439Z",
     "start_time": "2021-11-17T17:11:39.352294Z"
    }
   },
   "outputs": [],
   "source": [
    "d.loc[:, 'dt'] = d.Date.str.cat(d.Time, sep=' ', na_rep='00:00')"
   ]
  },
  {
   "cell_type": "code",
   "execution_count": 14,
   "metadata": {
    "ExecuteTime": {
     "end_time": "2021-11-17T16:55:08.092441Z",
     "start_time": "2021-11-17T16:55:08.088451Z"
    }
   },
   "outputs": [
    {
     "data": {
      "text/plain": [
       "dtype('O')"
      ]
     },
     "execution_count": 14,
     "metadata": {},
     "output_type": "execute_result"
    }
   ],
   "source": [
    "d.Date.dtype"
   ]
  },
  {
   "cell_type": "code",
   "execution_count": 34,
   "metadata": {
    "ExecuteTime": {
     "end_time": "2021-11-17T17:12:43.765652Z",
     "start_time": "2021-11-17T17:12:01.076932Z"
    }
   },
   "outputs": [],
   "source": [
    "d.loc[:, 'date_time'] = pd.to_datetime(d.dt, dayfirst=True)"
   ]
  },
  {
   "cell_type": "markdown",
   "metadata": {},
   "source": [
    "We now have `date_time` column of type `datetime64[ns]`:"
   ]
  },
  {
   "cell_type": "code",
   "execution_count": 37,
   "metadata": {
    "ExecuteTime": {
     "end_time": "2021-11-17T17:13:23.634212Z",
     "start_time": "2021-11-17T17:13:23.430175Z"
    }
   },
   "outputs": [
    {
     "data": {
      "text/plain": [
       "2005-10-21    822\n",
       "2005-11-18    787\n",
       "2006-09-29    784\n",
       "2006-09-22    780\n",
       "2005-12-07    775\n",
       "             ... \n",
       "2007-12-31    249\n",
       "2005-12-25    199\n",
       "2007-12-30    192\n",
       "2006-12-25    175\n",
       "2007-12-25    157\n",
       "Name: date_time, Length: 1095, dtype: int64"
      ]
     },
     "execution_count": 37,
     "metadata": {},
     "output_type": "execute_result"
    }
   ],
   "source": [
    "d.date_time.dt.date.value_counts()  # Note the difference without `memory_usage=\"deep\"`"
   ]
  },
  {
   "cell_type": "code",
   "execution_count": 38,
   "metadata": {
    "ExecuteTime": {
     "end_time": "2021-11-17T17:14:49.408513Z",
     "start_time": "2021-11-17T17:14:49.392557Z"
    }
   },
   "outputs": [],
   "source": [
    "def worst_days(df):\n",
    "    a_list =[]\n",
    "    top_5= df.query('Accident_Severity< 3').date_time.dt.date.value_counts().head(5).index\n",
    "    for i in top_5:\n",
    "        a_list.append(pd.Timestamp(i))\n",
    "    return a_list\n"
   ]
  },
  {
   "cell_type": "code",
   "execution_count": 39,
   "metadata": {
    "ExecuteTime": {
     "end_time": "2021-11-17T17:14:58.150113Z",
     "start_time": "2021-11-17T17:14:58.054382Z"
    }
   },
   "outputs": [
    {
     "data": {
      "text/plain": [
       "[Timestamp('2006-06-10 00:00:00'),\n",
       " Timestamp('2006-09-09 00:00:00'),\n",
       " Timestamp('2005-05-14 00:00:00'),\n",
       " Timestamp('2005-06-18 00:00:00'),\n",
       " Timestamp('2005-09-16 00:00:00')]"
      ]
     },
     "execution_count": 39,
     "metadata": {},
     "output_type": "execute_result"
    }
   ],
   "source": [
    "worst_days(d)"
   ]
  },
  {
   "cell_type": "markdown",
   "metadata": {},
   "source": [
    "Let's filter some columns we do not need:"
   ]
  },
  {
   "cell_type": "code",
   "execution_count": null,
   "metadata": {
    "ExecuteTime": {
     "end_time": "2019-11-29T11:02:12.865694Z",
     "start_time": "2019-11-29T11:02:12.855369Z"
    }
   },
   "outputs": [],
   "source": [
    "d.columns"
   ]
  },
  {
   "cell_type": "code",
   "execution_count": null,
   "metadata": {
    "ExecuteTime": {
     "end_time": "2019-12-10T04:00:21.633529Z",
     "start_time": "2019-12-10T04:00:21.629740Z"
    }
   },
   "outputs": [],
   "source": [
    "COLS = ['Accident_Index', 'Longitude', 'Latitude',\n",
    "        'Accident_Severity', 'Number_of_Vehicles',\n",
    "        'Number_of_Casualties', 'Weather_Conditions',\n",
    "        'Day_of_Week', 'Road_Surface_Conditions',\n",
    "        'Special_Conditions_at_Site', 'Urban_or_Rural_Area',\n",
    "        'Carriageway_Hazards', 'date_time']"
   ]
  },
  {
   "cell_type": "code",
   "execution_count": null,
   "metadata": {
    "ExecuteTime": {
     "end_time": "2019-12-10T04:00:22.160014Z",
     "start_time": "2019-12-10T04:00:22.036386Z"
    }
   },
   "outputs": [],
   "source": [
    "d.drop([c for c in d.columns if c not in COLS], axis=1, inplace=True)"
   ]
  },
  {
   "cell_type": "markdown",
   "metadata": {},
   "source": [
    "Pandas has a dedicated set of index types for datetime indexes:"
   ]
  },
  {
   "cell_type": "code",
   "execution_count": null,
   "metadata": {
    "ExecuteTime": {
     "end_time": "2019-12-10T04:01:30.916550Z",
     "start_time": "2019-12-10T04:01:30.910140Z"
    }
   },
   "outputs": [],
   "source": [
    "d.set_index('date_time', inplace=True)"
   ]
  },
  {
   "cell_type": "code",
   "execution_count": null,
   "metadata": {
    "ExecuteTime": {
     "end_time": "2019-11-29T11:03:46.901039Z",
     "start_time": "2019-11-29T11:03:46.871496Z"
    }
   },
   "outputs": [],
   "source": [
    "d.index"
   ]
  },
  {
   "cell_type": "code",
   "execution_count": null,
   "metadata": {},
   "outputs": [],
   "source": [
    "d.head()"
   ]
  },
  {
   "cell_type": "markdown",
   "metadata": {},
   "source": [
    "# `DatetimeIndex` in details\n",
    "\n",
    "`DatetimeIndex` is special in many ways. It allows for much more flexible indexing compared to usual indexes. First of all, you can use strings, not just actual index labels. To leverage this, we first sort the index:"
   ]
  },
  {
   "cell_type": "code",
   "execution_count": null,
   "metadata": {},
   "outputs": [],
   "source": [
    "d.sort_index(inplace=True)"
   ]
  },
  {
   "cell_type": "markdown",
   "metadata": {},
   "source": [
    "We can now use strings to index the dataframe (indexing non-monotonic `DatetimeIndex` with strings is not a very good idea):"
   ]
  },
  {
   "cell_type": "code",
   "execution_count": null,
   "metadata": {},
   "outputs": [],
   "source": [
    "d[\"2006-02-12 20\":\"2006-03\"]"
   ]
  },
  {
   "cell_type": "code",
   "execution_count": null,
   "metadata": {},
   "outputs": [],
   "source": [
    "d[\"2005\":]"
   ]
  },
  {
   "cell_type": "markdown",
   "metadata": {},
   "source": [
    "Note, how Pandas allows for partial datetime string specification. Of course, this way of indexing can be combined with column index:"
   ]
  },
  {
   "cell_type": "code",
   "execution_count": null,
   "metadata": {},
   "outputs": [],
   "source": [
    "d.loc[\"2005\", \"Accident_Severity\"]"
   ]
  },
  {
   "cell_type": "markdown",
   "metadata": {},
   "source": [
    "We will now create a dataframe used in Problem 6 of the exam:"
   ]
  },
  {
   "cell_type": "code",
   "execution_count": null,
   "metadata": {},
   "outputs": [],
   "source": [
    "d.loc[\"2005\", \"Accident_Severity\"].to_csv(DATA_DIR.joinpath(\"accidents_2005.csv\"))"
   ]
  },
  {
   "cell_type": "code",
   "execution_count": null,
   "metadata": {},
   "outputs": [],
   "source": [
    "accidents_2005 = pd.read_csv(DATA_DIR.joinpath(\"accidents_2005.csv\"),\n",
    "                             parse_dates=[\"date_time\"])"
   ]
  },
  {
   "cell_type": "code",
   "execution_count": null,
   "metadata": {},
   "outputs": [],
   "source": [
    "accidents_2005.head()"
   ]
  },
  {
   "cell_type": "markdown",
   "metadata": {},
   "source": [
    "Note, that it's not indexed, and that's exactly the way it's passed to the solution function."
   ]
  },
  {
   "cell_type": "markdown",
   "metadata": {},
   "source": [
    "# Resampling time series\n",
    "\n",
    "Time series in Pandas can be easily resampled to any frequency:"
   ]
  },
  {
   "cell_type": "code",
   "execution_count": null,
   "metadata": {},
   "outputs": [],
   "source": [
    "d.resample('D')"
   ]
  },
  {
   "cell_type": "markdown",
   "metadata": {},
   "source": [
    "Similar to `groupby`, `resample` doesn't perform any operations on it's own, but just calculates which rows go to which (datetime) bin. We need to further apply some aggregation operation. For example, we may calculate number of accidents per day:"
   ]
  },
  {
   "cell_type": "code",
   "execution_count": null,
   "metadata": {
    "ExecuteTime": {
     "end_time": "2019-11-29T11:05:28.462633Z",
     "start_time": "2019-11-29T11:05:27.690959Z"
    }
   },
   "outputs": [],
   "source": [
    "daily = d.resample('D').size()\n",
    "daily"
   ]
  },
  {
   "cell_type": "markdown",
   "metadata": {},
   "source": [
    "`daily` has `DatetimeIndex` as well and has `freq` specified (as it was constructed to have one):"
   ]
  },
  {
   "cell_type": "code",
   "execution_count": null,
   "metadata": {
    "ExecuteTime": {
     "end_time": "2019-11-29T11:08:18.144611Z",
     "start_time": "2019-11-29T11:08:18.129978Z"
    }
   },
   "outputs": [],
   "source": [
    "daily.index"
   ]
  },
  {
   "cell_type": "code",
   "execution_count": null,
   "metadata": {
    "ExecuteTime": {
     "end_time": "2019-11-29T11:08:38.088035Z",
     "start_time": "2019-11-29T11:08:38.081855Z"
    }
   },
   "outputs": [],
   "source": [
    "daily.index.is_monotonic, daily.index.is_unique"
   ]
  },
  {
   "cell_type": "markdown",
   "metadata": {},
   "source": [
    "Pandas also exposes plotting functionality to datetime-indexed dataframes. To illustrate this, let's plot daily and weekly average number of accidents:"
   ]
  },
  {
   "cell_type": "code",
   "execution_count": null,
   "metadata": {
    "ExecuteTime": {
     "end_time": "2019-11-29T11:10:30.721510Z",
     "start_time": "2019-11-29T11:10:28.894634Z"
    }
   },
   "outputs": [],
   "source": [
    "# Just a hint: you can set image resolution in dpi\n",
    "plt.figure(figsize=(8,3), dpi=150)  \n",
    "\n",
    "daily.plot(ax=plt.gca(), linewidth=0.5)\n",
    "\n",
    "(d.resample('W').size()/7.).plot(ax=plt.gca(),\n",
    "                                 linewidth=1,\n",
    "                                 color='firebrick')\n",
    "\n",
    "plt.ylabel('accidents')\n",
    "plt.xlabel('month');"
   ]
  },
  {
   "cell_type": "markdown",
   "metadata": {},
   "source": [
    "In EDA terms, we just gained our first insight: accidents are strongly seasonal (with non-trivial seasonal struture and high dependence on holidays).\n",
    "\n",
    "Similarly, we can plot daily and weekly average number of vehicles involved:"
   ]
  },
  {
   "cell_type": "code",
   "execution_count": null,
   "metadata": {
    "ExecuteTime": {
     "end_time": "2019-11-29T11:16:09.457767Z",
     "start_time": "2019-11-29T11:16:07.126195Z"
    }
   },
   "outputs": [],
   "source": [
    "plt.figure(figsize=(12,5), dpi=150)\n",
    "\n",
    "d.resample('D').Number_of_Vehicles.mean().plot(ax=plt.gca())\n",
    "d.resample('W').Number_of_Vehicles.mean().plot(ax=plt.gca(), color='firebrick')\n",
    "\n",
    "plt.ylabel('vehicles involved')\n",
    "plt.xlabel('month');"
   ]
  },
  {
   "cell_type": "markdown",
   "metadata": {},
   "source": [
    "Instead of `resample`, we can use `pd.Grouper`. It's not really useful as a replacement of `resample`, but is very handy in compound grouping keys."
   ]
  },
  {
   "cell_type": "code",
   "execution_count": null,
   "metadata": {
    "ExecuteTime": {
     "end_time": "2019-12-10T04:04:18.632329Z",
     "start_time": "2019-12-10T04:04:17.912497Z"
    }
   },
   "outputs": [],
   "source": [
    "d.groupby(pd.Grouper(freq='D'))[\"Number_of_Casualties\"].mean()"
   ]
  },
  {
   "cell_type": "markdown",
   "metadata": {},
   "source": [
    "Now, let's try to extract the accidents, which have more casualties, than average number of casualties on that day. And now Pandas datetime magic comes into play:"
   ]
  },
  {
   "cell_type": "code",
   "execution_count": null,
   "metadata": {},
   "outputs": [],
   "source": [
    "daily_casualties = (d\n",
    "                    .groupby(pd.Grouper(freq='D'))[\"Number_of_Casualties\"]\n",
    "                    .mean())\n",
    "\n",
    "df = d.merge(daily_casualties,\n",
    "             left_on=d.index.floor(\"1D\"),\n",
    "             right_index=True,\n",
    "             suffixes=(\"\", \"_daily\"))"
   ]
  },
  {
   "cell_type": "markdown",
   "metadata": {},
   "source": [
    "Note that Pandas keeps the calculated key it used for merging as `key_0`:"
   ]
  },
  {
   "cell_type": "code",
   "execution_count": null,
   "metadata": {},
   "outputs": [],
   "source": [
    "df.head()"
   ]
  },
  {
   "cell_type": "markdown",
   "metadata": {},
   "source": [
    "We do not need it at the moment, so we'll drop it:"
   ]
  },
  {
   "cell_type": "code",
   "execution_count": null,
   "metadata": {},
   "outputs": [],
   "source": [
    "df.drop(\"key_0\", axis=1, inplace=True)"
   ]
  },
  {
   "cell_type": "markdown",
   "metadata": {},
   "source": [
    "We can now calculate how extreme each accident is compared to daily averages:"
   ]
  },
  {
   "cell_type": "code",
   "execution_count": null,
   "metadata": {},
   "outputs": [],
   "source": [
    "df[\"delta\"] = df[\"Number_of_Casualties\"] - df[\"Number_of_Casualties_daily\"]"
   ]
  },
  {
   "cell_type": "code",
   "execution_count": null,
   "metadata": {
    "ExecuteTime": {
     "end_time": "2019-12-10T04:23:37.054620Z",
     "start_time": "2019-12-10T04:23:36.813830Z"
    }
   },
   "outputs": [],
   "source": [
    "df.loc[\"2005\"].sort_values(by=\"delta\", ascending=False)"
   ]
  },
  {
   "cell_type": "markdown",
   "metadata": {},
   "source": [
    "Let's explore the most extreme one:"
   ]
  },
  {
   "cell_type": "code",
   "execution_count": null,
   "metadata": {
    "ExecuteTime": {
     "end_time": "2019-12-10T04:15:41.114578Z",
     "start_time": "2019-12-10T04:15:41.024410Z"
    }
   },
   "outputs": [],
   "source": [
    "d[d.Accident_Index==\"200597EC70504\"]"
   ]
  },
  {
   "cell_type": "markdown",
   "metadata": {},
   "source": [
    "You may want to further investigate this case (with Google of course)."
   ]
  },
  {
   "cell_type": "markdown",
   "metadata": {},
   "source": [
    "Let's get back to `pd.Grouper` and compound keys. We can flexibly combine grouper on datetime index with usual column. Let's calculate now many accidents we have per area type each day:"
   ]
  },
  {
   "cell_type": "code",
   "execution_count": null,
   "metadata": {},
   "outputs": [],
   "source": [
    "d.groupby([pd.Grouper(freq='1M'), 'Urban_or_Rural_Area']).size()"
   ]
  },
  {
   "cell_type": "markdown",
   "metadata": {},
   "source": [
    "Now we can plot this as a stacked bar plot:"
   ]
  },
  {
   "cell_type": "code",
   "execution_count": null,
   "metadata": {
    "ExecuteTime": {
     "end_time": "2019-11-29T11:21:14.514994Z",
     "start_time": "2019-11-29T11:21:12.102644Z"
    }
   },
   "outputs": [],
   "source": [
    "plt.figure(figsize=(12,6))\n",
    "\n",
    "(d.groupby([pd.Grouper(freq='1M'), 'Urban_or_Rural_Area'])\n",
    " .size()\n",
    " .unstack()\n",
    " .plot(alpha=0.6, linewidth=2, ax=plt.gca(), kind='bar', stacked=True));"
   ]
  },
  {
   "cell_type": "markdown",
   "metadata": {},
   "source": [
    "We can do the same with accident severity:"
   ]
  },
  {
   "cell_type": "code",
   "execution_count": null,
   "metadata": {
    "ExecuteTime": {
     "end_time": "2019-11-29T11:23:14.585941Z",
     "start_time": "2019-11-29T11:23:12.156308Z"
    }
   },
   "outputs": [],
   "source": [
    "plt.figure(figsize=(12,6))\n",
    "\n",
    "(d.groupby([pd.Grouper(freq='1M'), 'Accident_Severity'])\n",
    " .size()\n",
    " .unstack()\n",
    " .plot(alpha=0.6, linewidth=2, ax=plt.gca(), kind='bar', stacked=True));"
   ]
  },
  {
   "cell_type": "code",
   "execution_count": null,
   "metadata": {},
   "outputs": [],
   "source": []
  }
 ],
 "metadata": {
  "kernelspec": {
   "display_name": "Python 3",
   "language": "python",
   "name": "python3"
  },
  "language_info": {
   "codemirror_mode": {
    "name": "ipython",
    "version": 3
   },
   "file_extension": ".py",
   "mimetype": "text/x-python",
   "name": "python",
   "nbconvert_exporter": "python",
   "pygments_lexer": "ipython3",
   "version": "3.7.4"
  },
  "toc": {
   "base_numbering": 1,
   "nav_menu": {},
   "number_sections": true,
   "sideBar": true,
   "skip_h1_title": false,
   "title_cell": "Table of Contents",
   "title_sidebar": "Contents",
   "toc_cell": false,
   "toc_position": {},
   "toc_section_display": true,
   "toc_window_display": false
  }
 },
 "nbformat": 4,
 "nbformat_minor": 2
}
