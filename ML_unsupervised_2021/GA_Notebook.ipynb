{
 "cells": [
  {
   "cell_type": "markdown",
   "metadata": {
    "id": "H73tfZLkIeeZ"
   },
   "source": [
    "# Assignment: Unsupervised Machine Learning \\ Genetic Algorithms"
   ]
  },
  {
   "cell_type": "markdown",
   "metadata": {
    "id": "dolJUy25Ie5p"
   },
   "source": [
    "In this assignment you will experience with Genetic Algorithms (GAs), starting from a basic implementation, continuing with dedicated improvements, and later applying it in various unsupervised machine learning scenarios."
   ]
  },
  {
   "cell_type": "markdown",
   "metadata": {
    "id": "r3Ceo40bILUu"
   },
   "source": [
    "## Part 1: Time Series of 'Likes' Influenced by Personalization"
   ]
  },
  {
   "cell_type": "markdown",
   "metadata": {
    "id": "ef4bMtn0ILUu"
   },
   "source": [
    "Various personalization algorithms are applied in e-commerce and other kinds of websites/apps in order to increase purchases or user engagement.\n",
    "\n",
    "The following time series were collected over a period of 20 months from a large online retail store. In this study, during the first 10 months (normalized as the period from month -10 to month 0) a contextual personalization algorithm was applied in order to increase user engagement (measured as the accumulated number of 'Likes' on products shared via Facebook). As in the case with many contextual approaches, this algorithm suffered from the 'filter bubble' problem (https://en.wikipedia.org/wiki/Filter_bubble), and therefore reached a plateau quite quickly.\n",
    "\n",
    "Nonetheless, this step enabled a more advanced collaborative filtering algorithm to analyze the collected data, learn, and increase user engagement once it was applied in the following 10 months. A classic inflection point was detected after the transition to the new algorithm. A domain expert envisioned the inflection dynamics will behave similarly to the formula f(x) = ax^3 + bx^2 + cx + d. The values of a, b, c and d were found to be 4.8, 12.1, 53.2 and 6219, respectively.\n",
    "\n",
    "<< Please note: This function is an analytical solution, used here for simplifying the actual study, where a dynamic model was created with ODEs >>\n",
    "\n",
    "We are given a sample sparse data of users from 10 different European countries. In this project, we will implement a simple GA in order to fit our data to the above-mentioned function, and discover the parameters for a, b, c and d. "
   ]
  },
  {
   "cell_type": "code",
   "execution_count": 1,
   "metadata": {
    "ExecuteTime": {
     "end_time": "2021-12-29T15:42:35.470603Z",
     "start_time": "2021-12-29T15:42:33.200502Z"
    },
    "id": "D-EAeWWYILUv"
   },
   "outputs": [],
   "source": [
    "import numpy as np\n",
    "import pandas as pd\n",
    "import matplotlib.pyplot as plt"
   ]
  },
  {
   "cell_type": "markdown",
   "metadata": {
    "id": "YCITy6prILUy"
   },
   "source": [
    "### Read measured data from an Excel file"
   ]
  },
  {
   "cell_type": "code",
   "execution_count": 2,
   "metadata": {
    "ExecuteTime": {
     "end_time": "2021-12-29T15:43:15.887301Z",
     "start_time": "2021-12-29T15:43:15.871303Z"
    }
   },
   "outputs": [],
   "source": [
    "from sklearn.metrics import calinski_harabasz_score as ch"
   ]
  },
  {
   "cell_type": "code",
   "execution_count": 3,
   "metadata": {
    "ExecuteTime": {
     "end_time": "2021-12-29T15:43:23.033722Z",
     "start_time": "2021-12-29T15:43:22.688914Z"
    },
    "colab": {
     "base_uri": "https://localhost:8080/",
     "height": 612
    },
    "id": "wIxFdlaQILUz",
    "outputId": "42f322dc-c254-41a1-fd17-11872c2ffd4c"
   },
   "outputs": [
    {
     "data": {
      "text/plain": [
       "<matplotlib.axes._subplots.AxesSubplot at 0x29e7204d2c8>"
      ]
     },
     "execution_count": 3,
     "metadata": {},
     "output_type": "execute_result"
    },
    {
     "data": {
      "image/png": "[encoded data removed]",
      "text/plain": [
       "<Figure size 432x288 with 1 Axes>"
      ]
     },
     "metadata": {
      "needs_background": "light"
     },
     "output_type": "display_data"
    }
   ],
   "source": [
    "xlsx = pd.ExcelFile('European Measurements.xlsx')\n",
    "sheet1 = xlsx.parse(3) # Note the other datasets in the file.\n",
    "variables = [\"Month\",\"Avg. Likes\"]\n",
    "data = sheet1.loc[:, variables].values\n",
    "pd.DataFrame(data).plot()"
   ]
  },
  {
   "cell_type": "markdown",
   "metadata": {
    "id": "8v3IQBqoILU2"
   },
   "source": [
    "### Simple GA mechanism"
   ]
  },
  {
   "cell_type": "markdown",
   "metadata": {
    "id": "Ug6bzLiVV_Ac"
   },
   "source": [
    "## Challenge 231 (_max score - 50 points_)\n",
    "Implement a new and improved GA, based on the one above, by taking the following actions:\n",
    "\n",
    "1. Make the bias_selection function give more chances to solutions with better fitness values, but not necesseraly take the best ones, as currently done.\n",
    "2. Make the recombination function make real random recombination along the chromosome and between chromosomes\n",
    "3. Change the mutation rate and/or scale to better avoid local minima while keeping evolution time short\n",
    "4. Apply a smarter stopping criterion\n",
    "5. Consider different GA parameters in order to reach better results"
   ]
  },
  {
   "cell_type": "code",
   "execution_count": 4,
   "metadata": {
    "ExecuteTime": {
     "end_time": "2021-12-29T15:43:25.723002Z",
     "start_time": "2021-12-29T15:43:25.706966Z"
    },
    "id": "GQcPnkLXSgvC"
   },
   "outputs": [],
   "source": [
    "# Your code here"
   ]
  },
  {
   "cell_type": "code",
   "execution_count": 5,
   "metadata": {
    "ExecuteTime": {
     "end_time": "2021-12-29T15:43:45.069609Z",
     "start_time": "2021-12-29T15:43:27.051867Z"
    },
    "id": "Tcu-CbABILU2"
   },
   "outputs": [
    {
     "name": "stdout",
     "output_type": "stream",
     "text": [
      "The population of the first generation: \n",
      "[[1266  292 3691 6676]\n",
      " [8333 2767 8736 6154]\n",
      " [7564 7111 3851 6221]\n",
      " ...\n",
      " [2883 7517 7389 6485]\n",
      " [4321 1701 1441 7579]\n",
      " [3412 9078 8745 9392]]\n",
      "\n",
      "Evolution:\n",
      "Generation =  0 \tBest fitness =  6697588178.87386\n",
      "0\n",
      "Generation =  1 \tBest fitness =  6410090990.57698\n",
      "0\n",
      "Generation =  2 \tBest fitness =  6410090990.57698\n",
      "1\n",
      "Generation =  3 \tBest fitness =  6410090990.57698\n",
      "2\n",
      "Generation =  4 \tBest fitness =  4830933744.38854\n",
      "0\n",
      "Generation =  5 \tBest fitness =  3409981146.27997\n",
      "0\n",
      "Generation =  6 \tBest fitness =  60115503.86841\n",
      "0\n",
      "Generation =  7 \tBest fitness =  4566422.17283\n",
      "0\n",
      "Generation =  8 \tBest fitness =  389165.30332\n",
      "0\n",
      "Generation =  9 \tBest fitness =  3958.78172\n",
      "0\n",
      "Generation =  10 \tBest fitness =  1450.17396\n",
      "0\n",
      "Generation =  11 \tBest fitness =  1450.17396\n",
      "1\n",
      "Generation =  12 \tBest fitness =  388.33234\n",
      "0\n",
      "Generation =  13 \tBest fitness =  388.33234\n",
      "1\n",
      "Generation =  14 \tBest fitness =  231.22699\n",
      "0\n",
      "Generation =  15 \tBest fitness =  41.68187\n",
      "0\n",
      "Generation =  16 \tBest fitness =  41.68187\n",
      "1\n",
      "Generation =  17 \tBest fitness =  41.68187\n",
      "2\n",
      "Generation =  18 \tBest fitness =  41.68187\n",
      "3\n",
      "Generation =  19 \tBest fitness =  41.68187\n",
      "4\n",
      "\n",
      "The population of the last generation: \n",
      "[[ -80  766  202 8874]\n",
      " [ -30  173 1958 2839]\n",
      " [ -50   52 4472 7013]\n",
      " ...\n",
      " [ -27  239 1273 8605]\n",
      " [ -69  552 1793 9528]\n",
      " [ -76  681  608 7231]]\n",
      "Best solution:  [[[ -69  552 1974 1933]]]\n"
     ]
    },
    {
     "data": {
      "image/png": "[encoded data removed]",
      "text/plain": [
       "<Figure size 432x288 with 1 Axes>"
      ]
     },
     "metadata": {
      "needs_background": "light"
     },
     "output_type": "display_data"
    }
   ],
   "source": [
    "def fitness_function(data, pop):\n",
    "    fitness = []\n",
    "    for solution in range(len(pop)):\n",
    "        for event in range(len(data)):\n",
    "            error = 0;\n",
    "            event_time = data[event][0]\n",
    "            event_measured = data[event][1]\n",
    "            event_expected = pop[solution][0]*event_time**3 + pop[solution][1]*event_time**2 + pop[solution][2]*event_time + pop[solution][3]\n",
    "            error +=(event_expected - event_measured)**2\n",
    "        fitness.append(1/error) # We use 1/error in order to use a maximization mechanism, while we want to minimize the error\n",
    "    return fitness\n",
    "\n",
    "def biased_selection(pop, fitness, num_parents):\n",
    "    probabilities = np.array(fitness)/np.sum(fitness)\n",
    "    return pop[np.random.choice(np.arange(pop.shape[0]),size=int(num_parents),p=probabilities,replace=False)]\n",
    "    # parents = np.empty((num_parents, pop.shape[1]))\n",
    "    # for parent_num in range(num_parents):\n",
    "    #     max_fitness_idx = np.where(fitness == np.max(fitness))\n",
    "    #     max_fitness_idx = max_fitness_idx[0][0]\n",
    "    #     parents[parent_num, :] = pop[max_fitness_idx, :]\n",
    "    #     fitness[max_fitness_idx] = -99999999999\n",
    "    # return parents\n",
    "\n",
    "def recombination(parents, offspring_size):\n",
    "    offspring = np.empty(offspring_size)\n",
    "    recombination_point = np.random.randint(1,offspring_size[1])\n",
    "    parent_list = parents.tolist()\n",
    "    for k in range(0,offspring_size[0],2):\n",
    "#         print(len(parent_list))\n",
    "        parent1=parent_list.pop(np.random.randint(len(parent_list)))\n",
    "        parent2=parent_list.pop(np.random.randint(len(parent_list)))\n",
    "        offspring[k, 0:recombination_point] = parent1[:recombination_point]\n",
    "        offspring[k, recombination_point:] = parent2[recombination_point:]\n",
    "        offspring[k+1, 0:recombination_point] = parent2[:recombination_point]\n",
    "        offspring[k+1, recombination_point:] = parent1[recombination_point:]\n",
    "    return offspring\n",
    "\n",
    "def mutation(offspring_recombination,mutation_rate=0.5):\n",
    "    min_scale=offspring_recombination.min()\n",
    "    max_scale=offspring_recombination.max()\n",
    "    for idx in range(offspring_recombination.shape[0]):\n",
    "        if np.random.binomial(1,mutation_rate)==1:\n",
    "            random_value = np.random.randint(-100, 100, 1)\n",
    "            random_index = np.random.randint(0,offspring_recombination.shape[1],1)\n",
    "            offspring_recombination[idx, random_index] = offspring_recombination[idx, random_index] + random_value\n",
    "    return offspring_recombination\n",
    "\n",
    "\n",
    "### GA application for fitting time series data\n",
    "\n",
    "# GA Parameters\n",
    "formula_degree = 4\n",
    "number_of_solutions = 2500\n",
    "number_of_parents = int(number_of_solutions/2)\n",
    "population_size = (number_of_solutions,formula_degree) \n",
    "number_of_generations = 20\n",
    "mutation_rate=.8\n",
    "wait_time=7\n",
    "best_outputs = []\n",
    "\n",
    "# Genesis\n",
    "new_population = np.random.randint(low=0, high=10000, size=population_size)\n",
    "print(\"The population of the first generation: \")\n",
    "print(new_population)\n",
    "fitness_list=[np.inf]\n",
    "break_count=0\n",
    "# Evolution\n",
    "print (\"\\nEvolution:\")\n",
    "for generation in range(number_of_generations):\n",
    "    fitness = fitness_function(data, new_population)\n",
    "    best_fitness=round(1/np.max(fitness),5)\n",
    "    print(\"Generation = \", generation, \"\\tBest fitness = \", round(1/np.max(fitness),5))\n",
    "    # best_outputs.append(np.max(np.sum(new_population*formula_degree, axis=1)))\n",
    "    best_outputs.append(round(1/np.max(fitness),5))\n",
    "    parents = biased_selection(new_population, fitness, number_of_parents)\n",
    "    offspring_recombination = recombination(parents, offspring_size=(population_size[0]-parents.shape[0], formula_degree))\n",
    "    offspring_mutation = mutation(offspring_recombination,mutation_rate)\n",
    "    new_population[0:parents.shape[0], :] = parents\n",
    "    new_population[parents.shape[0]:, :] = offspring_mutation\n",
    "    if best_fitness>=fitness_list[-1]:\n",
    "        break_count+=1\n",
    "    else:\n",
    "        break_count=0\n",
    "    if break_count>=wait_time:\n",
    "        print(\"early ending\",best_fitness,fitness_list[-1])\n",
    "        break\n",
    "    fitness_list.append(best_fitness)\n",
    "    print(break_count)\n",
    "\n",
    "# Results\n",
    "print(\"\\nThe population of the last generation: \")\n",
    "print(new_population)\n",
    "fitness = fitness_function(data, new_population)\n",
    "best_match_idx = np.where(fitness == np.max(fitness))\n",
    "print(\"Best solution: \", new_population[best_match_idx, :])\n",
    "\n",
    "# Chart\n",
    "plt.plot(best_outputs)\n",
    "plt.xlabel(\"Generation\")\n",
    "plt.ylabel(\"Best Fitness Score\")\n",
    "plt.show()"
   ]
  },
  {
   "cell_type": "markdown",
   "metadata": {
    "id": "dFMr8CYEWCt-"
   },
   "source": [
    "## Part 2: Solving Different Problems With the Same GA"
   ]
  },
  {
   "cell_type": "markdown",
   "metadata": {
    "id": "w3yEOc5qWt7S"
   },
   "source": [
    "Below is a reminder of the K-Means algorithm you implemented in HW1."
   ]
  },
  {
   "cell_type": "code",
   "execution_count": 6,
   "metadata": {
    "ExecuteTime": {
     "end_time": "2021-12-29T15:44:00.953422Z",
     "start_time": "2021-12-29T15:44:00.069811Z"
    }
   },
   "outputs": [
    {
     "data": {
      "image/png": "[encoded data removed]",
      "text/plain": [
       "<Figure size 432x288 with 1 Axes>"
      ]
     },
     "metadata": {
      "needs_background": "light"
     },
     "output_type": "display_data"
    }
   ],
   "source": [
    "from sklearn.cluster import KMeans\n",
    "from mpl_toolkits.mplot3d import Axes3D\n",
    "\n",
    "xlsx = pd.ExcelFile('EMR-Blood.xlsx')\n",
    "sheet1 = xlsx.parse(0)\n",
    "sheet1.set_index(\"Key\", inplace=True)\n",
    "\n",
    "variables1 = [\"K\",\"WBC\",\"Hgb\"]\n",
    "EMR3d1 = sheet1.loc[:, variables1].values\n",
    "\n",
    "y_pred_KMeans1 = KMeans(n_clusters=3).fit_predict(EMR3d1)\n",
    "\n",
    "def make_chart (chart_data, y_pred, labels):\n",
    "    fig = plt.figure()\n",
    "    ax = Axes3D(fig)\n",
    "    ax.set_xlabel(labels[0])\n",
    "    ax.set_ylabel(labels[1])\n",
    "    ax.set_zlabel(labels[2])\n",
    "    ax.scatter(chart_data[:,0], chart_data[:,1], chart_data[:,2], c=y_pred)\n",
    "\n",
    "make_chart(EMR3d1, y_pred_KMeans1, variables1)"
   ]
  },
  {
   "cell_type": "markdown",
   "metadata": {
    "id": "5g7YTK7LXB30"
   },
   "source": [
    "# Challenge 232 (_max score - 50 points_)\n",
    "Solve the same clustering problem with a GA **without assuming K** (no iteration over differnet Ks), by trying to minimize the intra-cluster distances and maximize the inter-cluster distances.\n",
    "\n",
    "**hint: You can build the population as the cluster assignment of each point or as cluster centers (consider coordinates boundaries)"
   ]
  },
  {
   "cell_type": "code",
   "execution_count": 7,
   "metadata": {
    "ExecuteTime": {
     "end_time": "2021-12-29T15:44:04.664218Z",
     "start_time": "2021-12-29T15:44:04.648178Z"
    },
    "id": "ppUTJRGnWxBh"
   },
   "outputs": [],
   "source": [
    "# Your code here"
   ]
  },
  {
   "cell_type": "markdown",
   "metadata": {},
   "source": [
    "## Make a population of matrices"
   ]
  },
  {
   "cell_type": "code",
   "execution_count": 14,
   "metadata": {
    "ExecuteTime": {
     "end_time": "2021-12-27T15:46:51.119925Z",
     "start_time": "2021-12-27T15:46:51.108990Z"
    }
   },
   "outputs": [],
   "source": [
    "population=list()\n",
    "population_size=100\n",
    "# Initialization with each matrix given a random number of centroids each with random coordinates\n",
    "for i in range(population_size):\n",
    "    a=np.random.normal(size=[np.random.randint(2,10),3])\n",
    "    a=a*EMR3d1.std(axis=0)+EMR3d1.mean(axis=0)\n",
    "    population.append(a)"
   ]
  },
  {
   "cell_type": "markdown",
   "metadata": {},
   "source": [
    "## Fitness Function"
   ]
  },
  {
   "cell_type": "code",
   "execution_count": 77,
   "metadata": {
    "ExecuteTime": {
     "end_time": "2021-12-29T19:44:57.926421Z",
     "start_time": "2021-12-29T19:44:57.918381Z"
    }
   },
   "outputs": [],
   "source": [
    "# Find nearest centroid\n",
    "from sklearn.metrics import pairwise_distances_argmin_min\n",
    "def fitness_centroids(centroids):\n",
    "    # First get the closest centroids to each point, then compute score\n",
    "    closest, min_distances = pairwise_distances_argmin_min(EMR3d1,centroids)\n",
    "    ch_score = ch(EMR3d1,closest)\n",
    "#     silhouette=silhouette_score(EMR3d1,closest)\n",
    "#     wscc_norm = np.min([1,np.square(min_distances).mean()/np.square(np.std(EMR3d1,axis=0)).sum()])\n",
    "#     return silhouette-wscc_norm\n",
    "    return ch_score\n",
    "def fitness_function(population):\n",
    "    # score all centroids in population\n",
    "    fitness_list=list()\n",
    "    for centroids in population:\n",
    "        try:\n",
    "            fitness_list.append(fitness_centroids(centroids))\n",
    "        except:\n",
    "            fitness_list.append(-1)\n",
    "    return fitness_list\n"
   ]
  },
  {
   "cell_type": "code",
   "execution_count": 78,
   "metadata": {
    "ExecuteTime": {
     "end_time": "2021-12-29T19:45:19.182177Z",
     "start_time": "2021-12-29T19:45:19.133646Z"
    }
   },
   "outputs": [
    {
     "data": {
      "text/plain": [
       "270.18342766174874"
      ]
     },
     "execution_count": 78,
     "metadata": {},
     "output_type": "execute_result"
    }
   ],
   "source": [
    "# See what the \"right\" solution gives us\n",
    "from sklearn.cluster import KMeans\n",
    "km = KMeans()\n",
    "km.fit(EMR3d1,3)\n",
    "fitness_centroids(km.cluster_centers_)"
   ]
  },
  {
   "cell_type": "markdown",
   "metadata": {},
   "source": [
    "## Biased selection\n"
   ]
  },
  {
   "cell_type": "code",
   "execution_count": 63,
   "metadata": {
    "ExecuteTime": {
     "end_time": "2021-12-29T16:00:03.447254Z",
     "start_time": "2021-12-29T16:00:03.431255Z"
    }
   },
   "outputs": [],
   "source": [
    "def biased_selection(pop, fitness, num_parents):\n",
    "#     probabilities = (np.array(fitness)+2)/np.sum(np.array(fitness)+2)\n",
    "#     choices = np.random.choice(np.arange(len(pop)),size=num_parents,p=probabilities,replace=False)\n",
    "#     return [pop[i] for i in choices]\n",
    "# Due to technical difficulties we are using the simple algorithm to choose top n chromosomes\n",
    "    sorted_fitness_args = np.argsort(fitness)\n",
    "    return [pop[i] for i in sorted_fitness_args[-num_parents:]]\n"
   ]
  },
  {
   "cell_type": "markdown",
   "metadata": {
    "ExecuteTime": {
     "end_time": "2021-12-26T07:21:00.244777Z",
     "start_time": "2021-12-26T07:21:00.236739Z"
    }
   },
   "source": [
    "## Recombination"
   ]
  },
  {
   "cell_type": "code",
   "execution_count": 79,
   "metadata": {
    "ExecuteTime": {
     "end_time": "2021-12-29T19:48:13.725603Z",
     "start_time": "2021-12-29T19:48:13.717604Z"
    }
   },
   "outputs": [],
   "source": [
    "# Allow recombination on different points in the two chromosomes\n",
    "# pop1,pop2=population[1],population[2]\n",
    "def recomb_2_chromosomes(pop1,pop2):\n",
    "    # Finds a different random cut on each of the two chromosomes, thus allowing the chromosomes to change shape\n",
    "    cut1 = np.random.randint(1,pop1.shape[0])\n",
    "    cut2 = np.random.randint(1,pop2.shape[0])\n",
    "    out1=np.vstack([pop1[:cut1,:],pop2[cut2:,:]])\n",
    "    out2=np.vstack([pop2[:cut2,:],pop1[cut1:,:]])\n",
    "    return out1,out2\n",
    "def recombination(parents, offspring_size):\n",
    "    offspring = list()\n",
    "    parent_list = parents\n",
    "    # randomly \"pop\" out a pair of chromosomes and recombine\n",
    "    for k in range(0,offspring_size,2):\n",
    "        parent1=parent_list.pop(np.random.randint(len(parents)))\n",
    "        parent2=parent_list.pop(np.random.randint(len(parents)))\n",
    "        out1,out2=recomb_2_chromosomes(parent1,parent2)\n",
    "        offspring.append(out1)\n",
    "        offspring.append(out2)\n",
    "    return offspring\n"
   ]
  },
  {
   "cell_type": "markdown",
   "metadata": {},
   "source": [
    "## Mutation"
   ]
  },
  {
   "cell_type": "code",
   "execution_count": 65,
   "metadata": {
    "ExecuteTime": {
     "end_time": "2021-12-29T16:00:11.932963Z",
     "start_time": "2021-12-29T16:00:11.924923Z"
    }
   },
   "outputs": [],
   "source": [
    "# mutation of points with random normal, *  std + mean, with probability p\n",
    "def mutation_chrom(one_offspring,p=.1):\n",
    "    return one_offspring+np.random.normal(size=one_offspring.shape)*EMR3d1.std(axis=0)*np.random.binomial(1,p,size=one_offspring.shape)\n",
    "\n",
    "def mutation(offspring_recombination,mutation_rate):\n",
    "    output=list()\n",
    "    for offspring in offspring_recombination:\n",
    "        output.append(mutation_chrom(offspring))\n",
    "    return output\n"
   ]
  },
  {
   "cell_type": "markdown",
   "metadata": {},
   "source": [
    "## Run"
   ]
  },
  {
   "cell_type": "code",
   "execution_count": 67,
   "metadata": {
    "ExecuteTime": {
     "end_time": "2021-12-29T16:00:16.184966Z",
     "start_time": "2021-12-29T16:00:13.627842Z"
    }
   },
   "outputs": [
    {
     "name": "stdout",
     "output_type": "stream",
     "text": [
      "\n",
      "Evolution:\n",
      "Generation =  0 \tBest fitness =  308.16502\n",
      "Generation =  0 \\Mean silhoutte =  113.81733\n",
      "Generation =  1 \tBest fitness =  308.16502\n",
      "Generation =  1 \\Mean silhoutte =  122.5285\n",
      "Generation =  2 \tBest fitness =  308.16502\n",
      "Generation =  2 \\Mean silhoutte =  125.40704\n",
      "Generation =  3 \tBest fitness =  308.16502\n",
      "Generation =  3 \\Mean silhoutte =  119.45769\n",
      "Generation =  4 \tBest fitness =  308.16502\n",
      "Generation =  4 \\Mean silhoutte =  120.11699\n",
      "Generation =  5 \tBest fitness =  308.16502\n",
      "Generation =  5 \\Mean silhoutte =  114.0453\n",
      "Generation =  6 \tBest fitness =  247.14217\n",
      "Generation =  6 \\Mean silhoutte =  105.09059\n",
      "Generation =  7 \tBest fitness =  308.16502\n",
      "Generation =  7 \\Mean silhoutte =  106.01148\n",
      "Generation =  8 \tBest fitness =  266.91295\n",
      "Generation =  8 \\Mean silhoutte =  105.89912\n",
      "Generation =  9 \tBest fitness =  308.16502\n",
      "Generation =  9 \\Mean silhoutte =  101.82991\n",
      "Generation =  10 \tBest fitness =  308.16502\n",
      "Generation =  10 \\Mean silhoutte =  100.74666\n",
      "Generation =  11 \tBest fitness =  308.16502\n",
      "Generation =  11 \\Mean silhoutte =  105.11918\n",
      "Generation =  12 \tBest fitness =  308.16502\n",
      "Generation =  12 \\Mean silhoutte =  105.58896\n",
      "Generation =  13 \tBest fitness =  236.71011\n",
      "Generation =  13 \\Mean silhoutte =  99.58376\n",
      "Generation =  14 \tBest fitness =  291.89531\n",
      "Generation =  14 \\Mean silhoutte =  97.35354\n",
      "Generation =  15 \tBest fitness =  267.9096\n",
      "Generation =  15 \\Mean silhoutte =  98.26918\n",
      "Generation =  16 \tBest fitness =  308.16502\n",
      "Generation =  16 \\Mean silhoutte =  98.90727\n",
      "Generation =  17 \tBest fitness =  308.16502\n",
      "Generation =  17 \\Mean silhoutte =  98.83877\n",
      "Generation =  18 \tBest fitness =  308.16502\n",
      "Generation =  18 \\Mean silhoutte =  97.60778\n",
      "Generation =  19 \tBest fitness =  308.16502\n",
      "Generation =  19 \\Mean silhoutte =  104.11335\n",
      "Best solution:  [[ 4.76183612  6.08475929 11.56332987]\n",
      " [ 2.43399268  7.27046052 15.29070974]\n",
      " [ 3.78659972  4.9234712  14.40161649]\n",
      " [ 5.37498861  5.84898765  9.92788636]]\n"
     ]
    },
    {
     "data": {
      "image/png": "[encoded data removed]",
      "text/plain": [
       "<Figure size 432x288 with 1 Axes>"
      ]
     },
     "metadata": {
      "needs_background": "light"
     },
     "output_type": "display_data"
    }
   ],
   "source": [
    "# GA Parameters\n",
    "number_of_solutions = 500\n",
    "number_of_parents = int(number_of_solutions/2)\n",
    "# population_size = (number_of_solutions,formula_degree) \n",
    "number_of_generations = 20\n",
    "mutation_rate=.2\n",
    "wait_time=7\n",
    "best_outputs = []\n",
    "\n",
    "# Genesis\n",
    "new_population=np.random.randint(10,size=[number_of_solutions,100])\n",
    "new_population=list()\n",
    "for i in range(number_of_solutions):\n",
    "    a=np.random.normal(size=[np.random.randint(2,10),3])\n",
    "    a=a*EMR3d1.std(axis=0)+EMR3d1.mean(axis=0)\n",
    "    new_population.append(a)\n",
    "fitness_list=[-np.inf]\n",
    "break_count=0\n",
    "# Evolution\n",
    "print (\"\\nEvolution:\")\n",
    "for generation in range(number_of_generations):\n",
    "    fitness = fitness_function(new_population )\n",
    "    best_fitness=round(np.max(fitness),5)\n",
    "    print(\"Generation = \", generation, \"\\tBest fitness = \", round(np.max(fitness),5))\n",
    "    print(\"Generation = \", generation, \"\\Mean fitness = \", round(np.mean(np.array(fitness)),5))\n",
    "    # best_outputs.append(np.max(np.sum(new_population*formula_degree, axis=1)))\n",
    "    best_outputs.append(round(np.max(fitness),5))\n",
    "# Now for the good part ;-) \n",
    "    parents = biased_selection(new_population, fitness, number_of_parents)\n",
    "    offspring_recombination=recombination(parents,len(parents))\n",
    "    offspring_mutation = mutation(offspring_recombination,mutation_rate)\n",
    "    new_population = parents+offspring_mutation\n",
    "\n",
    "    if best_fitness<=fitness_list[-1]:\n",
    "        break_count+=1\n",
    "    else:\n",
    "        break_count=0\n",
    "    if break_count>=wait_time:\n",
    "        print(\"early ending\",best_fitness,fitness_list[-1])\n",
    "        break\n",
    "    fitness_list.append(best_fitness)\n",
    "#     print(break_count)\n",
    "\n",
    "# Results\n",
    "# print(\"\\nThe population of the last generation: \")\n",
    "# print(new_population)\n",
    "fitness = fitness_function( new_population)\n",
    "for n,fitness in enumerate(fitness):\n",
    "    if fitness==np.max(fitness):\n",
    "        best_match_idx=n\n",
    "        break\n",
    "# best_match_idx = np.where(fitness == np.max(fitness))\n",
    "print(\"Best solution: \", new_population[best_match_idx])\n",
    "\n",
    "# Chart\n",
    "plt.plot(best_outputs)\n",
    "plt.xlabel(\"Generation\")\n",
    "plt.ylabel(\"Best Fitness Score\")\n",
    "plt.show()"
   ]
  },
  {
   "cell_type": "raw",
   "metadata": {
    "ExecuteTime": {
     "end_time": "2021-12-29T15:44:06.190480Z",
     "start_time": "2021-12-29T15:44:06.174477Z"
    }
   },
   "source": [
    "Alternate code to work with chromosomes of randomly assigned groups.  Not fully functional\n",
    "from scipy.spatial.distance import cdist\n",
    "\n",
    "def fitness_function(population,data=EMR3d1):\n",
    "    wwsc = 0 \n",
    "    for i in range(100):\n",
    "        data_points = (data[population[0]==i])\n",
    "        if len(data_points)>0:\n",
    "            centroid=np.mean(data_points,axis=0)\n",
    "            distances=np.square(centroid-data_points).sum()\n",
    "            wwsc+=distances\n",
    "    return wwsc\n",
    "\n",
    "def fitness(data,population):\n",
    "    centroids = []\n",
    "    for idx in range(self.k):\n",
    "        #Updating Centroids by taking mean of Cluster it belongs to\n",
    "        temp_cent = X[points==idx].mean(axis=0) \n",
    "        centroids.append(temp_cent)\n",
    "\n",
    "    centroids = np.vstack(centroids) #Updated Centroids \n",
    "\n",
    "    distances = cdist(X, centroids ,'euclidean')\n",
    "    points = np.array([np.argmin(i) for i in distances])\n",
    "    wcss = np.square(X-centroids[points]).sum() \n",
    "\n",
    "\n",
    "from sklearn.metrics import silhouette_score\n",
    "def fitness_function(population,data=EMR3d1):\n",
    "    fitness_list=list()\n",
    "    for j in range(population.shape[0]):\n",
    "#         wwsc = 0 \n",
    "#         for i in range(100):\n",
    "#             data_points = data[population[j]==i]\n",
    "#             if len(data_points)>0:\n",
    "#                 centroid=np.mean(data_points,axis=0)\n",
    "#                 distances=np.square(centroid-data_points).sum()\n",
    "#                 wwsc+=distances\n",
    "#         fitness_list.append(1/wwsc)\n",
    "        fitness_list.append(silhouette_score(data,population[j]))\n",
    "    return fitness_list\n",
    "\n",
    "def biased_selection(pop, fitness, num_parents):\n",
    "    probabilities = (np.array(fitness)+1)/np.sum(np.array(fitness)+1)\n",
    "    return pop[np.random.choice(np.arange(pop.shape[0]),size=num_parents,p=probabilities,replace=False)]\n",
    "    # parents = np.empty((num_parents, pop.shape[1]))\n",
    "    # for parent_num in range(num_parents):\n",
    "    #     max_fitness_idx = np.where(fitness == np.max(fitness))\n",
    "    #     max_fitness_idx = max_fitness_idx[0][0]\n",
    "    #     parents[parent_num, :] = pop[max_fitness_idx, :]\n",
    "    #     fitness[max_fitness_idx] = -99999999999\n",
    "    # return parents\n",
    "\n",
    "def recombination(parents, offspring_size):\n",
    "    offspring = np.empty(offspring_size)\n",
    "    recombination_point = np.random.randint(1,offspring_size[1])\n",
    "    parent_list = parents.tolist()\n",
    "    for k in range(0,offspring_size[0],2):\n",
    "#         print(len(parent_list))\n",
    "        parent1=parent_list.pop(np.random.randint(len(parent_list)))\n",
    "        parent2=parent_list.pop(np.random.randint(len(parent_list)))\n",
    "        offspring[k, 0:recombination_point] = parent1[:recombination_point]\n",
    "        offspring[k, recombination_point:] = parent2[recombination_point:]\n",
    "        offspring[k+1, 0:recombination_point] = parent2[:recombination_point]\n",
    "        offspring[k+1, recombination_point:] = parent1[recombination_point:]\n",
    "    return offspring\n",
    "\n",
    "def mutation(offspring_recombination,mutation_rate=0.5):\n",
    "    min_scale=offspring_recombination.min()\n",
    "    max_scale=offspring_recombination.max()\n",
    "    for sample in offspring_recombination:\n",
    "        if ((len(np.unique(sample))>2) & (np.random.binomial(1,mutation_rate)==1)):\n",
    "            \n",
    "            sample[sample==np.random.choice(sample)]=np.random.choice(sample)\n",
    "#         for idx in range(offspring_recombination.shape[0]):\n",
    "#         if np.random.binomial(1,mutation_rate)==1:\n",
    "#             random_value = np.random.randint( 10,size=1 )\n",
    "#             random_index = np.random.randint(0,offspring_recombination.shape[1],1)\n",
    "#             offspring_recombination[idx, random_index] =  random_value\n",
    "    return offspring_recombination\n",
    "\n",
    "\n",
    "### GA application for fitting time series data\n",
    "\n",
    "# GA Parameters\n",
    "formula_degree = 100\n",
    "number_of_solutions = 500\n",
    "number_of_parents = int(number_of_solutions/2)\n",
    "population_size = (number_of_solutions,formula_degree) \n",
    "number_of_generations = 20\n",
    "mutation_rate=.2\n",
    "wait_time=7\n",
    "best_outputs = []\n",
    "\n",
    "# Genesis\n",
    "new_population=np.random.randint(10,size=[number_of_solutions,100])\n",
    "\n",
    "# print(\"The population of the first generation: \")\n",
    "# print(new_population)\n",
    "fitness_list=[np.inf]\n",
    "break_count=0\n",
    "# Evolution\n",
    "print (\"\\nEvolution:\")\n",
    "for generation in range(number_of_generations):\n",
    "    fitness = fitness_function(new_population,data )\n",
    "    best_fitness=round(np.max(fitness),5)\n",
    "    print(\"Generation = \", generation, \"\\tBest fitness = \", round(np.max(fitness),5))\n",
    "    print(\"Generation = \", generation, \"\\Mean silhoutte = \", round(np.mean(np.array(fitness)),5))\n",
    "    # best_outputs.append(np.max(np.sum(new_population*formula_degree, axis=1)))\n",
    "    best_outputs.append(round(np.max(fitness),5))\n",
    "    parents = biased_selection(new_population, fitness, number_of_parents)\n",
    "#     offspring_recombination = recombination(parents, offspring_size=(population_size[0]-parents.shape[0], formula_degree))\n",
    "    offspring_recombination=parents.copy()\n",
    "    offspring_mutation = mutation(offspring_recombination,mutation_rate)\n",
    "    new_population[0:parents.shape[0], :] = parents\n",
    "    new_population[parents.shape[0]:, :] = offspring_mutation\n",
    "    if best_fitness<=fitness_list[-1]:\n",
    "        break_count+=1\n",
    "    else:\n",
    "        break_count=0\n",
    "    if break_count>=wait_time:\n",
    "        print(\"early ending\",best_fitness,fitness_list[-1])\n",
    "        break\n",
    "    fitness_list.append(best_fitness)\n",
    "#     print(break_count)\n",
    "\n",
    "# Results\n",
    "print(\"\\nThe population of the last generation: \")\n",
    "print(new_population)\n",
    "fitness = fitness_function( new_population,data)\n",
    "best_match_idx = np.where(fitness == np.max(fitness))\n",
    "print(\"Best solution: \", new_population[best_match_idx, :])\n",
    "\n",
    "# Chart\n",
    "plt.plot(best_outputs)\n",
    "plt.xlabel(\"Generation\")\n",
    "plt.ylabel(\"Best Fitness Score\")\n",
    "plt.show()"
   ]
  }
 ],
 "metadata": {
  "colab": {
   "collapsed_sections": [],
   "name": "GA_Notebook.ipynb",
   "provenance": []
  },
  "kernelspec": {
   "display_name": "Python 3",
   "language": "python",
   "name": "python3"
  },
  "language_info": {
   "codemirror_mode": {
    "name": "ipython",
    "version": 3
   },
   "file_extension": ".py",
   "mimetype": "text/x-python",
   "name": "python",
   "nbconvert_exporter": "python",
   "pygments_lexer": "ipython3",
   "version": "3.7.4"
  },
  "toc": {
   "base_numbering": 1,
   "nav_menu": {},
   "number_sections": true,
   "sideBar": true,
   "skip_h1_title": false,
   "title_cell": "Table of Contents",
   "title_sidebar": "Contents",
   "toc_cell": false,
   "toc_position": {},
   "toc_section_display": true,
   "toc_window_display": false
  }
 },
 "nbformat": 4,
 "nbformat_minor": 1
}
