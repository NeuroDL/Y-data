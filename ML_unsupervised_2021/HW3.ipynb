{
 "cells": [
  {
   "cell_type": "markdown",
   "metadata": {
    "id": "yCGQrsG-NUqe"
   },
   "source": [
    "# Dimensionality reduction"
   ]
  },
  {
   "cell_type": "markdown",
   "metadata": {
    "id": "7S1fLhWrNUqo"
   },
   "source": [
    "In this task you will practice dimensionality reduction.\n",
    "Use code cells to answer the Tasks and Markdown cells for the Questions (Q's)."
   ]
  },
  {
   "cell_type": "code",
   "execution_count": 1,
   "metadata": {
    "ExecuteTime": {
     "end_time": "2021-12-19T09:06:24.398188Z",
     "start_time": "2021-12-19T09:06:22.564945Z"
    },
    "_cell_guid": "b1076dfc-b9ad-4769-8c92-a6c4dae69d19",
    "_uuid": "8f2839f25d086af736a60e9eeb907d3b93b6e0e5",
    "id": "0WunJoeBNUqp"
   },
   "outputs": [],
   "source": [
    "import sklearn\n",
    "from sklearn.tree import DecisionTreeClassifier\n",
    "from sklearn.model_selection import train_test_split\n",
    "from sklearn.datasets import load_breast_cancer\n",
    "import pandas as pd\n",
    "from sklearn.metrics import accuracy_score\n",
    "from sklearn.ensemble import RandomForestClassifier\n",
    "from sklearn.decomposition import PCA\n",
    "from sklearn.datasets import load_wine\n",
    "from sklearn.linear_model import LogisticRegression\n"
   ]
  },
  {
   "cell_type": "markdown",
   "metadata": {
    "id": "wDU0D_i4NUqq"
   },
   "source": [
    "# Load data"
   ]
  },
  {
   "cell_type": "code",
   "execution_count": 2,
   "metadata": {
    "ExecuteTime": {
     "end_time": "2021-12-19T09:06:26.047218Z",
     "start_time": "2021-12-19T09:06:26.001342Z"
    },
    "id": "gz0rJb-RNUqr"
   },
   "outputs": [],
   "source": [
    "(X, y) = load_wine(return_X_y=True)\n",
    "\n",
    "# split X into training and testing sets\n",
    "X_train, X_test, y_train, y_test = train_test_split(X, y, test_size=0.4, random_state=0,stratify=y)"
   ]
  },
  {
   "cell_type": "markdown",
   "metadata": {
    "id": "Wj1Qmk5TNUqs"
   },
   "source": [
    "Lets take a quick look at the data:\n",
    "\n",
    "You can see details and metadata here, including the meaning of features:\n",
    "https://scikit-learn.org/stable/datasets/index.html#wine-dataset"
   ]
  },
  {
   "cell_type": "code",
   "execution_count": 3,
   "metadata": {
    "ExecuteTime": {
     "end_time": "2021-12-19T09:06:39.543652Z",
     "start_time": "2021-12-19T09:06:39.496754Z"
    },
    "id": "N4mmBloLNUqs"
   },
   "outputs": [
    {
     "data": {
      "text/html": [
       "<div>\n",
       "<style scoped>\n",
       "    .dataframe tbody tr th:only-of-type {\n",
       "        vertical-align: middle;\n",
       "    }\n",
       "\n",
       "    .dataframe tbody tr th {\n",
       "        vertical-align: top;\n",
       "    }\n",
       "\n",
       "    .dataframe thead th {\n",
       "        text-align: right;\n",
       "    }\n",
       "</style>\n",
       "<table border=\"1\" class=\"dataframe\">\n",
       "  <thead>\n",
       "    <tr style=\"text-align: right;\">\n",
       "      <th></th>\n",
       "      <th>0</th>\n",
       "      <th>1</th>\n",
       "      <th>2</th>\n",
       "      <th>3</th>\n",
       "      <th>4</th>\n",
       "      <th>5</th>\n",
       "      <th>6</th>\n",
       "      <th>7</th>\n",
       "      <th>8</th>\n",
       "      <th>9</th>\n",
       "      <th>10</th>\n",
       "      <th>11</th>\n",
       "      <th>12</th>\n",
       "    </tr>\n",
       "  </thead>\n",
       "  <tbody>\n",
       "    <tr>\n",
       "      <th>count</th>\n",
       "      <td>106.000000</td>\n",
       "      <td>106.000000</td>\n",
       "      <td>106.000000</td>\n",
       "      <td>106.000000</td>\n",
       "      <td>106.000000</td>\n",
       "      <td>106.000000</td>\n",
       "      <td>106.000000</td>\n",
       "      <td>106.000000</td>\n",
       "      <td>106.000000</td>\n",
       "      <td>106.000000</td>\n",
       "      <td>106.000000</td>\n",
       "      <td>106.000000</td>\n",
       "      <td>106.000000</td>\n",
       "    </tr>\n",
       "    <tr>\n",
       "      <th>mean</th>\n",
       "      <td>13.031792</td>\n",
       "      <td>2.332642</td>\n",
       "      <td>2.367170</td>\n",
       "      <td>19.701887</td>\n",
       "      <td>98.556604</td>\n",
       "      <td>2.282170</td>\n",
       "      <td>1.981509</td>\n",
       "      <td>0.375755</td>\n",
       "      <td>1.620849</td>\n",
       "      <td>5.150472</td>\n",
       "      <td>0.951321</td>\n",
       "      <td>2.617830</td>\n",
       "      <td>756.915094</td>\n",
       "    </tr>\n",
       "    <tr>\n",
       "      <th>std</th>\n",
       "      <td>0.821117</td>\n",
       "      <td>1.126702</td>\n",
       "      <td>0.271797</td>\n",
       "      <td>3.159023</td>\n",
       "      <td>13.749514</td>\n",
       "      <td>0.573592</td>\n",
       "      <td>1.013492</td>\n",
       "      <td>0.124869</td>\n",
       "      <td>0.592705</td>\n",
       "      <td>2.443026</td>\n",
       "      <td>0.216509</td>\n",
       "      <td>0.680315</td>\n",
       "      <td>326.825135</td>\n",
       "    </tr>\n",
       "    <tr>\n",
       "      <th>min</th>\n",
       "      <td>11.460000</td>\n",
       "      <td>0.890000</td>\n",
       "      <td>1.700000</td>\n",
       "      <td>12.000000</td>\n",
       "      <td>70.000000</td>\n",
       "      <td>1.250000</td>\n",
       "      <td>0.470000</td>\n",
       "      <td>0.130000</td>\n",
       "      <td>0.420000</td>\n",
       "      <td>1.740000</td>\n",
       "      <td>0.480000</td>\n",
       "      <td>1.270000</td>\n",
       "      <td>278.000000</td>\n",
       "    </tr>\n",
       "    <tr>\n",
       "      <th>25%</th>\n",
       "      <td>12.332500</td>\n",
       "      <td>1.632500</td>\n",
       "      <td>2.210000</td>\n",
       "      <td>17.500000</td>\n",
       "      <td>88.000000</td>\n",
       "      <td>1.800000</td>\n",
       "      <td>1.017500</td>\n",
       "      <td>0.270000</td>\n",
       "      <td>1.252500</td>\n",
       "      <td>3.180000</td>\n",
       "      <td>0.802500</td>\n",
       "      <td>1.972500</td>\n",
       "      <td>510.000000</td>\n",
       "    </tr>\n",
       "    <tr>\n",
       "      <th>50%</th>\n",
       "      <td>13.135000</td>\n",
       "      <td>1.845000</td>\n",
       "      <td>2.350000</td>\n",
       "      <td>19.500000</td>\n",
       "      <td>97.000000</td>\n",
       "      <td>2.210000</td>\n",
       "      <td>2.035000</td>\n",
       "      <td>0.360000</td>\n",
       "      <td>1.545000</td>\n",
       "      <td>4.800000</td>\n",
       "      <td>0.960000</td>\n",
       "      <td>2.795000</td>\n",
       "      <td>675.000000</td>\n",
       "    </tr>\n",
       "    <tr>\n",
       "      <th>75%</th>\n",
       "      <td>13.677500</td>\n",
       "      <td>3.135000</td>\n",
       "      <td>2.580000</td>\n",
       "      <td>21.575000</td>\n",
       "      <td>105.750000</td>\n",
       "      <td>2.787500</td>\n",
       "      <td>2.855000</td>\n",
       "      <td>0.477500</td>\n",
       "      <td>1.970000</td>\n",
       "      <td>6.200000</td>\n",
       "      <td>1.097500</td>\n",
       "      <td>3.167500</td>\n",
       "      <td>1023.750000</td>\n",
       "    </tr>\n",
       "    <tr>\n",
       "      <th>max</th>\n",
       "      <td>14.830000</td>\n",
       "      <td>5.650000</td>\n",
       "      <td>3.230000</td>\n",
       "      <td>28.500000</td>\n",
       "      <td>151.000000</td>\n",
       "      <td>3.380000</td>\n",
       "      <td>5.080000</td>\n",
       "      <td>0.630000</td>\n",
       "      <td>3.580000</td>\n",
       "      <td>13.000000</td>\n",
       "      <td>1.420000</td>\n",
       "      <td>4.000000</td>\n",
       "      <td>1680.000000</td>\n",
       "    </tr>\n",
       "  </tbody>\n",
       "</table>\n",
       "</div>"
      ],
      "text/plain": [
       "               0           1           2           3           4           5   \\\n",
       "count  106.000000  106.000000  106.000000  106.000000  106.000000  106.000000   \n",
       "mean    13.031792    2.332642    2.367170   19.701887   98.556604    2.282170   \n",
       "std      0.821117    1.126702    0.271797    3.159023   13.749514    0.573592   \n",
       "min     11.460000    0.890000    1.700000   12.000000   70.000000    1.250000   \n",
       "25%     12.332500    1.632500    2.210000   17.500000   88.000000    1.800000   \n",
       "50%     13.135000    1.845000    2.350000   19.500000   97.000000    2.210000   \n",
       "75%     13.677500    3.135000    2.580000   21.575000  105.750000    2.787500   \n",
       "max     14.830000    5.650000    3.230000   28.500000  151.000000    3.380000   \n",
       "\n",
       "               6           7           8           9           10          11  \\\n",
       "count  106.000000  106.000000  106.000000  106.000000  106.000000  106.000000   \n",
       "mean     1.981509    0.375755    1.620849    5.150472    0.951321    2.617830   \n",
       "std      1.013492    0.124869    0.592705    2.443026    0.216509    0.680315   \n",
       "min      0.470000    0.130000    0.420000    1.740000    0.480000    1.270000   \n",
       "25%      1.017500    0.270000    1.252500    3.180000    0.802500    1.972500   \n",
       "50%      2.035000    0.360000    1.545000    4.800000    0.960000    2.795000   \n",
       "75%      2.855000    0.477500    1.970000    6.200000    1.097500    3.167500   \n",
       "max      5.080000    0.630000    3.580000   13.000000    1.420000    4.000000   \n",
       "\n",
       "                12  \n",
       "count   106.000000  \n",
       "mean    756.915094  \n",
       "std     326.825135  \n",
       "min     278.000000  \n",
       "25%     510.000000  \n",
       "50%     675.000000  \n",
       "75%    1023.750000  \n",
       "max    1680.000000  "
      ]
     },
     "execution_count": 3,
     "metadata": {},
     "output_type": "execute_result"
    }
   ],
   "source": [
    "pd.DataFrame(X_train).describe()"
   ]
  },
  {
   "cell_type": "code",
   "execution_count": null,
   "metadata": {
    "id": "r5a_r0IAN28_"
   },
   "outputs": [],
   "source": []
  },
  {
   "cell_type": "markdown",
   "metadata": {},
   "source": [
    "Statement: if you perform PCA and maintain all of the principal components, no data is discarded and you did not perform dimensionality reduction.\n",
    "\n",
    "**Q1 (_max score - 10 points_)** : Do you agree? Explain your answer"
   ]
  },
  {
   "cell_type": "markdown",
   "metadata": {
    "id": "JfcbR21OOctW"
   },
   "source": [
    "Answer:\n",
    "The number of principal components is the same as the number of dimensions, so there is no dimensionality reduction if we keep all components.  The data is changed, so there will be information lost, and the original variance can't be recovered"
   ]
  },
  {
   "cell_type": "markdown",
   "metadata": {
    "id": "Fz61Bry_NUqt"
   },
   "source": [
    "# PCA + Random forest"
   ]
  },
  {
   "cell_type": "markdown",
   "metadata": {},
   "source": [
    "**Task 1 (_max score - 10 points_)**: Use X_train, y_train to train a random forest with the deafult parameters. You can read more about the algorithm in SKlearn's documentation.\n",
    "Evaulate the algorithm using accuracy score and X_test, y_test."
   ]
  },
  {
   "cell_type": "code",
   "execution_count": null,
   "metadata": {
    "id": "2n2dLYs7OamM"
   },
   "outputs": [],
   "source": []
  },
  {
   "cell_type": "markdown",
   "metadata": {
    "id": "xdMTkzsaNUqu"
   },
   "source": [
    "**Task 2 (_max score - 10 points_)**: Now do the same, but use PCA.\n",
    "\n",
    "You are asked to use the **maximal number** of componenets for PCA.\n",
    "Print the accuracy of Random forest + PCA.\n",
    "\n",
    "Remeber, you should center and scale your data before you apply PCA."
   ]
  },
  {
   "cell_type": "code",
   "execution_count": null,
   "metadata": {
    "id": "eJsfOOsbPLKp"
   },
   "outputs": [],
   "source": []
  },
  {
   "cell_type": "markdown",
   "metadata": {
    "id": "PxJzGq8jNUqu"
   },
   "source": [
    "**Q2 (_max score - 5 points_)**: By applying PCA, did random forest's results improved\\stayed the same\\got worse? "
   ]
  },
  {
   "cell_type": "markdown",
   "metadata": {
    "id": "7_takc1QPqJr"
   },
   "source": [
    "Answer:"
   ]
  },
  {
   "cell_type": "markdown",
   "metadata": {
    "id": "SYrmAR9_NUqv"
   },
   "source": [
    "# PCA + logistic regression"
   ]
  },
  {
   "cell_type": "markdown",
   "metadata": {},
   "source": [
    "**Task 3 (_max score - 5 points_)**: repeat task 1 with logistic regression."
   ]
  },
  {
   "cell_type": "code",
   "execution_count": null,
   "metadata": {
    "id": "VfxnEWAIQEhW"
   },
   "outputs": [],
   "source": []
  },
  {
   "cell_type": "markdown",
   "metadata": {},
   "source": [
    "**Task 4 (_max score - 5 points_)**: repeast task 2 with logistic regression."
   ]
  },
  {
   "cell_type": "code",
   "execution_count": null,
   "metadata": {
    "id": "CuG83_X3QJLT"
   },
   "outputs": [],
   "source": []
  },
  {
   "cell_type": "markdown",
   "metadata": {},
   "source": [
    "**Q3 (_max score - 5 points_)**: By applying PCA, Did linear regression results improved\\stayed the same\\got worse?"
   ]
  },
  {
   "cell_type": "markdown",
   "metadata": {
    "id": "ZxjPDCFIQ7DI"
   },
   "source": [
    "Answer:"
   ]
  },
  {
   "cell_type": "markdown",
   "metadata": {},
   "source": [
    "**Q4 (_max score - 10 points)**: Explain the differences between answers to Q2 and Q3. "
   ]
  },
  {
   "cell_type": "markdown",
   "metadata": {
    "id": "CnJ2GYtJRDd3"
   },
   "source": [
    "Answer:\n",
    "\n",
    "**PCA with all components included is a linear transformation which means that we can lose non-linear information.  In the case of random forest, the model is sensitive to non-linear information and when that is removed the performance declines.  Logistic regression, however, is a linear model, and is not impacted by the removal of non-linear information.\n",
    "Logistic regression is improved by PCA transformation because it can allow for a linear separation**"
   ]
  },
  {
   "cell_type": "markdown",
   "metadata": {},
   "source": [
    "**Task 5 (_max score - 20 points_)** Finding the optimal number of components:\n",
    "\n",
    "Your team decided that you must compress the data and PCA was selected. However, you are not sure how many principal components to have. Implemented the following techniques (should work without human intervention):\n",
    "\n",
    "1. Keeping at least 50% of the variance with minimum number of components\n",
    "2. Keeping above average components only\n",
    "3. The number of componets which maximize the accuracy of Logistic regression on the test set. Components which improve the accuracy by less than 0.001 are not considered as contributing"
   ]
  },
  {
   "cell_type": "markdown",
   "metadata": {
    "id": "tM_yHeDmkBRp"
   },
   "source": [
    "# Eigenfaces\n",
    "\n",
    "The approach of using eigenfaces for recognition was developed by Sirovich and Kirby (1987) and used by Matthew Turk and Alex Pentland in face classification. The eigenfaces themselves form a basis set of all images used to construct the covariance matrix. Wikipedia: https://en.wikipedia.org/wiki/Eigenface\n",
    "\n",
    "The following code illustrates what each eigenface stands for. Follow the code and the comments:"
   ]
  },
  {
   "cell_type": "code",
   "execution_count": null,
   "metadata": {
    "id": "4SF1qPL7kDf9"
   },
   "outputs": [],
   "source": [
    "from time import time\n",
    "import logging\n",
    "import matplotlib.pyplot as plt\n",
    "import numpy as np\n",
    "\n",
    "from sklearn.model_selection import train_test_split\n",
    "from sklearn.datasets import fetch_lfw_people\n",
    "from sklearn.decomposition import PCA\n",
    "from sklearn.svm import SVC\n",
    "\n",
    "\n",
    "# #############################################################################\n",
    "# Download the data, if not already on disk and load it as numpy arrays\n",
    "\n",
    "lfw_people = fetch_lfw_people(min_faces_per_person=70, resize=0.4)\n",
    "\n",
    "# introspect the images arrays to find the shapes (for plotting)\n",
    "n_samples, h, w = lfw_people.images.shape\n",
    "\n",
    "# for machine learning we use the 2 data directly (as relative pixel\n",
    "# positions info is ignored by this model)\n",
    "X = lfw_people.data\n",
    "n_features = X.shape[1]\n",
    "\n",
    "print(\"Total dataset size:\")\n",
    "print(\"n_samples: %d\" % n_samples)\n",
    "print(\"n_features: %d\" % n_features)\n",
    "\n",
    "\n",
    "\n",
    "# #############################################################################\n",
    "# Compute a PCA (eigenfaces) on the face dataset (treated as unlabeled\n",
    "# dataset): unsupervised feature extraction / dimensionality reduction\n",
    "n_components = 150\n",
    "\n",
    "print(\"Extracting the top %d eigenfaces from %d faces\" % (n_components, X.shape[0]))\n",
    "pca = PCA(n_components=n_components, svd_solver='randomized',\n",
    "          whiten=True).fit(X)\n",
    "\n",
    "eigenfaces = pca.components_.reshape((n_components, h, w))\n",
    "\n",
    "# Helper function\n",
    "def plot_gallery(images, titles, h, w, n_row=3, n_col=4):\n",
    "    \"\"\"Helper function to plot a gallery of portraits\"\"\"\n",
    "    plt.figure(figsize=(1.8 * n_col, 2.4 * n_row))\n",
    "    plt.subplots_adjust(bottom=0, left=.01, right=.99, top=.90, hspace=.35)\n",
    "    for i in range(n_row * n_col):\n",
    "        plt.subplot(n_row, n_col, i + 1)\n",
    "        plt.imshow(images[i].reshape((h, w)), cmap=plt.cm.gray)\n",
    "        plt.title(titles[i], size=12)\n",
    "        plt.xticks(())\n",
    "        plt.yticks(())\n",
    "\n",
    "#############################################################################\n",
    "# plot the gallery of the most significative eigenfaces\n",
    "eigenface_titles = [\"eigenface {} - {:3.2f}% var\".format(i, pca.explained_variance_ratio_[i]) for i in range(eigenfaces.shape[0])]\n",
    "plot_gallery(eigenfaces, eigenface_titles, h, w, n_row=5, n_col=5)"
   ]
  },
  {
   "cell_type": "markdown",
   "metadata": {},
   "source": [
    "**Task 6 (_max score - 20 points_)**: Plot the reconstruction of an image with different number of principal components used (1 to 30 components). However, for effiency, you are not allowed to refit the PCA object.\n",
    "\n",
    "The resulting plot will allow us to understand the contribution of each principal component.\n",
    "Check the result for different images"
   ]
  },
  {
   "cell_type": "code",
   "execution_count": null,
   "metadata": {
    "id": "u0OjtkUPADhb"
   },
   "outputs": [],
   "source": [
    "# For a specific image, see how adding PCs affect the reconstruction\n",
    "pic = X[300] # choose any arbitrary image\n",
    "numPCs = 30\n",
    "\n",
    "plt.figure(figsize=(20,10))\n",
    "plt.figure(figsize=(1.8 * numPCs/5, 2.4 * 5))\n",
    "for i in range(1, numPCs+1):\n",
    "  ### Take the first i principal components\n",
    "  # Your code here\n",
    "\n",
    "  ### Reduce the dimensionality of the image\n",
    "  # Your code here\n",
    "\n",
    "  ### Reconstruct the image to the original dimension\n",
    "  # Your code here\n",
    "\n",
    "  ### Plot the image\n",
    "\n",
    "  # You are not allowed to refit the pca object\n",
    "  # Hint: take a look at sklearn's PCA transform and inverse_transform implementation\n",
    "  \n",
    "plt.show()"
   ]
  }
 ],
 "metadata": {
  "colab": {
   "collapsed_sections": [],
   "name": "HW3.ipynb",
   "provenance": []
  },
  "kernel_info": {
   "name": "python3"
  },
  "kernelspec": {
   "display_name": "Python 3",
   "language": "python",
   "name": "python3"
  },
  "language_info": {
   "codemirror_mode": {
    "name": "ipython",
    "version": 3
   },
   "file_extension": ".py",
   "mimetype": "text/x-python",
   "name": "python",
   "nbconvert_exporter": "python",
   "pygments_lexer": "ipython3",
   "version": "3.7.4"
  },
  "notify_time": "5",
  "nteract": {
   "version": "0.28.0"
  },
  "toc": {
   "base_numbering": 1,
   "nav_menu": {},
   "number_sections": true,
   "sideBar": true,
   "skip_h1_title": false,
   "title_cell": "Table of Contents",
   "title_sidebar": "Contents",
   "toc_cell": false,
   "toc_position": {},
   "toc_section_display": true,
   "toc_window_display": false
  }
 },
 "nbformat": 4,
 "nbformat_minor": 4
}
