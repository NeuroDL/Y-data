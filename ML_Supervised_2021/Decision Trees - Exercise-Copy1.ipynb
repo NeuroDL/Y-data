{
 "cells": [
  {
   "cell_type": "code",
   "execution_count": 1,
   "metadata": {
    "ExecuteTime": {
     "end_time": "2022-01-04T17:42:57.672586Z",
     "start_time": "2022-01-04T17:42:57.278442Z"
    }
   },
   "outputs": [],
   "source": [
    "import numpy as np\n",
    "import pandas as pd"
   ]
  },
  {
   "cell_type": "code",
   "execution_count": 2,
   "metadata": {
    "ExecuteTime": {
     "end_time": "2022-01-04T17:42:58.622690Z",
     "start_time": "2022-01-04T17:42:57.672586Z"
    }
   },
   "outputs": [],
   "source": [
    "from sklearn.datasets import load_boston\n",
    "X,y = load_boston(return_X_y=True)"
   ]
  },
  {
   "cell_type": "code",
   "execution_count": 27,
   "metadata": {
    "ExecuteTime": {
     "end_time": "2022-01-04T17:55:39.618210Z",
     "start_time": "2022-01-04T17:55:39.504841Z"
    },
    "colab": {},
    "colab_type": "code",
    "id": "QA54r4DiQDkM"
   },
   "outputs": [
    {
     "data": {
      "text/plain": [
       "22.693442622950823"
      ]
     },
     "execution_count": 27,
     "metadata": {},
     "output_type": "execute_result"
    }
   ],
   "source": [
    "class DecisionTree():\n",
    "    def __init__(self, X, y, n_trees, sample_sz, min_leaf):\n",
    "        self.X,self.y,self.n_trees,self.sample_sz,self.min_leaf=X,y, n_trees, sample_sz, min_leaf\n",
    "        self.lol=[]\n",
    "    @staticmethod\n",
    "    def sse(samples):\n",
    "        return np.var(samples)*len(samples)\n",
    "    \n",
    "    def make_a_split(self,sampleX,sampleY,min_leaf,sample_sz):\n",
    "        cutoffs=list()\n",
    "        for feature in sampleX.T:   \n",
    "            unique_cutoffs=np.unique(feature)[:-1]\n",
    "            cutoffs.append(np.random.choice(unique_cutoffs,replace=False,size=min(sample_sz,len(unique_cutoffs))))\n",
    "        variances = np.ones((sampleX.shape[1],sample_sz))*self.sse(sampleY)\n",
    "        for feature,cutoff_array in enumerate(cutoffs):\n",
    "            for sample,cutoff in enumerate(cutoff_array):\n",
    "                variances[feature,sample]=np.nansum([self.sse(sampleY[sampleX[:,feature]<=cutoff]),self.sse(sampleY[sampleX[:,feature]>cutoff])])\n",
    "                np.nansum([self.sse(sampleY[sampleX[:,feature]<=cutoff]),self.sse(sampleY[sampleX[:,feature]>cutoff])])\n",
    "        feature,cutoff_num = np.unravel_index(variances.argmin(), variances.shape)\n",
    "        cutoff_point = cutoffs[feature][cutoff_num]\n",
    "        f_c = [feature,cutoff_point]\n",
    "        index1=sampleX[:,feature]>cutoff_point\n",
    "        index2=sampleX[:,feature]<=cutoff_point\n",
    "        X1,X2,y1,y2 = sampleX[index1,:],sampleX[index2,:],sampleY[index1],sampleY[index2]\n",
    "        return X1,y1,X2,y2,f_c\n",
    "    def split_recursive(self,X,y,sample_sz,min_leaf,n_trees,coords=[],list_of_cutoffs=[]):\n",
    "        X1,y1,X2,y2,f_c=self.make_a_split(X,y,min_leaf,sample_sz)\n",
    "        if len(y1)>min_leaf and len(list_of_cutoffs)<(n_trees-1):\n",
    "            self.split_recursive(X1,y1,sample_sz,min_leaf,n_trees,coords=coords+['a'],list_of_cutoffs=list_of_cutoffs+[f_c])\n",
    "        else:\n",
    "            self.lol.append([list_of_cutoffs+[f_c],coords+['a'],y1.mean()])\n",
    "        if len(y2)>min_leaf and len(list_of_cutoffs)<(n_trees-1):\n",
    "            self.split_recursive(X2,y2,sample_sz,min_leaf,n_trees,coords=coords+['b'],list_of_cutoffs=list_of_cutoffs+[f_c])\n",
    "        else:\n",
    "            self.lol.append([list_of_cutoffs+[f_c],coords+['b'],y2.mean()])\n",
    "    def fit(self):\n",
    "        print(self.X)\n",
    "        self.split_recursive(self,X,self.y,self.sample_sz,self.min_leaf,self.n_trees)\n",
    "    def predict(self,x2check):\n",
    "        for i in self.lol:\n",
    "            stop=False\n",
    "            for n,pair in enumerate(i[0]):\n",
    "                if stop==False:\n",
    "                    if (x2check[pair[0]]>pair[1] and i[1][n]==\"a\") or (x2check[pair[0]]<=pair[1] and i[1][n]==\"b\") :\n",
    "                        if n==len(i[0])-1:\n",
    "                            return (i[2])\n",
    "                    else:\n",
    "                        stop = True\n",
    "\n",
    "\n",
    "\n",
    "dt = DecisionTree(X,y,20,100,3)\n",
    "dt.split_recursive(X,y,20,100,3)\n",
    "\n",
    "dt.predict(X[13])"
   ]
  },
  {
   "cell_type": "code",
   "execution_count": 36,
   "metadata": {
    "ExecuteTime": {
     "end_time": "2022-01-04T18:10:30.736820Z",
     "start_time": "2022-01-04T18:10:30.565297Z"
    },
    "colab": {},
    "colab_type": "code",
    "id": "QA54r4DiQDkM"
   },
   "outputs": [
    {
     "data": {
      "text/plain": [
       "24.050943396226415"
      ]
     },
     "execution_count": 36,
     "metadata": {},
     "output_type": "execute_result"
    }
   ],
   "source": [
    "class DecisionTree():\n",
    "    def __init__(self):\n",
    "#         self.n_trees,self.sample_sz,self.min_leaf= n_trees, sample_sz, min_leaf\n",
    "        self.tree=[]\n",
    "    @staticmethod\n",
    "    def sse(samples):\n",
    "        return np.var(samples)*len(samples)\n",
    "    \n",
    "    def make_a_split(self,sampleX,sampleY,min_leaf,sample_sz):\n",
    "        cutoffs=list()\n",
    "        # make a list of cutoffs using \"sample_sz\" unique values for each feature\n",
    "        for feature in sampleX.T:   \n",
    "            unique_cutoffs=np.unique(feature)[:-1]\n",
    "            cutoffs.append(np.random.choice(unique_cutoffs,replace=False,size=min(sample_sz,len(unique_cutoffs))))\n",
    "        # calculate the sse resulting from each split\n",
    "        variances = np.ones((sampleX.shape[1],sample_sz))*self.sse(sampleY)\n",
    "        for feature,cutoff_array in enumerate(cutoffs):\n",
    "            for sample,cutoff in enumerate(cutoff_array):\n",
    "                variances[feature,sample]=np.nansum([self.sse(sampleY[sampleX[:,feature]<=cutoff]),self.sse(sampleY[sampleX[:,feature]>cutoff])])\n",
    "                np.nansum([self.sse(sampleY[sampleX[:,feature]<=cutoff]),self.sse(sampleY[sampleX[:,feature]>cutoff])])\n",
    "        # choose the feature and threshold that minimize the variance\n",
    "        feature,cutoff_num = np.unravel_index(variances.argmin(), variances.shape)\n",
    "        cutoff_point = cutoffs[feature][cutoff_num]\n",
    "        f_c = [feature,cutoff_point]\n",
    "        index1=sampleX[:,feature]>cutoff_point\n",
    "        index2=sampleX[:,feature]<=cutoff_point\n",
    "        X1,X2,y1,y2 = sampleX[index1,:],sampleX[index2,:],sampleY[index1],sampleY[index2]\n",
    "        return X1,y1,X2,y2,f_c\n",
    "    def split_recursive(self,X,y,sample_sz,min_leaf,n_trees,coords=[],list_of_cutoffs=[]):\n",
    "        # split recursively and add the feature and cutoff for each split, along with 'a' for right and 'b' for left\n",
    "        X1,y1,X2,y2,f_c=self.make_a_split(X,y,min_leaf,sample_sz)\n",
    "# keep splitting as these conditions are met\n",
    "        if len(y1)>min_leaf and len(list_of_cutoffs)<(n_trees-1):\n",
    "            self.split_recursive(X1,y1,sample_sz,min_leaf,n_trees,coords=coords+['a'],list_of_cutoffs=list_of_cutoffs+[f_c])\n",
    "        else:\n",
    "# when we stop splitting, add the cutoffs, list of coordinates (right and left) and the mean of the leaf into the tree\n",
    "            self.tree.append([list_of_cutoffs+[f_c],coords+['a'],y1.mean()])\n",
    "# do the same for other side of the split\n",
    "        if len(y2)>min_leaf and len(list_of_cutoffs)<(n_trees-1):\n",
    "            self.split_recursive(X2,y2,sample_sz,min_leaf,n_trees,coords=coords+['b'],list_of_cutoffs=list_of_cutoffs+[f_c])\n",
    "        else:\n",
    "            self.tree.append([list_of_cutoffs+[f_c],coords+['b'],y2.mean()])\n",
    "    def predict(self,x2check):\n",
    "        for leaf in self.tree:\n",
    "            stop=False\n",
    "            for n,pair in enumerate(leaf[0]):\n",
    "                if stop==False:\n",
    "                    # go through each node in the leaf, if it matches continue if not try the next leaf\n",
    "                    if (x2check[pair[0]]>pair[1] and leaf[1][n]==\"a\") or (x2check[pair[0]]<=pair[1] and leaf[1][n]==\"b\") :\n",
    "                        # if we have gotten to the end of the leaf and it is all correct, predict the leaf mean\n",
    "                        if n==len(leaf[0])-1:\n",
    "                            return (leaf[2])\n",
    "                    else:\n",
    "                        stop = True\n",
    "\n",
    "\n",
    "\n",
    "dt = DecisionTree()\n",
    "dt.split_recursive(X,y,20,100,3)\n",
    "\n",
    "dt.predict(X[13])"
   ]
  },
  {
   "cell_type": "code",
   "execution_count": null,
   "metadata": {},
   "outputs": [],
   "source": []
  }
 ],
 "metadata": {
  "colab": {
   "collapsed_sections": [],
   "name": "Decision Trees - Exercise.ipynb",
   "provenance": []
  },
  "kernelspec": {
   "display_name": "Python 3",
   "language": "python",
   "name": "python3"
  },
  "language_info": {
   "codemirror_mode": {
    "name": "ipython",
    "version": 3
   },
   "file_extension": ".py",
   "mimetype": "text/x-python",
   "name": "python",
   "nbconvert_exporter": "python",
   "pygments_lexer": "ipython3",
   "version": "3.7.4"
  },
  "toc": {
   "base_numbering": 1,
   "nav_menu": {},
   "number_sections": true,
   "sideBar": true,
   "skip_h1_title": false,
   "title_cell": "Table of Contents",
   "title_sidebar": "Contents",
   "toc_cell": false,
   "toc_position": {},
   "toc_section_display": true,
   "toc_window_display": false
  }
 },
 "nbformat": 4,
 "nbformat_minor": 1
}
