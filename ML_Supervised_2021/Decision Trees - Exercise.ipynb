{
 "cells": [
  {
   "cell_type": "markdown",
   "metadata": {
    "colab_type": "text",
    "id": "Cg047ujRBmtU"
   },
   "source": [
    "# Decision Trees Exercise\n",
    "In this exercise you will show that ID3 is sub-optimal. Implement a simple version of Decision Tree, and will then apply a Decision Tree classsifier on the MNIST hand written digits dataset that we already saw.\n"
   ]
  },
  {
   "cell_type": "code",
   "execution_count": 15,
   "metadata": {
    "ExecuteTime": {
     "end_time": "2022-01-02T14:25:43.427766Z",
     "start_time": "2022-01-02T14:25:43.419765Z"
    }
   },
   "outputs": [
    {
     "data": {
      "text/plain": [
       "-0.38997500048077083"
      ]
     },
     "execution_count": 15,
     "metadata": {},
     "output_type": "execute_result"
    }
   ],
   "source": [
    "(2/3)*np.log2(2/3)"
   ]
  },
  {
   "cell_type": "code",
   "execution_count": 16,
   "metadata": {
    "ExecuteTime": {
     "end_time": "2022-01-02T14:25:58.984571Z",
     "start_time": "2022-01-02T14:25:58.976568Z"
    }
   },
   "outputs": [
    {
     "data": {
      "text/plain": [
       "-1.0"
      ]
     },
     "execution_count": 16,
     "metadata": {},
     "output_type": "execute_result"
    }
   ],
   "source": [
    "2*(.5)*np.log2(.5)"
   ]
  },
  {
   "cell_type": "markdown",
   "metadata": {
    "colab_type": "text",
    "id": "osXAmT5y4iM8"
   },
   "source": [
    "## Suboptimality of ID3\n",
    "Consider the following training set, where $\\mathcal{X} = \\{0, 1\\}^3$ and $\\mathcal{Y} =\\{0, 1\\}$:\n",
    "\n",
    "$$\n",
    "\\begin{aligned}\n",
    "((1, 1, 1), 1)\\\\\n",
    "((1, 0, 0), 1)\\\\\n",
    "((1, 1, 0), 0)\\\\\n",
    "((0, 0, 1), 0)\n",
    "\\end{aligned}\n",
    "$$\n",
    "\n",
    "Suppose we wish to use this training set in order to build a decision tree of depth 2 (i.e. for each\n",
    "input we are allowed to ask two questions of the form \"$x_i = 0$?\" before deciding on the label).\n",
    "\n",
    "1. Suppose we run the ID3 algorithm up to depth 2 (namely, we pick the root node and its\n",
    "children according to the algorithm, but instead of keeping on with the recursion, we stop\n",
    "and pick leaves according to the majority label in each subtree, once we reach depth 2). \n",
    "Assume that the subroutine used to measure the quality of each feature is based on the information gain, and that if two features get the same score, one of them is picked arbitrarily. \n",
    "Show that the training error of the resulting decision tree is at least 1/4.\n",
    "2. Find a decision tree of depth 2, which attains zero training error.\n"
   ]
  },
  {
   "cell_type": "markdown",
   "metadata": {},
   "source": [
    "The decision tree based on ID3 will give us a split first on $X_1$ (the other two features will give no information gain), followed by either of the two other features, which both give the same information gain.  Assuming the second split is on $X_2$, we can see that if the answer is $0$ we will get the correct $Y$ of 1 but if the answer is $1$ we are left with a leaf with both"
   ]
  },
  {
   "cell_type": "markdown",
   "metadata": {
    "colab_type": "text",
    "id": "xC7Anlwu50XD"
   },
   "source": [
    "#### Answer\n",
    "Put your answer here..."
   ]
  },
  {
   "cell_type": "markdown",
   "metadata": {
    "colab_type": "text",
    "id": "tLXpoHg64HlD"
   },
   "source": [
    "## Implementing Decision Tree From Scratch\n",
    "In this exercise you will need to implement a simple version of Decision Tree from scratch. Your decision tree will handle **continuous input and output** (this should actually work also for binary input attributes).\n",
    "\n",
    "* Compelete the skeleton class below\n",
    "  - `X` is a matrix of data values (rows are samples, columns are attributes)\n",
    "  - `y` is a vector of corresponding target values\n",
    "  - `min_leaf` is the minimal number of samples in each leaf node\n",
    "  \n",
    "* For splitting criterion, use either **\"Train Squared Error Minimization (Reduction in Variance)\"** or **\"Train Absolute Error Minimization\"** (choose one). Whatever you choose, make sure you implement the splitting point decision efficiently (in $O(nlgn)$ time).\n",
    "\n",
    "* The `predict` function will use mean of the target values in the leaf node matching each row of the given `X`. The result is a vector of predictions matching the number of rows in `X`.\n",
    "\n",
    "* To check your decision tree implementation, use the boston dataset (`from sklearn.datasets import load_boston`) split the data set into train and test using (`from sklearn.model_selection import train_test_split`)\n",
    "\n",
    "  - Use the following to estimate what are the best hyper parameters to use for your model\n",
    "```\n",
    "    for min_leaf in [1,5,10,100]:\n",
    "      dt = DecisionTree(X, y, n, sz, min_leaf)\n",
    "      mse = # mean square error over test set\n",
    "      print(\"min_leaf:{0} --- oob mse: {1}\".format(min_leaf, mse))\n",
    "```\n",
    "  \n",
    "  - Using your chosen hyperparameters as a final model, plot the predictions vs. true values of all the samples in the training set . Use something like:\n",
    "  ```\n",
    "  y_hat = dt.predict(X_train)  # forest is the chosen model\n",
    "  plt.scatter(y_hat, y_test)\n",
    "  ```"
   ]
  },
  {
   "cell_type": "code",
   "execution_count": 3,
   "metadata": {
    "ExecuteTime": {
     "end_time": "2022-01-02T14:03:53.254457Z",
     "start_time": "2022-01-02T14:03:52.856909Z"
    }
   },
   "outputs": [],
   "source": [
    "import numpy as np\n",
    "import pandas as pd"
   ]
  },
  {
   "cell_type": "code",
   "execution_count": 4,
   "metadata": {
    "ExecuteTime": {
     "end_time": "2022-01-02T14:03:55.648203Z",
     "start_time": "2022-01-02T14:03:53.491331Z"
    }
   },
   "outputs": [],
   "source": [
    "from sklearn.datasets import load_boston\n",
    "X,y = load_boston(return_X_y=True)"
   ]
  },
  {
   "cell_type": "code",
   "execution_count": 5,
   "metadata": {
    "ExecuteTime": {
     "end_time": "2022-01-02T14:03:55.659645Z",
     "start_time": "2022-01-02T14:03:55.648203Z"
    }
   },
   "outputs": [],
   "source": [
    "def sse(samples):\n",
    "    return np.var(samples)*len(samples)"
   ]
  },
  {
   "cell_type": "code",
   "execution_count": 8,
   "metadata": {
    "ExecuteTime": {
     "end_time": "2022-01-02T14:04:18.721639Z",
     "start_time": "2022-01-02T14:04:18.713602Z"
    }
   },
   "outputs": [],
   "source": [
    "n_trees=5\n",
    "sample_sz=20\n",
    "min_lf = 10\n"
   ]
  },
  {
   "cell_type": "code",
   "execution_count": 78,
   "metadata": {
    "ExecuteTime": {
     "end_time": "2022-01-02T16:08:58.811801Z",
     "start_time": "2022-01-02T16:08:58.795803Z"
    }
   },
   "outputs": [],
   "source": [
    "# list_of_cutoffs=list()\n",
    "# list_of_coords=list()\n",
    "# coords=[]\n",
    "# def make_a_split(sampleX,sampleY,sample_sz,min_leaf):\n",
    "#     cutoffs=list()\n",
    "#     for feature in sampleX.T:   \n",
    "#         unique_cutoffs=np.unique(feature)[:-1]\n",
    "#         cutoffs.append(np.random.choice(unique_cutoffs,replace=False,size=min(sample_sz,len(unique_cutoffs))))\n",
    "\n",
    "#     variances = np.ones((sampleX.shape[1],sample_sz))*sse(sampleY)\n",
    "#     for feature,cutoff_array in enumerate(cutoffs):\n",
    "#         for sample,cutoff in enumerate(cutoff_array):\n",
    "#             variances[feature,sample]=np.nansum([sse(sampleY[sampleX[:,feature]<=cutoff]),sse(sampleY[sampleX[:,feature]>cutoff])])\n",
    "#     feature,cutoff_num = np.unravel_index(variances.argmin(), variances.shape)\n",
    "    \n",
    "#     cutoff_point = cutoffs[feature][cutoff_num]\n",
    "#     list_of_cutoffs.append([feature,cutoff_point])\n",
    "#     print(coords)\n",
    "#     list_of_coords.append(coords)\n",
    "#     index1=sampleX[:,feature]>cutoff_point\n",
    "#     index2=sampleX[:,feature]<=cutoff_point\n",
    "    \n",
    "#     X1,X2,y1,y2 = sampleX[index1,:],sampleX[index2,:],sampleY[index1],sampleY[index2]\n",
    "#     if len(y1)>min_leaf:\n",
    "#         X_n,y_n,X_n2,y_n2,coords=make_a_split(X1,y1,sample_sz,min_leaf,coords+['a'])\n",
    "#         print('going right')\n",
    "#     if len(y2)>min_leaf:\n",
    "#         X_n,y_n,X_n2,y_n2,coords=make_a_split(X2,y2,sample_sz,min_leaf,coords+['b'])\n",
    "#         print('going left')\n",
    "#     return X1,y1,X2,y2,coords"
   ]
  },
  {
   "cell_type": "raw",
   "metadata": {
    "ExecuteTime": {
     "end_time": "2022-01-04T15:20:02.072723Z",
     "start_time": "2022-01-04T15:20:01.140343Z"
    }
   },
   "source": [
    "list_of_cutoffs=list()\n",
    "list_of_coords=list()\n",
    "coords=[]\n",
    "def make_a_split(sampleX,sampleY,sample_sz,min_leaf,coords):\n",
    "    cutoffs=list()\n",
    "    for feature in sampleX.T:   \n",
    "        unique_cutoffs=np.unique(feature)[:-1]\n",
    "        cutoffs.append(np.random.choice(unique_cutoffs,replace=False,size=min(sample_sz,len(unique_cutoffs))))\n",
    "\n",
    "    variances = np.ones((sampleX.shape[1],sample_sz))*sse(sampleY)\n",
    "    for feature,cutoff_array in enumerate(cutoffs):\n",
    "        for sample,cutoff in enumerate(cutoff_array):\n",
    "            variances[feature,sample]=np.nansum([sse(sampleY[sampleX[:,feature]<=cutoff]),sse(sampleY[sampleX[:,feature]>cutoff])])\n",
    "    feature,cutoff_num = np.unravel_index(variances.argmin(), variances.shape)\n",
    "    cutoff_point = cutoffs[feature][cutoff_num]\n",
    "    list_of_cutoffs.append([feature,cutoff_point])\n",
    "    list_of_coords.append(coords)\n",
    "    index1=sampleX[:,feature]>cutoff_point\n",
    "    index2=sampleX[:,feature]<=cutoff_point\n",
    "    \n",
    "    X1,X2,y1,y2 = sampleX[index1,:],sampleX[index2,:],sampleY[index1],sampleY[index2]\n",
    "    return X1,y1,X2,y2\n",
    "def split_recursive(X1,y1,sample_sz,min_leaf,coords):\n",
    "    X1,y1,X2,y2=make_a_split(X1,y1,sample_sz,min_leaf,coords)\n",
    "    if len(y1)>min_leaf:\n",
    "        split_recursive(X1,y1,sample_sz,min_leaf,coords=coords+['a'])\n",
    "    if len(y2)>min_leaf:\n",
    "        split_recursive(X2,y2,sample_sz,min_leaf,coords=coords+['b'])\n",
    "\n",
    "list_of_cutoffs=list()\n",
    "list_of_coords=list()\n",
    "coords=[]\n",
    "split_recursive(X,y,40,10,coords=[])\n",
    "len(list_of_coords),len(list_of_cutoffs)"
   ]
  },
  {
   "cell_type": "code",
   "execution_count": 307,
   "metadata": {
    "ExecuteTime": {
     "end_time": "2022-01-04T16:18:30.422711Z",
     "start_time": "2022-01-04T16:18:30.350686Z"
    }
   },
   "outputs": [],
   "source": [
    "def make_a_split(sampleX,sampleY,sample_sz):\n",
    "    cutoffs=list()\n",
    "    for feature in sampleX.T:   \n",
    "        unique_cutoffs=np.unique(feature)[:-1]\n",
    "        cutoffs.append(np.random.choice(unique_cutoffs,replace=False,size=min(sample_sz,len(unique_cutoffs))))\n",
    "    variances = np.ones((sampleX.shape[1],sample_sz))*sse(sampleY)\n",
    "    for feature,cutoff_array in enumerate(cutoffs):\n",
    "        for sample,cutoff in enumerate(cutoff_array):\n",
    "            variances[feature,sample]=np.nansum([sse(sampleY[sampleX[:,feature]<=cutoff]),sse(sampleY[sampleX[:,feature]>cutoff])])\n",
    "    feature,cutoff_num = np.unravel_index(variances.argmin(), variances.shape)\n",
    "    cutoff_point = cutoffs[feature][cutoff_num]\n",
    "    f_c = [feature,cutoff_point]\n",
    "    index1=sampleX[:,feature]>cutoff_point\n",
    "    index2=sampleX[:,feature]<=cutoff_point\n",
    "    X1,X2,y1,y2 = sampleX[index1,:],sampleX[index2,:],sampleY[index1],sampleY[index2]\n",
    "    return X1,y1,X2,y2,f_c\n",
    "def split_recursive(X,y,sample_sz,min_leaf,max_tree,coords,list_of_cutoffs):\n",
    "    X1,y1,X2,y2,f_c=make_a_split(X,y,sample_sz)\n",
    "    if len(y1)>min_leaf and len(list_of_cutoffs)<(max_tree-1):\n",
    "        split_recursive(X1,y1,sample_sz,min_leaf,max_tree,coords=coords+['a'],list_of_cutoffs=list_of_cutoffs+[f_c])\n",
    "    else:\n",
    "        lol.append([list_of_cutoffs+[f_c],coords+['a'],y1.mean()])\n",
    "    if len(y2)>min_leaf and len(list_of_cutoffs)<(max_tree-1):\n",
    "        split_recursive(X2,y2,sample_sz,min_leaf,max_tree,coords=coords+['b'],list_of_cutoffs=list_of_cutoffs+[f_c])\n",
    "    else:\n",
    "        lol.append([list_of_cutoffs+[f_c],coords+['b'],y2.mean()])\n",
    "\n",
    "list_of_cutoffs=list()\n",
    "list_of_coords=list()\n",
    "lol=[]\n",
    "splits=[]\n",
    "split_recursive(X,y,20,100,max_tree=3,coords=[],list_of_cutoffs=[])"
   ]
  },
  {
   "cell_type": "code",
   "execution_count": 308,
   "metadata": {
    "ExecuteTime": {
     "end_time": "2022-01-04T16:18:31.618713Z",
     "start_time": "2022-01-04T16:18:31.602714Z"
    }
   },
   "outputs": [
    {
     "data": {
      "text/plain": [
       "22.854509803921566"
      ]
     },
     "execution_count": 308,
     "metadata": {},
     "output_type": "execute_result"
    }
   ],
   "source": [
    "def predict(x2check,lol):\n",
    "    for i in lol:\n",
    "        stop=False\n",
    "        for n,pair in enumerate(i[0]):\n",
    "            if stop==False:\n",
    "                if (x2check[pair[0]]>pair[1] and i[1][n]==\"a\") or (x2check[pair[0]]<=pair[1] and i[1][n]==\"b\") :\n",
    "                    if n==len(i[0])-1:\n",
    "                        return (i[2])\n",
    "                else:\n",
    "                    stop = True\n",
    "                \n",
    "predict(X[87],lol)"
   ]
  },
  {
   "cell_type": "code",
   "execution_count": 333,
   "metadata": {
    "ExecuteTime": {
     "end_time": "2022-01-04T16:48:50.488989Z",
     "start_time": "2022-01-04T16:48:50.464989Z"
    },
    "colab": {},
    "colab_type": "code",
    "id": "QA54r4DiQDkM"
   },
   "outputs": [],
   "source": [
    "class DecisionTree():\n",
    "    def __init__(self, X, y, n_trees, sample_sz, min_leaf):\n",
    "        self.X,self.y,self.n_trees,self.sample_sz,self.min_leaf=X,y, n_trees, sample_sz, min_leaf\n",
    "        self.lol=[]\n",
    "    @staticmethod\n",
    "    def sse(samples):\n",
    "        return np.var(samples)*len(samples)\n",
    "    @staticmethod\n",
    "    def make_a_split(sampleX,sampleY,min_leaf):\n",
    "        print(sampleX)\n",
    "        cutoffs=list()\n",
    "        for feature in sampleX.T:   \n",
    "            unique_cutoffs=np.unique(feature)[:-1]\n",
    "            cutoffs.append(np.random.choice(unique_cutoffs,replace=False,size=min(self.sample_sz,len(unique_cutoffs))))\n",
    "        variances = np.ones((sampleX.shape[1],sample_sz))*sse(sampleY)\n",
    "        for feature,cutoff_array in enumerate(cutoffs):\n",
    "            for sample,cutoff in enumerate(cutoff_array):\n",
    "                variances[feature,sample]=np.nansum([sse(sampleY[sampleX[:,feature]<=cutoff]),sse(sampleY[sampleX[:,feature]>cutoff])])\n",
    "        feature,cutoff_num = np.unravel_index(variances.argmin(), variances.shape)\n",
    "        cutoff_point = cutoffs[feature][cutoff_num]\n",
    "        f_c = [feature,cutoff_point]\n",
    "        index1=sampleX[:,feature]>cutoff_point\n",
    "        index2=sampleX[:,feature]<=cutoff_point\n",
    "        X1,X2,y1,y2 = sampleX[index1,:],sampleX[index2,:],sampleY[index1],sampleY[index2]\n",
    "        return X1,y1,X2,y2,f_c\n",
    "    def split_recursive(X,y,sample_sz,min_leaf,n_trees,coords=[],list_of_cutoffs=[]):\n",
    "        X1,y1,X2,y2,f_c=make_a_split(X,y,sample_sz)\n",
    "        if len(y1)>min_leaf and len(list_of_cutoffs)<(n_trees-1):\n",
    "            split_recursive(X1,y1,sample_sz,min_leaf,n_trees,coords=coords+['a'],list_of_cutoffs=list_of_cutoffs+[f_c])\n",
    "        else:\n",
    "            self.lol.append([list_of_cutoffs+[f_c],coords+['a'],y1.mean()])\n",
    "        if len(y2)>min_leaf and len(list_of_cutoffs)<(n_trees-1):\n",
    "            split_recursive(X2,y2,sample_sz,min_leaf,n_trees,coords=coords+['b'],list_of_cutoffs=list_of_cutoffs+[f_c])\n",
    "        else:\n",
    "            self.lol.append([list_of_cutoffs+[f_c],coords+['b'],y2.mean()])\n",
    "    def fit(self):\n",
    "        self.split_recursive(self.X,self.y,self.sample_sz,self.min_leaf,self.n_trees)\n",
    "    def predict(self,x2check):\n",
    "        for i in self.lol:\n",
    "            stop=False\n",
    "            for n,pair in enumerate(i[0]):\n",
    "                if stop==False:\n",
    "                    if (x2check[pair[0]]>pair[1] and i[1][n]==\"a\") or (x2check[pair[0]]<=pair[1] and i[1][n]==\"b\") :\n",
    "                        if n==len(i[0])-1:\n",
    "                            return (i[2])\n",
    "                    else:\n",
    "                        stop = True\n",
    "\n"
   ]
  },
  {
   "cell_type": "code",
   "execution_count": 334,
   "metadata": {
    "ExecuteTime": {
     "end_time": "2022-01-04T16:48:51.587529Z",
     "start_time": "2022-01-04T16:48:51.547231Z"
    }
   },
   "outputs": [
    {
     "ename": "AttributeError",
     "evalue": "'DecisionTree' object has no attribute 'T'",
     "output_type": "error",
     "traceback": [
      "\u001b[1;31m---------------------------------------------------------------------------\u001b[0m",
      "\u001b[1;31mAttributeError\u001b[0m                            Traceback (most recent call last)",
      "\u001b[1;32m<ipython-input-334-8c4269c870e4>\u001b[0m in \u001b[0;36m<module>\u001b[1;34m\u001b[0m\n\u001b[0;32m      1\u001b[0m \u001b[0mdt\u001b[0m \u001b[1;33m=\u001b[0m \u001b[0mDecisionTree\u001b[0m\u001b[1;33m(\u001b[0m\u001b[0mX\u001b[0m\u001b[1;33m,\u001b[0m\u001b[0my\u001b[0m\u001b[1;33m,\u001b[0m\u001b[1;36m20\u001b[0m\u001b[1;33m,\u001b[0m\u001b[1;36m100\u001b[0m\u001b[1;33m,\u001b[0m\u001b[1;36m3\u001b[0m\u001b[1;33m)\u001b[0m\u001b[1;33m\u001b[0m\u001b[1;33m\u001b[0m\u001b[0m\n\u001b[1;32m----> 2\u001b[1;33m \u001b[0mdt\u001b[0m\u001b[1;33m.\u001b[0m\u001b[0mfit\u001b[0m\u001b[1;33m(\u001b[0m\u001b[1;33m)\u001b[0m\u001b[1;33m\u001b[0m\u001b[1;33m\u001b[0m\u001b[0m\n\u001b[0m",
      "\u001b[1;32m<ipython-input-333-b558b68e8ec1>\u001b[0m in \u001b[0;36mfit\u001b[1;34m(self)\u001b[0m\n\u001b[0;32m     35\u001b[0m             \u001b[0mself\u001b[0m\u001b[1;33m.\u001b[0m\u001b[0mlol\u001b[0m\u001b[1;33m.\u001b[0m\u001b[0mappend\u001b[0m\u001b[1;33m(\u001b[0m\u001b[1;33m[\u001b[0m\u001b[0mlist_of_cutoffs\u001b[0m\u001b[1;33m+\u001b[0m\u001b[1;33m[\u001b[0m\u001b[0mf_c\u001b[0m\u001b[1;33m]\u001b[0m\u001b[1;33m,\u001b[0m\u001b[0mcoords\u001b[0m\u001b[1;33m+\u001b[0m\u001b[1;33m[\u001b[0m\u001b[1;34m'b'\u001b[0m\u001b[1;33m]\u001b[0m\u001b[1;33m,\u001b[0m\u001b[0my2\u001b[0m\u001b[1;33m.\u001b[0m\u001b[0mmean\u001b[0m\u001b[1;33m(\u001b[0m\u001b[1;33m)\u001b[0m\u001b[1;33m]\u001b[0m\u001b[1;33m)\u001b[0m\u001b[1;33m\u001b[0m\u001b[1;33m\u001b[0m\u001b[0m\n\u001b[0;32m     36\u001b[0m     \u001b[1;32mdef\u001b[0m \u001b[0mfit\u001b[0m\u001b[1;33m(\u001b[0m\u001b[0mself\u001b[0m\u001b[1;33m)\u001b[0m\u001b[1;33m:\u001b[0m\u001b[1;33m\u001b[0m\u001b[1;33m\u001b[0m\u001b[0m\n\u001b[1;32m---> 37\u001b[1;33m         \u001b[0mself\u001b[0m\u001b[1;33m.\u001b[0m\u001b[0msplit_recursive\u001b[0m\u001b[1;33m(\u001b[0m\u001b[0mself\u001b[0m\u001b[1;33m.\u001b[0m\u001b[0mX\u001b[0m\u001b[1;33m,\u001b[0m\u001b[0mself\u001b[0m\u001b[1;33m.\u001b[0m\u001b[0my\u001b[0m\u001b[1;33m,\u001b[0m\u001b[0mself\u001b[0m\u001b[1;33m.\u001b[0m\u001b[0msample_sz\u001b[0m\u001b[1;33m,\u001b[0m\u001b[0mself\u001b[0m\u001b[1;33m.\u001b[0m\u001b[0mmin_leaf\u001b[0m\u001b[1;33m,\u001b[0m\u001b[0mself\u001b[0m\u001b[1;33m.\u001b[0m\u001b[0mn_trees\u001b[0m\u001b[1;33m)\u001b[0m\u001b[1;33m\u001b[0m\u001b[1;33m\u001b[0m\u001b[0m\n\u001b[0m\u001b[0;32m     38\u001b[0m     \u001b[1;32mdef\u001b[0m \u001b[0mpredict\u001b[0m\u001b[1;33m(\u001b[0m\u001b[0mself\u001b[0m\u001b[1;33m,\u001b[0m\u001b[0mx2check\u001b[0m\u001b[1;33m)\u001b[0m\u001b[1;33m:\u001b[0m\u001b[1;33m\u001b[0m\u001b[1;33m\u001b[0m\u001b[0m\n\u001b[0;32m     39\u001b[0m         \u001b[1;32mfor\u001b[0m \u001b[0mi\u001b[0m \u001b[1;32min\u001b[0m \u001b[0mself\u001b[0m\u001b[1;33m.\u001b[0m\u001b[0mlol\u001b[0m\u001b[1;33m:\u001b[0m\u001b[1;33m\u001b[0m\u001b[1;33m\u001b[0m\u001b[0m\n",
      "\u001b[1;32m<ipython-input-333-b558b68e8ec1>\u001b[0m in \u001b[0;36msplit_recursive\u001b[1;34m(X, y, sample_sz, min_leaf, n_trees, coords, list_of_cutoffs)\u001b[0m\n\u001b[0;32m     25\u001b[0m         \u001b[1;32mreturn\u001b[0m \u001b[0mX1\u001b[0m\u001b[1;33m,\u001b[0m\u001b[0my1\u001b[0m\u001b[1;33m,\u001b[0m\u001b[0mX2\u001b[0m\u001b[1;33m,\u001b[0m\u001b[0my2\u001b[0m\u001b[1;33m,\u001b[0m\u001b[0mf_c\u001b[0m\u001b[1;33m\u001b[0m\u001b[1;33m\u001b[0m\u001b[0m\n\u001b[0;32m     26\u001b[0m     \u001b[1;32mdef\u001b[0m \u001b[0msplit_recursive\u001b[0m\u001b[1;33m(\u001b[0m\u001b[0mX\u001b[0m\u001b[1;33m,\u001b[0m\u001b[0my\u001b[0m\u001b[1;33m,\u001b[0m\u001b[0msample_sz\u001b[0m\u001b[1;33m,\u001b[0m\u001b[0mmin_leaf\u001b[0m\u001b[1;33m,\u001b[0m\u001b[0mn_trees\u001b[0m\u001b[1;33m,\u001b[0m\u001b[0mcoords\u001b[0m\u001b[1;33m=\u001b[0m\u001b[1;33m[\u001b[0m\u001b[1;33m]\u001b[0m\u001b[1;33m,\u001b[0m\u001b[0mlist_of_cutoffs\u001b[0m\u001b[1;33m=\u001b[0m\u001b[1;33m[\u001b[0m\u001b[1;33m]\u001b[0m\u001b[1;33m)\u001b[0m\u001b[1;33m:\u001b[0m\u001b[1;33m\u001b[0m\u001b[1;33m\u001b[0m\u001b[0m\n\u001b[1;32m---> 27\u001b[1;33m         \u001b[0mX1\u001b[0m\u001b[1;33m,\u001b[0m\u001b[0my1\u001b[0m\u001b[1;33m,\u001b[0m\u001b[0mX2\u001b[0m\u001b[1;33m,\u001b[0m\u001b[0my2\u001b[0m\u001b[1;33m,\u001b[0m\u001b[0mf_c\u001b[0m\u001b[1;33m=\u001b[0m\u001b[0mmake_a_split\u001b[0m\u001b[1;33m(\u001b[0m\u001b[0mX\u001b[0m\u001b[1;33m,\u001b[0m\u001b[0my\u001b[0m\u001b[1;33m,\u001b[0m\u001b[0msample_sz\u001b[0m\u001b[1;33m)\u001b[0m\u001b[1;33m\u001b[0m\u001b[1;33m\u001b[0m\u001b[0m\n\u001b[0m\u001b[0;32m     28\u001b[0m         \u001b[1;32mif\u001b[0m \u001b[0mlen\u001b[0m\u001b[1;33m(\u001b[0m\u001b[0my1\u001b[0m\u001b[1;33m)\u001b[0m\u001b[1;33m>\u001b[0m\u001b[0mmin_leaf\u001b[0m \u001b[1;32mand\u001b[0m \u001b[0mlen\u001b[0m\u001b[1;33m(\u001b[0m\u001b[0mlist_of_cutoffs\u001b[0m\u001b[1;33m)\u001b[0m\u001b[1;33m<\u001b[0m\u001b[1;33m(\u001b[0m\u001b[0mn_trees\u001b[0m\u001b[1;33m-\u001b[0m\u001b[1;36m1\u001b[0m\u001b[1;33m)\u001b[0m\u001b[1;33m:\u001b[0m\u001b[1;33m\u001b[0m\u001b[1;33m\u001b[0m\u001b[0m\n\u001b[0;32m     29\u001b[0m             \u001b[0msplit_recursive\u001b[0m\u001b[1;33m(\u001b[0m\u001b[0mX1\u001b[0m\u001b[1;33m,\u001b[0m\u001b[0my1\u001b[0m\u001b[1;33m,\u001b[0m\u001b[0msample_sz\u001b[0m\u001b[1;33m,\u001b[0m\u001b[0mmin_leaf\u001b[0m\u001b[1;33m,\u001b[0m\u001b[0mn_trees\u001b[0m\u001b[1;33m,\u001b[0m\u001b[0mcoords\u001b[0m\u001b[1;33m=\u001b[0m\u001b[0mcoords\u001b[0m\u001b[1;33m+\u001b[0m\u001b[1;33m[\u001b[0m\u001b[1;34m'a'\u001b[0m\u001b[1;33m]\u001b[0m\u001b[1;33m,\u001b[0m\u001b[0mlist_of_cutoffs\u001b[0m\u001b[1;33m=\u001b[0m\u001b[0mlist_of_cutoffs\u001b[0m\u001b[1;33m+\u001b[0m\u001b[1;33m[\u001b[0m\u001b[0mf_c\u001b[0m\u001b[1;33m]\u001b[0m\u001b[1;33m)\u001b[0m\u001b[1;33m\u001b[0m\u001b[1;33m\u001b[0m\u001b[0m\n",
      "\u001b[1;32m<ipython-input-307-31324a3d8493>\u001b[0m in \u001b[0;36mmake_a_split\u001b[1;34m(sampleX, sampleY, sample_sz)\u001b[0m\n\u001b[0;32m      1\u001b[0m \u001b[1;32mdef\u001b[0m \u001b[0mmake_a_split\u001b[0m\u001b[1;33m(\u001b[0m\u001b[0msampleX\u001b[0m\u001b[1;33m,\u001b[0m\u001b[0msampleY\u001b[0m\u001b[1;33m,\u001b[0m\u001b[0msample_sz\u001b[0m\u001b[1;33m)\u001b[0m\u001b[1;33m:\u001b[0m\u001b[1;33m\u001b[0m\u001b[1;33m\u001b[0m\u001b[0m\n\u001b[0;32m      2\u001b[0m     \u001b[0mcutoffs\u001b[0m\u001b[1;33m=\u001b[0m\u001b[0mlist\u001b[0m\u001b[1;33m(\u001b[0m\u001b[1;33m)\u001b[0m\u001b[1;33m\u001b[0m\u001b[1;33m\u001b[0m\u001b[0m\n\u001b[1;32m----> 3\u001b[1;33m     \u001b[1;32mfor\u001b[0m \u001b[0mfeature\u001b[0m \u001b[1;32min\u001b[0m \u001b[0msampleX\u001b[0m\u001b[1;33m.\u001b[0m\u001b[0mT\u001b[0m\u001b[1;33m:\u001b[0m\u001b[1;33m\u001b[0m\u001b[1;33m\u001b[0m\u001b[0m\n\u001b[0m\u001b[0;32m      4\u001b[0m         \u001b[0munique_cutoffs\u001b[0m\u001b[1;33m=\u001b[0m\u001b[0mnp\u001b[0m\u001b[1;33m.\u001b[0m\u001b[0munique\u001b[0m\u001b[1;33m(\u001b[0m\u001b[0mfeature\u001b[0m\u001b[1;33m)\u001b[0m\u001b[1;33m[\u001b[0m\u001b[1;33m:\u001b[0m\u001b[1;33m-\u001b[0m\u001b[1;36m1\u001b[0m\u001b[1;33m]\u001b[0m\u001b[1;33m\u001b[0m\u001b[1;33m\u001b[0m\u001b[0m\n\u001b[0;32m      5\u001b[0m         \u001b[0mcutoffs\u001b[0m\u001b[1;33m.\u001b[0m\u001b[0mappend\u001b[0m\u001b[1;33m(\u001b[0m\u001b[0mnp\u001b[0m\u001b[1;33m.\u001b[0m\u001b[0mrandom\u001b[0m\u001b[1;33m.\u001b[0m\u001b[0mchoice\u001b[0m\u001b[1;33m(\u001b[0m\u001b[0munique_cutoffs\u001b[0m\u001b[1;33m,\u001b[0m\u001b[0mreplace\u001b[0m\u001b[1;33m=\u001b[0m\u001b[1;32mFalse\u001b[0m\u001b[1;33m,\u001b[0m\u001b[0msize\u001b[0m\u001b[1;33m=\u001b[0m\u001b[0mmin\u001b[0m\u001b[1;33m(\u001b[0m\u001b[0msample_sz\u001b[0m\u001b[1;33m,\u001b[0m\u001b[0mlen\u001b[0m\u001b[1;33m(\u001b[0m\u001b[0munique_cutoffs\u001b[0m\u001b[1;33m)\u001b[0m\u001b[1;33m)\u001b[0m\u001b[1;33m)\u001b[0m\u001b[1;33m)\u001b[0m\u001b[1;33m\u001b[0m\u001b[1;33m\u001b[0m\u001b[0m\n",
      "\u001b[1;31mAttributeError\u001b[0m: 'DecisionTree' object has no attribute 'T'"
     ]
    }
   ],
   "source": [
    "dt = DecisionTree(X,y,20,100,3)\n",
    "dt.fit()"
   ]
  },
  {
   "cell_type": "code",
   "execution_count": 302,
   "metadata": {
    "ExecuteTime": {
     "end_time": "2022-01-04T16:13:58.321966Z",
     "start_time": "2022-01-04T16:13:58.313967Z"
    }
   },
   "outputs": [
    {
     "data": {
      "text/plain": [
       "[]"
      ]
     },
     "execution_count": 302,
     "metadata": {},
     "output_type": "execute_result"
    }
   ],
   "source": [
    "dt.lol"
   ]
  },
  {
   "cell_type": "code",
   "execution_count": 299,
   "metadata": {
    "ExecuteTime": {
     "end_time": "2022-01-04T16:13:02.044266Z",
     "start_time": "2022-01-04T16:13:02.036215Z"
    }
   },
   "outputs": [],
   "source": [
    "dt.predict(X[10])"
   ]
  },
  {
   "cell_type": "markdown",
   "metadata": {
    "colab_type": "text",
    "id": "TF5TjNuvTKof"
   },
   "source": [
    "## Using Decision Treefor Digits Classification\n",
    "Remeber the MNIST dataset used - you will now test the power of decision trees on this problem.\n",
    "This time you are given a free hand in choosing the test and train set sizes, model parameters (such as gain function and constraints over the trees) and features (whether to use binary pixel values or the original continous gray value).\n",
    "- Choose which model parameters you wish to optimize, explain how would you do that, and find a model which you believe would have the minimal generalization error --- do this for both a single decision tree model, and a random forest.\n",
    "  - You can use `sklearn.tree.DecisionTreeClassifier`\n",
    "- Once you are satisfied with the model parameters, plot the importance of each of the pixels to the final decision.\n",
    "- Last, estimate the class assignment probabilities for all the correctly classified and misclassified examples in your test data.\n",
    "- Discuss your results."
   ]
  },
  {
   "cell_type": "code",
   "execution_count": null,
   "metadata": {
    "colab": {},
    "colab_type": "code",
    "id": "8-k9WpIV_n7Y",
    "pycharm": {
     "name": "#%%\n"
    }
   },
   "outputs": [],
   "source": [
    "# code and answer go here"
   ]
  }
 ],
 "metadata": {
  "colab": {
   "collapsed_sections": [],
   "name": "Decision Trees - Exercise.ipynb",
   "provenance": []
  },
  "kernelspec": {
   "display_name": "Python 3",
   "language": "python",
   "name": "python3"
  },
  "language_info": {
   "codemirror_mode": {
    "name": "ipython",
    "version": 3
   },
   "file_extension": ".py",
   "mimetype": "text/x-python",
   "name": "python",
   "nbconvert_exporter": "python",
   "pygments_lexer": "ipython3",
   "version": "3.7.4"
  },
  "toc": {
   "base_numbering": 1,
   "nav_menu": {},
   "number_sections": true,
   "sideBar": true,
   "skip_h1_title": false,
   "title_cell": "Table of Contents",
   "title_sidebar": "Contents",
   "toc_cell": false,
   "toc_position": {},
   "toc_section_display": true,
   "toc_window_display": false
  }
 },
 "nbformat": 4,
 "nbformat_minor": 1
}
