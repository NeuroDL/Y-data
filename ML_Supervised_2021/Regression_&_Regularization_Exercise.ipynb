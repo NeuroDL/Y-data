{
 "cells": [
  {
   "cell_type": "markdown",
   "metadata": {
    "id": "chEqqJbLzFew"
   },
   "source": [
    "# Yandex Data Science School\n",
    "## Linear Regression & Regularization Exercise.\n",
    "\n",
    "\n",
    "## Outline\n",
    "In this exercise you will learn the following topics:\n",
    "\n",
    "1. Refresher on how linear regression is solved in batch and in Gradient Descent \n",
    "2. Implementation of Ridge Regression\n",
    "3. Comparing Ridge, Lasso and vanila Linear Regression on a dataset"
   ]
  },
  {
   "cell_type": "markdown",
   "metadata": {
    "id": "mR9UFmk2greT"
   },
   "source": [
    "## Refresher on Ordinary Least Square (OLS) aka Linear Regeression\n",
    "\n",
    "### Lecture Note\n",
    "\n",
    "In Matrix notation, the matrix $X$ is of dimensions $n \\times p$ where each row is an example and each column is a feature dimension. \n",
    "\n",
    "Similarily, $y$ is of dimension $n \\times 1$ and $w$ is of dimensions $p \\times 1$.\n",
    "\n",
    "The model is $\\hat{y}=X\\cdot w$ where we assume for simplicity that $X$'s first columns equals to 1 (one padding), to account for the bias term.\n",
    "\n",
    "Our objective is to optimize the loss $L$ defines as resiudal sum of squares (RSS): \n",
    "\n",
    "$L_{RSS}=\\frac{1}{N}\\left\\Vert Xw-y \\right\\Vert^2$ (notice that in matrix notation this means summing over all examples, so $L$ is scalar.)\n",
    "\n",
    "To find the optimal $w$ one needs to derive the loss with respect to $w$.\n",
    "\n",
    "$\\frac{\\partial{L_{RSS}}}{\\partial{w}}=\\frac{2}{N}X^T(Xw-y)$ (to see why, read about [matrix derivatives](http://www.gatsby.ucl.ac.uk/teaching/courses/sntn/sntn-2017/resources/Matrix_derivatives_cribsheet.pdf) or see class notes )\n",
    "\n",
    "Thus, the gardient descent solution is $w'=w-\\alpha \\frac{2}{N}X^T(Xw-y)$.\n",
    "\n",
    "Solving $\\frac{\\partial{L_{RSS}}}{\\partial{w}}=0$ for $w$ one can also get analytical solution:\n",
    "\n",
    "$w_{OLS}=(X^TX)^{-1}X^Ty$\n",
    "\n",
    "The first term, $(X^TX)^{-1}X^T$ is also called the pseudo inverse of $X$.\n",
    "\n",
    "See [lecture note from Stanford](https://web.stanford.edu/~mrosenfe/soc_meth_proj3/matrix_OLS_NYU_notes.pdf) for more details.\n"
   ]
  },
  {
   "cell_type": "markdown",
   "metadata": {
    "id": "JA3MEKz80vdy"
   },
   "source": [
    "## Exercise 1 - Ordinary Least Square\n",
    "* Get the boston housing dataset by using the scikit-learn package. hint: [load_boston](http://scikit-learn.org/stable/modules/generated/sklearn.datasets.load_boston.html)\n",
    "\n",
    "* What is $p$? what is $n$ in the above notation? hint: [shape](https://docs.scipy.org/doc/numpy-1.15.0/reference/generated/numpy.ndarray.shape.html)\n",
    "\n",
    "* write a model `OrdinaryLinearRegression` which has a propoery $w$ and 3 methods: `fit`, `predict` and `score` (which returns the MSE on a given sample set). Hint: use [numpy.linalg.pinv](https://docs.scipy.org/doc/numpy-1.15.1/reference/generated/numpy.linalg.pinv.html) to be more efficient.\n",
    "\n",
    "* Fit the model. What is the training MSE?\n",
    "\n",
    "* Plot a scatter plot where on x-axis plot $Y$ and in the y-axis $\\hat{Y}_{OLS}$\n",
    "\n",
    "* Split the data to 75% train and 25% test 20 times. What is the average MSE now for train and test? Hint: use [train_test_split](http://scikit-learn.org/stable/modules/generated/sklearn.model_selection.train_test_split.html) or [ShuffleSplit](http://scikit-learn.org/stable/modules/generated/sklearn.model_selection.ShuffleSplit.html).\n",
    "\n",
    "* Use a t-test to proove that the MSE for training is significantly smaller than for testing. What is the p-value? Hint: use [scipy.stats.ttest_rel](https://docs.scipy.org/doc/scipy-0.14.0/reference/generated/scipy.stats.ttest_rel.html). \n",
    "\n",
    "* Write a new class `OrdinaryLinearRegressionGradientDescent` which inherits from `OrdinaryLinearRegression` and solves the problem using gradinet descent. The class should get as a parameter the learning rate and number of iteration. Plot the class convergance. What is the effect of learning rate? How would you find number of iteration automatically? Note: Gradient Descent does not work well when features are not scaled evenly (why?!). Be sure to normalize your features first.\n",
    "\n",
    "* The following parameters are optional (not mandatory to use):\n",
    "    * early_stop - True / False boolean to indicate to stop running when loss stops decaying and False to continue.\n",
    "    * reset - True / False boolean to reset starting w values, relevant in gradient descent OlsCd and OlsGd. Usually its reseted to 0's\n",
    "    * verbose- True/False boolean to turn on / off logging, e.g. print details like iteration number and loss (https://en.wikipedia.org/wiki/Verbose_mode)\n",
    "    * track_loss - True / False boolean when to save loss results to present later in learning curve graphs"
   ]
  },
  {
   "cell_type": "code",
   "execution_count": 1,
   "metadata": {
    "ExecuteTime": {
     "end_time": "2021-12-16T09:28:54.731597Z",
     "start_time": "2021-12-16T09:28:50.721831Z"
    }
   },
   "outputs": [],
   "source": [
    "from sklearn.datasets import load_boston\n",
    "X,y=load_boston(return_X_y=True)"
   ]
  },
  {
   "cell_type": "code",
   "execution_count": 2,
   "metadata": {
    "ExecuteTime": {
     "end_time": "2021-12-16T09:28:54.762525Z",
     "start_time": "2021-12-16T09:28:54.738589Z"
    }
   },
   "outputs": [
    {
     "name": "stdout",
     "output_type": "stream",
     "text": [
      "p is: 13 \n",
      " n is: 506\n"
     ]
    }
   ],
   "source": [
    "print('p is:',X.shape[1],'\\n n is:',X.shape[0])"
   ]
  },
  {
   "cell_type": "code",
   "execution_count": 3,
   "metadata": {
    "ExecuteTime": {
     "end_time": "2021-12-16T09:28:54.778481Z",
     "start_time": "2021-12-16T09:28:54.764520Z"
    }
   },
   "outputs": [],
   "source": [
    "import numpy as np\n",
    "\n",
    "from numpy.linalg import pinv"
   ]
  },
  {
   "cell_type": "code",
   "execution_count": 4,
   "metadata": {
    "ExecuteTime": {
     "end_time": "2021-12-16T09:28:54.793730Z",
     "start_time": "2021-12-16T09:28:54.780764Z"
    },
    "id": "ZuSS8LhcfZdn"
   },
   "outputs": [],
   "source": [
    "# * write a model `Ols` which has a propoery $w$ and 3 methods: `fit`, `predict` and `score`.? hint: use [numpy.linalg.pinv](https://docs.scipy.org/doc/numpy-1.15.1/reference/generated/numpy.linalg.pinv.html) to be more efficient.\n",
    "\n",
    "class Ols(object):\n",
    "    def __init__(self):\n",
    "        self.w = None\n",
    "    \n",
    "    @staticmethod\n",
    "    def pad(X):\n",
    "        return np.hstack([np.ones((len(X),1)),X])\n",
    "    def fit(self, X, Y): \n",
    "    #remeber pad with 1 before fitting\n",
    "        x=Ols.pad(X)\n",
    "        self.w = np.dot(np.dot(pinv(np.dot(x.T,x)),x.T),Y)\n",
    "    def predict(self, X):\n",
    "        return np.dot(Ols.pad(X),self.w)\n",
    "    def score(self, X, Y):\n",
    "        return ((self.predict(X) - Y)**2).mean() "
   ]
  },
  {
   "cell_type": "code",
   "execution_count": 5,
   "metadata": {
    "ExecuteTime": {
     "end_time": "2021-12-16T09:28:54.840275Z",
     "start_time": "2021-12-16T09:28:54.795726Z"
    }
   },
   "outputs": [
    {
     "data": {
      "text/plain": [
       "21.894831181729202"
      ]
     },
     "execution_count": 5,
     "metadata": {},
     "output_type": "execute_result"
    }
   ],
   "source": [
    "OLS =Ols()\n",
    "OLS.fit(X,y)\n",
    "OLS.predict(X)\n",
    "OLS.score(X,y)"
   ]
  },
  {
   "cell_type": "code",
   "execution_count": 40,
   "metadata": {
    "ExecuteTime": {
     "end_time": "2021-12-16T10:27:24.179433Z",
     "start_time": "2021-12-16T10:27:24.158452Z"
    }
   },
   "outputs": [
    {
     "data": {
      "text/html": [
       "<div>\n",
       "<style scoped>\n",
       "    .dataframe tbody tr th:only-of-type {\n",
       "        vertical-align: middle;\n",
       "    }\n",
       "\n",
       "    .dataframe tbody tr th {\n",
       "        vertical-align: top;\n",
       "    }\n",
       "\n",
       "    .dataframe thead th {\n",
       "        text-align: right;\n",
       "    }\n",
       "</style>\n",
       "<table border=\"1\" class=\"dataframe\">\n",
       "  <thead>\n",
       "    <tr style=\"text-align: right;\">\n",
       "      <th></th>\n",
       "      <th>0</th>\n",
       "    </tr>\n",
       "  </thead>\n",
       "  <tbody>\n",
       "    <tr>\n",
       "      <th>30.003843</th>\n",
       "      <td>24.0</td>\n",
       "    </tr>\n",
       "    <tr>\n",
       "      <th>25.025562</th>\n",
       "      <td>21.6</td>\n",
       "    </tr>\n",
       "    <tr>\n",
       "      <th>30.567597</th>\n",
       "      <td>34.7</td>\n",
       "    </tr>\n",
       "    <tr>\n",
       "      <th>28.607036</th>\n",
       "      <td>33.4</td>\n",
       "    </tr>\n",
       "    <tr>\n",
       "      <th>27.943524</th>\n",
       "      <td>36.2</td>\n",
       "    </tr>\n",
       "    <tr>\n",
       "      <th>...</th>\n",
       "      <td>...</td>\n",
       "    </tr>\n",
       "    <tr>\n",
       "      <th>23.533341</th>\n",
       "      <td>22.4</td>\n",
       "    </tr>\n",
       "    <tr>\n",
       "      <th>22.375719</th>\n",
       "      <td>20.6</td>\n",
       "    </tr>\n",
       "    <tr>\n",
       "      <th>27.627426</th>\n",
       "      <td>23.9</td>\n",
       "    </tr>\n",
       "    <tr>\n",
       "      <th>26.127967</th>\n",
       "      <td>22.0</td>\n",
       "    </tr>\n",
       "    <tr>\n",
       "      <th>22.344212</th>\n",
       "      <td>11.9</td>\n",
       "    </tr>\n",
       "  </tbody>\n",
       "</table>\n",
       "<p>506 rows × 1 columns</p>\n",
       "</div>"
      ],
      "text/plain": [
       "              0\n",
       "30.003843  24.0\n",
       "25.025562  21.6\n",
       "30.567597  34.7\n",
       "28.607036  33.4\n",
       "27.943524  36.2\n",
       "...         ...\n",
       "23.533341  22.4\n",
       "22.375719  20.6\n",
       "27.627426  23.9\n",
       "26.127967  22.0\n",
       "22.344212  11.9\n",
       "\n",
       "[506 rows x 1 columns]"
      ]
     },
     "execution_count": 40,
     "metadata": {},
     "output_type": "execute_result"
    }
   ],
   "source": [
    "df"
   ]
  },
  {
   "cell_type": "code",
   "execution_count": 44,
   "metadata": {
    "ExecuteTime": {
     "end_time": "2021-12-16T10:28:48.732546Z",
     "start_time": "2021-12-16T10:28:48.607522Z"
    }
   },
   "outputs": [
    {
     "data": {
      "text/plain": [
       "<matplotlib.axes._subplots.AxesSubplot at 0x274857e9248>"
      ]
     },
     "execution_count": 44,
     "metadata": {},
     "output_type": "execute_result"
    },
    {
     "data": {
      "image/png": "[encoded data removed]",
      "text/plain": [
       "<Figure size 432x288 with 1 Axes>"
      ]
     },
     "metadata": {
      "needs_background": "light"
     },
     "output_type": "display_data"
    }
   ],
   "source": [
    "df=pd.DataFrame([y,OLS.predict(X)]).T\n",
    "df.plot.scatter(1,0)"
   ]
  },
  {
   "cell_type": "code",
   "execution_count": 45,
   "metadata": {
    "ExecuteTime": {
     "end_time": "2021-12-16T11:09:30.868948Z",
     "start_time": "2021-12-16T11:09:30.851031Z"
    },
    "id": "unGCBc0CIGJL"
   },
   "outputs": [],
   "source": [
    "# Write a new class OlsGd which solves the problem using gradinet descent. \n",
    "# The class should get as a parameter the learning rate and number of iteration. \n",
    "# Plot the loss convergance. for each alpha, learning rate plot the MSE with respect to number of iterations.\n",
    "# What is the effect of learning rate? \n",
    "# How would you find number of iteration automatically? \n",
    "# Note: Gradient Descent does not work well when features are not scaled evenly (why?!). Be sure to normalize your feature first.\n",
    "class Normalizer():\n",
    "    def __init__(self):\n",
    "        pass\n",
    "\n",
    "    def fit(self, X):\n",
    "        self.mean=np.mean(X,axis=0)\n",
    "        self.std=np.std(X,axis=0)\n",
    "\n",
    "    def predict(self, X):\n",
    "    #apply normalization\n",
    "        return (X-self.mean)/self.std\n",
    "    \n",
    "class OlsGd(Ols):\n",
    "  \n",
    "    def __init__(self, learning_rate=.05, \n",
    "               num_iteration=1000, \n",
    "               normalize=True,\n",
    "               early_stop=True,\n",
    "               verbose=True):\n",
    "    \n",
    "        super(OlsGd, self).__init__()\n",
    "        self.learning_rate = learning_rate\n",
    "        self.num_iteration = num_iteration\n",
    "        self.early_stop = early_stop\n",
    "        self.normalize = normalize\n",
    "        self.normalizer = Normalizer()    \n",
    "        self.verbose = verbose\n",
    "    def _fit(self, X, Y, reset=True, track_loss=True):\n",
    "        #remeber to normalize the data before starting\n",
    "        if self.normalize:\n",
    "            self.normalizer.fit(X)\n",
    "            X_norm = Ols.pad(self.normalizer.predict(X))\n",
    "        else:\n",
    "            X_norm=X\n",
    "        self.w=np.zeros(X_norm.shape[1])\n",
    "        i,delta=0,1e10\n",
    "        while i<self.num_iteration:\n",
    "            \n",
    "            delta=self.learning_rate*(1/X_norm.shape[0])*np.dot(X_norm.T,np.dot(X_norm,self.w)-Y)\n",
    "            self.w=self.w-delta\n",
    "            i+=1\n",
    "            if self.early_stop:\n",
    "                if np.square(delta).sum()<.0001:\n",
    "#                     print(i)\n",
    "                    break\n",
    "\n",
    "    def _predict(self, X):\n",
    "    #remeber to normalize the data before starting\n",
    "        X_norm = Ols.pad(self.normalizer.predict(X))\n",
    "        return np.dot(X_norm,self.w)\n",
    "    def score(self, X, Y):\n",
    "        return ((self._predict(X) - Y)**2).mean() \n",
    "    def _step(self, X, Y):\n",
    "            self.delta=self.learning_rate*(1/X.shape[0])*np.dot(X.T,np.dot(X,self.w)-Y)\n",
    "            self.w=self.w-delta\n"
   ]
  },
  {
   "cell_type": "code",
   "execution_count": 75,
   "metadata": {
    "ExecuteTime": {
     "end_time": "2021-12-16T11:29:59.773628Z",
     "start_time": "2021-12-16T11:29:59.756669Z"
    },
    "id": "unGCBc0CIGJL"
   },
   "outputs": [],
   "source": [
    "# Write a new class OlsGd which solves the problem using gradinet descent. \n",
    "# The class should get as a parameter the learning rate and number of iteration. \n",
    "# Plot the loss convergance. for each alpha, learning rate plot the MSE with respect to number of iterations.\n",
    "# What is the effect of learning rate? \n",
    "# How would you find number of iteration automatically? \n",
    "# Note: Gradient Descent does not work well when features are not scaled evenly (why?!). Be sure to normalize your feature first.\n",
    "class Normalizer():\n",
    "    def __init__(self):\n",
    "        pass\n",
    "\n",
    "    def fit(self, X):\n",
    "        self.mean=np.mean(X,axis=0)\n",
    "        self.std=np.std(X,axis=0)\n",
    "\n",
    "    def predict(self, X):\n",
    "    #apply normalization\n",
    "        return (X-self.mean)/self.std\n",
    "    \n",
    "class OlsGd(Ols):\n",
    "  \n",
    "    def __init__(self, learning_rate=.05, \n",
    "               num_iteration=1000, \n",
    "               normalize=True,\n",
    "               early_stop=True,\n",
    "               verbose=True):\n",
    "    \n",
    "        super(OlsGd, self).__init__()\n",
    "        self.learning_rate = learning_rate\n",
    "        self.num_iteration = num_iteration\n",
    "        self.early_stop = early_stop\n",
    "        self.normalize = normalize\n",
    "        self.normalizer = Normalizer()    \n",
    "        self.verbose = verbose\n",
    "    def _fit(self, X, Y, reset=True, track_loss=True):\n",
    "        #remeber to normalize the data before starting\n",
    "        if self.normalize:\n",
    "            self.normalizer.fit(X)\n",
    "            X_norm = Ols.pad(self.normalizer.predict(X))\n",
    "        else:\n",
    "            X_norm=X\n",
    "        self.w=np.zeros(X_norm.shape[1])\n",
    "        self.mse=float('inf')\n",
    "        self.mse_iters=[]\n",
    "        i,self.delta=0,1e10\n",
    "        while i<self.num_iteration:\n",
    "            self._step(X_norm,Y)\n",
    "            i+=1\n",
    "            score=self._score(X_norm,Y)\n",
    "            if self.verbose:\n",
    "                print(\"Iteration:\",i,\"MSE\",score)\n",
    "            if score<self.mse:\n",
    "                self.mse=score\n",
    "                self.mse_iters.append(score)\n",
    "            else:\n",
    "                break\n",
    "            if self.early_stop:\n",
    "                if np.square(self.delta).sum()<.0001:\n",
    "#                     print(i)\n",
    "                    break\n",
    "\n",
    "    def predict(self, X):\n",
    "    #remeber to normalize the data before starting\n",
    "        X_norm = Ols.pad(self.normalizer.predict(X))\n",
    "        return np.dot(X_norm,self.w)\n",
    "    def score(self, X, Y):\n",
    "        return ((self.predict(X) - Y)**2).mean() \n",
    "    def _predict(self, X):\n",
    "    #remeber to normalize the data before starting\n",
    "        return np.dot(X,self.w)\n",
    "    def _score(self, X, Y):\n",
    "        return ((self._predict(X) - Y)**2).mean() \n",
    "    def _step(self, X, Y):\n",
    "            self.delta=self.learning_rate*(1/X.shape[0])*np.dot(X.T,np.dot(X,self.w)-Y)\n",
    "            self.w=self.w-self.delta\n"
   ]
  },
  {
   "cell_type": "code",
   "execution_count": 76,
   "metadata": {
    "ExecuteTime": {
     "end_time": "2021-12-16T11:30:00.605574Z",
     "start_time": "2021-12-16T11:30:00.554746Z"
    },
    "collapsed": true
   },
   "outputs": [
    {
     "name": "stdout",
     "output_type": "stream",
     "text": [
      "Iteration: 1 MSE 522.9657211730249\n",
      "Iteration: 2 MSE 467.50502719173977\n",
      "Iteration: 3 MSE 420.8340700697398\n",
      "Iteration: 4 MSE 380.3632823145153\n",
      "Iteration: 5 MSE 344.6512561040272\n",
      "Iteration: 6 MSE 312.8285213030327\n",
      "Iteration: 7 MSE 284.31833228630956\n",
      "Iteration: 8 MSE 258.7005622380903\n",
      "Iteration: 9 MSE 235.64463328504192\n",
      "Iteration: 10 MSE 214.8758238543577\n",
      "Iteration: 11 MSE 196.15777938814819\n",
      "Iteration: 12 MSE 179.28294837081012\n",
      "Iteration: 13 MSE 164.06694746356868\n",
      "Iteration: 14 MSE 150.3449211485762\n",
      "Iteration: 15 MSE 137.96895446367387\n",
      "Iteration: 16 MSE 126.80607637433147\n",
      "Iteration: 17 MSE 116.73662276195498\n",
      "Iteration: 18 MSE 107.65284023601977\n",
      "Iteration: 19 MSE 99.45766675861742\n",
      "Iteration: 20 MSE 92.06365212878188\n",
      "Iteration: 21 MSE 85.3919950213214\n",
      "Iteration: 22 MSE 79.37168040432006\n",
      "Iteration: 23 MSE 73.93870509467702\n",
      "Iteration: 24 MSE 69.03538155733365\n",
      "Iteration: 25 MSE 64.60971158904594\n",
      "Iteration: 26 MSE 60.614822630814125\n",
      "Iteration: 27 MSE 57.00846031114516\n",
      "Iteration: 28 MSE 53.75253152893941\n",
      "Iteration: 29 MSE 50.81269298853015\n",
      "Iteration: 30 MSE 48.15798062675017\n",
      "Iteration: 31 MSE 45.760475838363135\n",
      "Iteration: 32 MSE 43.59500482173744\n",
      "Iteration: 33 MSE 41.638867738270314\n",
      "Iteration: 34 MSE 39.87159471216195\n",
      "Iteration: 35 MSE 38.27472599606027\n",
      "Iteration: 36 MSE 36.831613896551914\n",
      "Iteration: 37 MSE 35.527244294679754\n",
      "Iteration: 38 MSE 34.34807581345163\n",
      "Iteration: 39 MSE 33.281894879190745\n",
      "Iteration: 40 MSE 32.317685098801235\n",
      "Iteration: 41 MSE 31.445509532598656\n",
      "Iteration: 42 MSE 30.65640458407252\n",
      "Iteration: 43 MSE 29.9422843554262\n",
      "Iteration: 44 MSE 29.295854432417304\n",
      "Iteration: 45 MSE 28.71053416519802\n",
      "Iteration: 46 MSE 28.180386604694146\n",
      "Iteration: 47 MSE 27.700055337605598\n",
      "Iteration: 48 MSE 27.26470753830129\n",
      "Iteration: 49 MSE 26.86998262355598\n",
      "Iteration: 50 MSE 26.511945956995785\n",
      "Iteration: 51 MSE 26.187047104960342\n",
      "Iteration: 52 MSE 25.892082194863484\n",
      "Iteration: 53 MSE 25.62415997159112\n",
      "Iteration: 54 MSE 25.38067118750624\n",
      "Iteration: 55 MSE 25.15926099768039\n",
      "Iteration: 56 MSE 24.95780406443816\n",
      "Iteration: 57 MSE 24.77438210454225\n",
      "Iteration: 58 MSE 24.607263638686646\n",
      "Iteration: 59 MSE 24.45488572669098\n",
      "Iteration: 60 MSE 24.315837493163837\n",
      "Iteration: 61 MSE 24.18884526765859\n",
      "Iteration: 62 MSE 24.072759180695154\n",
      "Iteration: 63 MSE 23.9665410726532\n",
      "Iteration: 64 MSE 23.86925358662853\n",
      "Iteration: 65 MSE 23.780050329037795\n",
      "Iteration: 66 MSE 23.6981669931956\n",
      "Iteration: 67 MSE 23.62291335139788\n",
      "Iteration: 68 MSE 23.553666030336437\n",
      "Iteration: 69 MSE 23.48986199304451\n",
      "Iteration: 70 MSE 23.430992658121998\n",
      "Iteration: 71 MSE 23.376598593793293\n",
      "Iteration: 72 MSE 23.326264730484652\n",
      "Iteration: 73 MSE 23.27961604113766\n",
      "Iteration: 74 MSE 23.236313643460527\n",
      "Iteration: 75 MSE 23.196051282813407\n",
      "Iteration: 76 MSE 23.158552158476084\n",
      "Iteration: 77 MSE 23.123566059700117\n",
      "Iteration: 78 MSE 23.090866781241715\n",
      "Iteration: 79 MSE 23.060249791042473\n",
      "Iteration: 80 MSE 23.03153012540346\n",
      "Iteration: 81 MSE 23.00454048941391\n",
      "Iteration: 82 MSE 22.979129542573993\n",
      "Iteration: 83 MSE 22.955160351515723\n",
      "Iteration: 84 MSE 22.93250899349759\n",
      "Iteration: 85 MSE 22.91106329594662\n",
      "Iteration: 86 MSE 22.890721698762388\n",
      "Iteration: 87 MSE 22.871392227397642\n",
      "Iteration: 88 MSE 22.85299156590227\n",
      "Iteration: 89 MSE 22.83544422017514\n",
      "Iteration: 90 MSE 22.81868176262192\n",
      "Iteration: 91 MSE 22.8026421502776\n",
      "Iteration: 92 MSE 22.787269109228586\n",
      "Iteration: 93 MSE 22.772511578869175\n",
      "Iteration: 94 MSE 22.75832321015915\n",
      "Iteration: 95 MSE 22.744661912618866\n",
      "Iteration: 96 MSE 22.73148944531212\n",
      "Iteration: 97 MSE 22.71877104753117\n",
      "Iteration: 98 MSE 22.706475105316354\n",
      "Iteration: 99 MSE 22.69457285032041\n",
      "Iteration: 100 MSE 22.68303808786814\n",
      "Iteration: 101 MSE 22.67184695136926\n",
      "Iteration: 102 MSE 22.66097768051975\n",
      "Iteration: 103 MSE 22.650410420976765\n",
      "Iteration: 104 MSE 22.640127043418484\n",
      "Iteration: 105 MSE 22.630110980103264\n",
      "Iteration: 106 MSE 22.62034707722681\n",
      "Iteration: 107 MSE 22.610821461541683\n",
      "Iteration: 108 MSE 22.601521419852908\n",
      "Iteration: 109 MSE 22.592435290138976\n",
      "Iteration: 110 MSE 22.58355236316889\n",
      "Iteration: 111 MSE 22.574862793596182\n",
      "Iteration: 112 MSE 22.566357519609948\n",
      "Iteration: 113 MSE 22.558028190312555\n",
      "Iteration: 114 MSE 22.549867100074515\n",
      "Iteration: 115 MSE 22.541867129189768\n",
      "Iteration: 116 MSE 22.53402169022087\n",
      "Iteration: 117 MSE 22.52632467948248\n",
      "Iteration: 118 MSE 22.518770433165617\n",
      "Iteration: 119 MSE 22.511353687653177\n",
      "Iteration: 120 MSE 22.504069543621263\n",
      "Iteration: 121 MSE 22.496913433559946\n",
      "Iteration: 122 MSE 22.489881092382888\n",
      "Iteration: 123 MSE 22.482968530827335\n",
      "Iteration: 124 MSE 22.47617201137493\n",
      "Iteration: 125 MSE 22.469488026450023\n",
      "Iteration: 126 MSE 22.46291327867571\n",
      "Iteration: 127 MSE 22.45644466298929\n",
      "Iteration: 128 MSE 22.450079250437916\n",
      "Iteration: 129 MSE 22.443814273492652\n",
      "Iteration: 130 MSE 22.437647112735\n",
      "Iteration: 131 MSE 22.43157528478373\n",
      "Iteration: 132 MSE 22.425596431343127\n",
      "Iteration: 133 MSE 22.419708309264873\n",
      "Iteration: 134 MSE 22.413908781526487\n",
      "Iteration: 135 MSE 22.408195809038517\n",
      "Iteration: 136 MSE 22.40256744320119\n",
      "Iteration: 137 MSE 22.397021819138967\n",
      "Iteration: 138 MSE 22.39155714954825\n",
      "Iteration: 139 MSE 22.38617171909989\n",
      "Iteration: 140 MSE 22.38086387934355\n",
      "Iteration: 141 MSE 22.37563204406648\n",
      "Iteration: 142 MSE 22.370474685063353\n",
      "Iteration: 143 MSE 22.365390328278437\n",
      "Iteration: 144 MSE 22.360377550284703\n",
      "Iteration: 145 MSE 22.35543497506835\n",
      "Iteration: 146 MSE 22.35056127108975\n",
      "Iteration: 147 MSE 22.34575514859502\n",
      "Iteration: 148 MSE 22.34101535715467\n",
      "Iteration: 149 MSE 22.33634068340811\n",
      "Iteration: 150 MSE 22.331729948994877\n",
      "Iteration: 151 MSE 22.32718200865522\n",
      "Iteration: 152 MSE 22.322695748484296\n",
      "Iteration: 153 MSE 22.318270084325956\n",
      "Iteration: 154 MSE 22.31390396029309\n",
      "Iteration: 155 MSE 22.309596347403115\n",
      "Iteration: 156 MSE 22.305346242317995\n",
      "Iteration: 157 MSE 22.301152666179355\n",
      "Iteration: 158 MSE 22.297014663530053\n",
      "Iteration: 159 MSE 22.292931301314507\n",
      "Iteration: 160 MSE 22.28890166795067\n",
      "Iteration: 161 MSE 22.284924872467304\n"
     ]
    }
   ],
   "source": [
    "olsgd=OlsGd()\n",
    "olsgd._fit(X,y)"
   ]
  },
  {
   "cell_type": "code",
   "execution_count": 77,
   "metadata": {
    "ExecuteTime": {
     "end_time": "2021-12-16T11:30:27.794367Z",
     "start_time": "2021-12-16T11:30:25.195186Z"
    },
    "scrolled": false
   },
   "outputs": [
    {
     "name": "stdout",
     "output_type": "stream",
     "text": [
      "0.050    22.284925\n",
      "0.100    22.024331\n",
      "0.150    21.958567\n",
      "0.200    21.931805\n",
      "0.250    21.918596\n",
      "0.300    21.910963\n",
      "0.310    21.910192\n",
      "0.325    22.825330\n",
      "dtype: float64\n"
     ]
    },
    {
     "data": {
      "text/plain": [
       "<matplotlib.axes._subplots.AxesSubplot at 0x27485f82448>"
      ]
     },
     "execution_count": 77,
     "metadata": {},
     "output_type": "execute_result"
    },
    {
     "data": {
      "image/png": "[encoded data removed]",
      "text/plain": [
       "<Figure size 432x288 with 1 Axes>"
      ]
     },
     "metadata": {
      "needs_background": "light"
     },
     "output_type": "display_data"
    }
   ],
   "source": [
    "all_scores=dict()\n",
    "for alpha in [.05,.1,.15,.2,.25,.3,.31,.325]:\n",
    "    scores=dict()\n",
    "    for niter in np.linspace(10,200,100):\n",
    "        olsgd=OlsGd(num_iteration=int(niter),learning_rate=alpha,verbose=False)\n",
    "        olsgd._fit(X,y)\n",
    "        scores[int(niter)]=olsgd.score(X,y)\n",
    "    all_scores[alpha]=scores\n",
    "\n",
    "import pandas as pd\n",
    "print(pd.DataFrame(all_scores).min())\n",
    "\n",
    "pd.DataFrame(all_scores).plot()"
   ]
  },
  {
   "cell_type": "markdown",
   "metadata": {
    "id": "7HVfnXvZFi98"
   },
   "source": [
    "## Exercise 2 - Ridge Linear Regression\n",
    "\n",
    "Recall that ridge regression is identical to OLS but with a L2 penalty over the weights:\n",
    "\n",
    "$L(y,\\hat{y})=\\sum_{i=1}^{i=N}{(y^{(i)}-\\hat{y}^{(i)})^2} + \\lambda \\left\\Vert w \\right\\Vert_2^2$\n",
    "\n",
    "where $y^{(i)}$ is the **true** value and $\\hat{y}^{(i)}$ is the **predicted** value of the $i_{th}$ example, and $N$ is the number of examples\n",
    "\n",
    "* Show, by differentiating the above loss, that the analytical solution is $w_{Ridge}=(X^TX+\\lambda I)^{-1}X^Ty$\n",
    "* Change `OrdinaryLinearRegression` and `OrdinaryLinearRegressionGradientDescent` classes to work also for ridge regression (do not use the random noise analogy but use the analytical derivation). Either add a parameter, or use inheritance.\n",
    "* **Bonus: Noise as a regularizer**: Show that OLS (ordinary least square), if one adds multiplicative noise to the features the **average** solution for $W$ is equivalent to Ridge regression. In other words, if $X'= X*G$ where $G$ is an uncorrelated noise with variance $\\sigma$ and mean 1, then solving for $X'$ with OLS is like solving Ridge for $X$. What is the interpretation? \n",
    "\n"
   ]
  },
  {
   "cell_type": "code",
   "execution_count": 14,
   "metadata": {
    "ExecuteTime": {
     "end_time": "2021-12-16T09:29:27.268390Z",
     "start_time": "2021-12-16T09:29:27.259414Z"
    },
    "id": "fsDxzAr8IGJO"
   },
   "outputs": [],
   "source": [
    "class RidgeLs(Ols):\n",
    "  def __init__(self, ridge_lambda, *wargs, **kwargs):\n",
    "    super(RidgeLs,self).__init__(*wargs, **kwargs)\n",
    "    self.ridge_lambda = ridge_lambda\n",
    "    \n",
    "  def _fit(self, X, Y):\n",
    "    #Closed form of ridge regression\n",
    "    x=Ols.pad(X)\n",
    "    self.w = np.dot(np.dot(pinv(np.dot(x.T,x)+self.ridge_lambda*np.eye(x.shape[1])),x.T),Y)\n"
   ]
  },
  {
   "cell_type": "code",
   "execution_count": 15,
   "metadata": {
    "ExecuteTime": {
     "end_time": "2021-12-16T09:29:27.851968Z",
     "start_time": "2021-12-16T09:29:27.833048Z"
    }
   },
   "outputs": [],
   "source": [
    "ridgels=RidgeLs(100)\n",
    "ridgels._fit(X,y)"
   ]
  },
  {
   "cell_type": "code",
   "execution_count": 16,
   "metadata": {
    "ExecuteTime": {
     "end_time": "2021-12-16T09:29:43.332625Z",
     "start_time": "2021-12-16T09:29:43.318701Z"
    }
   },
   "outputs": [
    {
     "data": {
      "text/plain": [
       "25.579403534203916"
      ]
     },
     "execution_count": 16,
     "metadata": {},
     "output_type": "execute_result"
    }
   ],
   "source": [
    "ridgels.score(X,y)"
   ]
  },
  {
   "cell_type": "code",
   "execution_count": 24,
   "metadata": {
    "ExecuteTime": {
     "end_time": "2021-12-16T10:00:21.255210Z",
     "start_time": "2021-12-16T10:00:21.242248Z"
    },
    "id": "fsDxzAr8IGJO"
   },
   "outputs": [],
   "source": [
    "class RidgeLsgd(OlsGd):\n",
    "  def __init__(self, ridge_lambda, *wargs, **kwargs):\n",
    "    super(RidgeLsgd,self).__init__(*wargs, **kwargs)\n",
    "    self.ridge_lambda = ridge_lambda\n",
    "    \n",
    "#   def _fit(self, X, Y):\n",
    "#     #Closed form of ridge regression\n",
    "#     x=Ols.pad(X)\n",
    "#     self.w = np.dot(np.dot(pinv(np.dot(x.T,x)+self.ridge_lambda*np.eye(x.shape[1])),x.T),Y)\n",
    "    def _fit(self, X, Y, reset=True, track_loss=True):\n",
    "        #remeber to normalize the data before starting\n",
    "        if self.normalize:\n",
    "            self.normalizer.fit(X)\n",
    "            X_norm = Ols.pad(self.normalizer.predict(X))\n",
    "        else:\n",
    "            X_norm=X\n",
    "        self.w=np.zeros(X_norm.shape[1])\n",
    "        i,delta=0,1e10\n",
    "        while i<self.num_iteration:\n",
    "            \n",
    "            delta=self.learning_rate*(1/X_norm.shape[0])*np.dot(X_norm.T,np.dot(X_norm,self.w)-Y)\n",
    "            delta=self.learning_rate*(1/X_norm.shape[0])*np.dot(X_norm.T,np.dot(X_norm,self.w)-Y)\n",
    "            self.w=self.w-delta\n",
    "            i+=1\n",
    "            if self.early_stop:\n",
    "                if np.square(delta).sum()<.0001:\n",
    "#                     print(i)\n",
    "                    break\n",
    "\n"
   ]
  },
  {
   "cell_type": "code",
   "execution_count": 25,
   "metadata": {
    "ExecuteTime": {
     "end_time": "2021-12-16T10:00:22.216208Z",
     "start_time": "2021-12-16T10:00:22.199254Z"
    }
   },
   "outputs": [
    {
     "data": {
      "text/plain": [
       "22.284924872467304"
      ]
     },
     "execution_count": 25,
     "metadata": {},
     "output_type": "execute_result"
    }
   ],
   "source": [
    "ridgeGd=RidgeLsgd(ridge_lambda=0)\n",
    "ridgeGd._fit(X,y)\n",
    "ridgeGd.score(X,y)"
   ]
  },
  {
   "cell_type": "code",
   "execution_count": null,
   "metadata": {
    "ExecuteTime": {
     "end_time": "2021-12-16T09:29:15.405936Z",
     "start_time": "2021-12-16T09:29:14.627Z"
    },
    "id": "hU_UnG8YIGJP"
   },
   "outputs": [],
   "source": [
    "#Use scikitlearn implementation for OLS, Ridge and Lasso"
   ]
  }
 ],
 "metadata": {
  "colab": {
   "collapsed_sections": [],
   "name": "Regression_&_Regularization_Exercise.ipynb",
   "provenance": []
  },
  "kernelspec": {
   "display_name": "Python 3",
   "language": "python",
   "name": "python3"
  },
  "language_info": {
   "codemirror_mode": {
    "name": "ipython",
    "version": 3
   },
   "file_extension": ".py",
   "mimetype": "text/x-python",
   "name": "python",
   "nbconvert_exporter": "python",
   "pygments_lexer": "ipython3",
   "version": "3.7.4"
  },
  "toc": {
   "base_numbering": 1,
   "nav_menu": {},
   "number_sections": true,
   "sideBar": true,
   "skip_h1_title": false,
   "title_cell": "Table of Contents",
   "title_sidebar": "Contents",
   "toc_cell": false,
   "toc_position": {},
   "toc_section_display": true,
   "toc_window_display": false
  }
 },
 "nbformat": 4,
 "nbformat_minor": 1
}
